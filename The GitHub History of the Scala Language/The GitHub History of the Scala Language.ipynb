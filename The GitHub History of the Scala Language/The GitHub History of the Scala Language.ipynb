{
 "cells": [
  {
   "cell_type": "markdown",
   "metadata": {
    "dc": {
     "key": "5"
    },
    "deletable": false,
    "editable": false,
    "run_control": {
     "frozen": true
    },
    "tags": [
     "context"
    ]
   },
   "source": [
    "## 1. Scala's real-world project repository data\n",
    "<p>With almost 30k commits and a history spanning over ten years, Scala is a mature programming language. It is a general-purpose programming language that has recently become another prominent language for data scientists.</p>\n",
    "<p>Scala is also an open source project. Open source projects have the advantage that their entire development histories -- who made changes, what was changed, code reviews, etc. -- are publicly available. </p>\n",
    "<p>We're going to read in, clean up, and visualize the real world project repository of Scala that spans data from a version control system (Git) as well as a project hosting site (GitHub). We will find out who has had the most influence on its development and who are the experts.</p>\n",
    "<p>The dataset we will use, which has been previously mined and extracted from GitHub, is comprised of three files:</p>\n",
    "<ol>\n",
    "<li><code>pulls_2011-2013.csv</code> contains the basic information about the pull requests, and spans from the end of 2011 up to (but not including) 2014.</li>\n",
    "<li><code>pulls_2014-2018.csv</code> contains identical information, and spans from 2014 up to 2018.</li>\n",
    "<li><code>pull_files.csv</code> contains the files that were modified by each pull request.</li>\n",
    "</ol>"
   ]
  },
  {
   "cell_type": "code",
   "execution_count": 1,
   "metadata": {
    "dc": {
     "key": "5"
    },
    "tags": [
     "sample_code"
    ]
   },
   "outputs": [],
   "source": [
    "# Importing pandas\n",
    "import pandas as pd\n",
    "# Loading in the data\n",
    "pulls_one = pd.read_csv('pulls_2011-2013.csv')\n",
    "pulls_two = pd.read_csv('pulls_2014-2018.csv')\n",
    "pull_files = pd.read_csv('pull_files.csv')"
   ]
  },
  {
   "cell_type": "markdown",
   "metadata": {
    "dc": {
     "key": "12"
    },
    "deletable": false,
    "editable": false,
    "run_control": {
     "frozen": true
    },
    "tags": [
     "context"
    ]
   },
   "source": [
    "## 2. Preparing and cleaning the data\n",
    "<p>First, we will need to combine the data from the two separate pull DataFrames. </p>\n",
    "<p>Next, the raw data extracted from GitHub contains dates in the ISO8601 format. However, <code>pandas</code> imports them as regular strings. To make our analysis easier, we need to convert the strings into Python's <code>DateTime</code> objects. <code>DateTime</code> objects have the important property that they can be compared and sorted.</p>\n",
    "<p>The pull request times are all in UTC (also known as Coordinated Universal Time). The commit times, however, are in the local time of the author with time zone information (number of hours difference from UTC). To make comparisons easy, we should convert all times to UTC.</p>"
   ]
  },
  {
   "cell_type": "code",
   "execution_count": 2,
   "metadata": {
    "dc": {
     "key": "12"
    },
    "tags": [
     "sample_code"
    ]
   },
   "outputs": [
    {
     "name": "stderr",
     "output_type": "stream",
     "text": [
      "C:\\Users\\valen\\AppData\\Local\\Temp\\ipykernel_18332\\405838051.py:2: FutureWarning: The frame.append method is deprecated and will be removed from pandas in a future version. Use pandas.concat instead.\n",
      "  pulls = pulls_one.append(pulls_two, ignore_index = True, sort = True)\n"
     ]
    }
   ],
   "source": [
    "# Append pulls_one to pulls_two\n",
    "pulls = pulls_one.append(pulls_two, ignore_index = True, sort = True)\n",
    "\n",
    "# Convert the date for the pulls object\n",
    "pulls['date'] = pd.to_datetime(pulls['date'], utc = True)"
   ]
  },
  {
   "cell_type": "code",
   "execution_count": 3,
   "metadata": {
    "dc": {
     "key": "12"
    }
   },
   "outputs": [
    {
     "data": {
      "text/html": [
       "<div>\n",
       "<style scoped>\n",
       "    .dataframe tbody tr th:only-of-type {\n",
       "        vertical-align: middle;\n",
       "    }\n",
       "\n",
       "    .dataframe tbody tr th {\n",
       "        vertical-align: top;\n",
       "    }\n",
       "\n",
       "    .dataframe thead th {\n",
       "        text-align: right;\n",
       "    }\n",
       "</style>\n",
       "<table border=\"1\" class=\"dataframe\">\n",
       "  <thead>\n",
       "    <tr style=\"text-align: right;\">\n",
       "      <th></th>\n",
       "      <th>date</th>\n",
       "      <th>pid</th>\n",
       "      <th>user</th>\n",
       "    </tr>\n",
       "  </thead>\n",
       "  <tbody>\n",
       "    <tr>\n",
       "      <th>0</th>\n",
       "      <td>2013-12-31 23:10:55+00:00</td>\n",
       "      <td>11166973</td>\n",
       "      <td>VladimirNik</td>\n",
       "    </tr>\n",
       "    <tr>\n",
       "      <th>1</th>\n",
       "      <td>2013-12-31 16:55:47+00:00</td>\n",
       "      <td>11161892</td>\n",
       "      <td>Ichoran</td>\n",
       "    </tr>\n",
       "    <tr>\n",
       "      <th>2</th>\n",
       "      <td>2013-12-31 02:41:13+00:00</td>\n",
       "      <td>11153894</td>\n",
       "      <td>Ichoran</td>\n",
       "    </tr>\n",
       "    <tr>\n",
       "      <th>3</th>\n",
       "      <td>2013-12-30 23:45:47+00:00</td>\n",
       "      <td>11151917</td>\n",
       "      <td>rklaehn</td>\n",
       "    </tr>\n",
       "    <tr>\n",
       "      <th>4</th>\n",
       "      <td>2013-12-29 17:21:01+00:00</td>\n",
       "      <td>11131244</td>\n",
       "      <td>qerub</td>\n",
       "    </tr>\n",
       "  </tbody>\n",
       "</table>\n",
       "</div>"
      ],
      "text/plain": [
       "                       date       pid         user\n",
       "0 2013-12-31 23:10:55+00:00  11166973  VladimirNik\n",
       "1 2013-12-31 16:55:47+00:00  11161892      Ichoran\n",
       "2 2013-12-31 02:41:13+00:00  11153894      Ichoran\n",
       "3 2013-12-30 23:45:47+00:00  11151917      rklaehn\n",
       "4 2013-12-29 17:21:01+00:00  11131244        qerub"
      ]
     },
     "execution_count": 3,
     "metadata": {},
     "output_type": "execute_result"
    }
   ],
   "source": [
    "pulls.head()"
   ]
  },
  {
   "cell_type": "markdown",
   "metadata": {
    "dc": {
     "key": "19"
    },
    "deletable": false,
    "editable": false,
    "run_control": {
     "frozen": true
    },
    "tags": [
     "context"
    ]
   },
   "source": [
    "## 3. Merging the DataFrames\n",
    "<p>The data extracted comes in two separate files. Merging the two DataFrames will make it easier for us to analyze the data in the future tasks.</p>"
   ]
  },
  {
   "cell_type": "code",
   "execution_count": 4,
   "metadata": {
    "dc": {
     "key": "19"
    },
    "tags": [
     "sample_code"
    ]
   },
   "outputs": [],
   "source": [
    "# Merge the two DataFrames\n",
    "data = pulls.merge(pull_files, on = 'pid')"
   ]
  },
  {
   "cell_type": "code",
   "execution_count": 5,
   "metadata": {
    "dc": {
     "key": "19"
    }
   },
   "outputs": [
    {
     "data": {
      "text/html": [
       "<div>\n",
       "<style scoped>\n",
       "    .dataframe tbody tr th:only-of-type {\n",
       "        vertical-align: middle;\n",
       "    }\n",
       "\n",
       "    .dataframe tbody tr th {\n",
       "        vertical-align: top;\n",
       "    }\n",
       "\n",
       "    .dataframe thead th {\n",
       "        text-align: right;\n",
       "    }\n",
       "</style>\n",
       "<table border=\"1\" class=\"dataframe\">\n",
       "  <thead>\n",
       "    <tr style=\"text-align: right;\">\n",
       "      <th></th>\n",
       "      <th>pid</th>\n",
       "      <th>file</th>\n",
       "    </tr>\n",
       "  </thead>\n",
       "  <tbody>\n",
       "    <tr>\n",
       "      <th>0</th>\n",
       "      <td>163314316</td>\n",
       "      <td>test/files/pos/t5638/Among.java</td>\n",
       "    </tr>\n",
       "    <tr>\n",
       "      <th>1</th>\n",
       "      <td>163314316</td>\n",
       "      <td>test/files/pos/t5638/Usage.scala</td>\n",
       "    </tr>\n",
       "    <tr>\n",
       "      <th>2</th>\n",
       "      <td>163314316</td>\n",
       "      <td>test/files/pos/t9291.scala</td>\n",
       "    </tr>\n",
       "    <tr>\n",
       "      <th>3</th>\n",
       "      <td>163314316</td>\n",
       "      <td>test/files/run/t8348.check</td>\n",
       "    </tr>\n",
       "    <tr>\n",
       "      <th>4</th>\n",
       "      <td>163314316</td>\n",
       "      <td>test/files/run/t8348/TableColumn.java</td>\n",
       "    </tr>\n",
       "  </tbody>\n",
       "</table>\n",
       "</div>"
      ],
      "text/plain": [
       "         pid                                   file\n",
       "0  163314316        test/files/pos/t5638/Among.java\n",
       "1  163314316       test/files/pos/t5638/Usage.scala\n",
       "2  163314316             test/files/pos/t9291.scala\n",
       "3  163314316             test/files/run/t8348.check\n",
       "4  163314316  test/files/run/t8348/TableColumn.java"
      ]
     },
     "execution_count": 5,
     "metadata": {},
     "output_type": "execute_result"
    }
   ],
   "source": [
    "pull_files.head()"
   ]
  },
  {
   "cell_type": "code",
   "execution_count": 6,
   "metadata": {
    "dc": {
     "key": "19"
    }
   },
   "outputs": [
    {
     "name": "stdout",
     "output_type": "stream",
     "text": [
      "<class 'pandas.core.frame.DataFrame'>\n",
      "Int64Index: 85588 entries, 0 to 85587\n",
      "Data columns (total 4 columns):\n",
      " #   Column  Non-Null Count  Dtype              \n",
      "---  ------  --------------  -----              \n",
      " 0   date    85588 non-null  datetime64[ns, UTC]\n",
      " 1   pid     85588 non-null  int64              \n",
      " 2   user    85588 non-null  object             \n",
      " 3   file    85588 non-null  object             \n",
      "dtypes: datetime64[ns, UTC](1), int64(1), object(2)\n",
      "memory usage: 3.3+ MB\n"
     ]
    }
   ],
   "source": [
    "data.info()"
   ]
  },
  {
   "cell_type": "code",
   "execution_count": 7,
   "metadata": {
    "dc": {
     "key": "19"
    }
   },
   "outputs": [
    {
     "data": {
      "text/html": [
       "<div>\n",
       "<style scoped>\n",
       "    .dataframe tbody tr th:only-of-type {\n",
       "        vertical-align: middle;\n",
       "    }\n",
       "\n",
       "    .dataframe tbody tr th {\n",
       "        vertical-align: top;\n",
       "    }\n",
       "\n",
       "    .dataframe thead th {\n",
       "        text-align: right;\n",
       "    }\n",
       "</style>\n",
       "<table border=\"1\" class=\"dataframe\">\n",
       "  <thead>\n",
       "    <tr style=\"text-align: right;\">\n",
       "      <th></th>\n",
       "      <th>date</th>\n",
       "      <th>pid</th>\n",
       "      <th>user</th>\n",
       "      <th>file</th>\n",
       "    </tr>\n",
       "  </thead>\n",
       "  <tbody>\n",
       "    <tr>\n",
       "      <th>70643</th>\n",
       "      <td>2015-08-03 02:38:56+00:00</td>\n",
       "      <td>41431079</td>\n",
       "      <td>stusmall</td>\n",
       "      <td>src/compiler/scala/tools/nsc/backend/jvm/GenAS...</td>\n",
       "    </tr>\n",
       "    <tr>\n",
       "      <th>19542</th>\n",
       "      <td>2013-01-29 14:18:56+00:00</td>\n",
       "      <td>3886042</td>\n",
       "      <td>lrytz</td>\n",
       "      <td>src/reflect/scala/reflect/internal/Types.scala</td>\n",
       "    </tr>\n",
       "    <tr>\n",
       "      <th>4602</th>\n",
       "      <td>2013-09-28 15:15:38+00:00</td>\n",
       "      <td>8683820</td>\n",
       "      <td>paulp</td>\n",
       "      <td>src/scaladoc/scala/tools/nsc/doc/ScaladocAnaly...</td>\n",
       "    </tr>\n",
       "    <tr>\n",
       "      <th>14954</th>\n",
       "      <td>2013-03-25 02:48:48+00:00</td>\n",
       "      <td>4786005</td>\n",
       "      <td>starblood</td>\n",
       "      <td>src/compiler/scala/reflect/macros/runtime/Name...</td>\n",
       "    </tr>\n",
       "    <tr>\n",
       "      <th>77030</th>\n",
       "      <td>2014-12-03 09:10:42+00:00</td>\n",
       "      <td>25404480</td>\n",
       "      <td>heathermiller</td>\n",
       "      <td>src/compiler/scala/tools/nsc/backend/jvm/AsmUt...</td>\n",
       "    </tr>\n",
       "    <tr>\n",
       "      <th>53669</th>\n",
       "      <td>2017-07-17 16:59:35+00:00</td>\n",
       "      <td>130903631</td>\n",
       "      <td>szeiger</td>\n",
       "      <td>test/files/run/reflection-clinit/A.java</td>\n",
       "    </tr>\n",
       "    <tr>\n",
       "      <th>10735</th>\n",
       "      <td>2013-05-18 21:58:05+00:00</td>\n",
       "      <td>5796479</td>\n",
       "      <td>soc</td>\n",
       "      <td>src/partest/scala/tools/partest/utils/Properti...</td>\n",
       "    </tr>\n",
       "    <tr>\n",
       "      <th>79203</th>\n",
       "      <td>2014-09-22 04:45:14+00:00</td>\n",
       "      <td>21558831</td>\n",
       "      <td>retronym</td>\n",
       "      <td>test/files/pos/t8267.scala</td>\n",
       "    </tr>\n",
       "    <tr>\n",
       "      <th>37422</th>\n",
       "      <td>2012-08-03 01:08:07+00:00</td>\n",
       "      <td>1963223</td>\n",
       "      <td>paulp</td>\n",
       "      <td>test/files/run/macro-expand-overload/Impls_1.s...</td>\n",
       "    </tr>\n",
       "    <tr>\n",
       "      <th>43785</th>\n",
       "      <td>2012-06-02 17:20:02+00:00</td>\n",
       "      <td>1480230</td>\n",
       "      <td>xeno-by</td>\n",
       "      <td>src/compiler/scala/tools/nsc/ReflectGlobal.scala</td>\n",
       "    </tr>\n",
       "  </tbody>\n",
       "</table>\n",
       "</div>"
      ],
      "text/plain": [
       "                           date        pid           user  \\\n",
       "70643 2015-08-03 02:38:56+00:00   41431079       stusmall   \n",
       "19542 2013-01-29 14:18:56+00:00    3886042          lrytz   \n",
       "4602  2013-09-28 15:15:38+00:00    8683820          paulp   \n",
       "14954 2013-03-25 02:48:48+00:00    4786005      starblood   \n",
       "77030 2014-12-03 09:10:42+00:00   25404480  heathermiller   \n",
       "53669 2017-07-17 16:59:35+00:00  130903631        szeiger   \n",
       "10735 2013-05-18 21:58:05+00:00    5796479            soc   \n",
       "79203 2014-09-22 04:45:14+00:00   21558831       retronym   \n",
       "37422 2012-08-03 01:08:07+00:00    1963223          paulp   \n",
       "43785 2012-06-02 17:20:02+00:00    1480230        xeno-by   \n",
       "\n",
       "                                                    file  \n",
       "70643  src/compiler/scala/tools/nsc/backend/jvm/GenAS...  \n",
       "19542     src/reflect/scala/reflect/internal/Types.scala  \n",
       "4602   src/scaladoc/scala/tools/nsc/doc/ScaladocAnaly...  \n",
       "14954  src/compiler/scala/reflect/macros/runtime/Name...  \n",
       "77030  src/compiler/scala/tools/nsc/backend/jvm/AsmUt...  \n",
       "53669            test/files/run/reflection-clinit/A.java  \n",
       "10735  src/partest/scala/tools/partest/utils/Properti...  \n",
       "79203                         test/files/pos/t8267.scala  \n",
       "37422  test/files/run/macro-expand-overload/Impls_1.s...  \n",
       "43785   src/compiler/scala/tools/nsc/ReflectGlobal.scala  "
      ]
     },
     "execution_count": 7,
     "metadata": {},
     "output_type": "execute_result"
    }
   ],
   "source": [
    "data.sample(10)"
   ]
  },
  {
   "cell_type": "code",
   "execution_count": 8,
   "metadata": {
    "dc": {
     "key": "19"
    }
   },
   "outputs": [
    {
     "data": {
      "text/plain": [
       "((6200, 3), (85588, 2), (85588, 4))"
      ]
     },
     "execution_count": 8,
     "metadata": {},
     "output_type": "execute_result"
    }
   ],
   "source": [
    "pulls.shape, pull_files.shape, data.shape"
   ]
  },
  {
   "cell_type": "markdown",
   "metadata": {
    "dc": {
     "key": "26"
    },
    "deletable": false,
    "editable": false,
    "run_control": {
     "frozen": true
    },
    "tags": [
     "context"
    ]
   },
   "source": [
    "## 4. Is the project still actively maintained?\n",
    "<p>The activity in an open source project is not very consistent. Some projects might be active for many years after the initial release, while others can slowly taper out into oblivion. Before committing to contributing to a project, it is important to understand the state of the project. Is development going steadily, or is there a drop? Has the project been abandoned altogether?</p>\n",
    "<p>The data used in this project was collected in January of 2018. We are interested in the evolution of the number of contributions up to that date.</p>\n",
    "<p>For Scala, we will do this by plotting a chart of the project's activity. We will calculate the number of pull requests submitted each (calendar) month during the project's lifetime. We will then plot these numbers to see the trend of contributions.</p>\n",
    "<ul>\n",
    "<li><p>A helpful reminder of how to access various components of a date can be found in <a href=\"https://campus.datacamp.com/courses/data-manipulation-with-pandas/slicing-and-indexing?ex=12\">this exercise of Data Manipulation with pandas</a></p></li>\n",
    "<li><p>Additionally, recall that you can group by multiple variables by passing a list to <code>.groupby()</code>. This video from <a href=\"https://campus.datacamp.com/courses/data-manipulation-with-pandas/aggregating-dataframes?ex=9\">Data Manipulation with pandas</a> should help!</p></li>\n",
    "</ul>"
   ]
  },
  {
   "cell_type": "code",
   "execution_count": 9,
   "metadata": {
    "dc": {
     "key": "26"
    },
    "tags": [
     "sample_code"
    ]
   },
   "outputs": [
    {
     "data": {
      "text/plain": [
       "<AxesSubplot:xlabel='year,month'>"
      ]
     },
     "execution_count": 9,
     "metadata": {},
     "output_type": "execute_result"
    },
    {
     "data": {
      "image/png": "[encoded data removed]",
      "text/plain": [
       "<Figure size 1152x288 with 1 Axes>"
      ]
     },
     "metadata": {
      "needs_background": "light"
     },
     "output_type": "display_data"
    }
   ],
   "source": [
    "%matplotlib inline\n",
    "\n",
    "# Create a column that will store the month\n",
    "data['month'] = data['date'].dt.month\n",
    "\n",
    "# Create a column that will store the year\n",
    "data['year'] = data['date'].dt.year\n",
    "\n",
    "# Group by the month and year and count the pull requests\n",
    "counts = data.groupby(['year', 'month'])['pid'].count()\n",
    "# Plot the results\n",
    "counts.plot(kind='bar', figsize = (16,4))"
   ]
  },
  {
   "cell_type": "markdown",
   "metadata": {
    "dc": {
     "key": "33"
    },
    "deletable": false,
    "editable": false,
    "run_control": {
     "frozen": true
    },
    "tags": [
     "context"
    ]
   },
   "source": [
    "## 5. Is there camaraderie in the project?\n",
    "<p>The organizational structure varies from one project to another, and it can influence your success as a contributor. A project that has a very small community might not be the best one to start working on. The small community might indicate a high barrier of entry. This can be caused by several factors, including a community that is reluctant to accept pull requests from \"outsiders,\" that the code base is hard to work with, etc. However, a large community can serve as an indicator that the project is regularly accepting pull requests from new contributors. Such a project would be a good place to start.</p>\n",
    "<p>In order to evaluate the dynamics of the community, we will plot a histogram of the number of pull requests submitted by each user. A distribution that shows that there are few people that only contribute a small number of pull requests can be used as in indicator that the project is not welcoming of new contributors. </p>"
   ]
  },
  {
   "cell_type": "code",
   "execution_count": 10,
   "metadata": {
    "dc": {
     "key": "33"
    },
    "tags": [
     "sample_code"
    ]
   },
   "outputs": [
    {
     "data": {
      "text/plain": [
       "<AxesSubplot:ylabel='Frequency'>"
      ]
     },
     "execution_count": 10,
     "metadata": {},
     "output_type": "execute_result"
    },
    {
     "data": {
      "image/png": "[encoded data removed]",
      "text/plain": [
       "<Figure size 720x432 with 1 Axes>"
      ]
     },
     "metadata": {
      "needs_background": "light"
     },
     "output_type": "display_data"
    }
   ],
   "source": [
    "# Required for matplotlib\n",
    "%matplotlib inline\n",
    "\n",
    "# Group by the submitter\n",
    "by_user = data.groupby('user')['pid'].count()\n",
    "\n",
    "# Plot the histogram\n",
    "by_user.plot(kind= 'hist', figsize = (10, 6))"
   ]
  },
  {
   "cell_type": "code",
   "execution_count": 11,
   "metadata": {
    "dc": {
     "key": "33"
    }
   },
   "outputs": [
    {
     "data": {
      "text/plain": [
       "user\n",
       "xeno-by           12649\n",
       "retronym          11430\n",
       "paulp             11260\n",
       "adriaanm           7722\n",
       "lrytz              6988\n",
       "                  ...  \n",
       "iliffwes              1\n",
       "jaceklaskowski        1\n",
       "jacobsallan           1\n",
       "jbdeboer              1\n",
       "zuvizudar             1\n",
       "Name: pid, Length: 464, dtype: int64"
      ]
     },
     "execution_count": 11,
     "metadata": {},
     "output_type": "execute_result"
    }
   ],
   "source": [
    "by_user.sort_values(ascending = False)"
   ]
  },
  {
   "cell_type": "markdown",
   "metadata": {
    "dc": {
     "key": "40"
    },
    "deletable": false,
    "editable": false,
    "run_control": {
     "frozen": true
    },
    "tags": [
     "context"
    ]
   },
   "source": [
    "## 6. What files were changed in the last ten pull requests?\n",
    "<p>Choosing the right place to make a contribution is as important as choosing the project to contribute to. Some parts of the code might be stable, some might be dead. Contributing there might not have the most impact. Therefore it is important to understand the parts of the system that have been recently changed. This allows us to pinpoint the \"hot\" areas of the code where most of the activity is happening. Focusing on those parts might not the most effective use of our times.</p>"
   ]
  },
  {
   "cell_type": "code",
   "execution_count": 12,
   "metadata": {
    "dc": {
     "key": "40"
    },
    "tags": [
     "sample_code"
    ]
   },
   "outputs": [
    {
     "data": {
      "text/plain": [
       "{'LICENSE',\n",
       " 'doc/LICENSE.md',\n",
       " 'doc/License.rtf',\n",
       " 'project/VersionUtil.scala',\n",
       " 'src/compiler/scala/reflect/reify/phases/Calculate.scala',\n",
       " 'src/compiler/scala/tools/nsc/backend/jvm/BCodeHelpers.scala',\n",
       " 'src/compiler/scala/tools/nsc/backend/jvm/PostProcessor.scala',\n",
       " 'src/compiler/scala/tools/nsc/backend/jvm/analysis/BackendUtils.scala',\n",
       " 'src/compiler/scala/tools/nsc/profile/AsyncHelper.scala',\n",
       " 'src/compiler/scala/tools/nsc/profile/Profiler.scala',\n",
       " 'src/compiler/scala/tools/nsc/symtab/classfile/ClassfileParser.scala',\n",
       " 'src/compiler/scala/tools/nsc/typechecker/Contexts.scala',\n",
       " 'src/library/scala/Predef.scala',\n",
       " 'src/library/scala/concurrent/Lock.scala',\n",
       " 'src/library/scala/util/Properties.scala',\n",
       " 'src/reflect/scala/reflect/internal/pickling/ByteCodecs.scala',\n",
       " 'src/reflect/scala/reflect/internal/tpe/GlbLubs.scala',\n",
       " 'src/scaladoc/scala/tools/nsc/doc/html/page/Entity.scala',\n",
       " 'src/scalap/decoder.properties',\n",
       " 'test/files/neg/leibniz-liskov.check',\n",
       " 'test/files/neg/leibniz-liskov.scala',\n",
       " 'test/files/pos/leibniz-liskov.scala',\n",
       " 'test/files/pos/leibniz_liskov.scala',\n",
       " 'test/files/pos/parallel-classloader.scala',\n",
       " 'test/files/pos/t10568/Converter.java',\n",
       " 'test/files/pos/t10568/Impl.scala',\n",
       " 'test/files/pos/t10686.scala',\n",
       " 'test/files/pos/t5638/Among.java',\n",
       " 'test/files/pos/t5638/Usage.scala',\n",
       " 'test/files/pos/t9291.scala',\n",
       " 'test/files/run/t8348.check',\n",
       " 'test/files/run/t8348/TableColumn.java',\n",
       " 'test/files/run/t8348/TableColumnImpl.java',\n",
       " 'test/files/run/t8348/Test.scala'}"
      ]
     },
     "execution_count": 12,
     "metadata": {},
     "output_type": "execute_result"
    }
   ],
   "source": [
    "# Identify the last 10 pull requests\n",
    "last_10 = pulls.sort_values(by = 'date', ascending = True).tail(10)\n",
    "\n",
    "# Join the two data sets\n",
    "joined_pr = last_10.merge(pull_files, on = 'pid')\n",
    "\n",
    "# Identify the unique files\n",
    "files = set(joined_pr['file'])\n",
    "\n",
    "# Print the results\n",
    "files"
   ]
  },
  {
   "cell_type": "markdown",
   "metadata": {
    "dc": {
     "key": "47"
    },
    "deletable": false,
    "editable": false,
    "run_control": {
     "frozen": true
    },
    "tags": [
     "context"
    ]
   },
   "source": [
    "## 7. Who made the most pull requests to a given file?\n",
    "<p>When contributing to a project, we might need some guidance. We might find ourselves needing some information regarding the codebase. It is important direct any questions to the right person. Contributors to open source projects generally have other day jobs, so their time is limited. It is important to address our questions to the right people. One way to identify the right target for our inquiries is by using their contribution history.</p>\n",
    "<p>We identified <code>src/compiler/scala/reflect/reify/phases/Calculate.scala</code> as being recently changed. We are interested in the top 3 developers who changed that file. Those developers are the ones most likely to have the best understanding of the code.</p>"
   ]
  },
  {
   "cell_type": "code",
   "execution_count": 13,
   "metadata": {
    "dc": {
     "key": "47"
    },
    "tags": [
     "sample_code"
    ]
   },
   "outputs": [
    {
     "data": {
      "text/plain": [
       "xeno-by     11\n",
       "retronym     5\n",
       "soc          4\n",
       "Name: user, dtype: int64"
      ]
     },
     "execution_count": 13,
     "metadata": {},
     "output_type": "execute_result"
    }
   ],
   "source": [
    "# This is the file we are interested in:\n",
    "file = 'src/compiler/scala/reflect/reify/phases/Calculate.scala'\n",
    "\n",
    "# Identify the commits that changed the file\n",
    "file_pr = data[data['file'] == file]\n",
    "\n",
    "# Count the number of changes made by each developer\n",
    "author_counts = file_pr['user'].value_counts()\n",
    "\n",
    "# Print the top 3 developers\n",
    "author_counts.nlargest(3) "
   ]
  },
  {
   "cell_type": "markdown",
   "metadata": {
    "dc": {
     "key": "54"
    },
    "deletable": false,
    "editable": false,
    "run_control": {
     "frozen": true
    },
    "tags": [
     "context"
    ]
   },
   "source": [
    "## 8. Who made the last ten pull requests on a given file?\n",
    "<p>Open source projects suffer from fluctuating membership. This makes the problem of finding the right person more challenging: the person has to be knowledgeable <em>and</em> still be involved in the project. A person that contributed a lot in the past might no longer be available (or willing) to help. To get a better understanding, we need to investigate the more recent history of that particular part of the system. </p>\n",
    "<p>Like in the previous task, we will look at the history of  <code>src/compiler/scala/reflect/reify/phases/Calculate.scala</code>.</p>"
   ]
  },
  {
   "cell_type": "code",
   "execution_count": 14,
   "metadata": {
    "dc": {
     "key": "54"
    },
    "tags": [
     "sample_code"
    ]
   },
   "outputs": [
    {
     "data": {
      "text/plain": [
       "{'bjornregnell', 'retronym', 'soc', 'starblood', 'xeno-by', 'zuvizudar'}"
      ]
     },
     "execution_count": 14,
     "metadata": {},
     "output_type": "execute_result"
    }
   ],
   "source": [
    "file = 'src/compiler/scala/reflect/reify/phases/Calculate.scala'\n",
    "\n",
    "# Select the pull requests that changed the target file\n",
    "file_pr = data[data['file'] == file]\n",
    "\n",
    "# Merge the obtained results with the pulls DataFrame\n",
    "joined_pr = file_pr.merge(pulls, on = 'pid')\n",
    "\n",
    "# Find the users of the last 10 most recent pull requests\n",
    "users_last_10 = set(joined_pr.nlargest(10, 'date_y')['user_x'])\n",
    "\n",
    "# Printing the results\n",
    "users_last_10"
   ]
  },
  {
   "cell_type": "markdown",
   "metadata": {
    "dc": {
     "key": "61"
    },
    "deletable": false,
    "editable": false,
    "run_control": {
     "frozen": true
    },
    "tags": [
     "context"
    ]
   },
   "source": [
    "## 9. The pull requests of two special developers\n",
    "<p>Now that we have identified two potential contacts in the projects, we need to find the person who was most involved in the project in recent times. That person is most likely to answer our questions. For each calendar year, we are interested in understanding the number of pull requests the authors submitted. This will give us a high-level image of their contribution trend to the project.</p>"
   ]
  },
  {
   "cell_type": "code",
   "execution_count": 15,
   "metadata": {
    "dc": {
     "key": "61"
    },
    "tags": [
     "sample_code"
    ]
   },
   "outputs": [
    {
     "data": {
      "text/plain": [
       "<AxesSubplot:xlabel='date'>"
      ]
     },
     "execution_count": 15,
     "metadata": {},
     "output_type": "execute_result"
    },
    {
     "data": {
      "image/png": "[encoded data removed]",
      "text/plain": [
       "<Figure size 720x360 with 1 Axes>"
      ]
     },
     "metadata": {
      "needs_background": "light"
     },
     "output_type": "display_data"
    }
   ],
   "source": [
    "%matplotlib inline\n",
    "\n",
    "# The developers we are interested in\n",
    "authors = ['xeno-by',  'soc']\n",
    "\n",
    "# Get all the developers' pull requests\n",
    "by_author = pulls[pulls['user'].isin(authors)]\n",
    "\n",
    "# Count the number of pull requests submitted each year\n",
    "counts = by_author.groupby(['user', pulls['date'].dt.year]).agg({'pid': 'count'}).reset_index()\n",
    "\n",
    "# Convert the table to a wide format\n",
    "counts_wide = counts.pivot_table(index='date', columns='user', values='pid', fill_value=0)\n",
    "\n",
    "# Plot the results\n",
    "counts_wide.plot(kind ='bar', figsize = (10,5))"
   ]
  },
  {
   "cell_type": "markdown",
   "metadata": {
    "dc": {
     "key": "68"
    },
    "deletable": false,
    "editable": false,
    "run_control": {
     "frozen": true
    },
    "tags": [
     "context"
    ]
   },
   "source": [
    "## 10. Visualizing the contributions of each developer\n",
    "<p>As mentioned before, it is important to make a distinction between the global expertise and contribution levels and the contribution levels at a more granular level (file, submodule, etc.) In our case, we want to see which of our two developers of interest have the most experience with the code in a given file. We will measure experience by the number of pull requests submitted that affect that file and how recent those pull requests were submitted.</p>"
   ]
  },
  {
   "cell_type": "code",
   "execution_count": 16,
   "metadata": {
    "dc": {
     "key": "68"
    },
    "tags": [
     "sample_code"
    ]
   },
   "outputs": [
    {
     "data": {
      "text/plain": [
       "<AxesSubplot:xlabel='date'>"
      ]
     },
     "execution_count": 16,
     "metadata": {},
     "output_type": "execute_result"
    },
    {
     "data": {
      "image/png": "[encoded data removed]",
      "text/plain": [
       "<Figure size 432x288 with 1 Axes>"
      ]
     },
     "metadata": {
      "needs_background": "light"
     },
     "output_type": "display_data"
    }
   ],
   "source": [
    "authors = ['xeno-by', 'soc']\n",
    "file = 'src/compiler/scala/reflect/reify/phases/Calculate.scala'\n",
    "\n",
    "# Select the pull requests submitted by the authors, from the `data` DataFrame\n",
    "by_author = data[data['user'].isin(authors)]\n",
    "\n",
    "# Select the pull requests that affect the file\n",
    "by_file = by_author[by_author['file'] == file]\n",
    "\n",
    "# Group and count the number of PRs done by each user each year\n",
    "grouped = by_file.groupby(['user', by_file['date'].dt.year]).count()['pid'].reset_index()\n",
    "\n",
    "# Transform the data into a wide format\n",
    "by_file_wide = grouped.pivot_table(index = 'date', columns = 'user', values = 'pid', fill_value=0)\n",
    "\n",
    "# Plot the results\n",
    "by_file_wide.plot(kind='bar')"
   ]
  },
  {
   "cell_type": "code",
   "execution_count": null,
   "metadata": {
    "dc": {
     "key": "68"
    }
   },
   "outputs": [],
   "source": []
  }
 ],
 "metadata": {
  "kernelspec": {
   "display_name": "Python 3 (ipykernel)",
   "language": "python",
   "name": "python3"
  },
  "language_info": {
   "codemirror_mode": {
    "name": "ipython",
    "version": 3
   },
   "file_extension": ".py",
   "mimetype": "text/x-python",
   "name": "python",
   "nbconvert_exporter": "python",
   "pygments_lexer": "ipython3",
   "version": "3.10.5"
  }
 },
 "nbformat": 4,
 "nbformat_minor": 4
}
