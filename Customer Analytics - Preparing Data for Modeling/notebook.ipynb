{
 "cells": [
  {
   "cell_type": "markdown",
   "id": "a09e6d54-bf3f-4632-b299-bd49d5c80d5f",
   "metadata": {},
   "source": [
    "A common problem when creating models to generate business value from data is that the datasets can be so large that it can take days for the model to generate predictions. Ensuring that your dataset is stored as efficiently as possible is crucial for allowing these models to run on a more reasonable timescale without having to reduce the size of the dataset.\n",
    "\n",
    "You've been hired by a major online data science training provider called *Training Data Ltd.* to clean up one of their largest customer datasets. This dataset will eventually be used to predict whether their students are looking for a new job or not, information that they will then use to direct them to prospective recruiters.\n",
    "\n",
    "The Head Data Scientist at Training Data Ltd. has asked you to create a DataFrame called ds_jobs_clean that stores the data in customer_train.csv much more efficiently. Specifically, they have set the following requirements:\n",
    "\n",
    "- Columns containing integers must be stored as 32-bit integers (int32).\n",
    "- Columns containing floats must be stored as 16-bit floats (float16).\n",
    "- Columns containing nominal categorical data must be stored as the category data type.\n",
    "- Columns containing ordinal categorical data must be stored as ordered categories, with an order that reflects the natural order of the column.\n",
    "- The columns of ds_jobs_clean must be in the same order as the original dataset.\n",
    "- The DataFrame should be filtered to only contain students with 10 or more years of experience at companies with at least 1000 employees, as their recruiter base is suited to more experienced professionals at enterprise companies.\n",
    "- The final line must be ds_jobs_clean.head(100) to return only the first 100 rows.\n",
    "\n",
    "You've been given access to `customer_train.csv`, which is a subset of their entire customer dataset, so you can create a proof-of-concept of a much more efficient storage solution. The dataset contains anonymized student information, and whether they were looking for a new job or not during training:\n",
    "\n",
    "| Column       | Description                                  |\n",
    "|------------- |--------------------------------------------- |\n",
    "| `student_id`   | A unique ID for each student.                 |\n",
    "| `city`  | A code for the city the student lives in.  |\n",
    "| `city_development_index` | A scaled development index for the city.       |\n",
    "| `gender` | The student's gender.       |\n",
    "| `relevant_experience` | An indicator of the student's relevant experience.       |\n",
    "| `enrolled_university` | The type of university course enrolled in (if any).       |\n",
    "| `education_level` | The student's education level.       |\n",
    "| `major_discipline` | The educational discipline of the student.       |\n",
    "| `experience` | The student's total experience (in years).       |\n",
    "| `company_size` | The number of employees at the student's current employer.       |\n",
    "| `last_new_job` | The number of years between the student's current and previous jobs.       |\n",
    "| `training_hours` | The number of hours of training completed.       |\n",
    "| `job_change` | An indicator of whether the student is looking for a new job (`1`) or not (`0`).       |"
   ]
  },
  {
   "cell_type": "markdown",
   "id": "56fbfec1-f95f-46ff-84e0-14be66e64fda",
   "metadata": {},
   "source": [
    "# Exploratory data analysis"
   ]
  },
  {
   "cell_type": "code",
   "execution_count": 1,
   "id": "13dad0f6-76d1-47cd-937c-bf75d018a80d",
   "metadata": {
    "executionTime": 365,
    "lastSuccessfullyExecutedCode": "# Loading 'customer_train.csv'\nds_jobs = pd.read_csv('customer_train.csv')\n# Determining the type and contents of each columns\nds_jobs.info()\nds_jobs.nunique()"
   },
   "outputs": [
    {
     "data": {
      "text/html": [
       "<div>\n",
       "<style scoped>\n",
       "    .dataframe tbody tr th:only-of-type {\n",
       "        vertical-align: middle;\n",
       "    }\n",
       "\n",
       "    .dataframe tbody tr th {\n",
       "        vertical-align: top;\n",
       "    }\n",
       "\n",
       "    .dataframe thead th {\n",
       "        text-align: right;\n",
       "    }\n",
       "</style>\n",
       "<table border=\"1\" class=\"dataframe\">\n",
       "  <thead>\n",
       "    <tr style=\"text-align: right;\">\n",
       "      <th></th>\n",
       "      <th>student_id</th>\n",
       "      <th>city</th>\n",
       "      <th>city_development_index</th>\n",
       "      <th>gender</th>\n",
       "      <th>relevant_experience</th>\n",
       "      <th>enrolled_university</th>\n",
       "      <th>education_level</th>\n",
       "      <th>major_discipline</th>\n",
       "      <th>experience</th>\n",
       "      <th>company_size</th>\n",
       "      <th>company_type</th>\n",
       "      <th>last_new_job</th>\n",
       "      <th>training_hours</th>\n",
       "      <th>job_change</th>\n",
       "    </tr>\n",
       "  </thead>\n",
       "  <tbody>\n",
       "    <tr>\n",
       "      <th>0</th>\n",
       "      <td>8949</td>\n",
       "      <td>city_103</td>\n",
       "      <td>0.920</td>\n",
       "      <td>Male</td>\n",
       "      <td>Has relevant experience</td>\n",
       "      <td>no_enrollment</td>\n",
       "      <td>Graduate</td>\n",
       "      <td>STEM</td>\n",
       "      <td>&gt;20</td>\n",
       "      <td>NaN</td>\n",
       "      <td>NaN</td>\n",
       "      <td>1</td>\n",
       "      <td>36</td>\n",
       "      <td>1.0</td>\n",
       "    </tr>\n",
       "    <tr>\n",
       "      <th>1</th>\n",
       "      <td>29725</td>\n",
       "      <td>city_40</td>\n",
       "      <td>0.776</td>\n",
       "      <td>Male</td>\n",
       "      <td>No relevant experience</td>\n",
       "      <td>no_enrollment</td>\n",
       "      <td>Graduate</td>\n",
       "      <td>STEM</td>\n",
       "      <td>15</td>\n",
       "      <td>50-99</td>\n",
       "      <td>Pvt Ltd</td>\n",
       "      <td>&gt;4</td>\n",
       "      <td>47</td>\n",
       "      <td>0.0</td>\n",
       "    </tr>\n",
       "    <tr>\n",
       "      <th>2</th>\n",
       "      <td>11561</td>\n",
       "      <td>city_21</td>\n",
       "      <td>0.624</td>\n",
       "      <td>NaN</td>\n",
       "      <td>No relevant experience</td>\n",
       "      <td>Full time course</td>\n",
       "      <td>Graduate</td>\n",
       "      <td>STEM</td>\n",
       "      <td>5</td>\n",
       "      <td>NaN</td>\n",
       "      <td>NaN</td>\n",
       "      <td>never</td>\n",
       "      <td>83</td>\n",
       "      <td>0.0</td>\n",
       "    </tr>\n",
       "    <tr>\n",
       "      <th>3</th>\n",
       "      <td>33241</td>\n",
       "      <td>city_115</td>\n",
       "      <td>0.789</td>\n",
       "      <td>NaN</td>\n",
       "      <td>No relevant experience</td>\n",
       "      <td>NaN</td>\n",
       "      <td>Graduate</td>\n",
       "      <td>Business Degree</td>\n",
       "      <td>&lt;1</td>\n",
       "      <td>NaN</td>\n",
       "      <td>Pvt Ltd</td>\n",
       "      <td>never</td>\n",
       "      <td>52</td>\n",
       "      <td>1.0</td>\n",
       "    </tr>\n",
       "    <tr>\n",
       "      <th>4</th>\n",
       "      <td>666</td>\n",
       "      <td>city_162</td>\n",
       "      <td>0.767</td>\n",
       "      <td>Male</td>\n",
       "      <td>Has relevant experience</td>\n",
       "      <td>no_enrollment</td>\n",
       "      <td>Masters</td>\n",
       "      <td>STEM</td>\n",
       "      <td>&gt;20</td>\n",
       "      <td>50-99</td>\n",
       "      <td>Funded Startup</td>\n",
       "      <td>4</td>\n",
       "      <td>8</td>\n",
       "      <td>0.0</td>\n",
       "    </tr>\n",
       "  </tbody>\n",
       "</table>\n",
       "</div>"
      ],
      "text/plain": [
       "   student_id      city  city_development_index gender  \\\n",
       "0        8949  city_103                   0.920   Male   \n",
       "1       29725   city_40                   0.776   Male   \n",
       "2       11561   city_21                   0.624    NaN   \n",
       "3       33241  city_115                   0.789    NaN   \n",
       "4         666  city_162                   0.767   Male   \n",
       "\n",
       "       relevant_experience enrolled_university education_level  \\\n",
       "0  Has relevant experience       no_enrollment        Graduate   \n",
       "1   No relevant experience       no_enrollment        Graduate   \n",
       "2   No relevant experience    Full time course        Graduate   \n",
       "3   No relevant experience                 NaN        Graduate   \n",
       "4  Has relevant experience       no_enrollment         Masters   \n",
       "\n",
       "  major_discipline experience company_size    company_type last_new_job  \\\n",
       "0             STEM        >20          NaN             NaN            1   \n",
       "1             STEM         15        50-99         Pvt Ltd           >4   \n",
       "2             STEM          5          NaN             NaN        never   \n",
       "3  Business Degree         <1          NaN         Pvt Ltd        never   \n",
       "4             STEM        >20        50-99  Funded Startup            4   \n",
       "\n",
       "   training_hours  job_change  \n",
       "0              36         1.0  \n",
       "1              47         0.0  \n",
       "2              83         0.0  \n",
       "3              52         1.0  \n",
       "4               8         0.0  "
      ]
     },
     "execution_count": 1,
     "metadata": {},
     "output_type": "execute_result"
    }
   ],
   "source": [
    "# Loading 'customer_train.csv'\n",
    "import pandas as pd\n",
    "ds_jobs = pd.read_csv('customer_train.csv')\n",
    "ds_jobs.head()"
   ]
  },
  {
   "cell_type": "code",
   "execution_count": 2,
   "id": "ce920cc2-0b0b-462f-a217-20cae18b5cd8",
   "metadata": {},
   "outputs": [
    {
     "name": "stdout",
     "output_type": "stream",
     "text": [
      "<class 'pandas.core.frame.DataFrame'>\n",
      "RangeIndex: 19158 entries, 0 to 19157\n",
      "Data columns (total 14 columns):\n",
      " #   Column                  Non-Null Count  Dtype  \n",
      "---  ------                  --------------  -----  \n",
      " 0   student_id              19158 non-null  int64  \n",
      " 1   city                    19158 non-null  object \n",
      " 2   city_development_index  19158 non-null  float64\n",
      " 3   gender                  14650 non-null  object \n",
      " 4   relevant_experience     19158 non-null  object \n",
      " 5   enrolled_university     18772 non-null  object \n",
      " 6   education_level         18698 non-null  object \n",
      " 7   major_discipline        16345 non-null  object \n",
      " 8   experience              19093 non-null  object \n",
      " 9   company_size            13220 non-null  object \n",
      " 10  company_type            13018 non-null  object \n",
      " 11  last_new_job            18735 non-null  object \n",
      " 12  training_hours          19158 non-null  int64  \n",
      " 13  job_change              19158 non-null  float64\n",
      "dtypes: float64(2), int64(2), object(10)\n",
      "memory usage: 2.0+ MB\n"
     ]
    },
    {
     "data": {
      "text/plain": [
       "student_id                19158\n",
       "city                        123\n",
       "city_development_index       93\n",
       "gender                        3\n",
       "relevant_experience           2\n",
       "enrolled_university           3\n",
       "education_level               5\n",
       "major_discipline              6\n",
       "experience                   22\n",
       "company_size                  8\n",
       "company_type                  6\n",
       "last_new_job                  6\n",
       "training_hours              241\n",
       "job_change                    2\n",
       "dtype: int64"
      ]
     },
     "execution_count": 2,
     "metadata": {},
     "output_type": "execute_result"
    }
   ],
   "source": [
    "# Determining the type and contents of each columns\n",
    "ds_jobs.info()\n",
    "ds_jobs.nunique()"
   ]
  },
  {
   "cell_type": "code",
   "execution_count": 3,
   "id": "abb53be6-9e17-4e67-a9b4-e9d34028a107",
   "metadata": {
    "executionTime": 79,
    "lastSuccessfullyExecutedCode": "for colx in ds_jobs.select_dtypes(include = ['object']):\n        print(f'The unique values of column \"{colx}\" are:')\n        print(f'{ds_jobs[colx].value_counts()}\\n')"
   },
   "outputs": [
    {
     "name": "stdout",
     "output_type": "stream",
     "text": [
      "The unique values of the column \"city\" are:\n",
      "city_103    4355\n",
      "city_21     2702\n",
      "city_16     1533\n",
      "city_114    1336\n",
      "city_160     845\n",
      "            ... \n",
      "city_129       3\n",
      "city_111       3\n",
      "city_121       3\n",
      "city_140       1\n",
      "city_171       1\n",
      "Name: city, Length: 123, dtype: int64\n",
      "\n",
      "The unique values of the column \"gender\" are:\n",
      "Male      13221\n",
      "Female     1238\n",
      "Other       191\n",
      "Name: gender, dtype: int64\n",
      "\n",
      "The unique values of the column \"relevant_experience\" are:\n",
      "Has relevant experience    13792\n",
      "No relevant experience      5366\n",
      "Name: relevant_experience, dtype: int64\n",
      "\n",
      "The unique values of the column \"enrolled_university\" are:\n",
      "no_enrollment       13817\n",
      "Full time course     3757\n",
      "Part time course     1198\n",
      "Name: enrolled_university, dtype: int64\n",
      "\n",
      "The unique values of the column \"education_level\" are:\n",
      "Graduate          11598\n",
      "Masters            4361\n",
      "High School        2017\n",
      "Phd                 414\n",
      "Primary School      308\n",
      "Name: education_level, dtype: int64\n",
      "\n",
      "The unique values of the column \"major_discipline\" are:\n",
      "STEM               14492\n",
      "Humanities           669\n",
      "Other                381\n",
      "Business Degree      327\n",
      "Arts                 253\n",
      "No Major             223\n",
      "Name: major_discipline, dtype: int64\n",
      "\n",
      "The unique values of the column \"experience\" are:\n",
      ">20    3286\n",
      "5      1430\n",
      "4      1403\n",
      "3      1354\n",
      "6      1216\n",
      "2      1127\n",
      "7      1028\n",
      "10      985\n",
      "9       980\n",
      "8       802\n",
      "15      686\n",
      "11      664\n",
      "14      586\n",
      "1       549\n",
      "<1      522\n",
      "16      508\n",
      "12      494\n",
      "13      399\n",
      "17      342\n",
      "19      304\n",
      "18      280\n",
      "20      148\n",
      "Name: experience, dtype: int64\n",
      "\n",
      "The unique values of the column \"company_size\" are:\n",
      "50-99        3083\n",
      "100-499      2571\n",
      "10000+       2019\n",
      "10-49        1471\n",
      "1000-4999    1328\n",
      "<10          1308\n",
      "500-999       877\n",
      "5000-9999     563\n",
      "Name: company_size, dtype: int64\n",
      "\n",
      "The unique values of the column \"company_type\" are:\n",
      "Pvt Ltd                9817\n",
      "Funded Startup         1001\n",
      "Public Sector           955\n",
      "Early Stage Startup     603\n",
      "NGO                     521\n",
      "Other                   121\n",
      "Name: company_type, dtype: int64\n",
      "\n",
      "The unique values of the column \"last_new_job\" are:\n",
      "1        8040\n",
      ">4       3290\n",
      "2        2900\n",
      "never    2452\n",
      "4        1029\n",
      "3        1024\n",
      "Name: last_new_job, dtype: int64\n",
      "\n"
     ]
    }
   ],
   "source": [
    "# Displaying the unique values of the each column\n",
    "for colx in ds_jobs.select_dtypes(include = ['object']):\n",
    "        print(f'The unique values of the column \"{colx}\" are:')\n",
    "        print(f'{ds_jobs[colx].value_counts()}\\n')"
   ]
  },
  {
   "cell_type": "markdown",
   "id": "2e7c3958-c4c8-4ebd-9e89-845fefbfb80f",
   "metadata": {},
   "source": [
    "# Converting data types "
   ]
  },
  {
   "cell_type": "code",
   "execution_count": 4,
   "id": "321aa999-e61e-43b6-96d5-6e095fa075e4",
   "metadata": {
    "executionTime": 89,
    "lastSuccessfullyExecutedCode": "# Converting data types - convert columns containing integers to the int32 type, floats to the float16 type, and nominal categories to the category type\nds_jobs_clean = pd.read_csv('customer_train.csv')\nfor coln in ds_jobs_clean.columns:\n    if ds_jobs_clean[coln].dtype == 'int64':\n        ds_jobs_clean[coln] = ds_jobs_clean[coln].astype('int32') \n    elif ds_jobs_clean[coln].dtype == 'float64' and ds_jobs_clean[coln].nunique()>2:\n        ds_jobs_clean[coln] = ds_jobs_clean[coln].astype('float16') \n    else:\n        ds_jobs_clean[coln] = ds_jobs_clean[coln].astype('category')\nprint(ds_jobs_clean.info())"
   },
   "outputs": [
    {
     "name": "stdout",
     "output_type": "stream",
     "text": [
      "<class 'pandas.core.frame.DataFrame'>\n",
      "RangeIndex: 19158 entries, 0 to 19157\n",
      "Data columns (total 14 columns):\n",
      " #   Column                  Non-Null Count  Dtype   \n",
      "---  ------                  --------------  -----   \n",
      " 0   student_id              19158 non-null  int32   \n",
      " 1   city                    19158 non-null  category\n",
      " 2   city_development_index  19158 non-null  float16 \n",
      " 3   gender                  14650 non-null  category\n",
      " 4   relevant_experience     19158 non-null  category\n",
      " 5   enrolled_university     18772 non-null  category\n",
      " 6   education_level         18698 non-null  category\n",
      " 7   major_discipline        16345 non-null  category\n",
      " 8   experience              19093 non-null  category\n",
      " 9   company_size            13220 non-null  category\n",
      " 10  company_type            13018 non-null  category\n",
      " 11  last_new_job            18735 non-null  category\n",
      " 12  training_hours          19158 non-null  int32   \n",
      " 13  job_change              19158 non-null  category\n",
      "dtypes: category(11), float16(1), int32(2)\n",
      "memory usage: 400.5 KB\n",
      "None\n"
     ]
    }
   ],
   "source": [
    "# Convert columns containing integers to the int32 type, floats to the float16 type, and nominal categories to the category type\n",
    "ds_jobs_clean = pd.read_csv('customer_train.csv')\n",
    "for coln in ds_jobs_clean.columns:\n",
    "    if ds_jobs_clean[coln].dtype == 'int64':\n",
    "        ds_jobs_clean[coln] = ds_jobs_clean[coln].astype('int32') \n",
    "    elif ds_jobs_clean[coln].dtype == 'float64' and ds_jobs_clean[coln].nunique()>2:\n",
    "        ds_jobs_clean[coln] = ds_jobs_clean[coln].astype('float16') \n",
    "    else:\n",
    "        ds_jobs_clean[coln] = ds_jobs_clean[coln].astype('category')\n",
    "print(ds_jobs_clean.info())"
   ]
  },
  {
   "cell_type": "markdown",
   "id": "46ee5ed9-883b-4e90-a54b-a127137f4361",
   "metadata": {},
   "source": [
    "# Converting ordered categories"
   ]
  },
  {
   "cell_type": "code",
   "execution_count": 5,
   "id": "91193c7f-5a64-4779-b0b6-9045691964c3",
   "metadata": {
    "executionTime": 75,
    "lastSuccessfullyExecutedCode": "# Convert columns containing ordinal categorical data into ordered categories.\ncol_ord_categ = [\"relevant_experience\", \"enrolled_university\", \"education_level\", \"experience\", \"company_size\", \"last_new_job\"]\nfor col_cat in col_ord_categ:\n    print(f'The list of categories for column \"{col_cat}\" are:')  \n    print(f'{ds_jobs_clean[col_cat].cat.categories}\\n')"
   },
   "outputs": [
    {
     "name": "stdout",
     "output_type": "stream",
     "text": [
      "The list of categories for column \"relevant_experience\" are:\n",
      "Index(['Has relevant experience', 'No relevant experience'], dtype='object')\n",
      "\n",
      "The list of categories for column \"enrolled_university\" are:\n",
      "Index(['Full time course', 'Part time course', 'no_enrollment'], dtype='object')\n",
      "\n",
      "The list of categories for column \"education_level\" are:\n",
      "Index(['Graduate', 'High School', 'Masters', 'Phd', 'Primary School'], dtype='object')\n",
      "\n",
      "The list of categories for column \"experience\" are:\n",
      "Index(['1', '10', '11', '12', '13', '14', '15', '16', '17', '18', '19', '2',\n",
      "       '20', '3', '4', '5', '6', '7', '8', '9', '<1', '>20'],\n",
      "      dtype='object')\n",
      "\n",
      "The list of categories for column \"company_size\" are:\n",
      "Index(['10-49', '100-499', '1000-4999', '10000+', '50-99', '500-999',\n",
      "       '5000-9999', '<10'],\n",
      "      dtype='object')\n",
      "\n",
      "The list of categories for column \"last_new_job\" are:\n",
      "Index(['1', '2', '3', '4', '>4', 'never'], dtype='object')\n",
      "\n"
     ]
    }
   ],
   "source": [
    "# Convert columns containing ordinal categorical data into ordered categories.\n",
    "col_ord_categ = [\"relevant_experience\", \"enrolled_university\", \"education_level\", \n",
    "                 \"experience\", \"company_size\", \"last_new_job\"]\n",
    "for col_cat in col_ord_categ:\n",
    "    print(f'The list of categories for column \"{col_cat}\" are:')  \n",
    "    print(f'{ds_jobs_clean[col_cat].cat.categories}\\n')"
   ]
  },
  {
   "cell_type": "code",
   "execution_count": 6,
   "id": "8e3f3068-42e1-4025-83ae-78c71e46d2e2",
   "metadata": {
    "executionTime": 76,
    "lastSuccessfullyExecutedCode": "ds_jobs_clean['relevant_experience'] = ds_jobs_clean['relevant_experience'].cat.reorder_categories(new_categories = ['No relevant experience', 'Has relevant experience'], ordered =True)\nds_jobs_clean['relevant_experience'].cat.categories                              "
   },
   "outputs": [
    {
     "data": {
      "text/plain": [
       "Index(['No relevant experience', 'Has relevant experience'], dtype='object')"
      ]
     },
     "execution_count": 6,
     "metadata": {},
     "output_type": "execute_result"
    }
   ],
   "source": [
    "ds_jobs_clean['relevant_experience'] = ds_jobs_clean['relevant_experience'].cat.reorder_categories(\n",
    "    new_categories = ['No relevant experience', 'Has relevant experience'], ordered = True)\n",
    "ds_jobs_clean['relevant_experience'].cat.categories                              "
   ]
  },
  {
   "cell_type": "code",
   "execution_count": 7,
   "id": "17bb3f91-1f1e-472c-addd-c010303bc12f",
   "metadata": {
    "executionTime": 83,
    "lastSuccessfullyExecutedCode": "ds_jobs_clean['enrolled_university'] = ds_jobs_clean['enrolled_university'].cat.reorder_categories(new_categories = ['no_enrollment', 'Part time course', 'Full time course'], ordered =True)\nds_jobs_clean['enrolled_university'].cat.categories  "
   },
   "outputs": [
    {
     "data": {
      "text/plain": [
       "Index(['no_enrollment', 'Part time course', 'Full time course'], dtype='object')"
      ]
     },
     "execution_count": 7,
     "metadata": {},
     "output_type": "execute_result"
    }
   ],
   "source": [
    "ds_jobs_clean['enrolled_university'] = ds_jobs_clean['enrolled_university'].cat.reorder_categories(\n",
    "    new_categories = ['no_enrollment', 'Part time course', 'Full time course'], ordered =True)\n",
    "ds_jobs_clean['enrolled_university'].cat.categories  "
   ]
  },
  {
   "cell_type": "code",
   "execution_count": 8,
   "id": "40f1462d-2472-4766-8e4f-79b1ee588fcf",
   "metadata": {
    "executionTime": 79,
    "lastSuccessfullyExecutedCode": "ds_jobs_clean['education_level'] = ds_jobs_clean['education_level'].cat.reorder_categories(new_categories = ['Primary School', 'High School', 'Graduate', 'Masters', 'Phd'], ordered =True)\nds_jobs_clean['education_level'].cat.categories  "
   },
   "outputs": [
    {
     "data": {
      "text/plain": [
       "Index(['Primary School', 'High School', 'Graduate', 'Masters', 'Phd'], dtype='object')"
      ]
     },
     "execution_count": 8,
     "metadata": {},
     "output_type": "execute_result"
    }
   ],
   "source": [
    "ds_jobs_clean['education_level'] = ds_jobs_clean['education_level'].cat.reorder_categories(\n",
    "    new_categories = ['Primary School', 'High School', 'Graduate', 'Masters', 'Phd'], ordered =True)\n",
    "ds_jobs_clean['education_level'].cat.categories  "
   ]
  },
  {
   "cell_type": "code",
   "execution_count": 9,
   "id": "83816790-d32e-4b20-94fb-70d85b714796",
   "metadata": {
    "executionTime": 80,
    "lastSuccessfullyExecutedCode": "ds_jobs_clean['experience'] = ds_jobs_clean['experience'].cat.reorder_categories(new_categories = ['<1', '1', '2', '3', '4', '5', '6', '7', '8', '9','10', '11', '12', '13', '14', '15', '16', '17', '18', '19','20','>20'], ordered =True)\nds_jobs_clean['experience'].cat.categories "
   },
   "outputs": [
    {
     "data": {
      "text/plain": [
       "Index(['<1', '1', '2', '3', '4', '5', '6', '7', '8', '9', '10', '11', '12',\n",
       "       '13', '14', '15', '16', '17', '18', '19', '20', '>20'],\n",
       "      dtype='object')"
      ]
     },
     "execution_count": 9,
     "metadata": {},
     "output_type": "execute_result"
    }
   ],
   "source": [
    "ds_jobs_clean['experience'] = ds_jobs_clean['experience'].cat.reorder_categories(\n",
    "    new_categories = ['<1', '1', '2', '3', '4', '5', '6', '7', '8', '9','10', '11',\n",
    "                      '12', '13', '14', '15', '16', '17', '18', '19','20','>20'], ordered =True)\n",
    "ds_jobs_clean['experience'].cat.categories "
   ]
  },
  {
   "cell_type": "code",
   "execution_count": 10,
   "id": "2f511199-aab7-400b-aa3b-d9f744451191",
   "metadata": {
    "executionTime": 80,
    "lastSuccessfullyExecutedCode": "ds_jobs_clean['company_size'] = ds_jobs_clean['company_size'].cat.reorder_categories(new_categories = ['<10', '10-49', '50-99','100-499', '500-999','1000-4999', '5000-9999','10000+'], ordered =True)\nds_jobs_clean['company_size'].cat.categories "
   },
   "outputs": [
    {
     "data": {
      "text/plain": [
       "Index(['<10', '10-49', '50-99', '100-499', '500-999', '1000-4999', '5000-9999',\n",
       "       '10000+'],\n",
       "      dtype='object')"
      ]
     },
     "execution_count": 10,
     "metadata": {},
     "output_type": "execute_result"
    }
   ],
   "source": [
    "ds_jobs_clean['company_size'] = ds_jobs_clean['company_size'].cat.reorder_categories(\n",
    "    new_categories = ['<10', '10-49', '50-99','100-499', '500-999','1000-4999', '5000-9999','10000+'], ordered =True)\n",
    "ds_jobs_clean['company_size'].cat.categories "
   ]
  },
  {
   "cell_type": "code",
   "execution_count": 11,
   "id": "61841088-4be9-4558-9da3-0721a82f5bb3",
   "metadata": {
    "executionTime": 76,
    "lastSuccessfullyExecutedCode": "ds_jobs_clean['last_new_job'] = ds_jobs_clean['last_new_job'].cat.reorder_categories(new_categories = ['never', '1', '2', '3', '4', '>4'], ordered =True)\nds_jobs_clean['last_new_job'].cat.categories "
   },
   "outputs": [
    {
     "data": {
      "text/plain": [
       "Index(['never', '1', '2', '3', '4', '>4'], dtype='object')"
      ]
     },
     "execution_count": 11,
     "metadata": {},
     "output_type": "execute_result"
    }
   ],
   "source": [
    "ds_jobs_clean['last_new_job'] = ds_jobs_clean['last_new_job'].cat.reorder_categories(\n",
    "    new_categories = ['never', '1', '2', '3', '4', '>4'], ordered =True)\n",
    "ds_jobs_clean['last_new_job'].cat.categories "
   ]
  },
  {
   "cell_type": "markdown",
   "id": "4d3c7f8a-06cf-4227-b714-e043b5bdef1b",
   "metadata": {},
   "source": [
    "# Reordering columns"
   ]
  },
  {
   "cell_type": "code",
   "execution_count": 12,
   "id": "aac1b6e3-b20c-4b92-bd49-cf5243eaa392",
   "metadata": {
    "executionTime": 205,
    "lastSuccessfullyExecutedCode": "# Reorder the columns of ds_jobs_clean so it has the same column ordering as the original dataset.\nds_jobs_clean = ds_jobs_clean[ds_jobs.columns]\nds_jobs_clean.info()"
   },
   "outputs": [
    {
     "name": "stdout",
     "output_type": "stream",
     "text": [
      "<class 'pandas.core.frame.DataFrame'>\n",
      "RangeIndex: 19158 entries, 0 to 19157\n",
      "Data columns (total 14 columns):\n",
      " #   Column                  Non-Null Count  Dtype   \n",
      "---  ------                  --------------  -----   \n",
      " 0   student_id              19158 non-null  int32   \n",
      " 1   city                    19158 non-null  category\n",
      " 2   city_development_index  19158 non-null  float16 \n",
      " 3   gender                  14650 non-null  category\n",
      " 4   relevant_experience     19158 non-null  category\n",
      " 5   enrolled_university     18772 non-null  category\n",
      " 6   education_level         18698 non-null  category\n",
      " 7   major_discipline        16345 non-null  category\n",
      " 8   experience              19093 non-null  category\n",
      " 9   company_size            13220 non-null  category\n",
      " 10  company_type            13018 non-null  category\n",
      " 11  last_new_job            18735 non-null  category\n",
      " 12  training_hours          19158 non-null  int32   \n",
      " 13  job_change              19158 non-null  category\n",
      "dtypes: category(11), float16(1), int32(2)\n",
      "memory usage: 400.5 KB\n"
     ]
    }
   ],
   "source": [
    "# Reorder the columns of ds_jobs_clean so it has the same column ordering as the original dataset.\n",
    "ds_jobs_clean = ds_jobs_clean[ds_jobs.columns]\n",
    "ds_jobs_clean.info()"
   ]
  },
  {
   "cell_type": "markdown",
   "id": "7acd8f21-5c46-4024-9391-b2ba080b6d89",
   "metadata": {},
   "source": [
    "# Filtering on ordered categorical columns"
   ]
  },
  {
   "cell_type": "code",
   "execution_count": 13,
   "id": "2613e438-33ee-40cc-aa9e-84008f723c28",
   "metadata": {
    "executionTime": 548,
    "lastSuccessfullyExecutedCode": "# Filter the DataFrame to only contain students with 10 or more years of experience at companies with at least 1000 employees.\nds_jobs_clean = ds_jobs_clean[ds_jobs_clean['experience'].isin(['10', '11', '12', '13', '14', '15', '16', '17', '18', '19','20','>20']) & ds_jobs_clean['company_size'].isin(['1000-4999', '5000-9999','10000+'])]\nds_jobs_clean.head(100)"
   },
   "outputs": [
    {
     "data": {
      "text/html": [
       "<div>\n",
       "<style scoped>\n",
       "    .dataframe tbody tr th:only-of-type {\n",
       "        vertical-align: middle;\n",
       "    }\n",
       "\n",
       "    .dataframe tbody tr th {\n",
       "        vertical-align: top;\n",
       "    }\n",
       "\n",
       "    .dataframe thead th {\n",
       "        text-align: right;\n",
       "    }\n",
       "</style>\n",
       "<table border=\"1\" class=\"dataframe\">\n",
       "  <thead>\n",
       "    <tr style=\"text-align: right;\">\n",
       "      <th></th>\n",
       "      <th>student_id</th>\n",
       "      <th>city</th>\n",
       "      <th>city_development_index</th>\n",
       "      <th>gender</th>\n",
       "      <th>relevant_experience</th>\n",
       "      <th>enrolled_university</th>\n",
       "      <th>education_level</th>\n",
       "      <th>major_discipline</th>\n",
       "      <th>experience</th>\n",
       "      <th>company_size</th>\n",
       "      <th>company_type</th>\n",
       "      <th>last_new_job</th>\n",
       "      <th>training_hours</th>\n",
       "      <th>job_change</th>\n",
       "    </tr>\n",
       "  </thead>\n",
       "  <tbody>\n",
       "    <tr>\n",
       "      <th>9</th>\n",
       "      <td>699</td>\n",
       "      <td>city_103</td>\n",
       "      <td>0.919922</td>\n",
       "      <td>NaN</td>\n",
       "      <td>Has relevant experience</td>\n",
       "      <td>no_enrollment</td>\n",
       "      <td>Graduate</td>\n",
       "      <td>STEM</td>\n",
       "      <td>17</td>\n",
       "      <td>10000+</td>\n",
       "      <td>Pvt Ltd</td>\n",
       "      <td>&gt;4</td>\n",
       "      <td>123</td>\n",
       "      <td>0.0</td>\n",
       "    </tr>\n",
       "    <tr>\n",
       "      <th>12</th>\n",
       "      <td>25619</td>\n",
       "      <td>city_61</td>\n",
       "      <td>0.913086</td>\n",
       "      <td>Male</td>\n",
       "      <td>Has relevant experience</td>\n",
       "      <td>no_enrollment</td>\n",
       "      <td>Graduate</td>\n",
       "      <td>STEM</td>\n",
       "      <td>&gt;20</td>\n",
       "      <td>1000-4999</td>\n",
       "      <td>Pvt Ltd</td>\n",
       "      <td>3</td>\n",
       "      <td>23</td>\n",
       "      <td>0.0</td>\n",
       "    </tr>\n",
       "    <tr>\n",
       "      <th>31</th>\n",
       "      <td>22293</td>\n",
       "      <td>city_103</td>\n",
       "      <td>0.919922</td>\n",
       "      <td>Male</td>\n",
       "      <td>Has relevant experience</td>\n",
       "      <td>Part time course</td>\n",
       "      <td>Graduate</td>\n",
       "      <td>STEM</td>\n",
       "      <td>19</td>\n",
       "      <td>5000-9999</td>\n",
       "      <td>Pvt Ltd</td>\n",
       "      <td>&gt;4</td>\n",
       "      <td>141</td>\n",
       "      <td>0.0</td>\n",
       "    </tr>\n",
       "    <tr>\n",
       "      <th>34</th>\n",
       "      <td>26494</td>\n",
       "      <td>city_16</td>\n",
       "      <td>0.910156</td>\n",
       "      <td>Male</td>\n",
       "      <td>Has relevant experience</td>\n",
       "      <td>no_enrollment</td>\n",
       "      <td>Graduate</td>\n",
       "      <td>Business Degree</td>\n",
       "      <td>12</td>\n",
       "      <td>5000-9999</td>\n",
       "      <td>Pvt Ltd</td>\n",
       "      <td>3</td>\n",
       "      <td>145</td>\n",
       "      <td>0.0</td>\n",
       "    </tr>\n",
       "    <tr>\n",
       "      <th>40</th>\n",
       "      <td>2547</td>\n",
       "      <td>city_114</td>\n",
       "      <td>0.925781</td>\n",
       "      <td>Female</td>\n",
       "      <td>Has relevant experience</td>\n",
       "      <td>Full time course</td>\n",
       "      <td>Masters</td>\n",
       "      <td>STEM</td>\n",
       "      <td>16</td>\n",
       "      <td>1000-4999</td>\n",
       "      <td>Public Sector</td>\n",
       "      <td>2</td>\n",
       "      <td>14</td>\n",
       "      <td>0.0</td>\n",
       "    </tr>\n",
       "    <tr>\n",
       "      <th>...</th>\n",
       "      <td>...</td>\n",
       "      <td>...</td>\n",
       "      <td>...</td>\n",
       "      <td>...</td>\n",
       "      <td>...</td>\n",
       "      <td>...</td>\n",
       "      <td>...</td>\n",
       "      <td>...</td>\n",
       "      <td>...</td>\n",
       "      <td>...</td>\n",
       "      <td>...</td>\n",
       "      <td>...</td>\n",
       "      <td>...</td>\n",
       "      <td>...</td>\n",
       "    </tr>\n",
       "    <tr>\n",
       "      <th>920</th>\n",
       "      <td>28453</td>\n",
       "      <td>city_16</td>\n",
       "      <td>0.910156</td>\n",
       "      <td>Male</td>\n",
       "      <td>Has relevant experience</td>\n",
       "      <td>no_enrollment</td>\n",
       "      <td>Masters</td>\n",
       "      <td>STEM</td>\n",
       "      <td>10</td>\n",
       "      <td>10000+</td>\n",
       "      <td>Pvt Ltd</td>\n",
       "      <td>1</td>\n",
       "      <td>18</td>\n",
       "      <td>0.0</td>\n",
       "    </tr>\n",
       "    <tr>\n",
       "      <th>931</th>\n",
       "      <td>6304</td>\n",
       "      <td>city_103</td>\n",
       "      <td>0.919922</td>\n",
       "      <td>Male</td>\n",
       "      <td>Has relevant experience</td>\n",
       "      <td>Part time course</td>\n",
       "      <td>Graduate</td>\n",
       "      <td>STEM</td>\n",
       "      <td>19</td>\n",
       "      <td>1000-4999</td>\n",
       "      <td>Public Sector</td>\n",
       "      <td>&gt;4</td>\n",
       "      <td>142</td>\n",
       "      <td>0.0</td>\n",
       "    </tr>\n",
       "    <tr>\n",
       "      <th>933</th>\n",
       "      <td>31368</td>\n",
       "      <td>city_103</td>\n",
       "      <td>0.919922</td>\n",
       "      <td>Male</td>\n",
       "      <td>Has relevant experience</td>\n",
       "      <td>no_enrollment</td>\n",
       "      <td>Graduate</td>\n",
       "      <td>STEM</td>\n",
       "      <td>10</td>\n",
       "      <td>1000-4999</td>\n",
       "      <td>Pvt Ltd</td>\n",
       "      <td>1</td>\n",
       "      <td>314</td>\n",
       "      <td>0.0</td>\n",
       "    </tr>\n",
       "    <tr>\n",
       "      <th>959</th>\n",
       "      <td>21276</td>\n",
       "      <td>city_75</td>\n",
       "      <td>0.938965</td>\n",
       "      <td>Male</td>\n",
       "      <td>Has relevant experience</td>\n",
       "      <td>no_enrollment</td>\n",
       "      <td>Graduate</td>\n",
       "      <td>STEM</td>\n",
       "      <td>&gt;20</td>\n",
       "      <td>10000+</td>\n",
       "      <td>Pvt Ltd</td>\n",
       "      <td>4</td>\n",
       "      <td>94</td>\n",
       "      <td>0.0</td>\n",
       "    </tr>\n",
       "    <tr>\n",
       "      <th>965</th>\n",
       "      <td>27419</td>\n",
       "      <td>city_21</td>\n",
       "      <td>0.624023</td>\n",
       "      <td>NaN</td>\n",
       "      <td>Has relevant experience</td>\n",
       "      <td>no_enrollment</td>\n",
       "      <td>Graduate</td>\n",
       "      <td>STEM</td>\n",
       "      <td>15</td>\n",
       "      <td>10000+</td>\n",
       "      <td>Pvt Ltd</td>\n",
       "      <td>never</td>\n",
       "      <td>17</td>\n",
       "      <td>0.0</td>\n",
       "    </tr>\n",
       "  </tbody>\n",
       "</table>\n",
       "<p>100 rows × 14 columns</p>\n",
       "</div>"
      ],
      "text/plain": [
       "     student_id      city  city_development_index  gender  \\\n",
       "9           699  city_103                0.919922     NaN   \n",
       "12        25619   city_61                0.913086    Male   \n",
       "31        22293  city_103                0.919922    Male   \n",
       "34        26494   city_16                0.910156    Male   \n",
       "40         2547  city_114                0.925781  Female   \n",
       "..          ...       ...                     ...     ...   \n",
       "920       28453   city_16                0.910156    Male   \n",
       "931        6304  city_103                0.919922    Male   \n",
       "933       31368  city_103                0.919922    Male   \n",
       "959       21276   city_75                0.938965    Male   \n",
       "965       27419   city_21                0.624023     NaN   \n",
       "\n",
       "         relevant_experience enrolled_university education_level  \\\n",
       "9    Has relevant experience       no_enrollment        Graduate   \n",
       "12   Has relevant experience       no_enrollment        Graduate   \n",
       "31   Has relevant experience    Part time course        Graduate   \n",
       "34   Has relevant experience       no_enrollment        Graduate   \n",
       "40   Has relevant experience    Full time course         Masters   \n",
       "..                       ...                 ...             ...   \n",
       "920  Has relevant experience       no_enrollment         Masters   \n",
       "931  Has relevant experience    Part time course        Graduate   \n",
       "933  Has relevant experience       no_enrollment        Graduate   \n",
       "959  Has relevant experience       no_enrollment        Graduate   \n",
       "965  Has relevant experience       no_enrollment        Graduate   \n",
       "\n",
       "    major_discipline experience company_size   company_type last_new_job  \\\n",
       "9               STEM         17       10000+        Pvt Ltd           >4   \n",
       "12              STEM        >20    1000-4999        Pvt Ltd            3   \n",
       "31              STEM         19    5000-9999        Pvt Ltd           >4   \n",
       "34   Business Degree         12    5000-9999        Pvt Ltd            3   \n",
       "40              STEM         16    1000-4999  Public Sector            2   \n",
       "..               ...        ...          ...            ...          ...   \n",
       "920             STEM         10       10000+        Pvt Ltd            1   \n",
       "931             STEM         19    1000-4999  Public Sector           >4   \n",
       "933             STEM         10    1000-4999        Pvt Ltd            1   \n",
       "959             STEM        >20       10000+        Pvt Ltd            4   \n",
       "965             STEM         15       10000+        Pvt Ltd        never   \n",
       "\n",
       "     training_hours job_change  \n",
       "9               123        0.0  \n",
       "12               23        0.0  \n",
       "31              141        0.0  \n",
       "34              145        0.0  \n",
       "40               14        0.0  \n",
       "..              ...        ...  \n",
       "920              18        0.0  \n",
       "931             142        0.0  \n",
       "933             314        0.0  \n",
       "959              94        0.0  \n",
       "965              17        0.0  \n",
       "\n",
       "[100 rows x 14 columns]"
      ]
     },
     "execution_count": 13,
     "metadata": {},
     "output_type": "execute_result"
    }
   ],
   "source": [
    "# Filter the DataFrame to only contain students with 10 or more years of experience at companies with at least 1000 employees.\n",
    "ds_jobs_clean = ds_jobs_clean[ds_jobs_clean['experience'].isin(list(ds_jobs_clean['experience'].cat.categories)[10:]) \n",
    "                              &\n",
    "                              ds_jobs_clean['company_size'].isin(list(ds_jobs_clean['company_size'].cat.categories)[-3:])]\n",
    "ds_jobs_clean.head(100)"
   ]
  },
  {
   "cell_type": "code",
   "execution_count": null,
   "id": "a4e33518-e023-41b6-8828-121446ba92a1",
   "metadata": {},
   "outputs": [],
   "source": []
  }
 ],
 "metadata": {
  "editor": "DataCamp Workspace",
  "kernelspec": {
   "display_name": "Python 3 (ipykernel)",
   "language": "python",
   "name": "python3"
  },
  "language_info": {
   "codemirror_mode": {
    "name": "ipython",
    "version": 3
   },
   "file_extension": ".py",
   "mimetype": "text/x-python",
   "name": "python",
   "nbconvert_exporter": "python",
   "pygments_lexer": "ipython3",
   "version": "3.10.5"
  }
 },
 "nbformat": 4,
 "nbformat_minor": 5
}
