{
 "cells": [
  {
   "cell_type": "markdown",
   "id": "0d39fe1d",
   "metadata": {
    "tags": []
   },
   "source": [
    "#  Analysis of Credit Approval Data"
   ]
  },
  {
   "cell_type": "markdown",
   "id": "e78b00bc-8540-4137-ae93-cb45a76014e5",
   "metadata": {},
   "source": [
    "## 1. Objective\n",
    "\n",
    "The purpose of this analysis is to build an automatic credit card approval predictor using machine learning techniques. I will use the Credit Approval Dataset which is a collection of credit card applications and the credit approval decisions. The data is available from the <a href=\"http://archive.ics.uci.edu/ml/datasets/credit+approval\">UCI Machine Learning Repository</a>. The dataset has a mixture of both numerical and non-numerical features, that it contains values from different ranges, plus that it contains a number of missing entries.\n",
    "The techniques include data visualization, association rules, logistical regression, and decision trees. This analysis is organized as follows:\n",
    "\n",
    "- First, I will start off by loading and viewing the dataset.\n",
    "- Generate several data visualizations to understand the underlying data;\n",
    "- Perform data transformations as needed;\n",
    "- After the data is in good shape, I will do some exploratory data analysis.\n",
    "- Finally, I will build a machine learning model that can predict if an individual's application for a credit card will be accepted."
   ]
  },
  {
   "cell_type": "markdown",
   "id": "45c0518d",
   "metadata": {},
   "source": [
    "## 2.  Data Cleaning\n",
    "First, loading and viewing the dataset. I find that since this data is confidential, the contributor of the dataset has anonymized the feature names."
   ]
  },
  {
   "cell_type": "code",
   "execution_count": 1,
   "id": "46e26e63-35b5-4448-9813-38ffeb951dc6",
   "metadata": {},
   "outputs": [
    {
     "name": "stdout",
     "output_type": "stream",
     "text": [
      "Requirement already satisfied: keras-tuner in c:\\users\\valen\\envs\\curs_python\\lib\\site-packages (1.3.4)\n",
      "Requirement already satisfied: tensorflow>=2.0 in c:\\users\\valen\\envs\\curs_python\\lib\\site-packages (from keras-tuner) (2.12.0)\n",
      "Requirement already satisfied: packaging in c:\\users\\valen\\envs\\curs_python\\lib\\site-packages (from keras-tuner) (21.3)\n",
      "Requirement already satisfied: kt-legacy in c:\\users\\valen\\envs\\curs_python\\lib\\site-packages (from keras-tuner) (1.0.4)\n",
      "Requirement already satisfied: requests in c:\\users\\valen\\envs\\curs_python\\lib\\site-packages (from keras-tuner) (2.28.1)\n",
      "Requirement already satisfied: protobuf<=3.20.3 in c:\\users\\valen\\envs\\curs_python\\lib\\site-packages (from keras-tuner) (3.20.3)\n",
      "Requirement already satisfied: tensorflow-intel==2.12.0 in c:\\users\\valen\\envs\\curs_python\\lib\\site-packages (from tensorflow>=2.0->keras-tuner) (2.12.0)\n",
      "Requirement already satisfied: grpcio<2.0,>=1.24.3 in c:\\users\\valen\\envs\\curs_python\\lib\\site-packages (from tensorflow-intel==2.12.0->tensorflow>=2.0->keras-tuner) (1.53.0)\n",
      "Requirement already satisfied: tensorflow-estimator<2.13,>=2.12.0 in c:\\users\\valen\\envs\\curs_python\\lib\\site-packages (from tensorflow-intel==2.12.0->tensorflow>=2.0->keras-tuner) (2.12.0)\n",
      "Requirement already satisfied: libclang>=13.0.0 in c:\\users\\valen\\envs\\curs_python\\lib\\site-packages (from tensorflow-intel==2.12.0->tensorflow>=2.0->keras-tuner) (16.0.0)\n",
      "Requirement already satisfied: opt-einsum>=2.3.2 in c:\\users\\valen\\envs\\curs_python\\lib\\site-packages (from tensorflow-intel==2.12.0->tensorflow>=2.0->keras-tuner) (3.3.0)\n",
      "Requirement already satisfied: tensorboard<2.13,>=2.12 in c:\\users\\valen\\envs\\curs_python\\lib\\site-packages (from tensorflow-intel==2.12.0->tensorflow>=2.0->keras-tuner) (2.12.1)\n",
      "Requirement already satisfied: tensorflow-io-gcs-filesystem>=0.23.1 in c:\\users\\valen\\envs\\curs_python\\lib\\site-packages (from tensorflow-intel==2.12.0->tensorflow>=2.0->keras-tuner) (0.31.0)\n",
      "Requirement already satisfied: google-pasta>=0.1.1 in c:\\users\\valen\\envs\\curs_python\\lib\\site-packages (from tensorflow-intel==2.12.0->tensorflow>=2.0->keras-tuner) (0.2.0)\n",
      "Requirement already satisfied: keras<2.13,>=2.12.0 in c:\\users\\valen\\envs\\curs_python\\lib\\site-packages (from tensorflow-intel==2.12.0->tensorflow>=2.0->keras-tuner) (2.12.0)\n",
      "Requirement already satisfied: flatbuffers>=2.0 in c:\\users\\valen\\envs\\curs_python\\lib\\site-packages (from tensorflow-intel==2.12.0->tensorflow>=2.0->keras-tuner) (23.3.3)\n",
      "Requirement already satisfied: wrapt<1.15,>=1.11.0 in c:\\users\\valen\\envs\\curs_python\\lib\\site-packages (from tensorflow-intel==2.12.0->tensorflow>=2.0->keras-tuner) (1.14.1)\n",
      "Requirement already satisfied: h5py>=2.9.0 in c:\\users\\valen\\envs\\curs_python\\lib\\site-packages (from tensorflow-intel==2.12.0->tensorflow>=2.0->keras-tuner) (3.8.0)\n",
      "Requirement already satisfied: numpy<1.24,>=1.22 in c:\\users\\valen\\envs\\curs_python\\lib\\site-packages (from tensorflow-intel==2.12.0->tensorflow>=2.0->keras-tuner) (1.23.1)\n",
      "Requirement already satisfied: six>=1.12.0 in c:\\users\\valen\\envs\\curs_python\\lib\\site-packages (from tensorflow-intel==2.12.0->tensorflow>=2.0->keras-tuner) (1.16.0)\n",
      "Requirement already satisfied: absl-py>=1.0.0 in c:\\users\\valen\\envs\\curs_python\\lib\\site-packages (from tensorflow-intel==2.12.0->tensorflow>=2.0->keras-tuner) (1.4.0)\n",
      "Requirement already satisfied: gast<=0.4.0,>=0.2.1 in c:\\users\\valen\\envs\\curs_python\\lib\\site-packages (from tensorflow-intel==2.12.0->tensorflow>=2.0->keras-tuner) (0.4.0)\n",
      "Requirement already satisfied: typing-extensions>=3.6.6 in c:\\users\\valen\\envs\\curs_python\\lib\\site-packages (from tensorflow-intel==2.12.0->tensorflow>=2.0->keras-tuner) (4.3.0)\n",
      "Requirement already satisfied: astunparse>=1.6.0 in c:\\users\\valen\\envs\\curs_python\\lib\\site-packages (from tensorflow-intel==2.12.0->tensorflow>=2.0->keras-tuner) (1.6.3)\n",
      "Requirement already satisfied: jax>=0.3.15 in c:\\users\\valen\\envs\\curs_python\\lib\\site-packages (from tensorflow-intel==2.12.0->tensorflow>=2.0->keras-tuner) (0.4.8)\n",
      "Requirement already satisfied: setuptools in c:\\users\\valen\\envs\\curs_python\\lib\\site-packages (from tensorflow-intel==2.12.0->tensorflow>=2.0->keras-tuner) (62.6.0)\n",
      "Requirement already satisfied: termcolor>=1.1.0 in c:\\users\\valen\\envs\\curs_python\\lib\\site-packages (from tensorflow-intel==2.12.0->tensorflow>=2.0->keras-tuner) (2.2.0)\n",
      "Requirement already satisfied: pyparsing!=3.0.5,>=2.0.2 in c:\\users\\valen\\envs\\curs_python\\lib\\site-packages (from packaging->keras-tuner) (3.0.9)\n",
      "Requirement already satisfied: idna<4,>=2.5 in c:\\users\\valen\\envs\\curs_python\\lib\\site-packages (from requests->keras-tuner) (3.3)\n",
      "Requirement already satisfied: urllib3<1.27,>=1.21.1 in c:\\users\\valen\\envs\\curs_python\\lib\\site-packages (from requests->keras-tuner) (1.26.11)\n",
      "Requirement already satisfied: certifi>=2017.4.17 in c:\\users\\valen\\envs\\curs_python\\lib\\site-packages (from requests->keras-tuner) (2022.6.15)\n",
      "Requirement already satisfied: charset-normalizer<3,>=2 in c:\\users\\valen\\envs\\curs_python\\lib\\site-packages (from requests->keras-tuner) (2.1.0)\n",
      "Requirement already satisfied: wheel<1.0,>=0.23.0 in c:\\users\\valen\\envs\\curs_python\\lib\\site-packages (from astunparse>=1.6.0->tensorflow-intel==2.12.0->tensorflow>=2.0->keras-tuner) (0.37.1)\n",
      "Requirement already satisfied: ml-dtypes>=0.0.3 in c:\\users\\valen\\envs\\curs_python\\lib\\site-packages (from jax>=0.3.15->tensorflow-intel==2.12.0->tensorflow>=2.0->keras-tuner) (0.0.4)\n",
      "Requirement already satisfied: scipy>=1.7 in c:\\users\\valen\\envs\\curs_python\\lib\\site-packages (from jax>=0.3.15->tensorflow-intel==2.12.0->tensorflow>=2.0->keras-tuner) (1.8.1)\n",
      "Requirement already satisfied: google-auth<3,>=1.6.3 in c:\\users\\valen\\envs\\curs_python\\lib\\site-packages (from tensorboard<2.13,>=2.12->tensorflow-intel==2.12.0->tensorflow>=2.0->keras-tuner) (2.17.2)\n",
      "Requirement already satisfied: werkzeug>=1.0.1 in c:\\users\\valen\\envs\\curs_python\\lib\\site-packages (from tensorboard<2.13,>=2.12->tensorflow-intel==2.12.0->tensorflow>=2.0->keras-tuner) (2.2.3)\n",
      "Requirement already satisfied: markdown>=2.6.8 in c:\\users\\valen\\envs\\curs_python\\lib\\site-packages (from tensorboard<2.13,>=2.12->tensorflow-intel==2.12.0->tensorflow>=2.0->keras-tuner) (3.4.3)\n",
      "Requirement already satisfied: tensorboard-data-server<0.8.0,>=0.7.0 in c:\\users\\valen\\envs\\curs_python\\lib\\site-packages (from tensorboard<2.13,>=2.12->tensorflow-intel==2.12.0->tensorflow>=2.0->keras-tuner) (0.7.0)\n",
      "Requirement already satisfied: google-auth-oauthlib<1.1,>=0.5 in c:\\users\\valen\\envs\\curs_python\\lib\\site-packages (from tensorboard<2.13,>=2.12->tensorflow-intel==2.12.0->tensorflow>=2.0->keras-tuner) (1.0.0)\n",
      "Requirement already satisfied: tensorboard-plugin-wit>=1.6.0 in c:\\users\\valen\\envs\\curs_python\\lib\\site-packages (from tensorboard<2.13,>=2.12->tensorflow-intel==2.12.0->tensorflow>=2.0->keras-tuner) (1.8.1)\n",
      "Requirement already satisfied: pyasn1-modules>=0.2.1 in c:\\users\\valen\\envs\\curs_python\\lib\\site-packages (from google-auth<3,>=1.6.3->tensorboard<2.13,>=2.12->tensorflow-intel==2.12.0->tensorflow>=2.0->keras-tuner) (0.2.8)\n",
      "Requirement already satisfied: cachetools<6.0,>=2.0.0 in c:\\users\\valen\\envs\\curs_python\\lib\\site-packages (from google-auth<3,>=1.6.3->tensorboard<2.13,>=2.12->tensorflow-intel==2.12.0->tensorflow>=2.0->keras-tuner) (5.3.0)\n",
      "Requirement already satisfied: rsa<5,>=3.1.4 in c:\\users\\valen\\envs\\curs_python\\lib\\site-packages (from google-auth<3,>=1.6.3->tensorboard<2.13,>=2.12->tensorflow-intel==2.12.0->tensorflow>=2.0->keras-tuner) (4.9)\n",
      "Requirement already satisfied: requests-oauthlib>=0.7.0 in c:\\users\\valen\\envs\\curs_python\\lib\\site-packages (from google-auth-oauthlib<1.1,>=0.5->tensorboard<2.13,>=2.12->tensorflow-intel==2.12.0->tensorflow>=2.0->keras-tuner) (1.3.1)\n",
      "Requirement already satisfied: MarkupSafe>=2.1.1 in c:\\users\\valen\\envs\\curs_python\\lib\\site-packages (from werkzeug>=1.0.1->tensorboard<2.13,>=2.12->tensorflow-intel==2.12.0->tensorflow>=2.0->keras-tuner) (2.1.1)\n",
      "Requirement already satisfied: pyasn1<0.5.0,>=0.4.6 in c:\\users\\valen\\envs\\curs_python\\lib\\site-packages (from pyasn1-modules>=0.2.1->google-auth<3,>=1.6.3->tensorboard<2.13,>=2.12->tensorflow-intel==2.12.0->tensorflow>=2.0->keras-tuner) (0.4.8)\n",
      "Requirement already satisfied: oauthlib>=3.0.0 in c:\\users\\valen\\envs\\curs_python\\lib\\site-packages (from requests-oauthlib>=0.7.0->google-auth-oauthlib<1.1,>=0.5->tensorboard<2.13,>=2.12->tensorflow-intel==2.12.0->tensorflow>=2.0->keras-tuner) (3.2.2)\n",
      "Note: you may need to restart the kernel to use updated packages.\n"
     ]
    },
    {
     "name": "stderr",
     "output_type": "stream",
     "text": [
      "WARNING: Ignoring invalid distribution -rotobuf (c:\\users\\valen\\envs\\curs_python\\lib\\site-packages)\n",
      "WARNING: Ignoring invalid distribution -rotobuf (c:\\users\\valen\\envs\\curs_python\\lib\\site-packages)\n",
      "WARNING: Ignoring invalid distribution -rotobuf (c:\\users\\valen\\envs\\curs_python\\lib\\site-packages)\n",
      "WARNING: Ignoring invalid distribution -rotobuf (c:\\users\\valen\\envs\\curs_python\\lib\\site-packages)\n",
      "WARNING: Ignoring invalid distribution -rotobuf (c:\\users\\valen\\envs\\curs_python\\lib\\site-packages)\n",
      "WARNING: Ignoring invalid distribution -rotobuf (c:\\users\\valen\\envs\\curs_python\\lib\\site-packages)\n"
     ]
    }
   ],
   "source": [
    "pip install keras-tuner"
   ]
  },
  {
   "cell_type": "code",
   "execution_count": 2,
   "id": "b583a446",
   "metadata": {},
   "outputs": [
    {
     "name": "stderr",
     "output_type": "stream",
     "text": [
      "C:\\Users\\valen\\AppData\\Local\\Temp\\ipykernel_39864\\1222595362.py:15: DeprecationWarning: `import kerastuner` is deprecated, please use `import keras_tuner`.\n",
      "  from kerastuner.tuners import RandomSearch\n"
     ]
    }
   ],
   "source": [
    "# Loading in required libraries\n",
    "import pandas as pd\n",
    "import numpy as np\n",
    "from scipy import stats\n",
    "import seaborn as sns\n",
    "import matplotlib.pyplot as plt\n",
    "from sklearn.linear_model import LinearRegression, LogisticRegression\n",
    "from sklearn.tree import DecisionTreeRegressor\n",
    "from sklearn.ensemble import RandomForestClassifier\n",
    "from sklearn.metrics import classification_report, accuracy_score, confusion_matrix\n",
    "from sklearn.impute  import SimpleImputer\n",
    "from sklearn.model_selection import train_test_split, KFold, cross_val_score, GridSearchCV\n",
    "from sklearn.utils.class_weight import compute_class_weight\n",
    "import keras_tuner\n",
    "from kerastuner.tuners import RandomSearch\n",
    "from kerastuner.engine.hyperparameters import HyperParameter\n",
    "import lazypredict\n",
    "from lazypredict.Supervised import LazyClassifier\n",
    "import optuna\n",
    "from scikeras.wrappers import KerasClassifier\n",
    "import keras\n",
    "import tensorflow as tf\n",
    "from keras.callbacks import EarlyStopping, ReduceLROnPlateau\n",
    "from keras.models import Sequential\n",
    "from keras.layers import Dense, Dropout\n",
    "from tensorflow.keras.constraints import MaxNorm\n",
    "import warnings\n",
    "warnings.simplefilter(\"ignore\")"
   ]
  },
  {
   "cell_type": "code",
   "execution_count": 3,
   "id": "15af170f-b2cc-45b2-ad2e-243596134a7a",
   "metadata": {},
   "outputs": [
    {
     "data": {
      "text/html": [
       "<div>\n",
       "<style scoped>\n",
       "    .dataframe tbody tr th:only-of-type {\n",
       "        vertical-align: middle;\n",
       "    }\n",
       "\n",
       "    .dataframe tbody tr th {\n",
       "        vertical-align: top;\n",
       "    }\n",
       "\n",
       "    .dataframe thead th {\n",
       "        text-align: right;\n",
       "    }\n",
       "</style>\n",
       "<table border=\"1\" class=\"dataframe\">\n",
       "  <thead>\n",
       "    <tr style=\"text-align: right;\">\n",
       "      <th></th>\n",
       "      <th>0</th>\n",
       "      <th>1</th>\n",
       "      <th>2</th>\n",
       "      <th>3</th>\n",
       "      <th>4</th>\n",
       "      <th>5</th>\n",
       "      <th>6</th>\n",
       "      <th>7</th>\n",
       "      <th>8</th>\n",
       "      <th>9</th>\n",
       "      <th>10</th>\n",
       "      <th>11</th>\n",
       "      <th>12</th>\n",
       "      <th>13</th>\n",
       "      <th>14</th>\n",
       "      <th>15</th>\n",
       "    </tr>\n",
       "  </thead>\n",
       "  <tbody>\n",
       "    <tr>\n",
       "      <th>371</th>\n",
       "      <td>b</td>\n",
       "      <td>26.33</td>\n",
       "      <td>13.00</td>\n",
       "      <td>u</td>\n",
       "      <td>g</td>\n",
       "      <td>e</td>\n",
       "      <td>dd</td>\n",
       "      <td>0.00</td>\n",
       "      <td>f</td>\n",
       "      <td>f</td>\n",
       "      <td>0</td>\n",
       "      <td>t</td>\n",
       "      <td>g</td>\n",
       "      <td>00140</td>\n",
       "      <td>1110</td>\n",
       "      <td>-</td>\n",
       "    </tr>\n",
       "    <tr>\n",
       "      <th>161</th>\n",
       "      <td>b</td>\n",
       "      <td>44.00</td>\n",
       "      <td>2.00</td>\n",
       "      <td>u</td>\n",
       "      <td>g</td>\n",
       "      <td>m</td>\n",
       "      <td>v</td>\n",
       "      <td>1.75</td>\n",
       "      <td>t</td>\n",
       "      <td>t</td>\n",
       "      <td>2</td>\n",
       "      <td>t</td>\n",
       "      <td>g</td>\n",
       "      <td>00000</td>\n",
       "      <td>15</td>\n",
       "      <td>+</td>\n",
       "    </tr>\n",
       "    <tr>\n",
       "      <th>102</th>\n",
       "      <td>b</td>\n",
       "      <td>18.67</td>\n",
       "      <td>5.00</td>\n",
       "      <td>u</td>\n",
       "      <td>g</td>\n",
       "      <td>q</td>\n",
       "      <td>v</td>\n",
       "      <td>0.38</td>\n",
       "      <td>t</td>\n",
       "      <td>t</td>\n",
       "      <td>2</td>\n",
       "      <td>f</td>\n",
       "      <td>g</td>\n",
       "      <td>00000</td>\n",
       "      <td>38</td>\n",
       "      <td>-</td>\n",
       "    </tr>\n",
       "    <tr>\n",
       "      <th>343</th>\n",
       "      <td>b</td>\n",
       "      <td>33.75</td>\n",
       "      <td>2.75</td>\n",
       "      <td>u</td>\n",
       "      <td>g</td>\n",
       "      <td>i</td>\n",
       "      <td>bb</td>\n",
       "      <td>0.00</td>\n",
       "      <td>f</td>\n",
       "      <td>f</td>\n",
       "      <td>0</td>\n",
       "      <td>f</td>\n",
       "      <td>g</td>\n",
       "      <td>00180</td>\n",
       "      <td>0</td>\n",
       "      <td>-</td>\n",
       "    </tr>\n",
       "    <tr>\n",
       "      <th>280</th>\n",
       "      <td>b</td>\n",
       "      <td>21.17</td>\n",
       "      <td>0.88</td>\n",
       "      <td>y</td>\n",
       "      <td>p</td>\n",
       "      <td>c</td>\n",
       "      <td>h</td>\n",
       "      <td>0.25</td>\n",
       "      <td>f</td>\n",
       "      <td>f</td>\n",
       "      <td>0</td>\n",
       "      <td>f</td>\n",
       "      <td>g</td>\n",
       "      <td>00280</td>\n",
       "      <td>204</td>\n",
       "      <td>-</td>\n",
       "    </tr>\n",
       "    <tr>\n",
       "      <th>272</th>\n",
       "      <td>b</td>\n",
       "      <td>18.08</td>\n",
       "      <td>6.75</td>\n",
       "      <td>y</td>\n",
       "      <td>p</td>\n",
       "      <td>m</td>\n",
       "      <td>v</td>\n",
       "      <td>0.04</td>\n",
       "      <td>f</td>\n",
       "      <td>f</td>\n",
       "      <td>0</td>\n",
       "      <td>f</td>\n",
       "      <td>g</td>\n",
       "      <td>00140</td>\n",
       "      <td>0</td>\n",
       "      <td>-</td>\n",
       "    </tr>\n",
       "    <tr>\n",
       "      <th>542</th>\n",
       "      <td>b</td>\n",
       "      <td>19.67</td>\n",
       "      <td>10.00</td>\n",
       "      <td>y</td>\n",
       "      <td>p</td>\n",
       "      <td>k</td>\n",
       "      <td>h</td>\n",
       "      <td>0.83</td>\n",
       "      <td>t</td>\n",
       "      <td>f</td>\n",
       "      <td>0</td>\n",
       "      <td>t</td>\n",
       "      <td>g</td>\n",
       "      <td>00140</td>\n",
       "      <td>0</td>\n",
       "      <td>-</td>\n",
       "    </tr>\n",
       "    <tr>\n",
       "      <th>327</th>\n",
       "      <td>?</td>\n",
       "      <td>40.83</td>\n",
       "      <td>3.50</td>\n",
       "      <td>u</td>\n",
       "      <td>g</td>\n",
       "      <td>i</td>\n",
       "      <td>bb</td>\n",
       "      <td>0.50</td>\n",
       "      <td>f</td>\n",
       "      <td>f</td>\n",
       "      <td>0</td>\n",
       "      <td>f</td>\n",
       "      <td>s</td>\n",
       "      <td>01160</td>\n",
       "      <td>0</td>\n",
       "      <td>-</td>\n",
       "    </tr>\n",
       "    <tr>\n",
       "      <th>39</th>\n",
       "      <td>b</td>\n",
       "      <td>54.58</td>\n",
       "      <td>9.41</td>\n",
       "      <td>u</td>\n",
       "      <td>g</td>\n",
       "      <td>ff</td>\n",
       "      <td>ff</td>\n",
       "      <td>14.41</td>\n",
       "      <td>t</td>\n",
       "      <td>t</td>\n",
       "      <td>11</td>\n",
       "      <td>t</td>\n",
       "      <td>g</td>\n",
       "      <td>00030</td>\n",
       "      <td>300</td>\n",
       "      <td>+</td>\n",
       "    </tr>\n",
       "    <tr>\n",
       "      <th>208</th>\n",
       "      <td>b</td>\n",
       "      <td>35.17</td>\n",
       "      <td>2.50</td>\n",
       "      <td>u</td>\n",
       "      <td>g</td>\n",
       "      <td>k</td>\n",
       "      <td>v</td>\n",
       "      <td>4.50</td>\n",
       "      <td>t</td>\n",
       "      <td>t</td>\n",
       "      <td>7</td>\n",
       "      <td>f</td>\n",
       "      <td>g</td>\n",
       "      <td>00150</td>\n",
       "      <td>1270</td>\n",
       "      <td>+</td>\n",
       "    </tr>\n",
       "  </tbody>\n",
       "</table>\n",
       "</div>"
      ],
      "text/plain": [
       "    0      1     2  3  4   5   6     7  8  9   10 11 12     13    14 15\n",
       "371  b  26.33 13.00  u  g   e  dd  0.00  f  f   0  t  g  00140  1110  -\n",
       "161  b  44.00  2.00  u  g   m   v  1.75  t  t   2  t  g  00000    15  +\n",
       "102  b  18.67  5.00  u  g   q   v  0.38  t  t   2  f  g  00000    38  -\n",
       "343  b  33.75  2.75  u  g   i  bb  0.00  f  f   0  f  g  00180     0  -\n",
       "280  b  21.17  0.88  y  p   c   h  0.25  f  f   0  f  g  00280   204  -\n",
       "272  b  18.08  6.75  y  p   m   v  0.04  f  f   0  f  g  00140     0  -\n",
       "542  b  19.67 10.00  y  p   k   h  0.83  t  f   0  t  g  00140     0  -\n",
       "327  ?  40.83  3.50  u  g   i  bb  0.50  f  f   0  f  s  01160     0  -\n",
       "39   b  54.58  9.41  u  g  ff  ff 14.41  t  t  11  t  g  00030   300  +\n",
       "208  b  35.17  2.50  u  g   k   v  4.50  t  t   7  f  g  00150  1270  +"
      ]
     },
     "execution_count": 3,
     "metadata": {},
     "output_type": "execute_result"
    }
   ],
   "source": [
    "# Load dataset\n",
    "cc_apps = pd.read_csv(\"datasets/cc_approvals.data\", header=None)\n",
    "\n",
    "# Inspect data\n",
    "cc_apps.sample(10)"
   ]
  },
  {
   "cell_type": "markdown",
   "id": "49dcd5e6",
   "metadata": {},
   "source": [
    "**Inspecting the applications**\n",
    "<p>The features of this dataset have been anonymized to protect the privacy, but the probable features in a typical credit card application are 'Gender', 'Age', 'Debt', 'Married', 'BankCustomer', 'EducationLevel', 'Ethnicity', 'YearsEmployed', 'PriorDefault', 'Employed', 'CreditScore', 'DriversLicense', 'Citizen', 'ZipCode', 'Income' and finally the 'ApprovalStatus'. I'll use these features to rename the columns.</p>"
   ]
  },
  {
   "cell_type": "code",
   "execution_count": 4,
   "id": "e8f336f0",
   "metadata": {},
   "outputs": [],
   "source": [
    "cc_apps.columns = ['Gender', 'Age', 'Debt', 'Married', 'BankCustomer', 'EducationLevel', 'Ethnicity', \n",
    "                   'YearsEmployed', 'PriorDefault', 'Employed', 'CreditScore', 'DriversLicense',\n",
    "                   'Citizen', 'ZipCode', 'Income', 'Stat Approvalus']"
   ]
  },
  {
   "cell_type": "code",
   "execution_count": 5,
   "id": "85a3fd77",
   "metadata": {},
   "outputs": [
    {
     "data": {
      "text/html": [
       "<div>\n",
       "<style scoped>\n",
       "    .dataframe tbody tr th:only-of-type {\n",
       "        vertical-align: middle;\n",
       "    }\n",
       "\n",
       "    .dataframe tbody tr th {\n",
       "        vertical-align: top;\n",
       "    }\n",
       "\n",
       "    .dataframe thead th {\n",
       "        text-align: right;\n",
       "    }\n",
       "</style>\n",
       "<table border=\"1\" class=\"dataframe\">\n",
       "  <thead>\n",
       "    <tr style=\"text-align: right;\">\n",
       "      <th></th>\n",
       "      <th>Gender</th>\n",
       "      <th>Age</th>\n",
       "      <th>Debt</th>\n",
       "      <th>Married</th>\n",
       "      <th>BankCustomer</th>\n",
       "      <th>EducationLevel</th>\n",
       "      <th>Ethnicity</th>\n",
       "      <th>YearsEmployed</th>\n",
       "      <th>PriorDefault</th>\n",
       "      <th>Employed</th>\n",
       "      <th>CreditScore</th>\n",
       "      <th>DriversLicense</th>\n",
       "      <th>Citizen</th>\n",
       "      <th>ZipCode</th>\n",
       "      <th>Income</th>\n",
       "      <th>Stat Approvalus</th>\n",
       "    </tr>\n",
       "  </thead>\n",
       "  <tbody>\n",
       "    <tr>\n",
       "      <th>0</th>\n",
       "      <td>b</td>\n",
       "      <td>30.83</td>\n",
       "      <td>0.00</td>\n",
       "      <td>u</td>\n",
       "      <td>g</td>\n",
       "      <td>w</td>\n",
       "      <td>v</td>\n",
       "      <td>1.25</td>\n",
       "      <td>t</td>\n",
       "      <td>t</td>\n",
       "      <td>1</td>\n",
       "      <td>f</td>\n",
       "      <td>g</td>\n",
       "      <td>00202</td>\n",
       "      <td>0</td>\n",
       "      <td>+</td>\n",
       "    </tr>\n",
       "    <tr>\n",
       "      <th>1</th>\n",
       "      <td>a</td>\n",
       "      <td>58.67</td>\n",
       "      <td>4.46</td>\n",
       "      <td>u</td>\n",
       "      <td>g</td>\n",
       "      <td>q</td>\n",
       "      <td>h</td>\n",
       "      <td>3.04</td>\n",
       "      <td>t</td>\n",
       "      <td>t</td>\n",
       "      <td>6</td>\n",
       "      <td>f</td>\n",
       "      <td>g</td>\n",
       "      <td>00043</td>\n",
       "      <td>560</td>\n",
       "      <td>+</td>\n",
       "    </tr>\n",
       "    <tr>\n",
       "      <th>2</th>\n",
       "      <td>a</td>\n",
       "      <td>24.50</td>\n",
       "      <td>0.50</td>\n",
       "      <td>u</td>\n",
       "      <td>g</td>\n",
       "      <td>q</td>\n",
       "      <td>h</td>\n",
       "      <td>1.50</td>\n",
       "      <td>t</td>\n",
       "      <td>f</td>\n",
       "      <td>0</td>\n",
       "      <td>f</td>\n",
       "      <td>g</td>\n",
       "      <td>00280</td>\n",
       "      <td>824</td>\n",
       "      <td>+</td>\n",
       "    </tr>\n",
       "    <tr>\n",
       "      <th>3</th>\n",
       "      <td>b</td>\n",
       "      <td>27.83</td>\n",
       "      <td>1.54</td>\n",
       "      <td>u</td>\n",
       "      <td>g</td>\n",
       "      <td>w</td>\n",
       "      <td>v</td>\n",
       "      <td>3.75</td>\n",
       "      <td>t</td>\n",
       "      <td>t</td>\n",
       "      <td>5</td>\n",
       "      <td>t</td>\n",
       "      <td>g</td>\n",
       "      <td>00100</td>\n",
       "      <td>3</td>\n",
       "      <td>+</td>\n",
       "    </tr>\n",
       "    <tr>\n",
       "      <th>4</th>\n",
       "      <td>b</td>\n",
       "      <td>20.17</td>\n",
       "      <td>5.62</td>\n",
       "      <td>u</td>\n",
       "      <td>g</td>\n",
       "      <td>w</td>\n",
       "      <td>v</td>\n",
       "      <td>1.71</td>\n",
       "      <td>t</td>\n",
       "      <td>f</td>\n",
       "      <td>0</td>\n",
       "      <td>f</td>\n",
       "      <td>s</td>\n",
       "      <td>00120</td>\n",
       "      <td>0</td>\n",
       "      <td>+</td>\n",
       "    </tr>\n",
       "  </tbody>\n",
       "</table>\n",
       "</div>"
      ],
      "text/plain": [
       "  Gender    Age  Debt Married BankCustomer EducationLevel Ethnicity  \\\n",
       "0      b  30.83  0.00       u            g              w         v   \n",
       "1      a  58.67  4.46       u            g              q         h   \n",
       "2      a  24.50  0.50       u            g              q         h   \n",
       "3      b  27.83  1.54       u            g              w         v   \n",
       "4      b  20.17  5.62       u            g              w         v   \n",
       "\n",
       "   YearsEmployed PriorDefault Employed  CreditScore DriversLicense Citizen  \\\n",
       "0           1.25            t        t            1              f       g   \n",
       "1           3.04            t        t            6              f       g   \n",
       "2           1.50            t        f            0              f       g   \n",
       "3           3.75            t        t            5              t       g   \n",
       "4           1.71            t        f            0              f       s   \n",
       "\n",
       "  ZipCode  Income Stat Approvalus  \n",
       "0   00202       0               +  \n",
       "1   00043     560               +  \n",
       "2   00280     824               +  \n",
       "3   00100       3               +  \n",
       "4   00120       0               +  "
      ]
     },
     "execution_count": 5,
     "metadata": {},
     "output_type": "execute_result"
    }
   ],
   "source": [
    "cc_apps.head()"
   ]
  },
  {
   "cell_type": "code",
   "execution_count": 6,
   "id": "08c4db6c-f590-4173-8986-1152afcf53bd",
   "metadata": {},
   "outputs": [
    {
     "name": "stdout",
     "output_type": "stream",
     "text": [
      "<class 'pandas.core.frame.DataFrame'>\n",
      "RangeIndex: 690 entries, 0 to 689\n",
      "Data columns (total 16 columns):\n",
      " #   Column           Non-Null Count  Dtype  \n",
      "---  ------           --------------  -----  \n",
      " 0   Gender           690 non-null    object \n",
      " 1   Age              690 non-null    object \n",
      " 2   Debt             690 non-null    float64\n",
      " 3   Married          690 non-null    object \n",
      " 4   BankCustomer     690 non-null    object \n",
      " 5   EducationLevel   690 non-null    object \n",
      " 6   Ethnicity        690 non-null    object \n",
      " 7   YearsEmployed    690 non-null    float64\n",
      " 8   PriorDefault     690 non-null    object \n",
      " 9   Employed         690 non-null    object \n",
      " 10  CreditScore      690 non-null    int64  \n",
      " 11  DriversLicense   690 non-null    object \n",
      " 12  Citizen          690 non-null    object \n",
      " 13  ZipCode          690 non-null    object \n",
      " 14  Income           690 non-null    int64  \n",
      " 15  Stat Approvalus  690 non-null    object \n",
      "dtypes: float64(2), int64(2), object(12)\n",
      "memory usage: 86.4+ KB\n",
      "None\n"
     ]
    }
   ],
   "source": [
    "# Print DataFrame information\n",
    "print(cc_apps.info())"
   ]
  },
  {
   "cell_type": "markdown",
   "id": "442c5f85",
   "metadata": {},
   "source": [
    "The dataset has a mixture of numerical and non-numerical features. This can be fixed with some preprocessing, but before I do that, I want to see if there are other dataset issues that need to be fixed."
   ]
  },
  {
   "cell_type": "code",
   "execution_count": 7,
   "id": "2f7153f6",
   "metadata": {},
   "outputs": [
    {
     "data": {
      "text/html": [
       "<div>\n",
       "<style scoped>\n",
       "    .dataframe tbody tr th:only-of-type {\n",
       "        vertical-align: middle;\n",
       "    }\n",
       "\n",
       "    .dataframe tbody tr th {\n",
       "        vertical-align: top;\n",
       "    }\n",
       "\n",
       "    .dataframe thead th {\n",
       "        text-align: right;\n",
       "    }\n",
       "</style>\n",
       "<table border=\"1\" class=\"dataframe\">\n",
       "  <thead>\n",
       "    <tr style=\"text-align: right;\">\n",
       "      <th></th>\n",
       "      <th>Debt</th>\n",
       "      <th>YearsEmployed</th>\n",
       "      <th>CreditScore</th>\n",
       "      <th>Income</th>\n",
       "    </tr>\n",
       "  </thead>\n",
       "  <tbody>\n",
       "    <tr>\n",
       "      <th>count</th>\n",
       "      <td>690.00</td>\n",
       "      <td>690.00</td>\n",
       "      <td>690.00</td>\n",
       "      <td>690.00</td>\n",
       "    </tr>\n",
       "    <tr>\n",
       "      <th>mean</th>\n",
       "      <td>4.76</td>\n",
       "      <td>2.22</td>\n",
       "      <td>2.40</td>\n",
       "      <td>1017.39</td>\n",
       "    </tr>\n",
       "    <tr>\n",
       "      <th>std</th>\n",
       "      <td>4.98</td>\n",
       "      <td>3.35</td>\n",
       "      <td>4.86</td>\n",
       "      <td>5210.10</td>\n",
       "    </tr>\n",
       "    <tr>\n",
       "      <th>min</th>\n",
       "      <td>0.00</td>\n",
       "      <td>0.00</td>\n",
       "      <td>0.00</td>\n",
       "      <td>0.00</td>\n",
       "    </tr>\n",
       "    <tr>\n",
       "      <th>25%</th>\n",
       "      <td>1.00</td>\n",
       "      <td>0.17</td>\n",
       "      <td>0.00</td>\n",
       "      <td>0.00</td>\n",
       "    </tr>\n",
       "    <tr>\n",
       "      <th>50%</th>\n",
       "      <td>2.75</td>\n",
       "      <td>1.00</td>\n",
       "      <td>0.00</td>\n",
       "      <td>5.00</td>\n",
       "    </tr>\n",
       "    <tr>\n",
       "      <th>75%</th>\n",
       "      <td>7.21</td>\n",
       "      <td>2.62</td>\n",
       "      <td>3.00</td>\n",
       "      <td>395.50</td>\n",
       "    </tr>\n",
       "    <tr>\n",
       "      <th>max</th>\n",
       "      <td>28.00</td>\n",
       "      <td>28.50</td>\n",
       "      <td>67.00</td>\n",
       "      <td>100000.00</td>\n",
       "    </tr>\n",
       "  </tbody>\n",
       "</table>\n",
       "</div>"
      ],
      "text/plain": [
       "        Debt  YearsEmployed  CreditScore    Income\n",
       "count 690.00         690.00       690.00    690.00\n",
       "mean    4.76           2.22         2.40   1017.39\n",
       "std     4.98           3.35         4.86   5210.10\n",
       "min     0.00           0.00         0.00      0.00\n",
       "25%     1.00           0.17         0.00      0.00\n",
       "50%     2.75           1.00         0.00      5.00\n",
       "75%     7.21           2.62         3.00    395.50\n",
       "max    28.00          28.50        67.00 100000.00"
      ]
     },
     "execution_count": 7,
     "metadata": {},
     "output_type": "execute_result"
    }
   ],
   "source": [
    "# Print summary statistics for numeric data\n",
    "cc_apps.describe(include='number')"
   ]
  },
  {
   "cell_type": "code",
   "execution_count": 8,
   "id": "25fcee9c-2e4b-4f85-8619-4e02c4b58200",
   "metadata": {},
   "outputs": [
    {
     "data": {
      "text/html": [
       "<div>\n",
       "<style scoped>\n",
       "    .dataframe tbody tr th:only-of-type {\n",
       "        vertical-align: middle;\n",
       "    }\n",
       "\n",
       "    .dataframe tbody tr th {\n",
       "        vertical-align: top;\n",
       "    }\n",
       "\n",
       "    .dataframe thead th {\n",
       "        text-align: right;\n",
       "    }\n",
       "</style>\n",
       "<table border=\"1\" class=\"dataframe\">\n",
       "  <thead>\n",
       "    <tr style=\"text-align: right;\">\n",
       "      <th></th>\n",
       "      <th>Gender</th>\n",
       "      <th>Age</th>\n",
       "      <th>Married</th>\n",
       "      <th>BankCustomer</th>\n",
       "      <th>EducationLevel</th>\n",
       "      <th>Ethnicity</th>\n",
       "      <th>PriorDefault</th>\n",
       "      <th>Employed</th>\n",
       "      <th>DriversLicense</th>\n",
       "      <th>Citizen</th>\n",
       "      <th>ZipCode</th>\n",
       "      <th>Stat Approvalus</th>\n",
       "    </tr>\n",
       "  </thead>\n",
       "  <tbody>\n",
       "    <tr>\n",
       "      <th>count</th>\n",
       "      <td>690</td>\n",
       "      <td>690</td>\n",
       "      <td>690</td>\n",
       "      <td>690</td>\n",
       "      <td>690</td>\n",
       "      <td>690</td>\n",
       "      <td>690</td>\n",
       "      <td>690</td>\n",
       "      <td>690</td>\n",
       "      <td>690</td>\n",
       "      <td>690</td>\n",
       "      <td>690</td>\n",
       "    </tr>\n",
       "    <tr>\n",
       "      <th>unique</th>\n",
       "      <td>3</td>\n",
       "      <td>350</td>\n",
       "      <td>4</td>\n",
       "      <td>4</td>\n",
       "      <td>15</td>\n",
       "      <td>10</td>\n",
       "      <td>2</td>\n",
       "      <td>2</td>\n",
       "      <td>2</td>\n",
       "      <td>3</td>\n",
       "      <td>171</td>\n",
       "      <td>2</td>\n",
       "    </tr>\n",
       "    <tr>\n",
       "      <th>top</th>\n",
       "      <td>b</td>\n",
       "      <td>?</td>\n",
       "      <td>u</td>\n",
       "      <td>g</td>\n",
       "      <td>c</td>\n",
       "      <td>v</td>\n",
       "      <td>t</td>\n",
       "      <td>f</td>\n",
       "      <td>f</td>\n",
       "      <td>g</td>\n",
       "      <td>00000</td>\n",
       "      <td>-</td>\n",
       "    </tr>\n",
       "    <tr>\n",
       "      <th>freq</th>\n",
       "      <td>468</td>\n",
       "      <td>12</td>\n",
       "      <td>519</td>\n",
       "      <td>519</td>\n",
       "      <td>137</td>\n",
       "      <td>399</td>\n",
       "      <td>361</td>\n",
       "      <td>395</td>\n",
       "      <td>374</td>\n",
       "      <td>625</td>\n",
       "      <td>132</td>\n",
       "      <td>383</td>\n",
       "    </tr>\n",
       "  </tbody>\n",
       "</table>\n",
       "</div>"
      ],
      "text/plain": [
       "       Gender  Age Married BankCustomer EducationLevel Ethnicity PriorDefault  \\\n",
       "count     690  690     690          690            690       690          690   \n",
       "unique      3  350       4            4             15        10            2   \n",
       "top         b    ?       u            g              c         v            t   \n",
       "freq      468   12     519          519            137       399          361   \n",
       "\n",
       "       Employed DriversLicense Citizen ZipCode Stat Approvalus  \n",
       "count       690            690     690     690             690  \n",
       "unique        2              2       3     171               2  \n",
       "top           f              f       g   00000               -  \n",
       "freq        395            374     625     132             383  "
      ]
     },
     "execution_count": 8,
     "metadata": {},
     "output_type": "execute_result"
    }
   ],
   "source": [
    "# Print summary statistics for object data\n",
    "cc_apps.describe(include = 'object')"
   ]
  },
  {
   "cell_type": "code",
   "execution_count": 9,
   "id": "75aa99d3",
   "metadata": {},
   "outputs": [
    {
     "data": {
      "text/plain": [
       "Gender             0\n",
       "Age                0\n",
       "Debt               0\n",
       "Married            0\n",
       "BankCustomer       0\n",
       "EducationLevel     0\n",
       "Ethnicity          0\n",
       "YearsEmployed      0\n",
       "PriorDefault       0\n",
       "Employed           0\n",
       "CreditScore        0\n",
       "DriversLicense     0\n",
       "Citizen            0\n",
       "ZipCode            0\n",
       "Income             0\n",
       "Stat Approvalus    0\n",
       "dtype: int64"
      ]
     },
     "execution_count": 9,
     "metadata": {},
     "output_type": "execute_result"
    }
   ],
   "source": [
    "# Inspect missing values in the dataset\n",
    "cc_apps.isna().sum()"
   ]
  },
  {
   "cell_type": "code",
   "execution_count": 10,
   "id": "9d70de0e",
   "metadata": {},
   "outputs": [
    {
     "name": "stdout",
     "output_type": "stream",
     "text": [
      "Gender: ['b' 'a' '?']\n",
      "Married: ['u' 'y' '?' 'l']\n",
      "BankCustomer: ['g' 'p' '?' 'gg']\n",
      "EducationLevel: ['w' 'q' 'm' 'r' 'cc' 'k' 'c' 'd' 'x' 'i' 'e' 'aa' 'ff' 'j' '?']\n",
      "Ethnicity: ['v' 'h' 'bb' 'ff' 'j' 'z' '?' 'o' 'dd' 'n']\n",
      "PriorDefault: ['t' 'f']\n",
      "Employed: ['t' 'f']\n",
      "DriversLicense: ['f' 't']\n",
      "Citizen: ['g' 's' 'p']\n",
      "ZipCode: ['00202' '00043' '00280' '00100' '00120' '00360' '00164' '00080' '00180'\n",
      " '00052' '00128' '00260' '00000' '00320' '00396' '00096' '00200' '00300'\n",
      " '00145' '00500' '00168' '00434' '00583' '00030' '00240' '00070' '00455'\n",
      " '00311' '00216' '00491' '00400' '00239' '00160' '00711' '00250' '00520'\n",
      " '00515' '00420' '?' '00980' '00443' '00140' '00094' '00368' '00288'\n",
      " '00928' '00188' '00112' '00171' '00268' '00167' '00075' '00152' '00176'\n",
      " '00329' '00212' '00410' '00274' '00375' '00408' '00350' '00204' '00040'\n",
      " '00181' '00399' '00440' '00093' '00060' '00395' '00393' '00021' '00029'\n",
      " '00102' '00431' '00370' '00024' '00020' '00129' '00510' '00195' '00144'\n",
      " '00380' '00049' '00050' '00381' '00150' '00117' '00056' '00211' '00230'\n",
      " '00156' '00022' '00228' '00519' '00253' '00487' '00220' '00088' '00073'\n",
      " '00121' '00470' '00136' '00132' '00292' '00154' '00272' '00340' '00108'\n",
      " '00720' '00450' '00232' '00170' '01160' '00411' '00460' '00348' '00480'\n",
      " '00640' '00372' '00276' '00221' '00352' '00141' '00178' '00600' '00550'\n",
      " '02000' '00225' '00210' '00110' '00356' '00045' '00062' '00092' '00174'\n",
      " '00017' '00086' '00454' '00254' '00028' '00263' '00333' '00312' '00290'\n",
      " '00371' '00099' '00252' '00760' '00560' '00130' '00523' '00680' '00163'\n",
      " '00208' '00383' '00330' '00422' '00840' '00432' '00032' '00186' '00303'\n",
      " '00349' '00224' '00369' '00076' '00231' '00309' '00416' '00465' '00256']\n",
      "Stat Approvalus: ['+' '-']\n"
     ]
    }
   ],
   "source": [
    "# Inspect missing values from the 'object' data type columns\n",
    "objcol_name = cc_apps.select_dtypes(include= ['object']).drop(columns ='Age').columns\n",
    "for col in objcol_name:\n",
    "    print(f'{col}: {cc_apps[col].unique()}')"
   ]
  },
  {
   "cell_type": "markdown",
   "id": "749d3b7b",
   "metadata": {},
   "source": [
    "I identified some issues after I inspected the DataFrame, including:\n",
    "- the  dataset contains both numeric values (of types float64 and int64) and  non-numeric values (of types object). Age was categorized as object data type (and not float) as I would like, so I need to make it numeric.\n",
    "- the dataset also contains values from several ranges, some features have a value range of 0 - 28, some have a range of 2 - 67, and some have a range of 1017 - 100000. \n",
    "- the maximum value of CreditScore is 67, which is much higher than the mean value of 2.4, it is possible that there are some outliers in the data.\n",
    "- the dataset has missing values, the missing values in the dataset are labeled with '?'.\n",
    "- the min value of features 'Income' is 0, I need to check if these are missing values or if they are student loans.\n",
    "- the outcome values in Approved are '+' or '-' for whether credit had been granted or not, these character symbols aren’t meaningful as is, so I will need to transformed them turning the '+' to a '1' and the '-' to a '0'.\n",
    "- the ZipCode has to many values, I need to reduce their number by dividing the range of values into intervals, or bins."
   ]
  },
  {
   "cell_type": "code",
   "execution_count": 11,
   "id": "7d83088a",
   "metadata": {},
   "outputs": [
    {
     "data": {
      "text/plain": [
       "Gender             12\n",
       "Age                12\n",
       "Debt                0\n",
       "Married             6\n",
       "BankCustomer        6\n",
       "EducationLevel      9\n",
       "Ethnicity           9\n",
       "YearsEmployed       0\n",
       "PriorDefault        0\n",
       "Employed            0\n",
       "CreditScore         0\n",
       "DriversLicense      0\n",
       "Citizen             0\n",
       "ZipCode            13\n",
       "Income              0\n",
       "Stat Approvalus     0\n",
       "dtype: int64"
      ]
     },
     "execution_count": 11,
     "metadata": {},
     "output_type": "execute_result"
    }
   ],
   "source": [
    "# Temporarily replace missing value question marks with NaN\n",
    "cc_apps = cc_apps.replace('?', np.NaN)\n",
    "cc_apps = cc_apps.replace('?',  np.NaN)\n",
    "\n",
    "# Count the number of NaNs in the datasets and print the counts to verify\n",
    "cc_apps.isna().sum()"
   ]
  },
  {
   "cell_type": "code",
   "execution_count": 12,
   "id": "913afa53",
   "metadata": {},
   "outputs": [
    {
     "data": {
      "text/plain": [
       "dtype('float64')"
      ]
     },
     "execution_count": 12,
     "metadata": {},
     "output_type": "execute_result"
    }
   ],
   "source": [
    "# Convert Age to float data type\n",
    "cc_apps['Age'] = cc_apps['Age'].astype('float64')\n",
    "cc_apps['Age'].dtypes"
   ]
  },
  {
   "cell_type": "markdown",
   "id": "04843ad5-4ca2-4819-b843-ef6d15f7a012",
   "metadata": {},
   "source": [
    "**Handling the outliers from 'CreditScore' variable**\n",
    "\n",
    "First I will use a boxplot to see the distribution of the data and then I will use Z-score method to remove outliers."
   ]
  },
  {
   "cell_type": "code",
   "execution_count": 13,
   "id": "a0071bb5-0a7a-4f80-85a4-1facc0002887",
   "metadata": {},
   "outputs": [
    {
     "data": {
      "image/png": "[encoded data removed]",
      "text/plain": [
       "<Figure size 720x216 with 1 Axes>"
      ]
     },
     "metadata": {
      "needs_background": "light"
     },
     "output_type": "display_data"
    }
   ],
   "source": [
    "# Ploting a boxplot for the 'CreditScore'\n",
    "plt.figure(figsize = (10,3))\n",
    "sns.boxplot(data = cc_apps, x = 'CreditScore')\n",
    "plt.show()"
   ]
  },
  {
   "cell_type": "markdown",
   "id": "0b9bd1a2-051e-4b2d-83ff-8a65f3a0861d",
   "metadata": {},
   "source": [
    "Seems that there are  two outliers"
   ]
  },
  {
   "cell_type": "code",
   "execution_count": 14,
   "id": "4d9c3fb4-d310-40f6-be37-593aa70aa756",
   "metadata": {},
   "outputs": [
    {
     "data": {
      "text/plain": [
       "44     40\n",
       "121    67\n",
       "Name: CreditScore, dtype: int64"
      ]
     },
     "execution_count": 14,
     "metadata": {},
     "output_type": "execute_result"
    }
   ],
   "source": [
    "from scipy import stats\n",
    "#calculate the Z-score for each value in the 'CreditScore' column\n",
    "z_scores = stats.zscore(cc_apps['CreditScore'])\n",
    "#seting a threshold egal with std\n",
    "threshold = 4.86\n",
    "#Filter the outliers \n",
    "cc_apps[abs(z_scores) > threshold]['CreditScore']"
   ]
  },
  {
   "cell_type": "code",
   "execution_count": 15,
   "id": "137f004a-623a-416c-8404-0e97a319098c",
   "metadata": {},
   "outputs": [
    {
     "data": {
      "text/plain": [
       "23"
      ]
     },
     "execution_count": 15,
     "metadata": {},
     "output_type": "execute_result"
    }
   ],
   "source": [
    "# filter out the outliers from 'CreditScore' column\n",
    "cc_apps = cc_apps[abs(z_scores) < threshold]\n",
    "cc_apps['CreditScore'].max()"
   ]
  },
  {
   "cell_type": "markdown",
   "id": "960ab27f",
   "metadata": {},
   "source": [
    "**Handling the missing values from 'Age' column**\n",
    "\n",
    "I can see from the summary output that the Age variable has missing values that I’ll have to fill in. I could simply use the mean of all the existing values to do so. Another method would be to check the relationship among the numeric values and use a linear regression to fill them in. The table below shows the correlation between all of the variables. The diagonal correlation values equal 1.000 because each variable is perfectly correlated with itself. The largest value in the first row from first tabel is 0.39 meaning age is most closely correlated with YearsEmployed (linear correlation). Similarly the largest value in the last row fron second tabel is 0.43 meaning Income is mostly correlated with CreditScore (rank correlation)."
   ]
  },
  {
   "cell_type": "code",
   "execution_count": 16,
   "id": "292ed91c",
   "metadata": {},
   "outputs": [
    {
     "data": {
      "text/html": [
       "<div>\n",
       "<style scoped>\n",
       "    .dataframe tbody tr th:only-of-type {\n",
       "        vertical-align: middle;\n",
       "    }\n",
       "\n",
       "    .dataframe tbody tr th {\n",
       "        vertical-align: top;\n",
       "    }\n",
       "\n",
       "    .dataframe thead th {\n",
       "        text-align: right;\n",
       "    }\n",
       "</style>\n",
       "<table border=\"1\" class=\"dataframe\">\n",
       "  <thead>\n",
       "    <tr style=\"text-align: right;\">\n",
       "      <th></th>\n",
       "      <th>Age</th>\n",
       "      <th>Debt</th>\n",
       "      <th>YearsEmployed</th>\n",
       "      <th>CreditScore</th>\n",
       "      <th>Income</th>\n",
       "    </tr>\n",
       "  </thead>\n",
       "  <tbody>\n",
       "    <tr>\n",
       "      <th>Age</th>\n",
       "      <td>1.00</td>\n",
       "      <td>0.19</td>\n",
       "      <td>0.39</td>\n",
       "      <td>0.21</td>\n",
       "      <td>0.02</td>\n",
       "    </tr>\n",
       "    <tr>\n",
       "      <th>Debt</th>\n",
       "      <td>0.19</td>\n",
       "      <td>1.00</td>\n",
       "      <td>0.26</td>\n",
       "      <td>0.24</td>\n",
       "      <td>0.13</td>\n",
       "    </tr>\n",
       "    <tr>\n",
       "      <th>YearsEmployed</th>\n",
       "      <td>0.39</td>\n",
       "      <td>0.26</td>\n",
       "      <td>1.00</td>\n",
       "      <td>0.31</td>\n",
       "      <td>0.06</td>\n",
       "    </tr>\n",
       "    <tr>\n",
       "      <th>CreditScore</th>\n",
       "      <td>0.21</td>\n",
       "      <td>0.24</td>\n",
       "      <td>0.31</td>\n",
       "      <td>1.00</td>\n",
       "      <td>0.08</td>\n",
       "    </tr>\n",
       "    <tr>\n",
       "      <th>Income</th>\n",
       "      <td>0.02</td>\n",
       "      <td>0.13</td>\n",
       "      <td>0.06</td>\n",
       "      <td>0.08</td>\n",
       "      <td>1.00</td>\n",
       "    </tr>\n",
       "  </tbody>\n",
       "</table>\n",
       "</div>"
      ],
      "text/plain": [
       "               Age  Debt  YearsEmployed  CreditScore  Income\n",
       "Age           1.00  0.19           0.39         0.21    0.02\n",
       "Debt          0.19  1.00           0.26         0.24    0.13\n",
       "YearsEmployed 0.39  0.26           1.00         0.31    0.06\n",
       "CreditScore   0.21  0.24           0.31         1.00    0.08\n",
       "Income        0.02  0.13           0.06         0.08    1.00"
      ]
     },
     "execution_count": 16,
     "metadata": {},
     "output_type": "execute_result"
    }
   ],
   "source": [
    "cc_apps.corr(method = 'pearson')"
   ]
  },
  {
   "cell_type": "code",
   "execution_count": 17,
   "id": "2f1f061f-cdf9-4bfa-8236-9211a00acc91",
   "metadata": {},
   "outputs": [
    {
     "data": {
      "text/html": [
       "<div>\n",
       "<style scoped>\n",
       "    .dataframe tbody tr th:only-of-type {\n",
       "        vertical-align: middle;\n",
       "    }\n",
       "\n",
       "    .dataframe tbody tr th {\n",
       "        vertical-align: top;\n",
       "    }\n",
       "\n",
       "    .dataframe thead th {\n",
       "        text-align: right;\n",
       "    }\n",
       "</style>\n",
       "<table border=\"1\" class=\"dataframe\">\n",
       "  <thead>\n",
       "    <tr style=\"text-align: right;\">\n",
       "      <th></th>\n",
       "      <th>Age</th>\n",
       "      <th>Debt</th>\n",
       "      <th>YearsEmployed</th>\n",
       "      <th>CreditScore</th>\n",
       "      <th>Income</th>\n",
       "    </tr>\n",
       "  </thead>\n",
       "  <tbody>\n",
       "    <tr>\n",
       "      <th>Age</th>\n",
       "      <td>1.00</td>\n",
       "      <td>0.11</td>\n",
       "      <td>0.25</td>\n",
       "      <td>0.12</td>\n",
       "      <td>0.04</td>\n",
       "    </tr>\n",
       "    <tr>\n",
       "      <th>Debt</th>\n",
       "      <td>0.11</td>\n",
       "      <td>1.00</td>\n",
       "      <td>0.26</td>\n",
       "      <td>0.20</td>\n",
       "      <td>0.10</td>\n",
       "    </tr>\n",
       "    <tr>\n",
       "      <th>YearsEmployed</th>\n",
       "      <td>0.25</td>\n",
       "      <td>0.26</td>\n",
       "      <td>1.00</td>\n",
       "      <td>0.31</td>\n",
       "      <td>0.09</td>\n",
       "    </tr>\n",
       "    <tr>\n",
       "      <th>CreditScore</th>\n",
       "      <td>0.12</td>\n",
       "      <td>0.20</td>\n",
       "      <td>0.31</td>\n",
       "      <td>1.00</td>\n",
       "      <td>0.43</td>\n",
       "    </tr>\n",
       "    <tr>\n",
       "      <th>Income</th>\n",
       "      <td>0.04</td>\n",
       "      <td>0.10</td>\n",
       "      <td>0.09</td>\n",
       "      <td>0.43</td>\n",
       "      <td>1.00</td>\n",
       "    </tr>\n",
       "  </tbody>\n",
       "</table>\n",
       "</div>"
      ],
      "text/plain": [
       "               Age  Debt  YearsEmployed  CreditScore  Income\n",
       "Age           1.00  0.11           0.25         0.12    0.04\n",
       "Debt          0.11  1.00           0.26         0.20    0.10\n",
       "YearsEmployed 0.25  0.26           1.00         0.31    0.09\n",
       "CreditScore   0.12  0.20           0.31         1.00    0.43\n",
       "Income        0.04  0.10           0.09         0.43    1.00"
      ]
     },
     "execution_count": 17,
     "metadata": {},
     "output_type": "execute_result"
    }
   ],
   "source": [
    "cc_apps.corr(method = 'spearman')"
   ]
  },
  {
   "cell_type": "code",
   "execution_count": 18,
   "id": "f94aca08",
   "metadata": {},
   "outputs": [],
   "source": [
    "# Split the dataset into two parts: one with complete cases and another with missing values\n",
    "complete_cases = cc_apps.dropna()\n",
    "missing_cases = cc_apps[cc_apps['Age'].isnull()]"
   ]
  },
  {
   "cell_type": "code",
   "execution_count": 19,
   "id": "18b003c3",
   "metadata": {},
   "outputs": [
    {
     "name": "stdout",
     "output_type": "stream",
     "text": [
      "y_pred_Age mean: 32.00303770095201; cc_apps.Age mean: 31.540133136094678\n"
     ]
    }
   ],
   "source": [
    "# Use the complete cases to fit a linear regression model that predicts the missing variable \n",
    "X_Age = complete_cases[['YearsEmployed','CreditScore']].values\n",
    "y_Age = complete_cases['Age'].values\n",
    "reg_model = LinearRegression()\n",
    "reg_model.fit(X_Age, y_Age)\n",
    "\n",
    "# Use the fitted model to predict the missing values from the Age column\n",
    "X_missing_Age = missing_cases[['YearsEmployed','CreditScore']].values\n",
    "y_pred_Age = reg_model.predict(X_missing_Age)\n",
    "print(f'y_pred_Age mean: {y_pred_Age.mean()};', f'cc_apps.Age mean: {np.mean(cc_apps.Age)}')"
   ]
  },
  {
   "cell_type": "markdown",
   "id": "6123cac2-99e0-47ce-8683-c91a4704b1b1",
   "metadata": {},
   "source": [
    "I will perform a hypothesis test to determine if y_pred_Age is significantly different or not from the values from cc_apps.Age, I will use t-test, which compares the means of two arrays."
   ]
  },
  {
   "cell_type": "code",
   "execution_count": 20,
   "id": "5a82797e-4c30-4ec2-9c6c-f4674092016d",
   "metadata": {},
   "outputs": [
    {
     "name": "stdout",
     "output_type": "stream",
     "text": [
      "The y_pred_Age is not significantly different from the values from cc_apps.Age\n"
     ]
    }
   ],
   "source": [
    "# Set the null hypothesis: the y_pred_Age is not significantly different from the values from cc_apps.Age\n",
    "null_hypothesis = 'The y_pred_Age is not significantly different from the values from cc_apps.Age'\n",
    "\n",
    "# Set the significance level\n",
    "alpha = 0.05\n",
    "\n",
    "# Calculate the t-statistic and p-value for the hypothesis test\n",
    "t_statistic, p_value = stats.ttest_1samp(y_pred_Age, np.mean(cc_apps.Age))\n",
    "\n",
    "# Compare the p-value to the significance level\n",
    "if p_value > alpha:\n",
    "    print(null_hypothesis)\n",
    "else:\n",
    "    print(\"The y_pred_Age is significantly different from the values from cc_apps.Age\")"
   ]
  },
  {
   "cell_type": "code",
   "execution_count": 21,
   "id": "05fc4f1d",
   "metadata": {},
   "outputs": [
    {
     "data": {
      "text/plain": [
       "0"
      ]
     },
     "execution_count": 21,
     "metadata": {},
     "output_type": "execute_result"
    }
   ],
   "source": [
    "# Replace the missing values with the predicted values\n",
    "cc_apps.loc[cc_apps['Age'].isnull(), 'Age'] = y_pred_Age\n",
    "\n",
    "# Count the number of NaNs in the datasets and print the counts to verify\n",
    "cc_apps['Age'].isna().sum()"
   ]
  },
  {
   "cell_type": "markdown",
   "id": "4045a5a6-0aa6-446b-b30e-2a17e0b88549",
   "metadata": {},
   "source": [
    "**Handling the missing values from Gender, Married, BankCustomer, EducationLevel, Ethnicity and ZipCode columns**\n",
    "\n",
    "I take care of the missing values present in the numeric columns. There are still some missing values to be imputed for columns Gender, Married, BankCustomer, EducationLevel, Ethnicity and ZipCode. I am going to impute these missing values with the most frequent values as present in the respective columns. "
   ]
  },
  {
   "cell_type": "code",
   "execution_count": 22,
   "id": "414ea400-2e83-4b24-99be-7b705c52ed9c",
   "metadata": {},
   "outputs": [
    {
     "data": {
      "text/plain": [
       "Gender             0\n",
       "Age                0\n",
       "Debt               0\n",
       "Married            0\n",
       "BankCustomer       0\n",
       "EducationLevel     0\n",
       "Ethnicity          0\n",
       "YearsEmployed      0\n",
       "PriorDefault       0\n",
       "Employed           0\n",
       "CreditScore        0\n",
       "DriversLicense     0\n",
       "Citizen            0\n",
       "ZipCode            0\n",
       "Income             0\n",
       "Stat Approvalus    0\n",
       "dtype: int64"
      ]
     },
     "execution_count": 22,
     "metadata": {},
     "output_type": "execute_result"
    }
   ],
   "source": [
    "# Iterate over each object type column of cc_apps\n",
    "cat_col = cc_apps.select_dtypes(include =['object']).columns\n",
    "for col in cat_col:\n",
    "    # find the most frequent value\n",
    "    most_frequent_gender = cc_apps[col].mode()[0]\n",
    "    # fill missing values with the most frequent value\n",
    "    cc_apps[col].fillna(most_frequent_gender, inplace=True)\n",
    "        \n",
    "# Count the number of NaNs in the dataset and print the counts to verify\n",
    "cc_apps.isna().sum()"
   ]
  },
  {
   "cell_type": "markdown",
   "id": "81a04b24-3ae8-490d-80fd-e5889aa87db5",
   "metadata": {},
   "source": [
    "**Handling the missing values from 'Income' column**\n",
    "\n",
    "I can see from the summary output that the min value of features 'Income' is 0, I need to check if these are missing values or if they are loans for tuition fees."
   ]
  },
  {
   "cell_type": "code",
   "execution_count": 23,
   "id": "13c3f628-3211-4adb-b605-8b96bbb62341",
   "metadata": {},
   "outputs": [
    {
     "data": {
      "text/plain": [
       "(0, 100000)"
      ]
     },
     "execution_count": 23,
     "metadata": {},
     "output_type": "execute_result"
    }
   ],
   "source": [
    "# Checking the Income min and max values \n",
    "cc_apps['Income'].min(), cc_apps['Income'].max()"
   ]
  },
  {
   "cell_type": "code",
   "execution_count": 24,
   "id": "f94a31d6-7136-4d55-9f12-0ce4b2cbb4fa",
   "metadata": {},
   "outputs": [
    {
     "data": {
      "text/plain": [
       "41"
      ]
     },
     "execution_count": 24,
     "metadata": {},
     "output_type": "execute_result"
    }
   ],
   "source": [
    "# Checking the number of records with age > 25, income equal to '0', employed equal with 't' and  approval status equal with '+'\n",
    "cc_apps_filter = cc_apps[(cc_apps['Income'] == 0)\n",
    "                         & (cc_apps['Employed'] == 't') \n",
    "                         & (cc_apps['Stat Approvalus'] == '+') \n",
    "                         & (cc_apps['Age'] > 25)]\n",
    "len(cc_apps_filter)"
   ]
  },
  {
   "cell_type": "markdown",
   "id": "81837f41-1fcf-4c9b-8838-b53ca2f34f6b",
   "metadata": {},
   "source": [
    "There are only 41 approved loans with 0 income, employed status being true, approval status being true and age > 25. I will leave the unapproved loans with missing income values as they are, the lack of income was probably the reason for the credit being denied, also I will leave the approved loans with missing income values with age < 25 as they are, perhaps these are loans for tuition fees. For the rest of the approved loans with missing income values with age > 25, I will use regression imputation to fill in the missing values. This time I will use a Decision tree algoritm because between Credit Score and Income it's seem to be a nonlinear relationship. But first, I will use a scatterplot to see if I can detect any nonlinear relationships between Credit Score and the other numerical variables and then I want to check if there is a relationship between Income and education level."
   ]
  },
  {
   "cell_type": "code",
   "execution_count": 25,
   "id": "fc1d7ba1-1ddc-4e50-937c-507b915b0dac",
   "metadata": {},
   "outputs": [
    {
     "data": {
      "image/png": "[encoded data removed]",
      "text/plain": [
       "<Figure size 720x216 with 1 Axes>"
      ]
     },
     "metadata": {
      "needs_background": "light"
     },
     "output_type": "display_data"
    }
   ],
   "source": [
    "# Ploting a boxplot for the 'CreditScore'\n",
    "plt.figure(figsize = (10,3))\n",
    "sns.boxplot(data = cc_apps, x = 'Income')\n",
    "plt.xscale('log')\n",
    "plt.show()"
   ]
  },
  {
   "cell_type": "code",
   "execution_count": 26,
   "id": "b625da3b-608a-48c7-96b0-625574ff737d",
   "metadata": {},
   "outputs": [
    {
     "data": {
      "image/png": "[encoded data removed]",
      "text/plain": [
       "<Figure size 432x216 with 1 Axes>"
      ]
     },
     "metadata": {
      "needs_background": "light"
     },
     "output_type": "display_data"
    },
    {
     "data": {
      "image/png": "[encoded data removed]",
      "text/plain": [
       "<Figure size 432x216 with 1 Axes>"
      ]
     },
     "metadata": {
      "needs_background": "light"
     },
     "output_type": "display_data"
    },
    {
     "data": {
      "image/png": "[encoded data removed]",
      "text/plain": [
       "<Figure size 432x216 with 1 Axes>"
      ]
     },
     "metadata": {
      "needs_background": "light"
     },
     "output_type": "display_data"
    },
    {
     "data": {
      "image/png": "[encoded data removed]",
      "text/plain": [
       "<Figure size 432x216 with 1 Axes>"
      ]
     },
     "metadata": {
      "needs_background": "light"
     },
     "output_type": "display_data"
    }
   ],
   "source": [
    "# Ploting a lmplot for the 'Income' vs the other numerical variables\n",
    "num_col = cc_apps.select_dtypes(include =['float', 'int']).columns\n",
    "for col in num_col.drop('Income'):\n",
    "    sns.lmplot(data = cc_apps, x = col, y ='Income', lowess=True, height=3, aspect=2, \n",
    "               line_kws={'color' : 'black'}).set(title = f'The scatterplot between Income and {col}')\n",
    "    plt.xscale('log')\n",
    "    plt.yscale('log')\n",
    "plt.show()"
   ]
  },
  {
   "cell_type": "markdown",
   "id": "0bf3fbb9-32c7-41f2-8e4b-f88372fab99f",
   "metadata": {},
   "source": [
    "It seems that Income  are some nonlinear relationships with Credit Score, Years Employed and Debt, so I  will use and this three variable to predict the missing values from Income variable."
   ]
  },
  {
   "cell_type": "code",
   "execution_count": 27,
   "id": "ebd409d2-fe96-4ecf-be09-771f98c24750",
   "metadata": {},
   "outputs": [
    {
     "data": {
      "image/png": "[encoded data removed]",
      "text/plain": [
       "<Figure size 576x288 with 1 Axes>"
      ]
     },
     "metadata": {
      "needs_background": "light"
     },
     "output_type": "display_data"
    }
   ],
   "source": [
    "# Ploting a boxplot the 'EducationLevel' vs 'Income' to check if the Income is different for different levels of education\n",
    "plt.figure( figsize = (8,4))\n",
    "sns.boxplot(data = cc_apps, y = 'EducationLevel', x ='Income')\n",
    "plt.xscale('log')\n",
    "plt.show()"
   ]
  },
  {
   "cell_type": "markdown",
   "id": "4522043d-a873-43c7-b93d-7a084e51e29c",
   "metadata": {},
   "source": [
    "We see that the Income is different for different levels of education. But to see if they are significantly different, we'll need to use hypothesis tests. I will perform an ANOVA test to see  if they are significantly different.  ANOVA tests determine whether there are differences between the groups. The null hypothesis is that: \"EducationLevel and Approved variables are independent\". I set the significance level to 0.05. "
   ]
  },
  {
   "cell_type": "code",
   "execution_count": 28,
   "id": "9f6c777a-0de0-4d18-9df1-f16ff1680518",
   "metadata": {},
   "outputs": [
    {
     "name": "stdout",
     "output_type": "stream",
     "text": [
      "0.05296067585713951\n"
     ]
    }
   ],
   "source": [
    "# Extract the numerical values for each group.\n",
    "grouped_data = cc_apps.groupby('EducationLevel')\n",
    "grouped_vals = [group[1]['Income'] for group in grouped_data]\n",
    "\n",
    "# perform the ANOVA test using f_oneway() function from the scipy.stats\n",
    "f_statistic, p_value = stats.f_oneway(*grouped_vals) # function takes in the grouped numerical values as arguments \n",
    "                                                     # using the * syntax to unpack the list of values\n",
    "print(p_value)"
   ]
  },
  {
   "cell_type": "markdown",
   "id": "81325c82-dd89-4ba7-81a6-5303bfc129e0",
   "metadata": {},
   "source": [
    "The p-value is 0.0529, which is higher than alpha at 0.5, this mean that I failed to reject the null hypothesis and that I can conclude that there is not a statistically significant difference between the groups. The EducationLevel and Approved variables are independent."
   ]
  },
  {
   "cell_type": "code",
   "execution_count": 29,
   "id": "187e4491-8b66-4f4c-8cb5-9309543d0496",
   "metadata": {},
   "outputs": [],
   "source": [
    "# Convert the EducationLevel feature and split the dataset into two parts: one with complete cases and another with missing values\n",
    "complete_cases_inc = cc_apps[cc_apps['Income'] != 0]\n",
    "missing_cases_inc = cc_apps[(cc_apps['Income'] == 0)\n",
    "                         & (cc_apps['Employed'] == 't') \n",
    "                         & (cc_apps['Stat Approvalus'] == '+') \n",
    "                         & (cc_apps['Age'] > 25)]"
   ]
  },
  {
   "cell_type": "code",
   "execution_count": 30,
   "id": "9425a26b-7bf9-4cb0-8aac-ae4720e8ee3e",
   "metadata": {},
   "outputs": [
    {
     "data": {
      "text/plain": [
       "((393, 3), (393,), (41, 3))"
      ]
     },
     "execution_count": 30,
     "metadata": {},
     "output_type": "execute_result"
    }
   ],
   "source": [
    "X_inc = complete_cases_inc[['Debt', 'CreditScore', 'YearsEmployed']]\n",
    "y_inc = complete_cases_inc['Income'].values\n",
    "\n",
    "X_missing_inc = missing_cases_inc[['Debt', 'CreditScore', 'YearsEmployed']]\n",
    "X_inc.shape, y_inc.shape, X_missing_inc.shape"
   ]
  },
  {
   "cell_type": "code",
   "execution_count": 31,
   "id": "fee9e437-05b4-43fe-a5d3-33214be3d2f8",
   "metadata": {},
   "outputs": [
    {
     "name": "stdout",
     "output_type": "stream",
     "text": [
      "y_pred_inc mean: 1278.0; cc_apps.Income mean: 1019.9462209302326\n"
     ]
    }
   ],
   "source": [
    "# Use the complete cases to fit a Decision Tree Regressor model that predicts the missing variable \n",
    "dtr_model = DecisionTreeRegressor(random_state=12)\n",
    "dtr_model.fit(X_inc, y_inc)\n",
    "\n",
    "# Use the fitted model to predict the missing values from the Income column\n",
    "y_pred_inc = dtr_model.predict(X_missing_inc)\n",
    "print(f'y_pred_inc mean: {y_pred_inc.mean()};', f\"cc_apps.Income mean: {np.mean(cc_apps['Income'])}\")"
   ]
  },
  {
   "cell_type": "code",
   "execution_count": 32,
   "id": "0752558a-9d78-4e28-8758-ad7c7a8dffd9",
   "metadata": {},
   "outputs": [
    {
     "name": "stdout",
     "output_type": "stream",
     "text": [
      "The y_pred_inc is not significantly different from the values from cc_apps.Income\n"
     ]
    }
   ],
   "source": [
    "#Set the null hypothesis: \n",
    "null_hypothesis = 'The y_pred_inc is not significantly different from the values from cc_apps.Income'\n",
    "\n",
    "# Set the significance level\n",
    "alpha = 0.05\n",
    "\n",
    "# Calculate the t-statistic and p-value for the hypothesis test\n",
    "t_statistic, p_value = stats.ttest_1samp(y_pred_inc, np.mean(cc_apps['Income']))\n",
    "\n",
    "# Compare the p-value to the significance level\n",
    "if p_value > alpha:\n",
    "    print(null_hypothesis)\n",
    "else:\n",
    "    print(\"The y_pred_inc is significantly different from the values from cc_apps.Income\")"
   ]
  },
  {
   "cell_type": "code",
   "execution_count": 33,
   "id": "ae1571f5-cdc0-4f13-9c24-1d848009852c",
   "metadata": {},
   "outputs": [],
   "source": [
    "# Replace the missing values with the predicted values\n",
    "cc_apps.loc[(cc_apps['Income'] == 0) \n",
    "        & (cc_apps['Employed'] == 't') \n",
    "        & (cc_apps['Stat Approvalus'] == '+') \n",
    "        & (cc_apps['Age'] > 25), 'Income'] = y_pred_inc"
   ]
  },
  {
   "cell_type": "code",
   "execution_count": 34,
   "id": "e5bb469e-792d-4215-bd3e-5d47f54b9fca",
   "metadata": {},
   "outputs": [
    {
     "data": {
      "text/html": [
       "<div>\n",
       "<style scoped>\n",
       "    .dataframe tbody tr th:only-of-type {\n",
       "        vertical-align: middle;\n",
       "    }\n",
       "\n",
       "    .dataframe tbody tr th {\n",
       "        vertical-align: top;\n",
       "    }\n",
       "\n",
       "    .dataframe thead th {\n",
       "        text-align: right;\n",
       "    }\n",
       "</style>\n",
       "<table border=\"1\" class=\"dataframe\">\n",
       "  <thead>\n",
       "    <tr style=\"text-align: right;\">\n",
       "      <th></th>\n",
       "      <th></th>\n",
       "      <th>Max Age</th>\n",
       "      <th>No. of applications</th>\n",
       "    </tr>\n",
       "    <tr>\n",
       "      <th>Stat Approvalus</th>\n",
       "      <th>Employed</th>\n",
       "      <th></th>\n",
       "      <th></th>\n",
       "    </tr>\n",
       "  </thead>\n",
       "  <tbody>\n",
       "    <tr>\n",
       "      <th rowspan=\"2\" valign=\"top\">+</th>\n",
       "      <th>f</th>\n",
       "      <td>73.42</td>\n",
       "      <td>61</td>\n",
       "    </tr>\n",
       "    <tr>\n",
       "      <th>t</th>\n",
       "      <td>23.50</td>\n",
       "      <td>11</td>\n",
       "    </tr>\n",
       "    <tr>\n",
       "      <th rowspan=\"2\" valign=\"top\">-</th>\n",
       "      <th>f</th>\n",
       "      <td>69.50</td>\n",
       "      <td>173</td>\n",
       "    </tr>\n",
       "    <tr>\n",
       "      <th>t</th>\n",
       "      <td>63.33</td>\n",
       "      <td>9</td>\n",
       "    </tr>\n",
       "  </tbody>\n",
       "</table>\n",
       "</div>"
      ],
      "text/plain": [
       "                          Max Age  No. of applications\n",
       "Stat Approvalus Employed                              \n",
       "+               f           73.42                   61\n",
       "                t           23.50                   11\n",
       "-               f           69.50                  173\n",
       "                t           63.33                    9"
      ]
     },
     "execution_count": 34,
     "metadata": {},
     "output_type": "execute_result"
    }
   ],
   "source": [
    "# Check the maximum age of approved applications without income\n",
    "cc_apps[cc_apps['Income'] == 0].groupby(['Stat Approvalus', 'Employed']).agg({'Age':'max', 'Stat Approvalus': 'count'}).rename(\n",
    "                                                        columns = {'Age': 'Max Age', 'Stat Approvalus': 'No. of applications'})"
   ]
  },
  {
   "cell_type": "code",
   "execution_count": 35,
   "id": "8d4502f5-7233-4599-a8a7-97f290b0ffd0",
   "metadata": {},
   "outputs": [
    {
     "data": {
      "text/plain": [
       "(0, 100000)"
      ]
     },
     "execution_count": 35,
     "metadata": {},
     "output_type": "execute_result"
    }
   ],
   "source": [
    "# Convert Income  to int16in order to reduce the memory usage\n",
    "cc_apps['Income'].min(), cc_apps['Income'].max()"
   ]
  },
  {
   "cell_type": "code",
   "execution_count": 36,
   "id": "7e2df401",
   "metadata": {},
   "outputs": [
    {
     "name": "stdout",
     "output_type": "stream",
     "text": [
      "0    383\n",
      "1    305\n",
      "Name: Stat Approvalus, dtype: int64 category\n"
     ]
    }
   ],
   "source": [
    "# Turning the '+' to a '1' and the '-' to a '0' in the 'Stat Approvalus' columns\n",
    "maping = {'-': 0, '+':1}\n",
    "cc_apps['Stat Approvalus'] = cc_apps['Stat Approvalus'].replace(maping) \n",
    "\n",
    "# Change the data type  to 'category'\n",
    "cc_apps['Stat Approvalus'] = cc_apps['Stat Approvalus'].astype('category')\n",
    "print(cc_apps['Stat Approvalus'].value_counts(), cc_apps['Stat Approvalus'].dtype)"
   ]
  },
  {
   "cell_type": "code",
   "execution_count": 37,
   "id": "f91e2da0-32cc-4fc4-bf17-ff5b16fbbece",
   "metadata": {},
   "outputs": [
    {
     "data": {
      "text/plain": [
       "array(['002', '000', '001', '003', '005', '004', '007', '009', '011',\n",
       "       '006', '020', '008'], dtype=object)"
      ]
     },
     "execution_count": 37,
     "metadata": {},
     "output_type": "execute_result"
    }
   ],
   "source": [
    "# Reducing the number of Zip Code values, I will keep only first three digits\n",
    "cc_apps['ZipCode'] = cc_apps['ZipCode'].apply(lambda x: str(x)[0:3])\n",
    "cc_apps['ZipCode'].unique()"
   ]
  },
  {
   "cell_type": "markdown",
   "id": "19707562",
   "metadata": {},
   "source": [
    "## 3. Exploratory Analysis"
   ]
  },
  {
   "cell_type": "markdown",
   "id": "52e0643e-267b-4694-a84b-7206a0a24c13",
   "metadata": {},
   "source": [
    "I will look at the distribution of the numerical variables and I will compare the credit status by value of this variables."
   ]
  },
  {
   "cell_type": "code",
   "execution_count": 38,
   "id": "ea8ca9bd-bd33-475a-b7c9-8327fc50b17e",
   "metadata": {},
   "outputs": [
    {
     "data": {
      "image/png": "[encoded data removed]",
      "text/plain": [
       "<Figure size 1440x288 with 2 Axes>"
      ]
     },
     "metadata": {
      "needs_background": "light"
     },
     "output_type": "display_data"
    },
    {
     "data": {
      "image/png": "[encoded data removed]",
      "text/plain": [
       "<Figure size 1440x288 with 2 Axes>"
      ]
     },
     "metadata": {
      "needs_background": "light"
     },
     "output_type": "display_data"
    },
    {
     "data": {
      "image/png": "[encoded data removed]",
      "text/plain": [
       "<Figure size 1440x288 with 2 Axes>"
      ]
     },
     "metadata": {
      "needs_background": "light"
     },
     "output_type": "display_data"
    },
    {
     "data": {
      "image/png": "[encoded data removed]",
      "text/plain": [
       "<Figure size 1440x288 with 2 Axes>"
      ]
     },
     "metadata": {
      "needs_background": "light"
     },
     "output_type": "display_data"
    },
    {
     "data": {
      "image/png": "[encoded data removed]",
      "text/plain": [
       "<Figure size 1440x288 with 2 Axes>"
      ]
     },
     "metadata": {
      "needs_background": "light"
     },
     "output_type": "display_data"
    }
   ],
   "source": [
    "# Create a historgram and a boxplot of the numerical variable \n",
    "num_col = cc_apps.select_dtypes(include =['float', 'int']).columns\n",
    "for col in num_col:\n",
    "    fig, (ax0, ax1) = plt.subplots(nrows=1, ncols=2, sharey=False, sharex=False, figsize=(20,4))\n",
    "    sns.histplot(data =cc_apps, x=col, stat='count', kde=True,  \n",
    "             ax=ax0).set(title = f'The histogram of the {col}')\n",
    "    sns.boxplot(x=col, y=\"Stat Approvalus\", data = cc_apps, width = 0.5,\n",
    "            ax=ax1).set(title = f'The boxplot between {col} and \"Stat Approvalus\"')\n",
    "    ax0.axvline(x=cc_apps[col].mean(), label='Mean', linestyle='--')\n",
    "    fig.suptitle(f'The distribution of {col}')\n",
    "plt.show()"
   ]
  },
  {
   "cell_type": "markdown",
   "id": "db0097ec-52a9-41b6-a6af-4994c2c511e5",
   "metadata": {},
   "source": [
    "The first thing I  note is that the data is skewed to the right because the tail is longer, so I will change the x-axis to log scale."
   ]
  },
  {
   "cell_type": "code",
   "execution_count": 39,
   "id": "c06d3eab-548e-464d-933e-d1250cb87c16",
   "metadata": {},
   "outputs": [
    {
     "data": {
      "image/png": "[encoded data removed]",
      "text/plain": [
       "<Figure size 1440x288 with 2 Axes>"
      ]
     },
     "metadata": {
      "needs_background": "light"
     },
     "output_type": "display_data"
    },
    {
     "data": {
      "image/png": "[encoded data removed]",
      "text/plain": [
       "<Figure size 1440x288 with 2 Axes>"
      ]
     },
     "metadata": {
      "needs_background": "light"
     },
     "output_type": "display_data"
    },
    {
     "data": {
      "image/png": "[encoded data removed]",
      "text/plain": [
       "<Figure size 1440x288 with 2 Axes>"
      ]
     },
     "metadata": {
      "needs_background": "light"
     },
     "output_type": "display_data"
    },
    {
     "data": {
      "image/png": "[encoded data removed]",
      "text/plain": [
       "<Figure size 1440x288 with 2 Axes>"
      ]
     },
     "metadata": {
      "needs_background": "light"
     },
     "output_type": "display_data"
    },
    {
     "data": {
      "image/png": "[encoded data removed]",
      "text/plain": [
       "<Figure size 1440x288 with 2 Axes>"
      ]
     },
     "metadata": {
      "needs_background": "light"
     },
     "output_type": "display_data"
    }
   ],
   "source": [
    "# Create a historgram and a boxplot of the numerical variable with a log scale on the x axis\n",
    "for col in num_col:\n",
    "    fig, (ax0, ax1) = plt.subplots(nrows=1, ncols=2, sharey=False, sharex=False, figsize=(20,4))\n",
    "    sns.histplot(data = cc_apps, x=cc_apps[col]+1, stat='count', kde=True, log_scale = True,\n",
    "             ax=ax0).set(title = f'The histogram of the {col}')\n",
    "    sns.boxplot(x=col, y=\"Stat Approvalus\", data = cc_apps, width = 0.5, \n",
    "            ax=ax1).set(title = f'The boxplot between {col} and \"Stat Approvalus\"')\n",
    "    plt.xscale('log')\n",
    "    fig.suptitle(f'The distribution of {col}')\n",
    "plt.show()"
   ]
  },
  {
   "cell_type": "markdown",
   "id": "b9e36bd5-3e7b-4e1f-9e78-9af09260386b",
   "metadata": {},
   "source": [
    "- The boxplots seem to add more informational value now because for each dataset, the mean of the approved applications is further distributed from the mean of those denied. We can tell from the boxplot that the median of the values of the two approval status categories is slightly different for all five numerical features. We can conclude that our target variable is not independent of the numerical variables. We can interpret these facts as credit applicants with lower age, income, years employed, and credit score values being less likely to be granted credit. To check if our target variable is independent of the five numerical variables, I will use a t-test. The null hypothesis is that: \"The approval status and numerical variable are independent\". I will set the significance level to 0.05. "
   ]
  },
  {
   "cell_type": "code",
   "execution_count": 40,
   "id": "2e2cb45a-2c9d-444f-acb7-c6ccb6cdff5a",
   "metadata": {},
   "outputs": [
    {
     "name": "stdout",
     "output_type": "stream",
     "text": [
      "P_value for Stat Approvalus & Age: 2.109113520722153e-05\n",
      "P_value for Stat Approvalus & Debt: 1.206455097588652e-07\n",
      "P_value for Stat Approvalus & YearsEmployed: 1.8086548118629733e-18\n",
      "P_value for Stat Approvalus & CreditScore: 2.1541665576783883e-37\n",
      "P_value for Stat Approvalus & Income: 3.733752770248178e-07\n"
     ]
    }
   ],
   "source": [
    "import scipy.stats as stats\n",
    "for col in num_col:\n",
    "    # Split the data into two groups based on the binary variable\n",
    "    group1 = cc_apps[cc_apps['Stat Approvalus'] == 0][col]\n",
    "    group2 = cc_apps[cc_apps['Stat Approvalus'] == 1][col]\n",
    "\n",
    "    # Conduct a t-test to compare the means of the two groups\n",
    "    t_stat, p_value = stats.ttest_ind(group1, group2)\n",
    "\n",
    "    # Print the p-value\n",
    "    print(f\"P_value for Stat Approvalus & {col}: {p_value}\")"
   ]
  },
  {
   "cell_type": "markdown",
   "id": "3ede6ee9-4815-4621-89cd-a32b64aa13dc",
   "metadata": {},
   "source": [
    " The p-value is smaller than alpha at 0.5, that suggests that we can reject the null hypothesis."
   ]
  },
  {
   "cell_type": "markdown",
   "id": "431184f8-3761-4d8c-a8cf-a0a1f1da048d",
   "metadata": {},
   "source": [
    "**Ploting the distribution of categorical features to see if there is any correlation with the target feature 'Stat Approvalus'**"
   ]
  },
  {
   "cell_type": "code",
   "execution_count": 41,
   "id": "6708f393-4072-44be-835a-d8c7ef77ab69",
   "metadata": {},
   "outputs": [
    {
     "data": {
      "image/png": "[encoded data removed]",
      "text/plain": [
       "<Figure size 432x288 with 1 Axes>"
      ]
     },
     "metadata": {
      "needs_background": "light"
     },
     "output_type": "display_data"
    }
   ],
   "source": [
    "# Create a count plot of the target variable - owned\n",
    "g = sns.countplot(x=\"Stat Approvalus\", data=cc_apps)\n",
    "for p in g.patches:\n",
    "    height = f'{round(p.get_height()/len(cc_apps)*100)}%'\n",
    "    g.text(p.get_x()+p.get_width()/2., p.get_height() + 0.5, height, ha=\"center\")\n",
    "g.set_title('Graph 1 - Count of the target variable \"Stat Approvalus\"')\n",
    "plt.show()"
   ]
  },
  {
   "cell_type": "markdown",
   "id": "e2c08d02-4435-4d23-b7df-15993f48599c",
   "metadata": {},
   "source": [
    "From the plot above, we can see the proportion of the minority class (1) is about 44%. Therefore, the imbalanced class issue is mild, so I decided not to address this issue at this point."
   ]
  },
  {
   "cell_type": "code",
   "execution_count": 42,
   "id": "f8adb9ce-0994-4f54-b438-0d95ab3303a4",
   "metadata": {},
   "outputs": [
    {
     "data": {
      "image/png": "[encoded data removed]",
      "text/plain": [
       "<Figure size 864x216 with 1 Axes>"
      ]
     },
     "metadata": {
      "needs_background": "light"
     },
     "output_type": "display_data"
    },
    {
     "data": {
      "image/png": "[encoded data removed]",
      "text/plain": [
       "<Figure size 864x216 with 1 Axes>"
      ]
     },
     "metadata": {
      "needs_background": "light"
     },
     "output_type": "display_data"
    },
    {
     "data": {
      "image/png": "[encoded data removed]",
      "text/plain": [
       "<Figure size 864x216 with 1 Axes>"
      ]
     },
     "metadata": {
      "needs_background": "light"
     },
     "output_type": "display_data"
    },
    {
     "data": {
      "image/png": "[encoded data removed]",
      "text/plain": [
       "<Figure size 864x216 with 1 Axes>"
      ]
     },
     "metadata": {
      "needs_background": "light"
     },
     "output_type": "display_data"
    },
    {
     "data": {
      "image/png": "[encoded data removed]",
      "text/plain": [
       "<Figure size 864x216 with 1 Axes>"
      ]
     },
     "metadata": {
      "needs_background": "light"
     },
     "output_type": "display_data"
    },
    {
     "data": {
      "image/png": "[encoded data removed]",
      "text/plain": [
       "<Figure size 864x216 with 1 Axes>"
      ]
     },
     "metadata": {
      "needs_background": "light"
     },
     "output_type": "display_data"
    },
    {
     "data": {
      "image/png": "[encoded data removed]",
      "text/plain": [
       "<Figure size 864x216 with 1 Axes>"
      ]
     },
     "metadata": {
      "needs_background": "light"
     },
     "output_type": "display_data"
    },
    {
     "data": {
      "image/png": "[encoded data removed]",
      "text/plain": [
       "<Figure size 864x216 with 1 Axes>"
      ]
     },
     "metadata": {
      "needs_background": "light"
     },
     "output_type": "display_data"
    },
    {
     "data": {
      "image/png": "[encoded data removed]",
      "text/plain": [
       "<Figure size 864x216 with 1 Axes>"
      ]
     },
     "metadata": {
      "needs_background": "light"
     },
     "output_type": "display_data"
    },
    {
     "data": {
      "image/png": "[encoded data removed]",
      "text/plain": [
       "<Figure size 864x216 with 1 Axes>"
      ]
     },
     "metadata": {
      "needs_background": "light"
     },
     "output_type": "display_data"
    }
   ],
   "source": [
    "col_list = list(cat_col)\n",
    "col_list.remove(\"Stat Approvalus\")\n",
    "for col in col_list:\n",
    "    props = cc_apps.groupby(col)['Stat Approvalus'].value_counts(normalize=True)\n",
    "    wide_props = props.unstack()\n",
    "    wide_props.plot(kind=\"bar\", stacked=True, figsize=(12,3))\n",
    "    plt.suptitle(f'The countplot between {col} and \"Stat Approvalus\"')\n",
    "    plt.xticks(rotation = 360)\n",
    "    plt.ylabel('Percentage')\n",
    "plt.show()"
   ]
  },
  {
   "cell_type": "markdown",
   "id": "f6a9ed9c-5e6d-46c5-bb51-74a233929880",
   "metadata": {},
   "source": [
    "The count charts shown above may be challenging to interpret since the meaning of the categorical feature values is unknown. However, we can observe that the values for approved and unapproved loans vary across different categorical feature categories for 'Married',\n",
    "'BankCustomer', 'EducationLevel', 'Ethnicity',  'PriorDefault', 'Employed', 'Citizen' and  'ZipCode'. For example, if the 'Stat Approvalus' category was independent of the 'Employed' category, the split between the 'Employed' categories would be at the same height in each of the two bars. There's some variation here, but we'll need a chi-square independence test to determine whether it's a significant difference. The null hypothesis is that independence occurs. I will use a significance level of 0.05."
   ]
  },
  {
   "cell_type": "code",
   "execution_count": 43,
   "id": "3c49210b-60d9-46b7-a9d3-a68a979f66e9",
   "metadata": {},
   "outputs": [
    {
     "data": {
      "text/html": [
       "<div>\n",
       "<style scoped>\n",
       "    .dataframe tbody tr th:only-of-type {\n",
       "        vertical-align: middle;\n",
       "    }\n",
       "\n",
       "    .dataframe tbody tr th {\n",
       "        vertical-align: top;\n",
       "    }\n",
       "\n",
       "    .dataframe thead th {\n",
       "        text-align: right;\n",
       "    }\n",
       "</style>\n",
       "<table border=\"1\" class=\"dataframe\">\n",
       "  <thead>\n",
       "    <tr style=\"text-align: right;\">\n",
       "      <th>Stat Approvalus</th>\n",
       "      <th>0</th>\n",
       "      <th>1</th>\n",
       "    </tr>\n",
       "    <tr>\n",
       "      <th>Gender</th>\n",
       "      <th></th>\n",
       "      <th></th>\n",
       "    </tr>\n",
       "  </thead>\n",
       "  <tbody>\n",
       "    <tr>\n",
       "      <th>a</th>\n",
       "      <td>112</td>\n",
       "      <td>98</td>\n",
       "    </tr>\n",
       "    <tr>\n",
       "      <th>b</th>\n",
       "      <td>271</td>\n",
       "      <td>207</td>\n",
       "    </tr>\n",
       "  </tbody>\n",
       "</table>\n",
       "</div>"
      ],
      "text/plain": [
       "Stat Approvalus    0    1\n",
       "Gender                   \n",
       "a                112   98\n",
       "b                271  207"
      ]
     },
     "execution_count": 43,
     "metadata": {},
     "output_type": "execute_result"
    }
   ],
   "source": [
    "contingency_table = pd.crosstab(cc_apps['Gender'], cc_apps['Stat Approvalus'])\n",
    "contingency_table "
   ]
  },
  {
   "cell_type": "code",
   "execution_count": 44,
   "id": "0072d31b-e432-4529-98e7-18b78f949563",
   "metadata": {},
   "outputs": [
    {
     "name": "stdout",
     "output_type": "stream",
     "text": [
      "Gender: p_value = 0.46298181750475476\n",
      "There is no evidence that the 'Gender' and 'Stat Approvalus' are dependent. \n",
      "\n",
      "Married: p_value = 1.1336871445375786e-06\n",
      "There is evidence that the 'Married' and 'Stat Approvalus' are dependent. \n",
      "\n",
      "BankCustomer: p_value = 1.1336871445375786e-06\n",
      "There is evidence that the 'BankCustomer' and 'Stat Approvalus' are dependent. \n",
      "\n",
      "EducationLevel: p_value = 5.117158116175186e-15\n",
      "There is evidence that the 'EducationLevel' and 'Stat Approvalus' are dependent. \n",
      "\n",
      "Ethnicity: p_value = 3.300446908456564e-07\n",
      "There is evidence that the 'Ethnicity' and 'Stat Approvalus' are dependent. \n",
      "\n",
      "PriorDefault: p_value = 7.960818675045115e-79\n",
      "There is evidence that the 'PriorDefault' and 'Stat Approvalus' are dependent. \n",
      "\n",
      "Employed: p_value = 1.3345043536366933e-32\n",
      "There is evidence that the 'Employed' and 'Stat Approvalus' are dependent. \n",
      "\n",
      "DriversLicense: p_value = 0.4544496675333688\n",
      "There is no evidence that the 'DriversLicense' and 'Stat Approvalus' are dependent. \n",
      "\n",
      "Citizen: p_value = 0.01071681970204775\n",
      "There is evidence that the 'Citizen' and 'Stat Approvalus' are dependent. \n",
      "\n",
      "ZipCode: p_value = 2.2689897665204584e-08\n",
      "There is evidence that the 'ZipCode' and 'Stat Approvalus' are dependent. \n",
      "\n"
     ]
    }
   ],
   "source": [
    "for col in col_list:\n",
    "    # Create a contingency table\n",
    "    contingency_table = pd.crosstab(cc_apps[col], cc_apps['Stat Approvalus'])\n",
    "    # Perform the chi-square test\n",
    "    chi2_stat, p_val, dof, ex = stats.chi2_contingency(contingency_table)\n",
    "\n",
    "    # Print the results\n",
    "    print(f\"{col}: p_value = {p_val}\")\n",
    "\n",
    "    # Interpret the results\n",
    "    if p_val < 0.05:\n",
    "        print(f\"There is evidence that the '{col}' and 'Stat Approvalus' are dependent.\", '\\n')\n",
    "    else:\n",
    "        print(f\"There is no evidence that the '{col}' and 'Stat Approvalus' are dependent.\", '\\n')"
   ]
  },
  {
   "cell_type": "markdown",
   "id": "f3783dc5-67db-435e-956d-76f732cdfcc0",
   "metadata": {},
   "source": [
    "The p-value is above 0.05 only for Gender and Driver's License, so I conclude that these two variables are independent of the 'Stat Approvalus' variable."
   ]
  },
  {
   "cell_type": "markdown",
   "id": "909c990a-a4db-4f4e-9892-dc5083c1eff7",
   "metadata": {},
   "source": [
    "## 4. Preprocessing the data and feature selection\n",
    "\n",
    "<p>There is still some minor but essential data preprocessing needed before I proceed towards building our machine learning model. I am going to divide these remaining preprocessing steps into two main tasks:</p>\n",
    "<ol>\n",
    "<li>Convert the non-numeric data into numeric.</li>\n",
    "<li>Scale the feature values to a uniform range.</li>\n",
    "</ol>\n",
    "<p>First, I will be converting all the non-numeric values into numeric ones. We do this because not only it results in a faster computation but also many machine learning models (like XGBoost) (and especially the ones developed using scikit-learn) require the data to be in a strictly numeric format. I will do this by using the <code>get_dummies()</code> method from pandas.</p>\n",
    "Also, we saw that features like 'Gender', 'Citizen', 'Age', 'Married', 'BankCustomer' and 'DriversLicense'are not as important as the other features in the dataset for predicting credit card approvals.  I will drop them  in order to reduce the dimensionality of our data, that will help the machine learning model to perform faster and better."
   ]
  },
  {
   "cell_type": "code",
   "execution_count": 45,
   "id": "e4eac3ff-70f2-43f1-bc6a-33795d7397f0",
   "metadata": {},
   "outputs": [
    {
     "data": {
      "text/plain": [
       "((688, 9), (688,))"
      ]
     },
     "execution_count": 45,
     "metadata": {},
     "output_type": "execute_result"
    }
   ],
   "source": [
    "# Create X and y features \n",
    "X = cc_apps.drop(columns = ['Age','Stat Approvalus', 'Gender', 'Citizen', 'Married', 'BankCustomer', 'DriversLicense'], axis = 1)\n",
    "y = cc_apps['Stat Approvalus'].values\n",
    "X.shape, y.shape"
   ]
  },
  {
   "cell_type": "code",
   "execution_count": 46,
   "id": "251bfcf9-c4e9-4791-be41-f32d78b9453e",
   "metadata": {},
   "outputs": [
    {
     "data": {
      "text/plain": [
       "(688, 38)"
      ]
     },
     "execution_count": 46,
     "metadata": {},
     "output_type": "execute_result"
    }
   ],
   "source": [
    "# Convert the categorical features in the train and test sets independently\n",
    "X = pd.get_dummies(X, drop_first = True)\n",
    "X.shape"
   ]
  },
  {
   "cell_type": "code",
   "execution_count": 47,
   "id": "f6c93b73-2787-4842-80f8-2503df94d943",
   "metadata": {},
   "outputs": [
    {
     "data": {
      "text/plain": [
       "(688, 38)"
      ]
     },
     "execution_count": 47,
     "metadata": {},
     "output_type": "execute_result"
    }
   ],
   "source": [
    "# Import MinMaxScaler\n",
    "from sklearn.preprocessing import MinMaxScaler\n",
    "\n",
    "# Instantiate MinMaxScaler and use it to rescale X_train and X_test\n",
    "scaler = MinMaxScaler(feature_range=(0, 1))\n",
    "rescaled_X = scaler.fit_transform(X)\n",
    "rescaled_X.shape"
   ]
  },
  {
   "cell_type": "markdown",
   "id": "aa39e0c8-acb7-4be3-90e2-a90e2d1e890c",
   "metadata": {},
   "source": [
    "## 5. Analyze and Build Baseline Model\n",
    "\n",
    "Predicting whether a credit will be approved or not is a classification task in machine learning. First I will use lazypredict library to compare the performance of different models and to choose the best one as a baseline model for my task."
   ]
  },
  {
   "cell_type": "code",
   "execution_count": 48,
   "id": "02d9261f-061e-4ec6-88c4-d9efee588349",
   "metadata": {},
   "outputs": [
    {
     "data": {
      "text/plain": [
       "((481, 38), (207, 38), (481,), (207,))"
      ]
     },
     "execution_count": 48,
     "metadata": {},
     "output_type": "execute_result"
    }
   ],
   "source": [
    "# Split into train and test sets\n",
    "X_train, X_test, y_train, y_test = train_test_split(rescaled_X, y, test_size=0.30, random_state=12)\n",
    "X_train.shape, X_test.shape, y_train.shape, y_test.shape"
   ]
  },
  {
   "cell_type": "code",
   "execution_count": 49,
   "id": "ff02f8f7-97e3-43fd-ba38-b4872ea133a6",
   "metadata": {},
   "outputs": [
    {
     "name": "stderr",
     "output_type": "stream",
     "text": [
      "100%|██████████████████████████████████████████████████████████████████████████████████| 29/29 [00:01<00:00, 15.21it/s]\n"
     ]
    },
    {
     "data": {
      "text/html": [
       "<div>\n",
       "<style scoped>\n",
       "    .dataframe tbody tr th:only-of-type {\n",
       "        vertical-align: middle;\n",
       "    }\n",
       "\n",
       "    .dataframe tbody tr th {\n",
       "        vertical-align: top;\n",
       "    }\n",
       "\n",
       "    .dataframe thead th {\n",
       "        text-align: right;\n",
       "    }\n",
       "</style>\n",
       "<table border=\"1\" class=\"dataframe\">\n",
       "  <thead>\n",
       "    <tr style=\"text-align: right;\">\n",
       "      <th></th>\n",
       "      <th>Accuracy</th>\n",
       "      <th>Balanced Accuracy</th>\n",
       "      <th>ROC AUC</th>\n",
       "      <th>F1 Score</th>\n",
       "      <th>Time Taken</th>\n",
       "    </tr>\n",
       "    <tr>\n",
       "      <th>Model</th>\n",
       "      <th></th>\n",
       "      <th></th>\n",
       "      <th></th>\n",
       "      <th></th>\n",
       "      <th></th>\n",
       "    </tr>\n",
       "  </thead>\n",
       "  <tbody>\n",
       "    <tr>\n",
       "      <th>LogisticRegression</th>\n",
       "      <td>0.89</td>\n",
       "      <td>0.89</td>\n",
       "      <td>0.89</td>\n",
       "      <td>0.89</td>\n",
       "      <td>0.02</td>\n",
       "    </tr>\n",
       "    <tr>\n",
       "      <th>CalibratedClassifierCV</th>\n",
       "      <td>0.88</td>\n",
       "      <td>0.88</td>\n",
       "      <td>0.88</td>\n",
       "      <td>0.88</td>\n",
       "      <td>0.09</td>\n",
       "    </tr>\n",
       "    <tr>\n",
       "      <th>BernoulliNB</th>\n",
       "      <td>0.88</td>\n",
       "      <td>0.87</td>\n",
       "      <td>0.87</td>\n",
       "      <td>0.88</td>\n",
       "      <td>0.01</td>\n",
       "    </tr>\n",
       "    <tr>\n",
       "      <th>NearestCentroid</th>\n",
       "      <td>0.87</td>\n",
       "      <td>0.87</td>\n",
       "      <td>0.87</td>\n",
       "      <td>0.87</td>\n",
       "      <td>0.01</td>\n",
       "    </tr>\n",
       "    <tr>\n",
       "      <th>SVC</th>\n",
       "      <td>0.86</td>\n",
       "      <td>0.87</td>\n",
       "      <td>0.87</td>\n",
       "      <td>0.87</td>\n",
       "      <td>0.01</td>\n",
       "    </tr>\n",
       "    <tr>\n",
       "      <th>NuSVC</th>\n",
       "      <td>0.86</td>\n",
       "      <td>0.87</td>\n",
       "      <td>0.87</td>\n",
       "      <td>0.87</td>\n",
       "      <td>0.01</td>\n",
       "    </tr>\n",
       "    <tr>\n",
       "      <th>ExtraTreesClassifier</th>\n",
       "      <td>0.87</td>\n",
       "      <td>0.86</td>\n",
       "      <td>0.86</td>\n",
       "      <td>0.87</td>\n",
       "      <td>0.09</td>\n",
       "    </tr>\n",
       "    <tr>\n",
       "      <th>LinearSVC</th>\n",
       "      <td>0.86</td>\n",
       "      <td>0.86</td>\n",
       "      <td>0.86</td>\n",
       "      <td>0.87</td>\n",
       "      <td>0.03</td>\n",
       "    </tr>\n",
       "    <tr>\n",
       "      <th>Perceptron</th>\n",
       "      <td>0.87</td>\n",
       "      <td>0.86</td>\n",
       "      <td>0.86</td>\n",
       "      <td>0.87</td>\n",
       "      <td>0.02</td>\n",
       "    </tr>\n",
       "    <tr>\n",
       "      <th>RidgeClassifier</th>\n",
       "      <td>0.86</td>\n",
       "      <td>0.86</td>\n",
       "      <td>0.86</td>\n",
       "      <td>0.86</td>\n",
       "      <td>0.01</td>\n",
       "    </tr>\n",
       "    <tr>\n",
       "      <th>LinearDiscriminantAnalysis</th>\n",
       "      <td>0.86</td>\n",
       "      <td>0.86</td>\n",
       "      <td>0.86</td>\n",
       "      <td>0.86</td>\n",
       "      <td>0.01</td>\n",
       "    </tr>\n",
       "    <tr>\n",
       "      <th>RandomForestClassifier</th>\n",
       "      <td>0.86</td>\n",
       "      <td>0.86</td>\n",
       "      <td>0.86</td>\n",
       "      <td>0.86</td>\n",
       "      <td>0.10</td>\n",
       "    </tr>\n",
       "    <tr>\n",
       "      <th>BaggingClassifier</th>\n",
       "      <td>0.86</td>\n",
       "      <td>0.86</td>\n",
       "      <td>0.86</td>\n",
       "      <td>0.86</td>\n",
       "      <td>0.02</td>\n",
       "    </tr>\n",
       "    <tr>\n",
       "      <th>RidgeClassifierCV</th>\n",
       "      <td>0.86</td>\n",
       "      <td>0.86</td>\n",
       "      <td>0.86</td>\n",
       "      <td>0.86</td>\n",
       "      <td>0.01</td>\n",
       "    </tr>\n",
       "    <tr>\n",
       "      <th>LGBMClassifier</th>\n",
       "      <td>0.86</td>\n",
       "      <td>0.85</td>\n",
       "      <td>0.85</td>\n",
       "      <td>0.85</td>\n",
       "      <td>0.04</td>\n",
       "    </tr>\n",
       "    <tr>\n",
       "      <th>XGBClassifier</th>\n",
       "      <td>0.85</td>\n",
       "      <td>0.85</td>\n",
       "      <td>0.85</td>\n",
       "      <td>0.85</td>\n",
       "      <td>1.25</td>\n",
       "    </tr>\n",
       "    <tr>\n",
       "      <th>AdaBoostClassifier</th>\n",
       "      <td>0.84</td>\n",
       "      <td>0.84</td>\n",
       "      <td>0.84</td>\n",
       "      <td>0.84</td>\n",
       "      <td>0.07</td>\n",
       "    </tr>\n",
       "    <tr>\n",
       "      <th>DecisionTreeClassifier</th>\n",
       "      <td>0.81</td>\n",
       "      <td>0.80</td>\n",
       "      <td>0.80</td>\n",
       "      <td>0.81</td>\n",
       "      <td>0.01</td>\n",
       "    </tr>\n",
       "    <tr>\n",
       "      <th>SGDClassifier</th>\n",
       "      <td>0.81</td>\n",
       "      <td>0.80</td>\n",
       "      <td>0.80</td>\n",
       "      <td>0.81</td>\n",
       "      <td>0.01</td>\n",
       "    </tr>\n",
       "    <tr>\n",
       "      <th>LabelSpreading</th>\n",
       "      <td>0.81</td>\n",
       "      <td>0.80</td>\n",
       "      <td>0.80</td>\n",
       "      <td>0.81</td>\n",
       "      <td>0.02</td>\n",
       "    </tr>\n",
       "    <tr>\n",
       "      <th>LabelPropagation</th>\n",
       "      <td>0.81</td>\n",
       "      <td>0.80</td>\n",
       "      <td>0.80</td>\n",
       "      <td>0.81</td>\n",
       "      <td>0.02</td>\n",
       "    </tr>\n",
       "    <tr>\n",
       "      <th>PassiveAggressiveClassifier</th>\n",
       "      <td>0.80</td>\n",
       "      <td>0.79</td>\n",
       "      <td>0.79</td>\n",
       "      <td>0.80</td>\n",
       "      <td>0.00</td>\n",
       "    </tr>\n",
       "    <tr>\n",
       "      <th>KNeighborsClassifier</th>\n",
       "      <td>0.79</td>\n",
       "      <td>0.78</td>\n",
       "      <td>0.78</td>\n",
       "      <td>0.79</td>\n",
       "      <td>0.02</td>\n",
       "    </tr>\n",
       "    <tr>\n",
       "      <th>ExtraTreeClassifier</th>\n",
       "      <td>0.77</td>\n",
       "      <td>0.77</td>\n",
       "      <td>0.77</td>\n",
       "      <td>0.77</td>\n",
       "      <td>0.01</td>\n",
       "    </tr>\n",
       "    <tr>\n",
       "      <th>QuadraticDiscriminantAnalysis</th>\n",
       "      <td>0.53</td>\n",
       "      <td>0.58</td>\n",
       "      <td>0.58</td>\n",
       "      <td>0.46</td>\n",
       "      <td>0.01</td>\n",
       "    </tr>\n",
       "    <tr>\n",
       "      <th>GaussianNB</th>\n",
       "      <td>0.51</td>\n",
       "      <td>0.56</td>\n",
       "      <td>0.56</td>\n",
       "      <td>0.42</td>\n",
       "      <td>0.01</td>\n",
       "    </tr>\n",
       "    <tr>\n",
       "      <th>DummyClassifier</th>\n",
       "      <td>0.57</td>\n",
       "      <td>0.50</td>\n",
       "      <td>0.50</td>\n",
       "      <td>0.41</td>\n",
       "      <td>0.01</td>\n",
       "    </tr>\n",
       "  </tbody>\n",
       "</table>\n",
       "</div>"
      ],
      "text/plain": [
       "                               Accuracy  Balanced Accuracy  ROC AUC  F1 Score  \\\n",
       "Model                                                                           \n",
       "LogisticRegression                 0.89               0.89     0.89      0.89   \n",
       "CalibratedClassifierCV             0.88               0.88     0.88      0.88   \n",
       "BernoulliNB                        0.88               0.87     0.87      0.88   \n",
       "NearestCentroid                    0.87               0.87     0.87      0.87   \n",
       "SVC                                0.86               0.87     0.87      0.87   \n",
       "NuSVC                              0.86               0.87     0.87      0.87   \n",
       "ExtraTreesClassifier               0.87               0.86     0.86      0.87   \n",
       "LinearSVC                          0.86               0.86     0.86      0.87   \n",
       "Perceptron                         0.87               0.86     0.86      0.87   \n",
       "RidgeClassifier                    0.86               0.86     0.86      0.86   \n",
       "LinearDiscriminantAnalysis         0.86               0.86     0.86      0.86   \n",
       "RandomForestClassifier             0.86               0.86     0.86      0.86   \n",
       "BaggingClassifier                  0.86               0.86     0.86      0.86   \n",
       "RidgeClassifierCV                  0.86               0.86     0.86      0.86   \n",
       "LGBMClassifier                     0.86               0.85     0.85      0.85   \n",
       "XGBClassifier                      0.85               0.85     0.85      0.85   \n",
       "AdaBoostClassifier                 0.84               0.84     0.84      0.84   \n",
       "DecisionTreeClassifier             0.81               0.80     0.80      0.81   \n",
       "SGDClassifier                      0.81               0.80     0.80      0.81   \n",
       "LabelSpreading                     0.81               0.80     0.80      0.81   \n",
       "LabelPropagation                   0.81               0.80     0.80      0.81   \n",
       "PassiveAggressiveClassifier        0.80               0.79     0.79      0.80   \n",
       "KNeighborsClassifier               0.79               0.78     0.78      0.79   \n",
       "ExtraTreeClassifier                0.77               0.77     0.77      0.77   \n",
       "QuadraticDiscriminantAnalysis      0.53               0.58     0.58      0.46   \n",
       "GaussianNB                         0.51               0.56     0.56      0.42   \n",
       "DummyClassifier                    0.57               0.50     0.50      0.41   \n",
       "\n",
       "                               Time Taken  \n",
       "Model                                      \n",
       "LogisticRegression                   0.02  \n",
       "CalibratedClassifierCV               0.09  \n",
       "BernoulliNB                          0.01  \n",
       "NearestCentroid                      0.01  \n",
       "SVC                                  0.01  \n",
       "NuSVC                                0.01  \n",
       "ExtraTreesClassifier                 0.09  \n",
       "LinearSVC                            0.03  \n",
       "Perceptron                           0.02  \n",
       "RidgeClassifier                      0.01  \n",
       "LinearDiscriminantAnalysis           0.01  \n",
       "RandomForestClassifier               0.10  \n",
       "BaggingClassifier                    0.02  \n",
       "RidgeClassifierCV                    0.01  \n",
       "LGBMClassifier                       0.04  \n",
       "XGBClassifier                        1.25  \n",
       "AdaBoostClassifier                   0.07  \n",
       "DecisionTreeClassifier               0.01  \n",
       "SGDClassifier                        0.01  \n",
       "LabelSpreading                       0.02  \n",
       "LabelPropagation                     0.02  \n",
       "PassiveAggressiveClassifier          0.00  \n",
       "KNeighborsClassifier                 0.02  \n",
       "ExtraTreeClassifier                  0.01  \n",
       "QuadraticDiscriminantAnalysis        0.01  \n",
       "GaussianNB                           0.01  \n",
       "DummyClassifier                      0.01  "
      ]
     },
     "execution_count": 49,
     "metadata": {},
     "output_type": "execute_result"
    }
   ],
   "source": [
    "clf = LazyClassifier(verbose=0, ignore_warnings=True, custom_metric=None, random_state=12)\n",
    "models, predictions = clf.fit(X_train, X_test, y_train, y_test)\n",
    "models "
   ]
  },
  {
   "cell_type": "markdown",
   "id": "e4fa83e1-318c-4c11-94a4-ad102d8b0565",
   "metadata": {},
   "source": [
    "We see that LogisticRegression is the  that has the best results.  I will perform a cross-validation to see  how well this algorithm will generalize to new, unseen data."
   ]
  },
  {
   "cell_type": "code",
   "execution_count": 50,
   "id": "4333a4bb-2a79-48e3-8a1f-2d3210ff0c93",
   "metadata": {},
   "outputs": [
    {
     "name": "stdout",
     "output_type": "stream",
     "text": [
      "Mean cross validation score for Logistic Regression:  0.8367346938775511\n",
      "Standard deviation cross validation score for Logistic Regression:  0.0\n"
     ]
    },
    {
     "data": {
      "image/png": "[encoded data removed]",
      "text/plain": [
       "<Figure size 432x288 with 1 Axes>"
      ]
     },
     "metadata": {
      "needs_background": "light"
     },
     "output_type": "display_data"
    }
   ],
   "source": [
    "# compute class weights for my imbalanced datasets\n",
    "class_weights = compute_class_weight(class_weight='balanced', classes=y_train.unique(), y=cc_apps['Stat Approvalus'])\n",
    "\n",
    "# create the Classifier object\n",
    "lr = LogisticRegression(solver ='liblinear', class_weight = {0:class_weights[0], 1:class_weights[1]}, random_state=42)\n",
    "\n",
    "# Instantiate a KFold object\n",
    "kf = KFold(n_splits=10, random_state=10, shuffle=True)\n",
    "\n",
    "# Perform cross-validation\n",
    "cv_scores = cross_val_score(lr, X_train, y_train, cv=kf)\n",
    "\n",
    "# print(\"Mean cross validation score: \", cv_results.mean())\n",
    "print(\"Mean cross validation score for Logistic Regression: \", cv_scores[0].mean())\n",
    "print(\"Standard deviation cross validation score for Logistic Regression: \", cv_scores[0].std())\n",
    "plt.boxplot(cv_scores, labels=['Logistic Regression'])\n",
    "plt.show()"
   ]
  },
  {
   "cell_type": "markdown",
   "id": "06bc0ac2-af89-4e89-97e7-1056c1472983",
   "metadata": {},
   "source": [
    "The mean score of 0.87 indicates that, on average, the model achieves a relatively high level of accuracy and a small standard deviation of 0.05 indicates that the model's performance is consistent across different cross-validation folds. I will now evaluate the model on the test set with respect to classification accuracy. But I will also use the classification report. In the case of predicting credit card applications, it is important to see if the machine learning model is equally capable of predicting approved and denied status."
   ]
  },
  {
   "cell_type": "code",
   "execution_count": 51,
   "id": "db86ec6d-114c-4cc9-8c55-8fec18eba410",
   "metadata": {},
   "outputs": [
    {
     "name": "stdout",
     "output_type": "stream",
     "text": [
      "Accuracy of  Logistic Regression:  0.8599033816425121\n"
     ]
    }
   ],
   "source": [
    "# Fit the Logistic Regression model\n",
    "lr.fit(X_train, y_train)\n",
    "\n",
    "# Use rfc to predict instances from the test set and store it\n",
    "y_pred_lr = lr.predict(X_test)\n",
    "\n",
    "# Get the accuracy score of rfc model\n",
    "print(\"Accuracy of  Logistic Regression: \", accuracy_score(y_test, y_pred_lr))"
   ]
  },
  {
   "cell_type": "code",
   "execution_count": 52,
   "id": "dd4b2697-d0c3-4f7a-ba2c-d7c298998600",
   "metadata": {},
   "outputs": [
    {
     "name": "stdout",
     "output_type": "stream",
     "text": [
      "Classification_report of Logistic Regression: \n",
      "               precision    recall  f1-score   support\n",
      "\n",
      "           0       0.92      0.83      0.87       118\n",
      "           1       0.80      0.90      0.85        89\n",
      "\n",
      "    accuracy                           0.86       207\n",
      "   macro avg       0.86      0.86      0.86       207\n",
      "weighted avg       0.87      0.86      0.86       207\n",
      "\n"
     ]
    }
   ],
   "source": [
    "# Print the classification_report of the Random Forest Classifier\n",
    "print('Classification_report of Logistic Regression:', '\\n', classification_report(y_test, y_pred_lr))"
   ]
  },
  {
   "cell_type": "code",
   "execution_count": 53,
   "id": "2a062bab-ad51-4dee-9372-a99f5cc6be4f",
   "metadata": {},
   "outputs": [
    {
     "data": {
      "image/png": "[encoded data removed]",
      "text/plain": [
       "<Figure size 432x288 with 2 Axes>"
      ]
     },
     "metadata": {
      "needs_background": "light"
     },
     "output_type": "display_data"
    }
   ],
   "source": [
    "# Visualizing the confusion_matrix for the two models\n",
    "sns.heatmap(confusion_matrix(y_test, y_pred_lr), annot=True, fmt='d').set(title='Logistic Regression')\n",
    "plt.show()"
   ]
  },
  {
   "cell_type": "markdown",
   "id": "b2035264-69a9-4efa-9c8a-77ad31109759",
   "metadata": {},
   "source": [
    "### Tuning the model using Optuna\n",
    "I'll use Optuna to find the optimal hyperparameters of the model, the metric based on which I have to optimize the hyperparameters is a  mean cross-validation score with k=10."
   ]
  },
  {
   "cell_type": "code",
   "execution_count": 54,
   "id": "8a821b7c-fcf9-4ce1-9c27-8698a68ed435",
   "metadata": {},
   "outputs": [
    {
     "name": "stderr",
     "output_type": "stream",
     "text": [
      "\u001b[32m[I 2023-04-12 21:36:41,771]\u001b[0m A new study created in memory with name: no-name-f62e1d38-e20a-4e9f-828e-c70b27587462\u001b[0m\n",
      "\u001b[32m[I 2023-04-12 21:36:44,088]\u001b[0m Trial 0 finished with value: 0.8586734693877551 and parameters: {'C': 0.7309940513927129, 'solver': 'lbfgs'}. Best is trial 0 with value: 0.8586734693877551.\u001b[0m\n",
      "\u001b[32m[I 2023-04-12 21:36:44,772]\u001b[0m Trial 1 finished with value: 0.8565901360544217 and parameters: {'C': 0.5362201825636973, 'solver': 'sag'}. Best is trial 0 with value: 0.8586734693877551.\u001b[0m\n",
      "\u001b[32m[I 2023-04-12 21:36:44,796]\u001b[0m Trial 2 finished with value: 0.8586734693877551 and parameters: {'C': 0.3542569457883522, 'solver': 'saga'}. Best is trial 0 with value: 0.8586734693877551.\u001b[0m\n",
      "\u001b[32m[I 2023-04-12 21:36:44,816]\u001b[0m Trial 3 finished with value: 0.8586734693877551 and parameters: {'C': 0.08336926028189871, 'solver': 'saga'}. Best is trial 0 with value: 0.8586734693877551.\u001b[0m\n",
      "\u001b[32m[I 2023-04-12 21:36:44,846]\u001b[0m Trial 4 finished with value: 0.8565901360544217 and parameters: {'C': 0.4738267356115313, 'solver': 'newton-cg'}. Best is trial 0 with value: 0.8586734693877551.\u001b[0m\n",
      "\u001b[32m[I 2023-04-12 21:36:44,877]\u001b[0m Trial 5 finished with value: 0.8565901360544217 and parameters: {'C': 0.4759926459772944, 'solver': 'newton-cg'}. Best is trial 0 with value: 0.8586734693877551.\u001b[0m\n",
      "\u001b[32m[I 2023-04-12 21:36:44,891]\u001b[0m Trial 6 finished with value: 0.8483418367346939 and parameters: {'C': 0.03075893005152623, 'solver': 'liblinear'}. Best is trial 0 with value: 0.8586734693877551.\u001b[0m\n",
      "\u001b[32m[I 2023-04-12 21:36:44,909]\u001b[0m Trial 7 finished with value: 0.8586734693877551 and parameters: {'C': 0.2932656790857462, 'solver': 'sag'}. Best is trial 0 with value: 0.8586734693877551.\u001b[0m\n",
      "\u001b[32m[I 2023-04-12 21:36:44,939]\u001b[0m Trial 8 finished with value: 0.8607568027210885 and parameters: {'C': 0.8633871243448024, 'solver': 'newton-cg'}. Best is trial 8 with value: 0.8607568027210885.\u001b[0m\n",
      "\u001b[32m[I 2023-04-12 21:36:44,964]\u001b[0m Trial 9 finished with value: 0.8565901360544217 and parameters: {'C': 0.12772928633388214, 'solver': 'newton-cg'}. Best is trial 8 with value: 0.8607568027210885.\u001b[0m\n",
      "\u001b[32m[I 2023-04-12 21:36:44,979]\u001b[0m Trial 10 finished with value: 0.8566326530612244 and parameters: {'C': 0.9653170175819292, 'solver': 'liblinear'}. Best is trial 8 with value: 0.8607568027210885.\u001b[0m\n",
      "\u001b[32m[I 2023-04-12 21:36:45,007]\u001b[0m Trial 11 finished with value: 0.8607568027210885 and parameters: {'C': 0.8501118024018832, 'solver': 'lbfgs'}. Best is trial 8 with value: 0.8607568027210885.\u001b[0m\n",
      "\u001b[32m[I 2023-04-12 21:36:45,034]\u001b[0m Trial 12 finished with value: 0.8607568027210885 and parameters: {'C': 0.9655144406768982, 'solver': 'lbfgs'}. Best is trial 8 with value: 0.8607568027210885.\u001b[0m\n",
      "\u001b[32m[I 2023-04-12 21:36:45,058]\u001b[0m Trial 13 finished with value: 0.8586734693877551 and parameters: {'C': 0.7632171979466261, 'solver': 'lbfgs'}. Best is trial 8 with value: 0.8607568027210885.\u001b[0m\n",
      "\u001b[32m[I 2023-04-12 21:36:45,092]\u001b[0m Trial 14 finished with value: 0.8586734693877551 and parameters: {'C': 0.7328285225109272, 'solver': 'newton-cg'}. Best is trial 8 with value: 0.8607568027210885.\u001b[0m\n",
      "\u001b[32m[I 2023-04-12 21:36:45,122]\u001b[0m Trial 15 finished with value: 0.8607568027210885 and parameters: {'C': 0.8374658559012523, 'solver': 'lbfgs'}. Best is trial 8 with value: 0.8607568027210885.\u001b[0m\n",
      "\u001b[32m[I 2023-04-12 21:36:45,155]\u001b[0m Trial 16 finished with value: 0.8607568027210885 and parameters: {'C': 0.8589059298881119, 'solver': 'newton-cg'}. Best is trial 8 with value: 0.8607568027210885.\u001b[0m\n",
      "\u001b[32m[I 2023-04-12 21:36:45,184]\u001b[0m Trial 17 finished with value: 0.8607568027210885 and parameters: {'C': 0.9986057938084008, 'solver': 'lbfgs'}. Best is trial 8 with value: 0.8607568027210885.\u001b[0m\n",
      "\u001b[32m[I 2023-04-12 21:36:45,199]\u001b[0m Trial 18 finished with value: 0.8586734693877551 and parameters: {'C': 0.6495615507079426, 'solver': 'liblinear'}. Best is trial 8 with value: 0.8607568027210885.\u001b[0m\n",
      "\u001b[32m[I 2023-04-12 21:36:45,220]\u001b[0m Trial 19 finished with value: 0.8565901360544217 and parameters: {'C': 0.5964051598165987, 'solver': 'saga'}. Best is trial 8 with value: 0.8607568027210885.\u001b[0m\n",
      "\u001b[32m[I 2023-04-12 21:36:45,244]\u001b[0m Trial 20 finished with value: 0.8607568027210885 and parameters: {'C': 0.9846423381325694, 'solver': 'sag'}. Best is trial 8 with value: 0.8607568027210885.\u001b[0m\n",
      "\u001b[32m[I 2023-04-12 21:36:45,268]\u001b[0m Trial 21 finished with value: 0.8607568027210885 and parameters: {'C': 0.9992214752451432, 'solver': 'sag'}. Best is trial 8 with value: 0.8607568027210885.\u001b[0m\n",
      "\u001b[32m[I 2023-04-12 21:36:45,292]\u001b[0m Trial 22 finished with value: 0.8607568027210885 and parameters: {'C': 0.8852064574454508, 'solver': 'sag'}. Best is trial 8 with value: 0.8607568027210885.\u001b[0m\n",
      "\u001b[32m[I 2023-04-12 21:36:45,320]\u001b[0m Trial 23 finished with value: 0.8607568027210885 and parameters: {'C': 0.9228433676893415, 'solver': 'lbfgs'}. Best is trial 8 with value: 0.8607568027210885.\u001b[0m\n",
      "\u001b[32m[I 2023-04-12 21:36:45,345]\u001b[0m Trial 24 finished with value: 0.8586734693877551 and parameters: {'C': 0.7880869392981527, 'solver': 'sag'}. Best is trial 8 with value: 0.8607568027210885.\u001b[0m\n",
      "\u001b[32m[I 2023-04-12 21:36:45,369]\u001b[0m Trial 25 finished with value: 0.8607568027210885 and parameters: {'C': 0.9045903673851481, 'solver': 'sag'}. Best is trial 8 with value: 0.8607568027210885.\u001b[0m\n",
      "\u001b[32m[I 2023-04-12 21:36:45,400]\u001b[0m Trial 26 finished with value: 0.8565901360544217 and parameters: {'C': 0.6610687625715578, 'solver': 'lbfgs'}. Best is trial 8 with value: 0.8607568027210885.\u001b[0m\n",
      "\u001b[32m[I 2023-04-12 21:36:45,425]\u001b[0m Trial 27 finished with value: 0.8607568027210885 and parameters: {'C': 0.9323717887052096, 'solver': 'sag'}. Best is trial 8 with value: 0.8607568027210885.\u001b[0m\n",
      "\u001b[32m[I 2023-04-12 21:36:45,449]\u001b[0m Trial 28 finished with value: 0.8607568027210885 and parameters: {'C': 0.9132369969690382, 'solver': 'sag'}. Best is trial 8 with value: 0.8607568027210885.\u001b[0m\n",
      "\u001b[32m[I 2023-04-12 21:36:45,473]\u001b[0m Trial 29 finished with value: 0.8586734693877551 and parameters: {'C': 0.674372475548699, 'solver': 'sag'}. Best is trial 8 with value: 0.8607568027210885.\u001b[0m\n",
      "\u001b[32m[I 2023-04-12 21:36:45,500]\u001b[0m Trial 30 finished with value: 0.8586734693877551 and parameters: {'C': 0.7785454111664588, 'solver': 'sag'}. Best is trial 8 with value: 0.8607568027210885.\u001b[0m\n",
      "\u001b[32m[I 2023-04-12 21:36:45,525]\u001b[0m Trial 31 finished with value: 0.8586734693877551 and parameters: {'C': 0.8066267535084598, 'solver': 'sag'}. Best is trial 8 with value: 0.8607568027210885.\u001b[0m\n",
      "\u001b[32m[I 2023-04-12 21:36:45,550]\u001b[0m Trial 32 finished with value: 0.8607568027210885 and parameters: {'C': 0.9016950229521135, 'solver': 'sag'}. Best is trial 8 with value: 0.8607568027210885.\u001b[0m\n",
      "\u001b[32m[I 2023-04-12 21:36:45,573]\u001b[0m Trial 33 finished with value: 0.8607568027210885 and parameters: {'C': 0.9147791741171948, 'solver': 'sag'}. Best is trial 8 with value: 0.8607568027210885.\u001b[0m\n",
      "\u001b[32m[I 2023-04-12 21:36:45,597]\u001b[0m Trial 34 finished with value: 0.8586734693877551 and parameters: {'C': 0.7077615130915144, 'solver': 'sag'}. Best is trial 8 with value: 0.8607568027210885.\u001b[0m\n",
      "\u001b[32m[I 2023-04-12 21:36:45,644]\u001b[0m Trial 35 finished with value: 0.8607568027210885 and parameters: {'C': 0.9941716479503251, 'solver': 'lbfgs'}. Best is trial 8 with value: 0.8607568027210885.\u001b[0m\n",
      "\u001b[32m[I 2023-04-12 21:36:45,670]\u001b[0m Trial 36 finished with value: 0.8565901360544217 and parameters: {'C': 0.5467510310485053, 'solver': 'saga'}. Best is trial 8 with value: 0.8607568027210885.\u001b[0m\n",
      "\u001b[32m[I 2023-04-12 21:36:45,694]\u001b[0m Trial 37 finished with value: 0.8586734693877551 and parameters: {'C': 0.36986979419039856, 'solver': 'lbfgs'}. Best is trial 8 with value: 0.8607568027210885.\u001b[0m\n",
      "\u001b[32m[I 2023-04-12 21:36:45,723]\u001b[0m Trial 38 finished with value: 0.8607568027210885 and parameters: {'C': 0.9183659359189963, 'solver': 'lbfgs'}. Best is trial 8 with value: 0.8607568027210885.\u001b[0m\n",
      "\u001b[32m[I 2023-04-12 21:36:45,751]\u001b[0m Trial 39 finished with value: 0.8607568027210885 and parameters: {'C': 0.8283462434699516, 'solver': 'lbfgs'}. Best is trial 8 with value: 0.8607568027210885.\u001b[0m\n",
      "\u001b[32m[I 2023-04-12 21:36:45,776]\u001b[0m Trial 40 finished with value: 0.8607568027210885 and parameters: {'C': 0.9528271508326703, 'solver': 'saga'}. Best is trial 8 with value: 0.8607568027210885.\u001b[0m\n",
      "\u001b[32m[I 2023-04-12 21:36:45,800]\u001b[0m Trial 41 finished with value: 0.8607568027210885 and parameters: {'C': 0.9991127302503267, 'solver': 'sag'}. Best is trial 8 with value: 0.8607568027210885.\u001b[0m\n",
      "\u001b[32m[I 2023-04-12 21:36:45,829]\u001b[0m Trial 42 finished with value: 0.8607568027210885 and parameters: {'C': 0.8272121824153256, 'solver': 'lbfgs'}. Best is trial 8 with value: 0.8607568027210885.\u001b[0m\n",
      "\u001b[32m[I 2023-04-12 21:36:45,855]\u001b[0m Trial 43 finished with value: 0.8607568027210885 and parameters: {'C': 0.9502553042999318, 'solver': 'saga'}. Best is trial 8 with value: 0.8607568027210885.\u001b[0m\n",
      "\u001b[32m[I 2023-04-12 21:36:45,881]\u001b[0m Trial 44 finished with value: 0.8607568027210885 and parameters: {'C': 0.9993662279998827, 'solver': 'saga'}. Best is trial 8 with value: 0.8607568027210885.\u001b[0m\n",
      "\u001b[32m[I 2023-04-12 21:36:45,905]\u001b[0m Trial 45 finished with value: 0.8607568027210885 and parameters: {'C': 0.8799222711356086, 'solver': 'saga'}. Best is trial 8 with value: 0.8607568027210885.\u001b[0m\n",
      "\u001b[32m[I 2023-04-12 21:36:45,922]\u001b[0m Trial 46 finished with value: 0.8566326530612244 and parameters: {'C': 0.9316227811393668, 'solver': 'liblinear'}. Best is trial 8 with value: 0.8607568027210885.\u001b[0m\n",
      "\u001b[32m[I 2023-04-12 21:36:45,947]\u001b[0m Trial 47 finished with value: 0.8607568027210885 and parameters: {'C': 0.8931856596556675, 'solver': 'saga'}. Best is trial 8 with value: 0.8607568027210885.\u001b[0m\n",
      "\u001b[32m[I 2023-04-12 21:36:45,967]\u001b[0m Trial 48 finished with value: 0.8565901360544217 and parameters: {'C': 0.2008714899184243, 'solver': 'sag'}. Best is trial 8 with value: 0.8607568027210885.\u001b[0m\n",
      "\u001b[32m[I 2023-04-12 21:36:45,994]\u001b[0m Trial 49 finished with value: 0.8586734693877551 and parameters: {'C': 0.7288845524757641, 'solver': 'lbfgs'}. Best is trial 8 with value: 0.8607568027210885.\u001b[0m\n",
      "\u001b[32m[I 2023-04-12 21:36:46,008]\u001b[0m Trial 50 finished with value: 0.8566326530612244 and parameters: {'C': 0.9772485966526347, 'solver': 'liblinear'}. Best is trial 8 with value: 0.8607568027210885.\u001b[0m\n",
      "\u001b[32m[I 2023-04-12 21:36:46,036]\u001b[0m Trial 51 finished with value: 0.8607568027210885 and parameters: {'C': 0.8778204680506428, 'solver': 'sag'}. Best is trial 8 with value: 0.8607568027210885.\u001b[0m\n",
      "\u001b[32m[I 2023-04-12 21:36:46,061]\u001b[0m Trial 52 finished with value: 0.8607568027210885 and parameters: {'C': 0.899041829939282, 'solver': 'sag'}. Best is trial 8 with value: 0.8607568027210885.\u001b[0m\n",
      "\u001b[32m[I 2023-04-12 21:36:46,084]\u001b[0m Trial 53 finished with value: 0.8607568027210885 and parameters: {'C': 0.8574172443627812, 'solver': 'sag'}. Best is trial 8 with value: 0.8607568027210885.\u001b[0m\n",
      "\u001b[32m[I 2023-04-12 21:36:46,109]\u001b[0m Trial 54 finished with value: 0.8586734693877551 and parameters: {'C': 0.7616456382024583, 'solver': 'sag'}. Best is trial 8 with value: 0.8607568027210885.\u001b[0m\n",
      "\u001b[32m[I 2023-04-12 21:36:46,141]\u001b[0m Trial 55 finished with value: 0.8607568027210885 and parameters: {'C': 0.9427502890097577, 'solver': 'newton-cg'}. Best is trial 8 with value: 0.8607568027210885.\u001b[0m\n",
      "\u001b[32m[I 2023-04-12 21:36:46,164]\u001b[0m Trial 56 finished with value: 0.8607568027210885 and parameters: {'C': 0.919861370355287, 'solver': 'sag'}. Best is trial 8 with value: 0.8607568027210885.\u001b[0m\n",
      "\u001b[32m[I 2023-04-12 21:36:46,200]\u001b[0m Trial 57 finished with value: 0.8607568027210885 and parameters: {'C': 0.8295580980871389, 'solver': 'newton-cg'}. Best is trial 8 with value: 0.8607568027210885.\u001b[0m\n",
      "\u001b[32m[I 2023-04-12 21:36:46,225]\u001b[0m Trial 58 finished with value: 0.8607568027210885 and parameters: {'C': 0.9120130106226173, 'solver': 'sag'}. Best is trial 8 with value: 0.8607568027210885.\u001b[0m\n",
      "\u001b[32m[I 2023-04-12 21:36:46,260]\u001b[0m Trial 59 finished with value: 0.8586734693877551 and parameters: {'C': 0.8116857267993663, 'solver': 'newton-cg'}. Best is trial 8 with value: 0.8607568027210885.\u001b[0m\n",
      "\u001b[32m[I 2023-04-12 21:36:46,289]\u001b[0m Trial 60 finished with value: 0.8607568027210885 and parameters: {'C': 0.9794735110644771, 'solver': 'lbfgs'}. Best is trial 8 with value: 0.8607568027210885.\u001b[0m\n",
      "\u001b[32m[I 2023-04-12 21:36:46,317]\u001b[0m Trial 61 finished with value: 0.8607568027210885 and parameters: {'C': 0.9649455269837649, 'solver': 'lbfgs'}. Best is trial 8 with value: 0.8607568027210885.\u001b[0m\n",
      "\u001b[32m[I 2023-04-12 21:36:46,341]\u001b[0m Trial 62 finished with value: 0.8607568027210885 and parameters: {'C': 0.939872366720369, 'solver': 'saga'}. Best is trial 8 with value: 0.8607568027210885.\u001b[0m\n",
      "\u001b[32m[I 2023-04-12 21:36:46,365]\u001b[0m Trial 63 finished with value: 0.8607568027210885 and parameters: {'C': 0.949362448550629, 'solver': 'saga'}. Best is trial 8 with value: 0.8607568027210885.\u001b[0m\n",
      "\u001b[32m[I 2023-04-12 21:36:46,391]\u001b[0m Trial 64 finished with value: 0.8607568027210885 and parameters: {'C': 0.875679999341813, 'solver': 'saga'}. Best is trial 8 with value: 0.8607568027210885.\u001b[0m\n",
      "\u001b[32m[I 2023-04-12 21:36:46,438]\u001b[0m Trial 65 finished with value: 0.8607568027210885 and parameters: {'C': 0.8477439209007591, 'solver': 'lbfgs'}. Best is trial 8 with value: 0.8607568027210885.\u001b[0m\n",
      "\u001b[32m[I 2023-04-12 21:36:46,466]\u001b[0m Trial 66 finished with value: 0.8586734693877551 and parameters: {'C': 0.3949413568294538, 'solver': 'lbfgs'}. Best is trial 8 with value: 0.8607568027210885.\u001b[0m\n",
      "\u001b[32m[I 2023-04-12 21:36:46,488]\u001b[0m Trial 67 finished with value: 0.8586734693877551 and parameters: {'C': 0.7942579897959937, 'solver': 'sag'}. Best is trial 8 with value: 0.8607568027210885.\u001b[0m\n",
      "\u001b[32m[I 2023-04-12 21:36:46,513]\u001b[0m Trial 68 finished with value: 0.8607568027210885 and parameters: {'C': 0.8783545993674358, 'solver': 'sag'}. Best is trial 8 with value: 0.8607568027210885.\u001b[0m\n",
      "\u001b[32m[I 2023-04-12 21:36:46,536]\u001b[0m Trial 69 finished with value: 0.8607568027210885 and parameters: {'C': 0.8605649345152667, 'solver': 'sag'}. Best is trial 8 with value: 0.8607568027210885.\u001b[0m\n",
      "\u001b[32m[I 2023-04-12 21:36:46,561]\u001b[0m Trial 70 finished with value: 0.8586734693877551 and parameters: {'C': 0.744921152247594, 'solver': 'sag'}. Best is trial 8 with value: 0.8607568027210885.\u001b[0m\n",
      "\u001b[32m[I 2023-04-12 21:36:46,598]\u001b[0m Trial 71 finished with value: 0.8607568027210885 and parameters: {'C': 0.9309937427348635, 'solver': 'newton-cg'}. Best is trial 8 with value: 0.8607568027210885.\u001b[0m\n",
      "\u001b[32m[I 2023-04-12 21:36:46,629]\u001b[0m Trial 72 finished with value: 0.8607568027210885 and parameters: {'C': 0.9582704112226588, 'solver': 'lbfgs'}. Best is trial 8 with value: 0.8607568027210885.\u001b[0m\n",
      "\u001b[32m[I 2023-04-12 21:36:46,653]\u001b[0m Trial 73 finished with value: 0.8607568027210885 and parameters: {'C': 0.925201801694113, 'solver': 'sag'}. Best is trial 8 with value: 0.8607568027210885.\u001b[0m\n",
      "\u001b[32m[I 2023-04-12 21:36:46,685]\u001b[0m Trial 74 finished with value: 0.8607568027210885 and parameters: {'C': 0.9103523970848408, 'solver': 'newton-cg'}. Best is trial 8 with value: 0.8607568027210885.\u001b[0m\n",
      "\u001b[32m[I 2023-04-12 21:36:46,717]\u001b[0m Trial 75 finished with value: 0.8607568027210885 and parameters: {'C': 0.8273326617564538, 'solver': 'newton-cg'}. Best is trial 8 with value: 0.8607568027210885.\u001b[0m\n",
      "\u001b[32m[I 2023-04-12 21:36:46,749]\u001b[0m Trial 76 finished with value: 0.8607568027210885 and parameters: {'C': 0.8241159163336402, 'solver': 'newton-cg'}. Best is trial 8 with value: 0.8607568027210885.\u001b[0m\n",
      "\u001b[32m[I 2023-04-12 21:36:46,782]\u001b[0m Trial 77 finished with value: 0.8607568027210885 and parameters: {'C': 0.9966982463286858, 'solver': 'lbfgs'}. Best is trial 8 with value: 0.8607568027210885.\u001b[0m\n",
      "\u001b[32m[I 2023-04-12 21:36:46,808]\u001b[0m Trial 78 finished with value: 0.8607568027210885 and parameters: {'C': 0.8226632764081359, 'solver': 'saga'}. Best is trial 8 with value: 0.8607568027210885.\u001b[0m\n",
      "\u001b[32m[I 2023-04-12 21:36:46,834]\u001b[0m Trial 79 finished with value: 0.8607568027210885 and parameters: {'C': 0.9981044163052254, 'solver': 'saga'}. Best is trial 8 with value: 0.8607568027210885.\u001b[0m\n",
      "\u001b[32m[I 2023-04-12 21:36:46,855]\u001b[0m Trial 80 finished with value: 0.8586734693877551 and parameters: {'C': 0.6837677024775565, 'solver': 'saga'}. Best is trial 8 with value: 0.8607568027210885.\u001b[0m\n",
      "\u001b[32m[I 2023-04-12 21:36:46,882]\u001b[0m Trial 81 finished with value: 0.8607568027210885 and parameters: {'C': 0.9664778866564603, 'solver': 'saga'}. Best is trial 8 with value: 0.8607568027210885.\u001b[0m\n",
      "\u001b[32m[I 2023-04-12 21:36:46,906]\u001b[0m Trial 82 finished with value: 0.8607568027210885 and parameters: {'C': 0.8887035068478688, 'solver': 'saga'}. Best is trial 8 with value: 0.8607568027210885.\u001b[0m\n",
      "\u001b[32m[I 2023-04-12 21:36:46,930]\u001b[0m Trial 83 finished with value: 0.8607568027210885 and parameters: {'C': 0.890398282778237, 'solver': 'sag'}. Best is trial 8 with value: 0.8607568027210885.\u001b[0m\n",
      "\u001b[32m[I 2023-04-12 21:36:46,963]\u001b[0m Trial 84 finished with value: 0.8607568027210885 and parameters: {'C': 0.8649217389036359, 'solver': 'newton-cg'}. Best is trial 8 with value: 0.8607568027210885.\u001b[0m\n",
      "\u001b[32m[I 2023-04-12 21:36:47,014]\u001b[0m Trial 85 finished with value: 0.8607568027210885 and parameters: {'C': 0.8473753469225166, 'solver': 'newton-cg'}. Best is trial 8 with value: 0.8607568027210885.\u001b[0m\n",
      "\u001b[32m[I 2023-04-12 21:36:47,038]\u001b[0m Trial 86 finished with value: 0.8565901360544217 and parameters: {'C': 0.6032736566817738, 'solver': 'sag'}. Best is trial 8 with value: 0.8607568027210885.\u001b[0m\n",
      "\u001b[32m[I 2023-04-12 21:36:47,066]\u001b[0m Trial 87 finished with value: 0.8586734693877551 and parameters: {'C': 0.7775680875232742, 'solver': 'lbfgs'}. Best is trial 8 with value: 0.8607568027210885.\u001b[0m\n",
      "\u001b[32m[I 2023-04-12 21:36:47,094]\u001b[0m Trial 88 finished with value: 0.8586734693877551 and parameters: {'C': 0.7981436661121425, 'solver': 'lbfgs'}. Best is trial 8 with value: 0.8607568027210885.\u001b[0m\n",
      "\u001b[32m[I 2023-04-12 21:36:47,122]\u001b[0m Trial 89 finished with value: 0.8607568027210885 and parameters: {'C': 0.8507443416373265, 'solver': 'lbfgs'}. Best is trial 8 with value: 0.8607568027210885.\u001b[0m\n",
      "\u001b[32m[I 2023-04-12 21:36:47,159]\u001b[0m Trial 90 finished with value: 0.8607568027210885 and parameters: {'C': 0.9769743747718215, 'solver': 'newton-cg'}. Best is trial 8 with value: 0.8607568027210885.\u001b[0m\n",
      "\u001b[32m[I 2023-04-12 21:36:47,176]\u001b[0m Trial 91 finished with value: 0.8566326530612244 and parameters: {'C': 0.9046586214404516, 'solver': 'liblinear'}. Best is trial 8 with value: 0.8607568027210885.\u001b[0m\n",
      "\u001b[32m[I 2023-04-12 21:36:47,193]\u001b[0m Trial 92 finished with value: 0.8566326530612244 and parameters: {'C': 0.8847019084150418, 'solver': 'liblinear'}. Best is trial 8 with value: 0.8607568027210885.\u001b[0m\n",
      "\u001b[32m[I 2023-04-12 21:36:47,219]\u001b[0m Trial 93 finished with value: 0.8607568027210885 and parameters: {'C': 0.941529601719908, 'solver': 'saga'}. Best is trial 8 with value: 0.8607568027210885.\u001b[0m\n",
      "\u001b[32m[I 2023-04-12 21:36:47,247]\u001b[0m Trial 94 finished with value: 0.8607568027210885 and parameters: {'C': 0.9284379662368575, 'solver': 'lbfgs'}. Best is trial 8 with value: 0.8607568027210885.\u001b[0m\n",
      "\u001b[32m[I 2023-04-12 21:36:47,273]\u001b[0m Trial 95 finished with value: 0.8607568027210885 and parameters: {'C': 0.9505487246123389, 'solver': 'saga'}. Best is trial 8 with value: 0.8607568027210885.\u001b[0m\n",
      "\u001b[32m[I 2023-04-12 21:36:47,297]\u001b[0m Trial 96 finished with value: 0.8607568027210885 and parameters: {'C': 0.96909607967369, 'solver': 'saga'}. Best is trial 8 with value: 0.8607568027210885.\u001b[0m\n",
      "\u001b[32m[I 2023-04-12 21:36:47,329]\u001b[0m Trial 97 finished with value: 0.8607568027210885 and parameters: {'C': 0.9575640839663305, 'solver': 'lbfgs'}. Best is trial 8 with value: 0.8607568027210885.\u001b[0m\n",
      "\u001b[32m[I 2023-04-12 21:36:47,357]\u001b[0m Trial 98 finished with value: 0.8607568027210885 and parameters: {'C': 0.9543274105973396, 'solver': 'lbfgs'}. Best is trial 8 with value: 0.8607568027210885.\u001b[0m\n",
      "\u001b[32m[I 2023-04-12 21:36:47,377]\u001b[0m Trial 99 finished with value: 0.8545493197278912 and parameters: {'C': 0.040805429530046955, 'solver': 'lbfgs'}. Best is trial 8 with value: 0.8607568027210885.\u001b[0m\n",
      "\u001b[32m[I 2023-04-12 21:36:47,409]\u001b[0m Trial 100 finished with value: 0.8565901360544217 and parameters: {'C': 0.5061050983411239, 'solver': 'newton-cg'}. Best is trial 8 with value: 0.8607568027210885.\u001b[0m\n",
      "\u001b[32m[I 2023-04-12 21:36:47,433]\u001b[0m Trial 101 finished with value: 0.8607568027210885 and parameters: {'C': 0.8448298457171401, 'solver': 'sag'}. Best is trial 8 with value: 0.8607568027210885.\u001b[0m\n",
      "\u001b[32m[I 2023-04-12 21:36:47,482]\u001b[0m Trial 102 finished with value: 0.8586734693877551 and parameters: {'C': 0.80837951666852, 'solver': 'newton-cg'}. Best is trial 8 with value: 0.8607568027210885.\u001b[0m\n",
      "\u001b[32m[I 2023-04-12 21:36:47,515]\u001b[0m Trial 103 finished with value: 0.8607568027210885 and parameters: {'C': 0.8287690269890992, 'solver': 'lbfgs'}. Best is trial 8 with value: 0.8607568027210885.\u001b[0m\n",
      "\u001b[32m[I 2023-04-12 21:36:47,539]\u001b[0m Trial 104 finished with value: 0.8607568027210885 and parameters: {'C': 0.870265337772878, 'solver': 'saga'}. Best is trial 8 with value: 0.8607568027210885.\u001b[0m\n",
      "\u001b[32m[I 2023-04-12 21:36:47,569]\u001b[0m Trial 105 finished with value: 0.8607568027210885 and parameters: {'C': 0.9709894902870386, 'solver': 'lbfgs'}. Best is trial 8 with value: 0.8607568027210885.\u001b[0m\n",
      "\u001b[32m[I 2023-04-12 21:36:47,593]\u001b[0m Trial 106 finished with value: 0.8607568027210885 and parameters: {'C': 0.9282995042154161, 'solver': 'sag'}. Best is trial 8 with value: 0.8607568027210885.\u001b[0m\n",
      "\u001b[32m[I 2023-04-12 21:36:47,618]\u001b[0m Trial 107 finished with value: 0.8607568027210885 and parameters: {'C': 0.8653449983686718, 'solver': 'sag'}. Best is trial 8 with value: 0.8607568027210885.\u001b[0m\n",
      "\u001b[32m[I 2023-04-12 21:36:47,643]\u001b[0m Trial 108 finished with value: 0.8607568027210885 and parameters: {'C': 0.905888203368639, 'solver': 'saga'}. Best is trial 8 with value: 0.8607568027210885.\u001b[0m\n",
      "\u001b[32m[I 2023-04-12 21:36:47,667]\u001b[0m Trial 109 finished with value: 0.8586734693877551 and parameters: {'C': 0.750864526543844, 'solver': 'saga'}. Best is trial 8 with value: 0.8607568027210885.\u001b[0m\n",
      "\u001b[32m[I 2023-04-12 21:36:47,692]\u001b[0m Trial 110 finished with value: 0.8607568027210885 and parameters: {'C': 0.895217439085019, 'solver': 'saga'}. Best is trial 8 with value: 0.8607568027210885.\u001b[0m\n",
      "\u001b[32m[I 2023-04-12 21:36:47,728]\u001b[0m Trial 111 finished with value: 0.8586734693877551 and parameters: {'C': 0.2848027019842538, 'solver': 'newton-cg'}. Best is trial 8 with value: 0.8607568027210885.\u001b[0m\n",
      "\u001b[32m[I 2023-04-12 21:36:47,756]\u001b[0m Trial 112 finished with value: 0.8607568027210885 and parameters: {'C': 0.8915802711794021, 'solver': 'saga'}. Best is trial 8 with value: 0.8607568027210885.\u001b[0m\n",
      "\u001b[32m[I 2023-04-12 21:36:47,790]\u001b[0m Trial 113 finished with value: 0.8607568027210885 and parameters: {'C': 0.8625715439482394, 'solver': 'newton-cg'}. Best is trial 8 with value: 0.8607568027210885.\u001b[0m\n",
      "\u001b[32m[I 2023-04-12 21:36:47,826]\u001b[0m Trial 114 finished with value: 0.8607568027210885 and parameters: {'C': 0.9254253505175699, 'solver': 'newton-cg'}. Best is trial 8 with value: 0.8607568027210885.\u001b[0m\n",
      "\u001b[32m[I 2023-04-12 21:36:47,880]\u001b[0m Trial 115 finished with value: 0.8607568027210885 and parameters: {'C': 0.8238264037305929, 'solver': 'newton-cg'}. Best is trial 8 with value: 0.8607568027210885.\u001b[0m\n",
      "\u001b[32m[I 2023-04-12 21:36:47,914]\u001b[0m Trial 116 finished with value: 0.8607568027210885 and parameters: {'C': 0.8328489307153056, 'solver': 'newton-cg'}. Best is trial 8 with value: 0.8607568027210885.\u001b[0m\n",
      "\u001b[32m[I 2023-04-12 21:36:47,947]\u001b[0m Trial 117 finished with value: 0.8586734693877551 and parameters: {'C': 0.7218486050244307, 'solver': 'newton-cg'}. Best is trial 8 with value: 0.8607568027210885.\u001b[0m\n",
      "\u001b[32m[I 2023-04-12 21:36:47,972]\u001b[0m Trial 118 finished with value: 0.8607568027210885 and parameters: {'C': 0.8496818411187494, 'solver': 'sag'}. Best is trial 8 with value: 0.8607568027210885.\u001b[0m\n",
      "\u001b[32m[I 2023-04-12 21:36:47,996]\u001b[0m Trial 119 finished with value: 0.8607568027210885 and parameters: {'C': 0.8510263149834558, 'solver': 'sag'}. Best is trial 8 with value: 0.8607568027210885.\u001b[0m\n",
      "\u001b[32m[I 2023-04-12 21:36:48,021]\u001b[0m Trial 120 finished with value: 0.8586734693877551 and parameters: {'C': 0.7676626133395041, 'solver': 'sag'}. Best is trial 8 with value: 0.8607568027210885.\u001b[0m\n",
      "\u001b[32m[I 2023-04-12 21:36:48,045]\u001b[0m Trial 121 finished with value: 0.8607568027210885 and parameters: {'C': 0.9397744298720057, 'solver': 'sag'}. Best is trial 8 with value: 0.8607568027210885.\u001b[0m\n",
      "\u001b[32m[I 2023-04-12 21:36:48,077]\u001b[0m Trial 122 finished with value: 0.8607568027210885 and parameters: {'C': 0.9932911642590476, 'solver': 'newton-cg'}. Best is trial 8 with value: 0.8607568027210885.\u001b[0m\n",
      "\u001b[32m[I 2023-04-12 21:36:48,105]\u001b[0m Trial 123 finished with value: 0.8607568027210885 and parameters: {'C': 0.9806127836783226, 'solver': 'saga'}. Best is trial 8 with value: 0.8607568027210885.\u001b[0m\n",
      "\u001b[32m[I 2023-04-12 21:36:48,139]\u001b[0m Trial 124 finished with value: 0.8607568027210885 and parameters: {'C': 0.9713665449423332, 'solver': 'newton-cg'}. Best is trial 8 with value: 0.8607568027210885.\u001b[0m\n",
      "\u001b[32m[I 2023-04-12 21:36:48,163]\u001b[0m Trial 125 finished with value: 0.8607568027210885 and parameters: {'C': 0.9125987025500317, 'solver': 'saga'}. Best is trial 8 with value: 0.8607568027210885.\u001b[0m\n",
      "\u001b[32m[I 2023-04-12 21:36:48,188]\u001b[0m Trial 126 finished with value: 0.8607568027210885 and parameters: {'C': 0.8884298412807121, 'solver': 'saga'}. Best is trial 8 with value: 0.8607568027210885.\u001b[0m\n",
      "\u001b[32m[I 2023-04-12 21:36:48,235]\u001b[0m Trial 127 finished with value: 0.8607568027210885 and parameters: {'C': 0.9609627793248692, 'solver': 'saga'}. Best is trial 8 with value: 0.8607568027210885.\u001b[0m\n",
      "\u001b[32m[I 2023-04-12 21:36:48,271]\u001b[0m Trial 128 finished with value: 0.8586734693877551 and parameters: {'C': 0.7869489881716665, 'solver': 'newton-cg'}. Best is trial 8 with value: 0.8607568027210885.\u001b[0m\n",
      "\u001b[32m[I 2023-04-12 21:36:48,299]\u001b[0m Trial 129 finished with value: 0.8607568027210885 and parameters: {'C': 0.9378347120657643, 'solver': 'lbfgs'}. Best is trial 8 with value: 0.8607568027210885.\u001b[0m\n",
      "\u001b[32m[I 2023-04-12 21:36:48,326]\u001b[0m Trial 130 finished with value: 0.8607568027210885 and parameters: {'C': 0.9891521905172459, 'solver': 'saga'}. Best is trial 8 with value: 0.8607568027210885.\u001b[0m\n",
      "\u001b[32m[I 2023-04-12 21:36:48,361]\u001b[0m Trial 131 finished with value: 0.8586734693877551 and parameters: {'C': 0.8101245561706475, 'solver': 'newton-cg'}. Best is trial 8 with value: 0.8607568027210885.\u001b[0m\n",
      "\u001b[32m[I 2023-04-12 21:36:48,390]\u001b[0m Trial 132 finished with value: 0.8607568027210885 and parameters: {'C': 0.8752089173253138, 'solver': 'lbfgs'}. Best is trial 8 with value: 0.8607568027210885.\u001b[0m\n",
      "\u001b[32m[I 2023-04-12 21:36:48,419]\u001b[0m Trial 133 finished with value: 0.8607568027210885 and parameters: {'C': 0.8718500090525202, 'solver': 'lbfgs'}. Best is trial 8 with value: 0.8607568027210885.\u001b[0m\n",
      "\u001b[32m[I 2023-04-12 21:36:48,452]\u001b[0m Trial 134 finished with value: 0.8607568027210885 and parameters: {'C': 0.8779690953900763, 'solver': 'lbfgs'}. Best is trial 8 with value: 0.8607568027210885.\u001b[0m\n",
      "\u001b[32m[I 2023-04-12 21:36:48,481]\u001b[0m Trial 135 finished with value: 0.8607568027210885 and parameters: {'C': 0.9143287587097735, 'solver': 'lbfgs'}. Best is trial 8 with value: 0.8607568027210885.\u001b[0m\n",
      "\u001b[32m[I 2023-04-12 21:36:48,509]\u001b[0m Trial 136 finished with value: 0.8607568027210885 and parameters: {'C': 0.9189230129104108, 'solver': 'lbfgs'}. Best is trial 8 with value: 0.8607568027210885.\u001b[0m\n",
      "\u001b[32m[I 2023-04-12 21:36:48,536]\u001b[0m Trial 137 finished with value: 0.8607568027210885 and parameters: {'C': 0.999192474589801, 'solver': 'saga'}. Best is trial 8 with value: 0.8607568027210885.\u001b[0m\n",
      "\u001b[32m[I 2023-04-12 21:36:48,561]\u001b[0m Trial 138 finished with value: 0.8607568027210885 and parameters: {'C': 0.956062066051134, 'solver': 'saga'}. Best is trial 8 with value: 0.8607568027210885.\u001b[0m\n",
      "\u001b[32m[I 2023-04-12 21:36:48,587]\u001b[0m Trial 139 finished with value: 0.8607568027210885 and parameters: {'C': 0.9683483330509596, 'solver': 'saga'}. Best is trial 8 with value: 0.8607568027210885.\u001b[0m\n",
      "\u001b[32m[I 2023-04-12 21:36:48,629]\u001b[0m Trial 140 finished with value: 0.8607568027210885 and parameters: {'C': 0.9563198605493279, 'solver': 'saga'}. Best is trial 8 with value: 0.8607568027210885.\u001b[0m\n",
      "\u001b[32m[I 2023-04-12 21:36:48,654]\u001b[0m Trial 141 finished with value: 0.8607568027210885 and parameters: {'C': 0.9409689604333848, 'solver': 'saga'}. Best is trial 8 with value: 0.8607568027210885.\u001b[0m\n",
      "\u001b[32m[I 2023-04-12 21:36:48,681]\u001b[0m Trial 142 finished with value: 0.8607568027210885 and parameters: {'C': 0.9410198710585828, 'solver': 'saga'}. Best is trial 8 with value: 0.8607568027210885.\u001b[0m\n",
      "\u001b[32m[I 2023-04-12 21:36:48,697]\u001b[0m Trial 143 finished with value: 0.8566326530612244 and parameters: {'C': 0.9710834635093936, 'solver': 'liblinear'}. Best is trial 8 with value: 0.8607568027210885.\u001b[0m\n",
      "\u001b[32m[I 2023-04-12 21:36:48,727]\u001b[0m Trial 144 finished with value: 0.8607568027210885 and parameters: {'C': 0.9305470448662294, 'solver': 'lbfgs'}. Best is trial 8 with value: 0.8607568027210885.\u001b[0m\n",
      "\u001b[32m[I 2023-04-12 21:36:48,757]\u001b[0m Trial 145 finished with value: 0.8607568027210885 and parameters: {'C': 0.8540601415049132, 'solver': 'lbfgs'}. Best is trial 8 with value: 0.8607568027210885.\u001b[0m\n",
      "\u001b[32m[I 2023-04-12 21:36:48,787]\u001b[0m Trial 146 finished with value: 0.8607568027210885 and parameters: {'C': 0.9566585267198127, 'solver': 'lbfgs'}. Best is trial 8 with value: 0.8607568027210885.\u001b[0m\n",
      "\u001b[32m[I 2023-04-12 21:36:48,815]\u001b[0m Trial 147 finished with value: 0.8607568027210885 and parameters: {'C': 0.9238387771021557, 'solver': 'lbfgs'}. Best is trial 8 with value: 0.8607568027210885.\u001b[0m\n",
      "\u001b[32m[I 2023-04-12 21:36:48,845]\u001b[0m Trial 148 finished with value: 0.8607568027210885 and parameters: {'C': 0.9769545427318955, 'solver': 'lbfgs'}. Best is trial 8 with value: 0.8607568027210885.\u001b[0m\n",
      "\u001b[32m[I 2023-04-12 21:36:48,872]\u001b[0m Trial 149 finished with value: 0.8607568027210885 and parameters: {'C': 0.9041208061827599, 'solver': 'lbfgs'}. Best is trial 8 with value: 0.8607568027210885.\u001b[0m\n",
      "\u001b[32m[I 2023-04-12 21:36:48,923]\u001b[0m Trial 150 finished with value: 0.8607568027210885 and parameters: {'C': 0.9381758755551441, 'solver': 'lbfgs'}. Best is trial 8 with value: 0.8607568027210885.\u001b[0m\n",
      "\u001b[32m[I 2023-04-12 21:36:48,952]\u001b[0m Trial 151 finished with value: 0.8607568027210885 and parameters: {'C': 0.8390913627156016, 'solver': 'lbfgs'}. Best is trial 8 with value: 0.8607568027210885.\u001b[0m\n",
      "\u001b[32m[I 2023-04-12 21:36:48,984]\u001b[0m Trial 152 finished with value: 0.8607568027210885 and parameters: {'C': 0.9053652683020771, 'solver': 'lbfgs'}. Best is trial 8 with value: 0.8607568027210885.\u001b[0m\n",
      "\u001b[32m[I 2023-04-12 21:36:49,009]\u001b[0m Trial 153 finished with value: 0.8607568027210885 and parameters: {'C': 0.8944731310829799, 'solver': 'saga'}. Best is trial 8 with value: 0.8607568027210885.\u001b[0m\n",
      "\u001b[32m[I 2023-04-12 21:36:49,034]\u001b[0m Trial 154 finished with value: 0.8607568027210885 and parameters: {'C': 0.8871465074368632, 'solver': 'saga'}. Best is trial 8 with value: 0.8607568027210885.\u001b[0m\n",
      "\u001b[32m[I 2023-04-12 21:36:49,066]\u001b[0m Trial 155 finished with value: 0.8607568027210885 and parameters: {'C': 0.9040191996537288, 'solver': 'saga'}. Best is trial 8 with value: 0.8607568027210885.\u001b[0m\n",
      "\u001b[32m[I 2023-04-12 21:36:49,091]\u001b[0m Trial 156 finished with value: 0.8607568027210885 and parameters: {'C': 0.8663114908908256, 'solver': 'saga'}. Best is trial 8 with value: 0.8607568027210885.\u001b[0m\n",
      "\u001b[32m[I 2023-04-12 21:36:49,122]\u001b[0m Trial 157 finished with value: 0.8607568027210885 and parameters: {'C': 0.8617270254764723, 'solver': 'saga'}. Best is trial 8 with value: 0.8607568027210885.\u001b[0m\n",
      "\u001b[32m[I 2023-04-12 21:36:49,147]\u001b[0m Trial 158 finished with value: 0.8586734693877551 and parameters: {'C': 0.8187004396305204, 'solver': 'saga'}. Best is trial 8 with value: 0.8607568027210885.\u001b[0m\n",
      "\u001b[32m[I 2023-04-12 21:36:49,182]\u001b[0m Trial 159 finished with value: 0.8607568027210885 and parameters: {'C': 0.9172017319461313, 'solver': 'newton-cg'}. Best is trial 8 with value: 0.8607568027210885.\u001b[0m\n",
      "\u001b[32m[I 2023-04-12 21:36:49,233]\u001b[0m Trial 160 finished with value: 0.8607568027210885 and parameters: {'C': 0.8411702567250176, 'solver': 'newton-cg'}. Best is trial 8 with value: 0.8607568027210885.\u001b[0m\n",
      "\u001b[32m[I 2023-04-12 21:36:49,268]\u001b[0m Trial 161 finished with value: 0.8586734693877551 and parameters: {'C': 0.8013413155912145, 'solver': 'newton-cg'}. Best is trial 8 with value: 0.8607568027210885.\u001b[0m\n",
      "\u001b[32m[I 2023-04-12 21:36:49,303]\u001b[0m Trial 162 finished with value: 0.8607568027210885 and parameters: {'C': 0.999041406448276, 'solver': 'newton-cg'}. Best is trial 8 with value: 0.8607568027210885.\u001b[0m\n",
      "\u001b[32m[I 2023-04-12 21:36:49,327]\u001b[0m Trial 163 finished with value: 0.8607568027210885 and parameters: {'C': 0.8354432865634875, 'solver': 'sag'}. Best is trial 8 with value: 0.8607568027210885.\u001b[0m\n",
      "\u001b[32m[I 2023-04-12 21:36:49,353]\u001b[0m Trial 164 finished with value: 0.8607568027210885 and parameters: {'C': 0.8515895193305546, 'solver': 'sag'}. Best is trial 8 with value: 0.8607568027210885.\u001b[0m\n",
      "\u001b[32m[I 2023-04-12 21:36:49,377]\u001b[0m Trial 165 finished with value: 0.8607568027210885 and parameters: {'C': 0.8370551389208863, 'solver': 'sag'}. Best is trial 8 with value: 0.8607568027210885.\u001b[0m\n",
      "\u001b[32m[I 2023-04-12 21:36:49,404]\u001b[0m Trial 166 finished with value: 0.8607568027210885 and parameters: {'C': 0.8683225860930912, 'solver': 'sag'}. Best is trial 8 with value: 0.8607568027210885.\u001b[0m\n",
      "\u001b[32m[I 2023-04-12 21:36:49,435]\u001b[0m Trial 167 finished with value: 0.8607568027210885 and parameters: {'C': 0.8879293751366927, 'solver': 'sag'}. Best is trial 8 with value: 0.8607568027210885.\u001b[0m\n",
      "\u001b[32m[I 2023-04-12 21:36:49,460]\u001b[0m Trial 168 finished with value: 0.8607568027210885 and parameters: {'C': 0.8659886381932792, 'solver': 'sag'}. Best is trial 8 with value: 0.8607568027210885.\u001b[0m\n",
      "\u001b[32m[I 2023-04-12 21:36:49,489]\u001b[0m Trial 169 finished with value: 0.8565901360544217 and parameters: {'C': 0.1570487946174367, 'solver': 'newton-cg'}. Best is trial 8 with value: 0.8607568027210885.\u001b[0m\n",
      "\u001b[32m[I 2023-04-12 21:36:49,532]\u001b[0m Trial 170 finished with value: 0.8607568027210885 and parameters: {'C': 0.8779460588676042, 'solver': 'lbfgs'}. Best is trial 8 with value: 0.8607568027210885.\u001b[0m\n",
      "\u001b[32m[I 2023-04-12 21:36:49,572]\u001b[0m Trial 171 finished with value: 0.8607568027210885 and parameters: {'C': 0.9023799677772659, 'solver': 'newton-cg'}. Best is trial 8 with value: 0.8607568027210885.\u001b[0m\n",
      "\u001b[32m[I 2023-04-12 21:36:49,608]\u001b[0m Trial 172 finished with value: 0.8607568027210885 and parameters: {'C': 0.9246203042595741, 'solver': 'newton-cg'}. Best is trial 8 with value: 0.8607568027210885.\u001b[0m\n",
      "\u001b[32m[I 2023-04-12 21:36:49,642]\u001b[0m Trial 173 finished with value: 0.8607568027210885 and parameters: {'C': 0.9958094317642945, 'solver': 'newton-cg'}. Best is trial 8 with value: 0.8607568027210885.\u001b[0m\n",
      "\u001b[32m[I 2023-04-12 21:36:49,677]\u001b[0m Trial 174 finished with value: 0.8607568027210885 and parameters: {'C': 0.9873354703963191, 'solver': 'newton-cg'}. Best is trial 8 with value: 0.8607568027210885.\u001b[0m\n",
      "\u001b[32m[I 2023-04-12 21:36:49,710]\u001b[0m Trial 175 finished with value: 0.8607568027210885 and parameters: {'C': 0.9898252565626979, 'solver': 'saga'}. Best is trial 8 with value: 0.8607568027210885.\u001b[0m\n",
      "\u001b[32m[I 2023-04-12 21:36:49,738]\u001b[0m Trial 176 finished with value: 0.8607568027210885 and parameters: {'C': 0.9742917730008204, 'solver': 'saga'}. Best is trial 8 with value: 0.8607568027210885.\u001b[0m\n",
      "\u001b[32m[I 2023-04-12 21:36:49,764]\u001b[0m Trial 177 finished with value: 0.8607568027210885 and parameters: {'C': 0.948779975303124, 'solver': 'saga'}. Best is trial 8 with value: 0.8607568027210885.\u001b[0m\n",
      "\u001b[32m[I 2023-04-12 21:36:49,811]\u001b[0m Trial 178 finished with value: 0.8607568027210885 and parameters: {'C': 0.9517680763086417, 'solver': 'saga'}. Best is trial 8 with value: 0.8607568027210885.\u001b[0m\n",
      "\u001b[32m[I 2023-04-12 21:36:49,849]\u001b[0m Trial 179 finished with value: 0.8565901360544217 and parameters: {'C': 0.603407249255477, 'solver': 'newton-cg'}. Best is trial 8 with value: 0.8607568027210885.\u001b[0m\n",
      "\u001b[32m[I 2023-04-12 21:36:49,876]\u001b[0m Trial 180 finished with value: 0.8607568027210885 and parameters: {'C': 0.9387001770790112, 'solver': 'saga'}. Best is trial 8 with value: 0.8607568027210885.\u001b[0m\n",
      "\u001b[32m[I 2023-04-12 21:36:49,915]\u001b[0m Trial 181 finished with value: 0.8607568027210885 and parameters: {'C': 0.9847287524460953, 'solver': 'newton-cg'}. Best is trial 8 with value: 0.8607568027210885.\u001b[0m\n",
      "\u001b[32m[I 2023-04-12 21:36:49,952]\u001b[0m Trial 182 finished with value: 0.8607568027210885 and parameters: {'C': 0.976641702459436, 'solver': 'newton-cg'}. Best is trial 8 with value: 0.8607568027210885.\u001b[0m\n",
      "\u001b[32m[I 2023-04-12 21:36:49,981]\u001b[0m Trial 183 finished with value: 0.8607568027210885 and parameters: {'C': 0.9666037006904015, 'solver': 'lbfgs'}. Best is trial 8 with value: 0.8607568027210885.\u001b[0m\n",
      "\u001b[32m[I 2023-04-12 21:36:50,011]\u001b[0m Trial 184 finished with value: 0.8607568027210885 and parameters: {'C': 0.957185351402458, 'solver': 'lbfgs'}. Best is trial 8 with value: 0.8607568027210885.\u001b[0m\n",
      "\u001b[32m[I 2023-04-12 21:36:50,045]\u001b[0m Trial 185 finished with value: 0.8586734693877551 and parameters: {'C': 0.43076019969185214, 'solver': 'lbfgs'}. Best is trial 8 with value: 0.8607568027210885.\u001b[0m\n",
      "\u001b[32m[I 2023-04-12 21:36:50,076]\u001b[0m Trial 186 finished with value: 0.8607568027210885 and parameters: {'C': 0.9452755259011489, 'solver': 'lbfgs'}. Best is trial 8 with value: 0.8607568027210885.\u001b[0m\n",
      "\u001b[32m[I 2023-04-12 21:36:50,121]\u001b[0m Trial 187 finished with value: 0.8607568027210885 and parameters: {'C': 0.9142762974610822, 'solver': 'saga'}. Best is trial 8 with value: 0.8607568027210885.\u001b[0m\n",
      "\u001b[32m[I 2023-04-12 21:36:50,140]\u001b[0m Trial 188 finished with value: 0.8566326530612244 and parameters: {'C': 0.9228575226161309, 'solver': 'liblinear'}. Best is trial 8 with value: 0.8607568027210885.\u001b[0m\n",
      "\u001b[32m[I 2023-04-12 21:36:50,172]\u001b[0m Trial 189 finished with value: 0.8607568027210885 and parameters: {'C': 0.9298651260973051, 'solver': 'lbfgs'}. Best is trial 8 with value: 0.8607568027210885.\u001b[0m\n",
      "\u001b[32m[I 2023-04-12 21:36:50,202]\u001b[0m Trial 190 finished with value: 0.8607568027210885 and parameters: {'C': 0.9999648774590305, 'solver': 'lbfgs'}. Best is trial 8 with value: 0.8607568027210885.\u001b[0m\n",
      "\u001b[32m[I 2023-04-12 21:36:50,233]\u001b[0m Trial 191 finished with value: 0.8607568027210885 and parameters: {'C': 0.9701663145627318, 'solver': 'saga'}. Best is trial 8 with value: 0.8607568027210885.\u001b[0m\n",
      "\u001b[32m[I 2023-04-12 21:36:50,267]\u001b[0m Trial 192 finished with value: 0.8607568027210885 and parameters: {'C': 0.9589247071917849, 'solver': 'saga'}. Best is trial 8 with value: 0.8607568027210885.\u001b[0m\n",
      "\u001b[32m[I 2023-04-12 21:36:50,300]\u001b[0m Trial 193 finished with value: 0.8607568027210885 and parameters: {'C': 0.9840185371932668, 'solver': 'saga'}. Best is trial 8 with value: 0.8607568027210885.\u001b[0m\n",
      "\u001b[32m[I 2023-04-12 21:36:50,329]\u001b[0m Trial 194 finished with value: 0.8607568027210885 and parameters: {'C': 0.9643551734606011, 'solver': 'saga'}. Best is trial 8 with value: 0.8607568027210885.\u001b[0m\n",
      "\u001b[32m[I 2023-04-12 21:36:50,357]\u001b[0m Trial 195 finished with value: 0.8607568027210885 and parameters: {'C': 0.9489128287181874, 'solver': 'saga'}. Best is trial 8 with value: 0.8607568027210885.\u001b[0m\n",
      "\u001b[32m[I 2023-04-12 21:36:50,401]\u001b[0m Trial 196 finished with value: 0.8607568027210885 and parameters: {'C': 0.9602205264468696, 'solver': 'saga'}. Best is trial 8 with value: 0.8607568027210885.\u001b[0m\n",
      "\u001b[32m[I 2023-04-12 21:36:50,430]\u001b[0m Trial 197 finished with value: 0.8607568027210885 and parameters: {'C': 0.9437852696879369, 'solver': 'saga'}. Best is trial 8 with value: 0.8607568027210885.\u001b[0m\n",
      "\u001b[32m[I 2023-04-12 21:36:50,458]\u001b[0m Trial 198 finished with value: 0.8607568027210885 and parameters: {'C': 0.9319568918582917, 'solver': 'saga'}. Best is trial 8 with value: 0.8607568027210885.\u001b[0m\n",
      "\u001b[32m[I 2023-04-12 21:36:50,485]\u001b[0m Trial 199 finished with value: 0.8607568027210885 and parameters: {'C': 0.8985392227237196, 'solver': 'saga'}. Best is trial 8 with value: 0.8607568027210885.\u001b[0m\n"
     ]
    }
   ],
   "source": [
    "# find the optimal hyperparametries for LGBM Classifier\n",
    "import optuna\n",
    "def objective(trial):\n",
    "    param_grid = {\n",
    "    #'penalty': trial.suggest_categorical('penalty', ['l1', 'l2', 'elasticnet']),\n",
    "    'C': trial.suggest_float('C', 0.01, 1),\n",
    "    'solver': trial.suggest_categorical('solver', ['lbfgs', 'liblinear', 'newton-cg',  'sag', 'saga']),\n",
    "    }\n",
    "    model = LogisticRegression(**param_grid)\n",
    "    model.fit(X_train, y_train)\n",
    "    return cross_val_score(model, X_train, y_train, n_jobs=-1, cv=kf).mean()\n",
    "study = optuna.create_study(direction = 'maximize')\n",
    "study.optimize(objective, n_trials = 200)\n",
    "model= LogisticRegression(**study.best_params, random_state =23)"
   ]
  },
  {
   "cell_type": "code",
   "execution_count": 55,
   "id": "4f204d98-88d1-4d56-9391-91006b69cdc3",
   "metadata": {},
   "outputs": [
    {
     "name": "stdout",
     "output_type": "stream",
     "text": [
      "Best Params: {'C': 0.8633871243448024, 'solver': 'newton-cg'}\n"
     ]
    }
   ],
   "source": [
    "print('Best Params: {}'.format(study.best_params))"
   ]
  },
  {
   "cell_type": "code",
   "execution_count": 56,
   "id": "974e60ff-1f2a-4c40-b67c-822f0689d087",
   "metadata": {},
   "outputs": [
    {
     "name": "stdout",
     "output_type": "stream",
     "text": [
      "Mean cross validation score for Logistic Regression before tuning: 0.8503401360544217\n",
      "Mean cross validation score for Logistic Regression with best params: 0.8607568027210885\n"
     ]
    }
   ],
   "source": [
    "print('Mean cross validation score for Logistic Regression before tuning: {}'.format(cv_scores.mean()))\n",
    "print('Mean cross validation score for Logistic Regression with best params: {}'.format(study.best_trial.value))"
   ]
  },
  {
   "cell_type": "markdown",
   "id": "93773c7a-4f46-4e6b-8677-9ed077505d78",
   "metadata": {},
   "source": [
    "It seems that my tuned model performs slightly better as the untuned one."
   ]
  },
  {
   "cell_type": "code",
   "execution_count": 57,
   "id": "8234266a-da64-45f7-b482-332e1f92f0a2",
   "metadata": {},
   "outputs": [
    {
     "name": "stdout",
     "output_type": "stream",
     "text": [
      "Classification_report of Logistic Regression before tuning: \n",
      "               precision    recall  f1-score   support\n",
      "\n",
      "           0       0.92      0.83      0.87       118\n",
      "           1       0.80      0.90      0.85        89\n",
      "\n",
      "    accuracy                           0.86       207\n",
      "   macro avg       0.86      0.86      0.86       207\n",
      "weighted avg       0.87      0.86      0.86       207\n",
      "\n",
      "Classification_report of Logistic Regression tuned: \n",
      "               precision    recall  f1-score   support\n",
      "\n",
      "           0       0.92      0.83      0.87       118\n",
      "           1       0.80      0.90      0.85        89\n",
      "\n",
      "    accuracy                           0.86       207\n",
      "   macro avg       0.86      0.86      0.86       207\n",
      "weighted avg       0.87      0.86      0.86       207\n",
      "\n"
     ]
    }
   ],
   "source": [
    "# create the Logistic Regression with best params\n",
    "lr2 = LogisticRegression(solver = 'lbfgs', C = 0.9186431297087938,\n",
    "                         class_weight = {0:class_weights[0], 1:class_weights[1]}, random_state=42)\n",
    "\n",
    "# Fit the Logistic Regression model\n",
    "lr2.fit(X_train, y_train)\n",
    "\n",
    "# Use rfc to predict instances from the test set and store it\n",
    "y_pred_lr2 = lr2.predict(X_test)\n",
    "\n",
    "# Print the classification_report of the Random Forest Classifier\n",
    "print('Classification_report of Logistic Regression before tuning:', '\\n', classification_report(y_test, y_pred_lr))\n",
    "print('Classification_report of Logistic Regression tuned:', '\\n', classification_report(y_test, y_pred_lr2))"
   ]
  },
  {
   "cell_type": "markdown",
   "id": "7105e857-95f5-4f81-9377-acf233267363",
   "metadata": {},
   "source": [
    "## 6. Keras Neural Network Model \n",
    "Now I will create a neural network model to see if I can obtaine better results. "
   ]
  },
  {
   "cell_type": "code",
   "execution_count": 58,
   "id": "04eb214f-b947-47d4-8a44-3861296bfba7",
   "metadata": {},
   "outputs": [],
   "source": [
    "# fix random seed for reproducibility\n",
    "tf.random.set_seed(23)"
   ]
  },
  {
   "cell_type": "code",
   "execution_count": 59,
   "id": "993d5640-61f6-4ce2-851a-965050949f43",
   "metadata": {},
   "outputs": [],
   "source": [
    "# Function to create model, required for KerasClassifier\n",
    "model = Sequential()\n",
    "model.add(Dense(X_train.shape[1]*3, activation = 'relu', input_shape=(X_train.shape[1],)))\n",
    "model.add(Dense(X_train.shape[1]*2, activation = 'relu'))\n",
    "model.add(Dense(X_train.shape[1], activation = 'relu'))\n",
    "model.add(Dense(1, activation = 'sigmoid')) "
   ]
  },
  {
   "cell_type": "code",
   "execution_count": 60,
   "id": "fa1bbaf4-9663-476a-87bd-9842d65b5283",
   "metadata": {},
   "outputs": [],
   "source": [
    "# Compile and train the model\n",
    "model.compile(loss = 'binary_crossentropy',  optimizer =keras.optimizers.Adam(learning_rate=0.075), metrics=['accuracy'])"
   ]
  },
  {
   "cell_type": "code",
   "execution_count": 61,
   "id": "4127adfd-1ee2-4d4c-879c-928c955901fa",
   "metadata": {},
   "outputs": [
    {
     "data": {
      "text/plain": [
       "((481, 38), (207, 38), TensorShape([481]), TensorShape([207]))"
      ]
     },
     "execution_count": 61,
     "metadata": {},
     "output_type": "execute_result"
    }
   ],
   "source": [
    "# Convert y_train and y_test to a tensor \n",
    "y_train_nn = tf.constant(y_train, dtype=tf.int32)\n",
    "y_test_nn = tf.constant(y_test, dtype=tf.int32)\n",
    "X_train.shape, X_test.shape, y_train_nn.shape, y_test_nn.shape"
   ]
  },
  {
   "cell_type": "code",
   "execution_count": 62,
   "id": "ced84559-b58b-41b1-ad12-0756e81f89d5",
   "metadata": {},
   "outputs": [
    {
     "name": "stdout",
     "output_type": "stream",
     "text": [
      "Epoch 1/400\n",
      "10/10 [==============================] - 1s 17ms/step - loss: 0.9099 - accuracy: 0.5703 - val_loss: 0.7018 - val_accuracy: 0.7835 - lr: 0.0750\n",
      "Epoch 2/400\n",
      "10/10 [==============================] - 0s 3ms/step - loss: 0.4187 - accuracy: 0.8411 - val_loss: 0.5433 - val_accuracy: 0.8144 - lr: 0.0750\n",
      "Epoch 3/400\n",
      "10/10 [==============================] - 0s 4ms/step - loss: 0.3333 - accuracy: 0.8620 - val_loss: 0.4466 - val_accuracy: 0.8144 - lr: 0.0750\n",
      "Epoch 4/400\n",
      "10/10 [==============================] - 0s 3ms/step - loss: 0.3288 - accuracy: 0.8724 - val_loss: 0.4422 - val_accuracy: 0.8247 - lr: 0.0750\n",
      "Epoch 5/400\n",
      "10/10 [==============================] - 0s 3ms/step - loss: 0.2967 - accuracy: 0.8932 - val_loss: 0.4613 - val_accuracy: 0.8144 - lr: 0.0750\n",
      "Epoch 6/400\n",
      "10/10 [==============================] - 0s 3ms/step - loss: 0.2810 - accuracy: 0.8854 - val_loss: 0.5056 - val_accuracy: 0.8454 - lr: 0.0750\n",
      "Epoch 7/400\n",
      "10/10 [==============================] - 0s 3ms/step - loss: 0.2578 - accuracy: 0.8854 - val_loss: 0.5324 - val_accuracy: 0.8454 - lr: 0.0750\n",
      "Epoch 8/400\n",
      "10/10 [==============================] - 0s 3ms/step - loss: 0.2307 - accuracy: 0.9010 - val_loss: 0.6147 - val_accuracy: 0.8351 - lr: 0.0750\n",
      "Epoch 9/400\n",
      "10/10 [==============================] - 0s 3ms/step - loss: 0.2357 - accuracy: 0.9010 - val_loss: 0.7517 - val_accuracy: 0.8454 - lr: 0.0750\n",
      "Epoch 10/400\n",
      "10/10 [==============================] - 0s 3ms/step - loss: 0.1980 - accuracy: 0.9089 - val_loss: 0.8617 - val_accuracy: 0.8454 - lr: 0.0150\n",
      "Epoch 11/400\n",
      "10/10 [==============================] - 0s 4ms/step - loss: 0.1919 - accuracy: 0.9089 - val_loss: 0.8536 - val_accuracy: 0.8454 - lr: 0.0150\n",
      "Epoch 12/400\n",
      "10/10 [==============================] - 0s 3ms/step - loss: 0.1824 - accuracy: 0.9271 - val_loss: 0.8453 - val_accuracy: 0.8454 - lr: 0.0150\n",
      "Epoch 13/400\n",
      "10/10 [==============================] - 0s 3ms/step - loss: 0.1748 - accuracy: 0.9219 - val_loss: 0.8951 - val_accuracy: 0.8454 - lr: 0.0150\n",
      "Epoch 14/400\n",
      "10/10 [==============================] - 0s 3ms/step - loss: 0.1684 - accuracy: 0.9141 - val_loss: 0.9035 - val_accuracy: 0.8557 - lr: 0.0150\n",
      "Epoch 15/400\n",
      "10/10 [==============================] - 0s 4ms/step - loss: 0.1626 - accuracy: 0.9193 - val_loss: 0.9078 - val_accuracy: 0.8557 - lr: 0.0030\n",
      "Epoch 16/400\n",
      "10/10 [==============================] - 0s 3ms/step - loss: 0.1611 - accuracy: 0.9245 - val_loss: 0.9205 - val_accuracy: 0.8557 - lr: 0.0030\n",
      "Epoch 17/400\n",
      "10/10 [==============================] - 0s 3ms/step - loss: 0.1589 - accuracy: 0.9245 - val_loss: 0.9403 - val_accuracy: 0.8454 - lr: 0.0030\n",
      "Epoch 18/400\n",
      "10/10 [==============================] - 0s 3ms/step - loss: 0.1576 - accuracy: 0.9245 - val_loss: 0.9637 - val_accuracy: 0.8454 - lr: 0.0030\n",
      "Epoch 19/400\n",
      "10/10 [==============================] - 0s 4ms/step - loss: 0.1561 - accuracy: 0.9271 - val_loss: 0.9702 - val_accuracy: 0.8351 - lr: 0.0030\n",
      "Epoch 20/400\n",
      "10/10 [==============================] - 0s 3ms/step - loss: 0.1547 - accuracy: 0.9245 - val_loss: 0.9728 - val_accuracy: 0.8351 - lr: 0.0010\n",
      "Epoch 21/400\n",
      "10/10 [==============================] - 0s 3ms/step - loss: 0.1539 - accuracy: 0.9245 - val_loss: 0.9794 - val_accuracy: 0.8351 - lr: 0.0010\n",
      "Epoch 22/400\n",
      "10/10 [==============================] - 0s 4ms/step - loss: 0.1533 - accuracy: 0.9245 - val_loss: 0.9835 - val_accuracy: 0.8247 - lr: 0.0010\n",
      "Epoch 23/400\n",
      "10/10 [==============================] - 0s 3ms/step - loss: 0.1526 - accuracy: 0.9245 - val_loss: 0.9874 - val_accuracy: 0.8247 - lr: 0.0010\n",
      "Epoch 24/400\n",
      "10/10 [==============================] - 0s 4ms/step - loss: 0.1521 - accuracy: 0.9245 - val_loss: 0.9922 - val_accuracy: 0.8247 - lr: 0.0010\n",
      "Epoch 25/400\n",
      "10/10 [==============================] - 0s 3ms/step - loss: 0.1518 - accuracy: 0.9245 - val_loss: 0.9954 - val_accuracy: 0.8247 - lr: 0.0010\n",
      "Epoch 26/400\n",
      "10/10 [==============================] - 0s 4ms/step - loss: 0.1512 - accuracy: 0.9245 - val_loss: 0.9991 - val_accuracy: 0.8247 - lr: 0.0010\n",
      "Epoch 27/400\n",
      "10/10 [==============================] - 0s 4ms/step - loss: 0.1507 - accuracy: 0.9245 - val_loss: 1.0054 - val_accuracy: 0.8247 - lr: 0.0010\n",
      "Epoch 28/400\n",
      "10/10 [==============================] - 0s 3ms/step - loss: 0.1504 - accuracy: 0.9245 - val_loss: 1.0092 - val_accuracy: 0.8247 - lr: 0.0010\n",
      "Epoch 29/400\n",
      "10/10 [==============================] - 0s 4ms/step - loss: 0.1500 - accuracy: 0.9245 - val_loss: 1.0127 - val_accuracy: 0.8247 - lr: 0.0010\n",
      "Epoch 29: early stopping\n"
     ]
    },
    {
     "data": {
      "text/plain": [
       "<keras.callbacks.History at 0x1ed33a53370>"
      ]
     },
     "execution_count": 62,
     "metadata": {},
     "output_type": "execute_result"
    }
   ],
   "source": [
    "# Train the model I will use ReduceLROnPlateau to improve the model performance during training by automatically adjusting the learning rate and\n",
    "# EarlyStopping to stop training the model when its performance begins to degrade\n",
    "early_stop = EarlyStopping(monitor = 'val_loss', mode = 'min', verbose = 1, patience = 25)\n",
    "reduce_lr = ReduceLROnPlateau(monitor='val_loss', factor=0.2, patience=5, min_lr=0.001)\n",
    "model.fit(X_train, y_train_nn, validation_split = 0.2, batch_size = 40, epochs=400, callbacks = [early_stop, reduce_lr])"
   ]
  },
  {
   "cell_type": "code",
   "execution_count": 63,
   "id": "c4427ca7-aedd-45ec-8545-4e29276202fd",
   "metadata": {},
   "outputs": [
    {
     "data": {
      "image/png": "[encoded data removed]",
      "text/plain": [
       "<Figure size 1080x360 with 1 Axes>"
      ]
     },
     "metadata": {
      "needs_background": "light"
     },
     "output_type": "display_data"
    }
   ],
   "source": [
    "# Create a graph comparing training and validation loss and accuracy\n",
    "acc_loss = pd.DataFrame(model.history.history)\n",
    "acc_loss.plot(figsize =(15, 5))\n",
    "plt.show()"
   ]
  },
  {
   "cell_type": "markdown",
   "id": "ac743e3c-cd36-44e1-8956-a35220c38fcc",
   "metadata": {},
   "source": [
    "My Neural Network Model performs better than Logistic Regression, but is overfitting. I will now try to reduce overfitting by adding L1_L2 regularization on the first layer to weights of the model and by adding a Dropout layer."
   ]
  },
  {
   "cell_type": "code",
   "execution_count": 64,
   "id": "68e5ef49-b48c-48fb-8726-85f3f6c55aba",
   "metadata": {},
   "outputs": [],
   "source": [
    "# Function to create model, required for KerasClassifier\n",
    "model2 = Sequential()\n",
    "model2.add(Dense(X_train.shape[1]*3,  kernel_regularizer = 'l1_l2', activation = 'relu', input_shape=(X_train.shape[1],)))\n",
    "model2.add(Dropout(0.2))\n",
    "model2.add(Dense(X_train.shape[1]*2,  activation = 'relu', kernel_constraint=MaxNorm(2)))\n",
    "model2.add(Dense(X_train.shape[1], activation = 'relu'))\n",
    "model2.add(Dense(1, activation = 'sigmoid')) "
   ]
  },
  {
   "cell_type": "code",
   "execution_count": 65,
   "id": "27d86179-9e8a-4ac3-b253-c36933ebdca8",
   "metadata": {},
   "outputs": [],
   "source": [
    "# Compile and train the model\n",
    "model2.compile(loss = 'binary_crossentropy',  optimizer =keras.optimizers.Adam(learning_rate=0.075), metrics=['accuracy'])"
   ]
  },
  {
   "cell_type": "code",
   "execution_count": 66,
   "id": "e603a3dc-858e-4143-96bd-ba7c3a2cdf80",
   "metadata": {},
   "outputs": [
    {
     "name": "stdout",
     "output_type": "stream",
     "text": [
      "Epoch 1/400\n",
      "10/10 [==============================] - 0s 14ms/step - loss: 3.6725 - accuracy: 0.5365 - val_loss: 2.7324 - val_accuracy: 0.5567 - lr: 0.0750\n",
      "Epoch 2/400\n",
      "10/10 [==============================] - 0s 3ms/step - loss: 2.1909 - accuracy: 0.7891 - val_loss: 1.6913 - val_accuracy: 0.8041 - lr: 0.0750\n",
      "Epoch 3/400\n",
      "10/10 [==============================] - 0s 3ms/step - loss: 1.4668 - accuracy: 0.8542 - val_loss: 1.2943 - val_accuracy: 0.8144 - lr: 0.0750\n",
      "Epoch 4/400\n",
      "10/10 [==============================] - 0s 4ms/step - loss: 1.2029 - accuracy: 0.8438 - val_loss: 1.2099 - val_accuracy: 0.8351 - lr: 0.0750\n",
      "Epoch 5/400\n",
      "10/10 [==============================] - 0s 3ms/step - loss: 1.0748 - accuracy: 0.8307 - val_loss: 0.9947 - val_accuracy: 0.8351 - lr: 0.0750\n",
      "Epoch 6/400\n",
      "10/10 [==============================] - 0s 3ms/step - loss: 0.9983 - accuracy: 0.8359 - val_loss: 1.0040 - val_accuracy: 0.8144 - lr: 0.0750\n",
      "Epoch 7/400\n",
      "10/10 [==============================] - 0s 4ms/step - loss: 0.9874 - accuracy: 0.8438 - val_loss: 1.0462 - val_accuracy: 0.8144 - lr: 0.0750\n",
      "Epoch 8/400\n",
      "10/10 [==============================] - 0s 4ms/step - loss: 0.9675 - accuracy: 0.8490 - val_loss: 0.9765 - val_accuracy: 0.8144 - lr: 0.0750\n",
      "Epoch 9/400\n",
      "10/10 [==============================] - 0s 4ms/step - loss: 0.9895 - accuracy: 0.8464 - val_loss: 0.9506 - val_accuracy: 0.8247 - lr: 0.0750\n",
      "Epoch 10/400\n",
      "10/10 [==============================] - 0s 3ms/step - loss: 0.9467 - accuracy: 0.8594 - val_loss: 1.1523 - val_accuracy: 0.8041 - lr: 0.0750\n",
      "Epoch 11/400\n",
      "10/10 [==============================] - 0s 4ms/step - loss: 1.0359 - accuracy: 0.8203 - val_loss: 1.0258 - val_accuracy: 0.8144 - lr: 0.0750\n",
      "Epoch 12/400\n",
      "10/10 [==============================] - 0s 4ms/step - loss: 0.9447 - accuracy: 0.8568 - val_loss: 0.9483 - val_accuracy: 0.8144 - lr: 0.0750\n",
      "Epoch 13/400\n",
      "10/10 [==============================] - 0s 3ms/step - loss: 0.9245 - accuracy: 0.8411 - val_loss: 1.1274 - val_accuracy: 0.8144 - lr: 0.0750\n",
      "Epoch 14/400\n",
      "10/10 [==============================] - 0s 4ms/step - loss: 0.9502 - accuracy: 0.8411 - val_loss: 1.0375 - val_accuracy: 0.8041 - lr: 0.0750\n",
      "Epoch 15/400\n",
      "10/10 [==============================] - 0s 3ms/step - loss: 0.9758 - accuracy: 0.8516 - val_loss: 1.0119 - val_accuracy: 0.8144 - lr: 0.0750\n",
      "Epoch 16/400\n",
      "10/10 [==============================] - 0s 4ms/step - loss: 0.9380 - accuracy: 0.8542 - val_loss: 1.0076 - val_accuracy: 0.8144 - lr: 0.0750\n",
      "Epoch 17/400\n",
      "10/10 [==============================] - 0s 4ms/step - loss: 0.9423 - accuracy: 0.8516 - val_loss: 0.9931 - val_accuracy: 0.8144 - lr: 0.0750\n",
      "Epoch 18/400\n",
      "10/10 [==============================] - 0s 4ms/step - loss: 0.7633 - accuracy: 0.8620 - val_loss: 0.7194 - val_accuracy: 0.8144 - lr: 0.0150\n",
      "Epoch 19/400\n",
      "10/10 [==============================] - 0s 3ms/step - loss: 0.5970 - accuracy: 0.8542 - val_loss: 0.5926 - val_accuracy: 0.8144 - lr: 0.0150\n",
      "Epoch 20/400\n",
      "10/10 [==============================] - 0s 4ms/step - loss: 0.5156 - accuracy: 0.8620 - val_loss: 0.5905 - val_accuracy: 0.8144 - lr: 0.0150\n",
      "Epoch 21/400\n",
      "10/10 [==============================] - 0s 4ms/step - loss: 0.4813 - accuracy: 0.8672 - val_loss: 0.5584 - val_accuracy: 0.8144 - lr: 0.0150\n",
      "Epoch 22/400\n",
      "10/10 [==============================] - 0s 4ms/step - loss: 0.4857 - accuracy: 0.8464 - val_loss: 0.5526 - val_accuracy: 0.8144 - lr: 0.0150\n",
      "Epoch 23/400\n",
      "10/10 [==============================] - 0s 4ms/step - loss: 0.4898 - accuracy: 0.8568 - val_loss: 0.5334 - val_accuracy: 0.7938 - lr: 0.0150\n",
      "Epoch 24/400\n",
      "10/10 [==============================] - 0s 4ms/step - loss: 0.4868 - accuracy: 0.8646 - val_loss: 0.5858 - val_accuracy: 0.8144 - lr: 0.0150\n",
      "Epoch 25/400\n",
      "10/10 [==============================] - 0s 4ms/step - loss: 0.4788 - accuracy: 0.8620 - val_loss: 0.5309 - val_accuracy: 0.8144 - lr: 0.0150\n",
      "Epoch 26/400\n",
      "10/10 [==============================] - 0s 4ms/step - loss: 0.4645 - accuracy: 0.8698 - val_loss: 0.5653 - val_accuracy: 0.8041 - lr: 0.0150\n",
      "Epoch 27/400\n",
      "10/10 [==============================] - 0s 4ms/step - loss: 0.4809 - accuracy: 0.8594 - val_loss: 0.5382 - val_accuracy: 0.8351 - lr: 0.0150\n",
      "Epoch 28/400\n",
      "10/10 [==============================] - 0s 4ms/step - loss: 0.4882 - accuracy: 0.8594 - val_loss: 0.6097 - val_accuracy: 0.8144 - lr: 0.0150\n",
      "Epoch 29/400\n",
      "10/10 [==============================] - 0s 4ms/step - loss: 0.5069 - accuracy: 0.8646 - val_loss: 0.5206 - val_accuracy: 0.8557 - lr: 0.0150\n",
      "Epoch 30/400\n",
      "10/10 [==============================] - 0s 3ms/step - loss: 0.4739 - accuracy: 0.8724 - val_loss: 0.6618 - val_accuracy: 0.8144 - lr: 0.0150\n",
      "Epoch 31/400\n",
      "10/10 [==============================] - 0s 3ms/step - loss: 0.4852 - accuracy: 0.8672 - val_loss: 0.5428 - val_accuracy: 0.8454 - lr: 0.0150\n",
      "Epoch 32/400\n",
      "10/10 [==============================] - 0s 3ms/step - loss: 0.5079 - accuracy: 0.8490 - val_loss: 0.6286 - val_accuracy: 0.8144 - lr: 0.0150\n",
      "Epoch 33/400\n",
      "10/10 [==============================] - 0s 3ms/step - loss: 0.5185 - accuracy: 0.8542 - val_loss: 0.5593 - val_accuracy: 0.8144 - lr: 0.0150\n",
      "Epoch 34/400\n",
      "10/10 [==============================] - 0s 3ms/step - loss: 0.4945 - accuracy: 0.8646 - val_loss: 0.5373 - val_accuracy: 0.8144 - lr: 0.0150\n",
      "Epoch 35/400\n",
      "10/10 [==============================] - 0s 4ms/step - loss: 0.4262 - accuracy: 0.8724 - val_loss: 0.5039 - val_accuracy: 0.8144 - lr: 0.0030\n",
      "Epoch 36/400\n",
      "10/10 [==============================] - 0s 3ms/step - loss: 0.4115 - accuracy: 0.8698 - val_loss: 0.5023 - val_accuracy: 0.8144 - lr: 0.0030\n",
      "Epoch 37/400\n",
      "10/10 [==============================] - 0s 4ms/step - loss: 0.4208 - accuracy: 0.8594 - val_loss: 0.4959 - val_accuracy: 0.8144 - lr: 0.0030\n",
      "Epoch 38/400\n",
      "10/10 [==============================] - 0s 4ms/step - loss: 0.4102 - accuracy: 0.8672 - val_loss: 0.4957 - val_accuracy: 0.8144 - lr: 0.0030\n",
      "Epoch 39/400\n",
      "10/10 [==============================] - 0s 4ms/step - loss: 0.4104 - accuracy: 0.8672 - val_loss: 0.4874 - val_accuracy: 0.8144 - lr: 0.0030\n",
      "Epoch 40/400\n",
      "10/10 [==============================] - 0s 4ms/step - loss: 0.4012 - accuracy: 0.8750 - val_loss: 0.4823 - val_accuracy: 0.8144 - lr: 0.0030\n",
      "Epoch 41/400\n",
      "10/10 [==============================] - 0s 4ms/step - loss: 0.4127 - accuracy: 0.8646 - val_loss: 0.4873 - val_accuracy: 0.8144 - lr: 0.0030\n",
      "Epoch 42/400\n",
      "10/10 [==============================] - 0s 4ms/step - loss: 0.3856 - accuracy: 0.8724 - val_loss: 0.4862 - val_accuracy: 0.8144 - lr: 0.0030\n",
      "Epoch 43/400\n",
      "10/10 [==============================] - 0s 4ms/step - loss: 0.3914 - accuracy: 0.8828 - val_loss: 0.4830 - val_accuracy: 0.8041 - lr: 0.0030\n",
      "Epoch 44/400\n",
      "10/10 [==============================] - 0s 3ms/step - loss: 0.3888 - accuracy: 0.8698 - val_loss: 0.4901 - val_accuracy: 0.8144 - lr: 0.0030\n",
      "Epoch 45/400\n",
      "10/10 [==============================] - 0s 4ms/step - loss: 0.3881 - accuracy: 0.8724 - val_loss: 0.4875 - val_accuracy: 0.8041 - lr: 0.0030\n",
      "Epoch 46/400\n",
      "10/10 [==============================] - 0s 3ms/step - loss: 0.4058 - accuracy: 0.8620 - val_loss: 0.4744 - val_accuracy: 0.8041 - lr: 0.0010\n",
      "Epoch 47/400\n",
      "10/10 [==============================] - 0s 3ms/step - loss: 0.3830 - accuracy: 0.8776 - val_loss: 0.4748 - val_accuracy: 0.8041 - lr: 0.0010\n",
      "Epoch 48/400\n",
      "10/10 [==============================] - 0s 4ms/step - loss: 0.3847 - accuracy: 0.8724 - val_loss: 0.4779 - val_accuracy: 0.8041 - lr: 0.0010\n",
      "Epoch 49/400\n",
      "10/10 [==============================] - 0s 4ms/step - loss: 0.3801 - accuracy: 0.8802 - val_loss: 0.4772 - val_accuracy: 0.8041 - lr: 0.0010\n",
      "Epoch 50/400\n",
      "10/10 [==============================] - 0s 4ms/step - loss: 0.3860 - accuracy: 0.8828 - val_loss: 0.4737 - val_accuracy: 0.8041 - lr: 0.0010\n",
      "Epoch 51/400\n",
      "10/10 [==============================] - 0s 4ms/step - loss: 0.3714 - accuracy: 0.8802 - val_loss: 0.4740 - val_accuracy: 0.8041 - lr: 0.0010\n",
      "Epoch 52/400\n",
      "10/10 [==============================] - 0s 3ms/step - loss: 0.3745 - accuracy: 0.8776 - val_loss: 0.4747 - val_accuracy: 0.8041 - lr: 0.0010\n",
      "Epoch 53/400\n",
      "10/10 [==============================] - 0s 4ms/step - loss: 0.3838 - accuracy: 0.8802 - val_loss: 0.4737 - val_accuracy: 0.8041 - lr: 0.0010\n",
      "Epoch 54/400\n",
      "10/10 [==============================] - 0s 3ms/step - loss: 0.3618 - accuracy: 0.8932 - val_loss: 0.4712 - val_accuracy: 0.8144 - lr: 0.0010\n",
      "Epoch 55/400\n",
      "10/10 [==============================] - 0s 4ms/step - loss: 0.3693 - accuracy: 0.8854 - val_loss: 0.4731 - val_accuracy: 0.8041 - lr: 0.0010\n",
      "Epoch 56/400\n",
      "10/10 [==============================] - 0s 4ms/step - loss: 0.3778 - accuracy: 0.8880 - val_loss: 0.4741 - val_accuracy: 0.8041 - lr: 0.0010\n",
      "Epoch 57/400\n",
      "10/10 [==============================] - 0s 4ms/step - loss: 0.3692 - accuracy: 0.8906 - val_loss: 0.4743 - val_accuracy: 0.8041 - lr: 0.0010\n",
      "Epoch 58/400\n",
      "10/10 [==============================] - 0s 4ms/step - loss: 0.3735 - accuracy: 0.8906 - val_loss: 0.4704 - val_accuracy: 0.8041 - lr: 0.0010\n",
      "Epoch 59/400\n",
      "10/10 [==============================] - 0s 4ms/step - loss: 0.3707 - accuracy: 0.8932 - val_loss: 0.4703 - val_accuracy: 0.8144 - lr: 0.0010\n",
      "Epoch 60/400\n",
      "10/10 [==============================] - 0s 4ms/step - loss: 0.3683 - accuracy: 0.8854 - val_loss: 0.4699 - val_accuracy: 0.8144 - lr: 0.0010\n",
      "Epoch 61/400\n",
      "10/10 [==============================] - 0s 3ms/step - loss: 0.3656 - accuracy: 0.8880 - val_loss: 0.4770 - val_accuracy: 0.8041 - lr: 0.0010\n",
      "Epoch 62/400\n",
      "10/10 [==============================] - 0s 4ms/step - loss: 0.3689 - accuracy: 0.8854 - val_loss: 0.4708 - val_accuracy: 0.8041 - lr: 0.0010\n",
      "Epoch 63/400\n",
      "10/10 [==============================] - 0s 4ms/step - loss: 0.3700 - accuracy: 0.8880 - val_loss: 0.4728 - val_accuracy: 0.8041 - lr: 0.0010\n",
      "Epoch 64/400\n",
      "10/10 [==============================] - 0s 4ms/step - loss: 0.3815 - accuracy: 0.8828 - val_loss: 0.4736 - val_accuracy: 0.8041 - lr: 0.0010\n",
      "Epoch 65/400\n",
      "10/10 [==============================] - 0s 4ms/step - loss: 0.3573 - accuracy: 0.8958 - val_loss: 0.4740 - val_accuracy: 0.8041 - lr: 0.0010\n",
      "Epoch 66/400\n",
      "10/10 [==============================] - 0s 4ms/step - loss: 0.3709 - accuracy: 0.8724 - val_loss: 0.4700 - val_accuracy: 0.8144 - lr: 0.0010\n",
      "Epoch 67/400\n",
      "10/10 [==============================] - 0s 3ms/step - loss: 0.3727 - accuracy: 0.8724 - val_loss: 0.4679 - val_accuracy: 0.8144 - lr: 0.0010\n",
      "Epoch 68/400\n",
      "10/10 [==============================] - 0s 4ms/step - loss: 0.3841 - accuracy: 0.8776 - val_loss: 0.4759 - val_accuracy: 0.8041 - lr: 0.0010\n",
      "Epoch 69/400\n",
      "10/10 [==============================] - 0s 4ms/step - loss: 0.3672 - accuracy: 0.8906 - val_loss: 0.4774 - val_accuracy: 0.8041 - lr: 0.0010\n",
      "Epoch 70/400\n",
      "10/10 [==============================] - 0s 3ms/step - loss: 0.3705 - accuracy: 0.8776 - val_loss: 0.4751 - val_accuracy: 0.8041 - lr: 0.0010\n",
      "Epoch 71/400\n",
      "10/10 [==============================] - 0s 4ms/step - loss: 0.3792 - accuracy: 0.8776 - val_loss: 0.4706 - val_accuracy: 0.8144 - lr: 0.0010\n",
      "Epoch 72/400\n",
      "10/10 [==============================] - 0s 4ms/step - loss: 0.3705 - accuracy: 0.8802 - val_loss: 0.4701 - val_accuracy: 0.8144 - lr: 0.0010\n",
      "Epoch 73/400\n",
      "10/10 [==============================] - 0s 4ms/step - loss: 0.3715 - accuracy: 0.8828 - val_loss: 0.4733 - val_accuracy: 0.8041 - lr: 0.0010\n",
      "Epoch 74/400\n",
      "10/10 [==============================] - 0s 4ms/step - loss: 0.3631 - accuracy: 0.8698 - val_loss: 0.4706 - val_accuracy: 0.8144 - lr: 0.0010\n",
      "Epoch 75/400\n",
      "10/10 [==============================] - 0s 4ms/step - loss: 0.3841 - accuracy: 0.8906 - val_loss: 0.4675 - val_accuracy: 0.8144 - lr: 0.0010\n",
      "Epoch 76/400\n",
      "10/10 [==============================] - 0s 4ms/step - loss: 0.3811 - accuracy: 0.8776 - val_loss: 0.4681 - val_accuracy: 0.8144 - lr: 0.0010\n",
      "Epoch 77/400\n",
      "10/10 [==============================] - 0s 4ms/step - loss: 0.3568 - accuracy: 0.9010 - val_loss: 0.4681 - val_accuracy: 0.8144 - lr: 0.0010\n",
      "Epoch 78/400\n",
      "10/10 [==============================] - 0s 4ms/step - loss: 0.3626 - accuracy: 0.8854 - val_loss: 0.4692 - val_accuracy: 0.8041 - lr: 0.0010\n",
      "Epoch 79/400\n",
      "10/10 [==============================] - 0s 4ms/step - loss: 0.3820 - accuracy: 0.8802 - val_loss: 0.4740 - val_accuracy: 0.8041 - lr: 0.0010\n",
      "Epoch 80/400\n",
      "10/10 [==============================] - 0s 4ms/step - loss: 0.3756 - accuracy: 0.8854 - val_loss: 0.4684 - val_accuracy: 0.8041 - lr: 0.0010\n",
      "Epoch 81/400\n",
      "10/10 [==============================] - 0s 3ms/step - loss: 0.3678 - accuracy: 0.8776 - val_loss: 0.4693 - val_accuracy: 0.8041 - lr: 0.0010\n",
      "Epoch 82/400\n",
      "10/10 [==============================] - 0s 3ms/step - loss: 0.3643 - accuracy: 0.8776 - val_loss: 0.4707 - val_accuracy: 0.8041 - lr: 0.0010\n",
      "Epoch 83/400\n",
      "10/10 [==============================] - 0s 4ms/step - loss: 0.3562 - accuracy: 0.8906 - val_loss: 0.4772 - val_accuracy: 0.8041 - lr: 0.0010\n",
      "Epoch 84/400\n",
      "10/10 [==============================] - 0s 3ms/step - loss: 0.3711 - accuracy: 0.8880 - val_loss: 0.4728 - val_accuracy: 0.8041 - lr: 0.0010\n",
      "Epoch 85/400\n",
      "10/10 [==============================] - 0s 4ms/step - loss: 0.3755 - accuracy: 0.8750 - val_loss: 0.4671 - val_accuracy: 0.8041 - lr: 0.0010\n",
      "Epoch 86/400\n",
      "10/10 [==============================] - 0s 4ms/step - loss: 0.3619 - accuracy: 0.8932 - val_loss: 0.4712 - val_accuracy: 0.8041 - lr: 0.0010\n",
      "Epoch 87/400\n",
      "10/10 [==============================] - 0s 4ms/step - loss: 0.3708 - accuracy: 0.8906 - val_loss: 0.4775 - val_accuracy: 0.8041 - lr: 0.0010\n",
      "Epoch 88/400\n",
      "10/10 [==============================] - 0s 4ms/step - loss: 0.3639 - accuracy: 0.8802 - val_loss: 0.4746 - val_accuracy: 0.8041 - lr: 0.0010\n",
      "Epoch 89/400\n",
      "10/10 [==============================] - 0s 3ms/step - loss: 0.3609 - accuracy: 0.8828 - val_loss: 0.4714 - val_accuracy: 0.8041 - lr: 0.0010\n",
      "Epoch 90/400\n",
      "10/10 [==============================] - 0s 4ms/step - loss: 0.3668 - accuracy: 0.8802 - val_loss: 0.4703 - val_accuracy: 0.8041 - lr: 0.0010\n",
      "Epoch 91/400\n",
      "10/10 [==============================] - 0s 4ms/step - loss: 0.3598 - accuracy: 0.8854 - val_loss: 0.4601 - val_accuracy: 0.8144 - lr: 0.0010\n",
      "Epoch 92/400\n",
      "10/10 [==============================] - 0s 4ms/step - loss: 0.3638 - accuracy: 0.8828 - val_loss: 0.4730 - val_accuracy: 0.8041 - lr: 0.0010\n",
      "Epoch 93/400\n",
      "10/10 [==============================] - 0s 4ms/step - loss: 0.3758 - accuracy: 0.8828 - val_loss: 0.4718 - val_accuracy: 0.8041 - lr: 0.0010\n",
      "Epoch 94/400\n",
      "10/10 [==============================] - 0s 3ms/step - loss: 0.3572 - accuracy: 0.8984 - val_loss: 0.4704 - val_accuracy: 0.8041 - lr: 0.0010\n",
      "Epoch 95/400\n",
      "10/10 [==============================] - 0s 3ms/step - loss: 0.3665 - accuracy: 0.8776 - val_loss: 0.4662 - val_accuracy: 0.8144 - lr: 0.0010\n",
      "Epoch 96/400\n",
      "10/10 [==============================] - 0s 4ms/step - loss: 0.3652 - accuracy: 0.8854 - val_loss: 0.4680 - val_accuracy: 0.8144 - lr: 0.0010\n",
      "Epoch 97/400\n",
      "10/10 [==============================] - 0s 4ms/step - loss: 0.3752 - accuracy: 0.8802 - val_loss: 0.4724 - val_accuracy: 0.8041 - lr: 0.0010\n",
      "Epoch 98/400\n",
      "10/10 [==============================] - 0s 3ms/step - loss: 0.3660 - accuracy: 0.8880 - val_loss: 0.4609 - val_accuracy: 0.8144 - lr: 0.0010\n",
      "Epoch 99/400\n",
      "10/10 [==============================] - 0s 3ms/step - loss: 0.3828 - accuracy: 0.8828 - val_loss: 0.4607 - val_accuracy: 0.8144 - lr: 0.0010\n",
      "Epoch 100/400\n",
      "10/10 [==============================] - 0s 3ms/step - loss: 0.3648 - accuracy: 0.8776 - val_loss: 0.4664 - val_accuracy: 0.8144 - lr: 0.0010\n",
      "Epoch 101/400\n",
      "10/10 [==============================] - 0s 3ms/step - loss: 0.3580 - accuracy: 0.8880 - val_loss: 0.4710 - val_accuracy: 0.8041 - lr: 0.0010\n",
      "Epoch 102/400\n",
      "10/10 [==============================] - 0s 3ms/step - loss: 0.3574 - accuracy: 0.8880 - val_loss: 0.4672 - val_accuracy: 0.8041 - lr: 0.0010\n",
      "Epoch 103/400\n",
      "10/10 [==============================] - 0s 4ms/step - loss: 0.3695 - accuracy: 0.8802 - val_loss: 0.4693 - val_accuracy: 0.8041 - lr: 0.0010\n",
      "Epoch 104/400\n",
      "10/10 [==============================] - 0s 3ms/step - loss: 0.3716 - accuracy: 0.8750 - val_loss: 0.4619 - val_accuracy: 0.8041 - lr: 0.0010\n",
      "Epoch 105/400\n",
      "10/10 [==============================] - 0s 4ms/step - loss: 0.3552 - accuracy: 0.8828 - val_loss: 0.4614 - val_accuracy: 0.8041 - lr: 0.0010\n",
      "Epoch 106/400\n",
      "10/10 [==============================] - 0s 3ms/step - loss: 0.3614 - accuracy: 0.8880 - val_loss: 0.4617 - val_accuracy: 0.8144 - lr: 0.0010\n",
      "Epoch 107/400\n",
      "10/10 [==============================] - 0s 4ms/step - loss: 0.3625 - accuracy: 0.8802 - val_loss: 0.4600 - val_accuracy: 0.8041 - lr: 0.0010\n",
      "Epoch 108/400\n",
      "10/10 [==============================] - 0s 4ms/step - loss: 0.3638 - accuracy: 0.8802 - val_loss: 0.4630 - val_accuracy: 0.8144 - lr: 0.0010\n",
      "Epoch 109/400\n",
      "10/10 [==============================] - 0s 3ms/step - loss: 0.3711 - accuracy: 0.8724 - val_loss: 0.4691 - val_accuracy: 0.8041 - lr: 0.0010\n",
      "Epoch 110/400\n",
      "10/10 [==============================] - 0s 3ms/step - loss: 0.3502 - accuracy: 0.8906 - val_loss: 0.4562 - val_accuracy: 0.8247 - lr: 0.0010\n",
      "Epoch 111/400\n",
      "10/10 [==============================] - 0s 3ms/step - loss: 0.3584 - accuracy: 0.8854 - val_loss: 0.4543 - val_accuracy: 0.8454 - lr: 0.0010\n",
      "Epoch 112/400\n",
      "10/10 [==============================] - 0s 4ms/step - loss: 0.3564 - accuracy: 0.8776 - val_loss: 0.4632 - val_accuracy: 0.8041 - lr: 0.0010\n",
      "Epoch 113/400\n",
      "10/10 [==============================] - 0s 4ms/step - loss: 0.3829 - accuracy: 0.8750 - val_loss: 0.4763 - val_accuracy: 0.8041 - lr: 0.0010\n",
      "Epoch 114/400\n",
      "10/10 [==============================] - 0s 4ms/step - loss: 0.3580 - accuracy: 0.8958 - val_loss: 0.4666 - val_accuracy: 0.8041 - lr: 0.0010\n",
      "Epoch 115/400\n",
      "10/10 [==============================] - 0s 3ms/step - loss: 0.3574 - accuracy: 0.8854 - val_loss: 0.4570 - val_accuracy: 0.8351 - lr: 0.0010\n",
      "Epoch 116/400\n",
      "10/10 [==============================] - 0s 3ms/step - loss: 0.3821 - accuracy: 0.8672 - val_loss: 0.4665 - val_accuracy: 0.8041 - lr: 0.0010\n",
      "Epoch 117/400\n",
      "10/10 [==============================] - 0s 4ms/step - loss: 0.3649 - accuracy: 0.8724 - val_loss: 0.4610 - val_accuracy: 0.8041 - lr: 0.0010\n",
      "Epoch 118/400\n",
      "10/10 [==============================] - 0s 4ms/step - loss: 0.3716 - accuracy: 0.8776 - val_loss: 0.4627 - val_accuracy: 0.8144 - lr: 0.0010\n",
      "Epoch 119/400\n",
      "10/10 [==============================] - 0s 3ms/step - loss: 0.3738 - accuracy: 0.8802 - val_loss: 0.4676 - val_accuracy: 0.8041 - lr: 0.0010\n",
      "Epoch 120/400\n",
      "10/10 [==============================] - 0s 3ms/step - loss: 0.3557 - accuracy: 0.8958 - val_loss: 0.4589 - val_accuracy: 0.8247 - lr: 0.0010\n",
      "Epoch 121/400\n",
      "10/10 [==============================] - 0s 3ms/step - loss: 0.3517 - accuracy: 0.8984 - val_loss: 0.4637 - val_accuracy: 0.8144 - lr: 0.0010\n",
      "Epoch 122/400\n",
      "10/10 [==============================] - 0s 4ms/step - loss: 0.3552 - accuracy: 0.8828 - val_loss: 0.4563 - val_accuracy: 0.8247 - lr: 0.0010\n",
      "Epoch 123/400\n",
      "10/10 [==============================] - 0s 4ms/step - loss: 0.3495 - accuracy: 0.8932 - val_loss: 0.4640 - val_accuracy: 0.8144 - lr: 0.0010\n",
      "Epoch 124/400\n",
      "10/10 [==============================] - 0s 4ms/step - loss: 0.3485 - accuracy: 0.8932 - val_loss: 0.4619 - val_accuracy: 0.8144 - lr: 0.0010\n",
      "Epoch 125/400\n",
      "10/10 [==============================] - 0s 3ms/step - loss: 0.3702 - accuracy: 0.8828 - val_loss: 0.4588 - val_accuracy: 0.8247 - lr: 0.0010\n",
      "Epoch 126/400\n",
      "10/10 [==============================] - 0s 3ms/step - loss: 0.3577 - accuracy: 0.8776 - val_loss: 0.4654 - val_accuracy: 0.8144 - lr: 0.0010\n",
      "Epoch 127/400\n",
      "10/10 [==============================] - 0s 4ms/step - loss: 0.3595 - accuracy: 0.8854 - val_loss: 0.4619 - val_accuracy: 0.8144 - lr: 0.0010\n",
      "Epoch 128/400\n",
      "10/10 [==============================] - 0s 3ms/step - loss: 0.3681 - accuracy: 0.8802 - val_loss: 0.4588 - val_accuracy: 0.8351 - lr: 0.0010\n",
      "Epoch 129/400\n",
      "10/10 [==============================] - 0s 3ms/step - loss: 0.3615 - accuracy: 0.8698 - val_loss: 0.4627 - val_accuracy: 0.8144 - lr: 0.0010\n",
      "Epoch 130/400\n",
      "10/10 [==============================] - 0s 3ms/step - loss: 0.3563 - accuracy: 0.8984 - val_loss: 0.4600 - val_accuracy: 0.8144 - lr: 0.0010\n",
      "Epoch 131/400\n",
      "10/10 [==============================] - 0s 3ms/step - loss: 0.3531 - accuracy: 0.8854 - val_loss: 0.4621 - val_accuracy: 0.8144 - lr: 0.0010\n",
      "Epoch 132/400\n",
      "10/10 [==============================] - 0s 3ms/step - loss: 0.3480 - accuracy: 0.8906 - val_loss: 0.4692 - val_accuracy: 0.8144 - lr: 0.0010\n",
      "Epoch 133/400\n",
      "10/10 [==============================] - 0s 3ms/step - loss: 0.3639 - accuracy: 0.8802 - val_loss: 0.4665 - val_accuracy: 0.8144 - lr: 0.0010\n",
      "Epoch 134/400\n",
      "10/10 [==============================] - 0s 3ms/step - loss: 0.3578 - accuracy: 0.8958 - val_loss: 0.4698 - val_accuracy: 0.8144 - lr: 0.0010\n",
      "Epoch 135/400\n",
      "10/10 [==============================] - 0s 3ms/step - loss: 0.3615 - accuracy: 0.8750 - val_loss: 0.4621 - val_accuracy: 0.8144 - lr: 0.0010\n",
      "Epoch 136/400\n",
      "10/10 [==============================] - 0s 4ms/step - loss: 0.3566 - accuracy: 0.8776 - val_loss: 0.4543 - val_accuracy: 0.8247 - lr: 0.0010\n",
      "Epoch 136: early stopping\n"
     ]
    },
    {
     "data": {
      "text/plain": [
       "<keras.callbacks.History at 0x1ed340b3a60>"
      ]
     },
     "execution_count": 66,
     "metadata": {},
     "output_type": "execute_result"
    }
   ],
   "source": [
    "# Train the model \n",
    "model2.fit(X_train, y_train_nn, validation_split = 0.2, batch_size = 40, epochs=400, callbacks = [early_stop, reduce_lr])"
   ]
  },
  {
   "cell_type": "code",
   "execution_count": 67,
   "id": "06bbf2f2-a5e4-486f-8a74-c29be466c40e",
   "metadata": {},
   "outputs": [
    {
     "data": {
      "image/png": "[encoded data removed]",
      "text/plain": [
       "<Figure size 1080x360 with 1 Axes>"
      ]
     },
     "metadata": {
      "needs_background": "light"
     },
     "output_type": "display_data"
    }
   ],
   "source": [
    "# Create a graph comparing training and validation loss and accuracy\n",
    "acc_loss2 = pd.DataFrame(model2.history.history)\n",
    "acc_loss2.plot(figsize =(15, 5))\n",
    "plt.show()"
   ]
  },
  {
   "cell_type": "code",
   "execution_count": 68,
   "id": "2d89904d-05a2-4b8e-8efa-e061c34434b7",
   "metadata": {},
   "outputs": [
    {
     "name": "stdout",
     "output_type": "stream",
     "text": [
      "7/7 [==============================] - 0s 722us/step\n",
      "Classification_report of Logistic Regression: \n",
      "               precision    recall  f1-score   support\n",
      "\n",
      "           0       0.92      0.83      0.87       118\n",
      "           1       0.80      0.90      0.85        89\n",
      "\n",
      "    accuracy                           0.86       207\n",
      "   macro avg       0.86      0.86      0.86       207\n",
      "weighted avg       0.87      0.86      0.86       207\n",
      "\n",
      "Classification_report of Neural Network: \n",
      "               precision    recall  f1-score   support\n",
      "\n",
      "           0       0.89      0.87      0.88       118\n",
      "           1       0.84      0.85      0.84        89\n",
      "\n",
      "    accuracy                           0.86       207\n",
      "   macro avg       0.86      0.86      0.86       207\n",
      "weighted avg       0.87      0.86      0.86       207\n",
      "\n"
     ]
    }
   ],
   "source": [
    "# evaluate the model on the test set\n",
    "y_pred_nn = np.where(model2.predict(X_test) > 0.5, 1,0).flatten()\n",
    "print('Classification_report of Logistic Regression:', '\\n', classification_report(y_test, y_pred_lr))\n",
    "print('Classification_report of Neural Network:', '\\n', classification_report(y_test, y_pred_nn))"
   ]
  },
  {
   "cell_type": "markdown",
   "id": "3a06bd81-57f4-4a03-9fd8-4cfd5ab649b1",
   "metadata": {},
   "source": [
    "After I have solved the problem of overfitting, my Neural Network Model performs almost similarly to Logistic Regression. I will now try to tune my neural network model."
   ]
  },
  {
   "cell_type": "markdown",
   "id": "c164a817-626b-4813-98ad-da96c05c82f1",
   "metadata": {},
   "source": [
    "### KerasTuner"
   ]
  },
  {
   "cell_type": "code",
   "execution_count": 69,
   "id": "800c9a0d-d815-466b-9942-ae0078f3d687",
   "metadata": {},
   "outputs": [
    {
     "data": {
      "text/plain": [
       "<keras.engine.sequential.Sequential at 0x1ed3475d390>"
      ]
     },
     "execution_count": 69,
     "metadata": {},
     "output_type": "execute_result"
    }
   ],
   "source": [
    "# Write a function that creates and returns a Keras model\n",
    "def build_model(hp):\n",
    "    model = keras.Sequential()\n",
    "    model.add(keras.layers.Dense(\n",
    "      # Tune number of units.\n",
    "      units=hp.Int(\"units\", min_value=38, max_value=380, step=19),\n",
    "      # Tune the activation function to use.\n",
    "      activation=hp.Choice('activation', ['softmax', 'softplus', 'softsign', 'relu', 'tanh', 'sigmoid', 'hard_sigmoid']),\n",
    "      kernel_regularizer = 'l1_l2', input_shape=(X_train.shape[1],)\n",
    "  ))\n",
    "    model.add(Dropout(hp.Choice('rate', [0.1, 0.2, 0.3, 0.4, 0.5, 0.6, 0.7, 0.8, 0.9])))\n",
    "    model.add(keras.layers.Dense(\n",
    "      units=hp.Int(\"units\", min_value=19, max_value=190, step=19),\n",
    "      activation=hp.Choice('activation', ['softmax', 'softplus', 'softsign', 'relu', 'tanh', 'sigmoid', 'hard_sigmoid'])))\n",
    "    model.add(Dense(1, activation = 'sigmoid'))\n",
    "    # Define the optimizer learning rate as a hyperparameter.\n",
    "    lr = hp.Float(\"lr\", min_value=1e-4, max_value=1, sampling=\"log\")\n",
    "    model.compile(loss = 'binary_crossentropy',  optimizer =keras.optimizers.Adam(learning_rate=lr), metrics=['accuracy'])\n",
    "    return model\n",
    "build_model(keras_tuner.HyperParameters())"
   ]
  },
  {
   "cell_type": "code",
   "execution_count": 85,
   "id": "676f141e-8743-433a-bca3-bb5e5e641c25",
   "metadata": {},
   "outputs": [],
   "source": [
    "# initialize a Random Search tuner\n",
    "tuner = keras_tuner.RandomSearch(\n",
    "    hypermodel=build_model,\n",
    "    objective=\"val_accuracy\",\n",
    "    seed=43,\n",
    "    max_trials=3,\n",
    "    executions_per_trial=1,\n",
    "    overwrite=True,\n",
    "    directory=\"hyperparam_NN\",\n",
    "    project_name=\"hyperparam_NN\",\n",
    ")"
   ]
  },
  {
   "cell_type": "code",
   "execution_count": 86,
   "id": "474f0b89-93fd-4900-87c6-c0b9c498d0f2",
   "metadata": {},
   "outputs": [
    {
     "name": "stdout",
     "output_type": "stream",
     "text": [
      "Search space summary\n",
      "Default search space size: 4\n",
      "units (Int)\n",
      "{'default': None, 'conditions': [], 'min_value': 38, 'max_value': 380, 'step': 19, 'sampling': 'linear'}\n",
      "activation (Choice)\n",
      "{'default': 'softmax', 'conditions': [], 'values': ['softmax', 'softplus', 'softsign', 'relu', 'tanh', 'sigmoid', 'hard_sigmoid'], 'ordered': False}\n",
      "rate (Choice)\n",
      "{'default': 0.1, 'conditions': [], 'values': [0.1, 0.2, 0.3, 0.4, 0.5, 0.6, 0.7, 0.8, 0.9], 'ordered': True}\n",
      "lr (Float)\n",
      "{'default': 0.0001, 'conditions': [], 'min_value': 0.0001, 'max_value': 1.0, 'step': None, 'sampling': 'log'}\n"
     ]
    }
   ],
   "source": [
    "#print a summary \n",
    "tuner.search_space_summary()"
   ]
  },
  {
   "cell_type": "code",
   "execution_count": 87,
   "id": "3a9d818b-95a8-4f69-b64d-ad8397094721",
   "metadata": {},
   "outputs": [
    {
     "name": "stdout",
     "output_type": "stream",
     "text": [
      "Trial 3 Complete [00h 00m 03s]\n",
      "val_accuracy: 0.5979381203651428\n",
      "\n",
      "Best val_accuracy So Far: 0.8453608155250549\n",
      "Total elapsed time: 00h 00m 08s\n",
      "INFO:tensorflow:Oracle triggered exit\n"
     ]
    }
   ],
   "source": [
    "# search for the best hyperparameter configuration\n",
    "tuner.search(X_train, y_train_nn, epochs=50, validation_split=0.2)"
   ]
  },
  {
   "cell_type": "code",
   "execution_count": 88,
   "id": "1e2cbef7-0b42-47cd-8e70-7419478037b2",
   "metadata": {},
   "outputs": [
    {
     "name": "stdout",
     "output_type": "stream",
     "text": [
      "WARNING:tensorflow:Detecting that an object or model or tf.train.Checkpoint is being deleted with unrestored values. See the following logs for the specific values in question. To silence these warnings, use `status.expect_partial()`. See https://www.tensorflow.org/api_docs/python/tf/train/Checkpoint#restorefor details about the status object returned by the restore function.\n",
      "WARNING:tensorflow:Value in checkpoint could not be found in the restored object: (root).optimizer.iter\n",
      "WARNING:tensorflow:Value in checkpoint could not be found in the restored object: (root).optimizer.beta_1\n",
      "WARNING:tensorflow:Value in checkpoint could not be found in the restored object: (root).optimizer.beta_2\n",
      "WARNING:tensorflow:Value in checkpoint could not be found in the restored object: (root).optimizer.decay\n",
      "WARNING:tensorflow:Value in checkpoint could not be found in the restored object: (root).optimizer.learning_rate\n",
      "WARNING:tensorflow:Detecting that an object or model or tf.train.Checkpoint is being deleted with unrestored values. See the following logs for the specific values in question. To silence these warnings, use `status.expect_partial()`. See https://www.tensorflow.org/api_docs/python/tf/train/Checkpoint#restorefor details about the status object returned by the restore function.\n",
      "WARNING:tensorflow:Value in checkpoint could not be found in the restored object: (root).optimizer.iter\n",
      "WARNING:tensorflow:Value in checkpoint could not be found in the restored object: (root).optimizer.beta_1\n",
      "WARNING:tensorflow:Value in checkpoint could not be found in the restored object: (root).optimizer.beta_2\n",
      "WARNING:tensorflow:Value in checkpoint could not be found in the restored object: (root).optimizer.decay\n",
      "WARNING:tensorflow:Value in checkpoint could not be found in the restored object: (root).optimizer.learning_rate\n"
     ]
    }
   ],
   "source": [
    "# Get the top 2 models.\n",
    "model = tuner.get_best_models(num_models=5)\n",
    "best_model = model[0]"
   ]
  },
  {
   "cell_type": "code",
   "execution_count": 89,
   "id": "b78c5b96-ad9e-4c0b-a142-b68c0416cf93",
   "metadata": {},
   "outputs": [
    {
     "name": "stdout",
     "output_type": "stream",
     "text": [
      "Model: \"sequential\"\n",
      "_________________________________________________________________\n",
      " Layer (type)                Output Shape              Param #   \n",
      "=================================================================\n",
      " dense (Dense)               (None, 152)               5928      \n",
      "                                                                 \n",
      " dropout (Dropout)           (None, 152)               0         \n",
      "                                                                 \n",
      " dense_1 (Dense)             (None, 152)               23256     \n",
      "                                                                 \n",
      " dense_2 (Dense)             (None, 1)                 153       \n",
      "                                                                 \n",
      "=================================================================\n",
      "Total params: 29,337\n",
      "Trainable params: 29,337\n",
      "Non-trainable params: 0\n",
      "_________________________________________________________________\n"
     ]
    }
   ],
   "source": [
    "# Build the model.\n",
    "best_model.build()\n",
    "best_model.summary()"
   ]
  },
  {
   "cell_type": "code",
   "execution_count": 90,
   "id": "010d4dac-cadd-4c28-9115-b5321fd2d6ff",
   "metadata": {},
   "outputs": [
    {
     "name": "stdout",
     "output_type": "stream",
     "text": [
      "Results summary\n",
      "Results in hyperparam_NN\\hyperparam_NN\n",
      "Showing 10 best trials\n",
      "Objective(name=\"val_accuracy\", direction=\"max\")\n",
      "\n",
      "Trial 1 summary\n",
      "Hyperparameters:\n",
      "units: 152\n",
      "activation: relu\n",
      "rate: 0.1\n",
      "lr: 0.009775664203574935\n",
      "Score: 0.8453608155250549\n",
      "\n",
      "Trial 0 summary\n",
      "Hyperparameters:\n",
      "units: 38\n",
      "activation: softsign\n",
      "rate: 0.3\n",
      "lr: 0.3573323255587368\n",
      "Score: 0.5979381203651428\n",
      "\n",
      "Trial 2 summary\n",
      "Hyperparameters:\n",
      "units: 114\n",
      "activation: hard_sigmoid\n",
      "rate: 0.6\n",
      "lr: 0.4514107426881946\n",
      "Score: 0.5979381203651428\n"
     ]
    }
   ],
   "source": [
    "# print a summary of the search results\n",
    "tuner.results_summary()"
   ]
  },
  {
   "cell_type": "code",
   "execution_count": 91,
   "id": "d3fe7266-9494-427d-8db8-5e11757c535a",
   "metadata": {},
   "outputs": [
    {
     "name": "stdout",
     "output_type": "stream",
     "text": [
      "7/7 [==============================] - 0s 742us/step\n",
      "Classification_report of Logistic Regression: \n",
      "               precision    recall  f1-score   support\n",
      "\n",
      "           0       0.92      0.83      0.87       118\n",
      "           1       0.80      0.90      0.85        89\n",
      "\n",
      "    accuracy                           0.86       207\n",
      "   macro avg       0.86      0.86      0.86       207\n",
      "weighted avg       0.87      0.86      0.86       207\n",
      "\n",
      "Classification_report of Neural Network before tuning: \n",
      "               precision    recall  f1-score   support\n",
      "\n",
      "           0       0.89      0.87      0.88       118\n",
      "           1       0.84      0.85      0.84        89\n",
      "\n",
      "    accuracy                           0.86       207\n",
      "   macro avg       0.86      0.86      0.86       207\n",
      "weighted avg       0.87      0.86      0.86       207\n",
      "\n",
      "Classification_report of Neural Network tuned: \n",
      "               precision    recall  f1-score   support\n",
      "\n",
      "           0       0.91      0.86      0.89       118\n",
      "           1       0.83      0.89      0.86        89\n",
      "\n",
      "    accuracy                           0.87       207\n",
      "   macro avg       0.87      0.88      0.87       207\n",
      "weighted avg       0.88      0.87      0.87       207\n",
      "\n"
     ]
    }
   ],
   "source": [
    "# evaluate the model on the test set and print the Classification_report\n",
    "y_pred_nn2 = np.where(best_model.predict(X_test) > 0.5, 1,0).flatten()\n",
    "print('Classification_report of Logistic Regression:', '\\n', classification_report(y_test, y_pred_lr))\n",
    "print('Classification_report of Neural Network before tuning:', '\\n', classification_report(y_test, y_pred_nn))\n",
    "print('Classification_report of Neural Network tuned:', '\\n', classification_report(y_test, y_pred_nn2))"
   ]
  },
  {
   "cell_type": "code",
   "execution_count": 92,
   "id": "2cfef8a1-3f87-4247-a7de-3436a7d1d8b1",
   "metadata": {},
   "outputs": [
    {
     "data": {
      "image/png": "[encoded data removed]",
      "text/plain": [
       "<Figure size 1080x360 with 6 Axes>"
      ]
     },
     "metadata": {
      "needs_background": "light"
     },
     "output_type": "display_data"
    }
   ],
   "source": [
    "# Visualizing the confusion_matrix for the three models\n",
    "fig, axs = plt.subplots(1, 3, figsize=(15, 5))\n",
    "sns.heatmap(confusion_matrix(y_test, y_pred_lr), ax=axs[0], annot=True, fmt='d').set(title='Logistic Regression')\n",
    "sns.heatmap(confusion_matrix(y_test, y_pred_nn), ax=axs[1], annot=True, fmt='d').set(title='Neural Network before tuning')\n",
    "sns.heatmap(confusion_matrix(y_test, y_pred_nn2), ax=axs[2], annot=True, fmt='d').set(title='Neural Network tuned')\n",
    "plt.show()"
   ]
  },
  {
   "cell_type": "markdown",
   "id": "10ec0711-b096-4eae-a15c-87660e590338",
   "metadata": {},
   "source": [
    "Neural Network tuned is the winner with 181 items correctly predicted."
   ]
  },
  {
   "cell_type": "code",
   "execution_count": null,
   "id": "8dc9d0ad-e87c-4d1a-880b-47eb1deb82e0",
   "metadata": {},
   "outputs": [],
   "source": []
  }
 ],
 "metadata": {
  "kernelspec": {
   "display_name": "curs_python_env",
   "language": "python",
   "name": "curs_python_env"
  },
  "language_info": {
   "codemirror_mode": {
    "name": "ipython",
    "version": 3
   },
   "file_extension": ".py",
   "mimetype": "text/x-python",
   "name": "python",
   "nbconvert_exporter": "python",
   "pygments_lexer": "ipython3",
   "version": "3.10.5"
  }
 },
 "nbformat": 4,
 "nbformat_minor": 5
}
