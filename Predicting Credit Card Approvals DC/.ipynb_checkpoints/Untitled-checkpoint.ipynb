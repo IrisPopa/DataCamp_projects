{
 "cells": [
  {
   "cell_type": "markdown",
   "id": "0d39fe1d",
   "metadata": {},
   "source": [
    "build a machine learning model that can predict if an individual's application for a credit card will be accepted.The structure of this notebook is as follows:\n",
    "\n",
    "First, we will start off by loading and viewing the dataset.\n",
    "We will see that the dataset has a mixture of both numerical and non-numerical features, that it contains values from different ranges, plus that it contains a number of missing entries.\n",
    "We will have to preprocess the dataset to ensure the machine learning model we choose can make good predictions.\n",
    "After our data is in good shape, we will do some exploratory data analysis to build our intuitions.\n",
    "Finally, we will build a machine learning model that can predict if an individual's application for a credit card will be accepted.# 1. Objective\n",
    "The purpose of this analysis is to  I will build an automatic credit card approval predictor using machine learning techniques. I will use the Credit Approval Dataset which is a collection of credit card applications and the credit approval decisions. The data is available from the <a href=\"http://archive.ics.uci.edu/ml/datasets/credit+approval\">UCI Machine Learning Repository</a>. The techniques include data visualization, association rules, logistical regression, and decision trees. This analysis is organized as follows:\n",
    "\n",
    "- First, I will start off by loading and viewing the dataset.\n",
    "- Generate several data visualizations to understand the underlying data;\n",
    "- Perform data transformations as needed;\n",
    "- After the data is in good shape, I will do some exploratory data analysis.\n",
    "- Finally, I will build a machine learning model that can predict if an individual's application for a credit card will be accepted.\n"
   ]
  },
  {
   "cell_type": "markdown",
   "id": "45c0518d",
   "metadata": {},
   "source": [
    "# 2.  Data Cleaning\n",
    "First, loading and viewing the dataset. I find that since this data is confidential, the contributor of the dataset has anonymized the feature names."
   ]
  },
  {
   "cell_type": "code",
   "execution_count": 1,
   "id": "b583a446",
   "metadata": {},
   "outputs": [],
   "source": [
    "# Loading in required libraries\n",
    "import pandas as pd\n",
    "import numpy as np\n",
    "from scipy import stats\n",
    "import pingouin\n",
    "import seaborn as sns\n",
    "import matplotlib.pyplot as plt\n",
    "from sklearn.linear_model import LinearRegression, LogisticRegression\n",
    "from sklearn.tree import DecisionTreeRegressor\n",
    "from sklearn.ensemble import RandomForestClassifier\n",
    "from sklearn.metrics import classification_report, accuracy_score, confusion_matrix\n",
    "from sklearn.impute  import SimpleImputer\n",
    "from sklearn.model_selection import train_test_split, KFold, cross_val_score, GridSearchCV\n",
    "from lightgbm import LGBMClassifier\n",
    "from xgboost import XGBClassifier\n",
    "import lazypredict\n",
    "from lazypredict.Supervised import LazyClassifier\n",
    "import optuna\n",
    "from scikeras.wrappers import KerasClassifier\n",
    "import keras\n",
    "import tensorflow as tf\n",
    "from keras.callbacks import EarlyStopping\n",
    "from keras.models import Sequential\n",
    "from keras.layers import Dense, Dropout\n",
    "from tensorflow.keras.constraints import MaxNorm\n",
    "import warnings\n",
    "warnings.simplefilter(\"ignore\")"
   ]
  },
  {
   "cell_type": "code",
   "execution_count": 2,
   "id": "15af170f-b2cc-45b2-ad2e-243596134a7a",
   "metadata": {},
   "outputs": [
    {
     "data": {
      "text/html": [
       "<div>\n",
       "<style scoped>\n",
       "    .dataframe tbody tr th:only-of-type {\n",
       "        vertical-align: middle;\n",
       "    }\n",
       "\n",
       "    .dataframe tbody tr th {\n",
       "        vertical-align: top;\n",
       "    }\n",
       "\n",
       "    .dataframe thead th {\n",
       "        text-align: right;\n",
       "    }\n",
       "</style>\n",
       "<table border=\"1\" class=\"dataframe\">\n",
       "  <thead>\n",
       "    <tr style=\"text-align: right;\">\n",
       "      <th></th>\n",
       "      <th>0</th>\n",
       "      <th>1</th>\n",
       "      <th>2</th>\n",
       "      <th>3</th>\n",
       "      <th>4</th>\n",
       "      <th>5</th>\n",
       "      <th>6</th>\n",
       "      <th>7</th>\n",
       "      <th>8</th>\n",
       "      <th>9</th>\n",
       "      <th>10</th>\n",
       "      <th>11</th>\n",
       "      <th>12</th>\n",
       "      <th>13</th>\n",
       "      <th>14</th>\n",
       "      <th>15</th>\n",
       "    </tr>\n",
       "  </thead>\n",
       "  <tbody>\n",
       "    <tr>\n",
       "      <th>219</th>\n",
       "      <td>a</td>\n",
       "      <td>18.92</td>\n",
       "      <td>9.25</td>\n",
       "      <td>y</td>\n",
       "      <td>p</td>\n",
       "      <td>c</td>\n",
       "      <td>v</td>\n",
       "      <td>1.00</td>\n",
       "      <td>t</td>\n",
       "      <td>t</td>\n",
       "      <td>4</td>\n",
       "      <td>t</td>\n",
       "      <td>g</td>\n",
       "      <td>00080</td>\n",
       "      <td>500</td>\n",
       "      <td>+</td>\n",
       "    </tr>\n",
       "    <tr>\n",
       "      <th>645</th>\n",
       "      <td>b</td>\n",
       "      <td>37.33</td>\n",
       "      <td>2.67</td>\n",
       "      <td>u</td>\n",
       "      <td>g</td>\n",
       "      <td>cc</td>\n",
       "      <td>v</td>\n",
       "      <td>0.17</td>\n",
       "      <td>f</td>\n",
       "      <td>f</td>\n",
       "      <td>0</td>\n",
       "      <td>t</td>\n",
       "      <td>g</td>\n",
       "      <td>00000</td>\n",
       "      <td>501</td>\n",
       "      <td>-</td>\n",
       "    </tr>\n",
       "    <tr>\n",
       "      <th>660</th>\n",
       "      <td>b</td>\n",
       "      <td>22.25</td>\n",
       "      <td>9.00</td>\n",
       "      <td>u</td>\n",
       "      <td>g</td>\n",
       "      <td>aa</td>\n",
       "      <td>v</td>\n",
       "      <td>0.09</td>\n",
       "      <td>f</td>\n",
       "      <td>f</td>\n",
       "      <td>0</td>\n",
       "      <td>f</td>\n",
       "      <td>g</td>\n",
       "      <td>00000</td>\n",
       "      <td>0</td>\n",
       "      <td>-</td>\n",
       "    </tr>\n",
       "    <tr>\n",
       "      <th>205</th>\n",
       "      <td>a</td>\n",
       "      <td>35.42</td>\n",
       "      <td>12.00</td>\n",
       "      <td>u</td>\n",
       "      <td>g</td>\n",
       "      <td>q</td>\n",
       "      <td>h</td>\n",
       "      <td>14.00</td>\n",
       "      <td>t</td>\n",
       "      <td>t</td>\n",
       "      <td>8</td>\n",
       "      <td>f</td>\n",
       "      <td>g</td>\n",
       "      <td>00000</td>\n",
       "      <td>6590</td>\n",
       "      <td>+</td>\n",
       "    </tr>\n",
       "    <tr>\n",
       "      <th>0</th>\n",
       "      <td>b</td>\n",
       "      <td>30.83</td>\n",
       "      <td>0.00</td>\n",
       "      <td>u</td>\n",
       "      <td>g</td>\n",
       "      <td>w</td>\n",
       "      <td>v</td>\n",
       "      <td>1.25</td>\n",
       "      <td>t</td>\n",
       "      <td>t</td>\n",
       "      <td>1</td>\n",
       "      <td>f</td>\n",
       "      <td>g</td>\n",
       "      <td>00202</td>\n",
       "      <td>0</td>\n",
       "      <td>+</td>\n",
       "    </tr>\n",
       "    <tr>\n",
       "      <th>8</th>\n",
       "      <td>b</td>\n",
       "      <td>54.42</td>\n",
       "      <td>0.50</td>\n",
       "      <td>y</td>\n",
       "      <td>p</td>\n",
       "      <td>k</td>\n",
       "      <td>h</td>\n",
       "      <td>3.96</td>\n",
       "      <td>t</td>\n",
       "      <td>f</td>\n",
       "      <td>0</td>\n",
       "      <td>f</td>\n",
       "      <td>g</td>\n",
       "      <td>00180</td>\n",
       "      <td>314</td>\n",
       "      <td>+</td>\n",
       "    </tr>\n",
       "    <tr>\n",
       "      <th>443</th>\n",
       "      <td>b</td>\n",
       "      <td>17.25</td>\n",
       "      <td>3.00</td>\n",
       "      <td>u</td>\n",
       "      <td>g</td>\n",
       "      <td>k</td>\n",
       "      <td>v</td>\n",
       "      <td>0.04</td>\n",
       "      <td>f</td>\n",
       "      <td>f</td>\n",
       "      <td>0</td>\n",
       "      <td>t</td>\n",
       "      <td>g</td>\n",
       "      <td>00160</td>\n",
       "      <td>40</td>\n",
       "      <td>-</td>\n",
       "    </tr>\n",
       "    <tr>\n",
       "      <th>513</th>\n",
       "      <td>b</td>\n",
       "      <td>20.25</td>\n",
       "      <td>9.96</td>\n",
       "      <td>u</td>\n",
       "      <td>g</td>\n",
       "      <td>e</td>\n",
       "      <td>dd</td>\n",
       "      <td>0.00</td>\n",
       "      <td>t</td>\n",
       "      <td>f</td>\n",
       "      <td>0</td>\n",
       "      <td>f</td>\n",
       "      <td>g</td>\n",
       "      <td>00000</td>\n",
       "      <td>0</td>\n",
       "      <td>+</td>\n",
       "    </tr>\n",
       "    <tr>\n",
       "      <th>204</th>\n",
       "      <td>b</td>\n",
       "      <td>36.33</td>\n",
       "      <td>2.12</td>\n",
       "      <td>y</td>\n",
       "      <td>p</td>\n",
       "      <td>w</td>\n",
       "      <td>v</td>\n",
       "      <td>0.09</td>\n",
       "      <td>t</td>\n",
       "      <td>t</td>\n",
       "      <td>1</td>\n",
       "      <td>f</td>\n",
       "      <td>g</td>\n",
       "      <td>00050</td>\n",
       "      <td>1187</td>\n",
       "      <td>+</td>\n",
       "    </tr>\n",
       "    <tr>\n",
       "      <th>537</th>\n",
       "      <td>b</td>\n",
       "      <td>35.25</td>\n",
       "      <td>3.17</td>\n",
       "      <td>u</td>\n",
       "      <td>g</td>\n",
       "      <td>x</td>\n",
       "      <td>h</td>\n",
       "      <td>3.75</td>\n",
       "      <td>t</td>\n",
       "      <td>f</td>\n",
       "      <td>0</td>\n",
       "      <td>t</td>\n",
       "      <td>g</td>\n",
       "      <td>00680</td>\n",
       "      <td>0</td>\n",
       "      <td>-</td>\n",
       "    </tr>\n",
       "  </tbody>\n",
       "</table>\n",
       "</div>"
      ],
      "text/plain": [
       "    0      1     2  3  4   5   6     7  8  9   10 11 12     13    14 15\n",
       "219  a  18.92  9.25  y  p   c   v  1.00  t  t   4  t  g  00080   500  +\n",
       "645  b  37.33  2.67  u  g  cc   v  0.17  f  f   0  t  g  00000   501  -\n",
       "660  b  22.25  9.00  u  g  aa   v  0.09  f  f   0  f  g  00000     0  -\n",
       "205  a  35.42 12.00  u  g   q   h 14.00  t  t   8  f  g  00000  6590  +\n",
       "0    b  30.83  0.00  u  g   w   v  1.25  t  t   1  f  g  00202     0  +\n",
       "8    b  54.42  0.50  y  p   k   h  3.96  t  f   0  f  g  00180   314  +\n",
       "443  b  17.25  3.00  u  g   k   v  0.04  f  f   0  t  g  00160    40  -\n",
       "513  b  20.25  9.96  u  g   e  dd  0.00  t  f   0  f  g  00000     0  +\n",
       "204  b  36.33  2.12  y  p   w   v  0.09  t  t   1  f  g  00050  1187  +\n",
       "537  b  35.25  3.17  u  g   x   h  3.75  t  f   0  t  g  00680     0  -"
      ]
     },
     "execution_count": 2,
     "metadata": {},
     "output_type": "execute_result"
    }
   ],
   "source": [
    "# Load dataset\n",
    "cc_apps = pd.read_csv(\"datasets/cc_approvals.data\", header=None)\n",
    "\n",
    "# Inspect data\n",
    "cc_apps.sample(10)"
   ]
  },
  {
   "cell_type": "markdown",
   "id": "49dcd5e6",
   "metadata": {},
   "source": [
    "**Inspecting the applications**\n",
    "<p>The features of this dataset have been anonymized to protect the privacy, but the probable features in a typical credit card application are 'Gender', 'Age', 'Debt', 'Married', 'BankCustomer', 'EducationLevel', 'Ethnicity', 'YearsEmployed', 'PriorDefault', 'Employed', 'CreditScore', 'DriversLicense', 'Citizen', 'ZipCode', 'Income' and finally the 'ApprovalStatus'. I'll use these features to rename the columns.</p>"
   ]
  },
  {
   "cell_type": "code",
   "execution_count": 3,
   "id": "e8f336f0",
   "metadata": {},
   "outputs": [],
   "source": [
    "cc_apps.columns = ['Gender', 'Age', 'Debt', 'Married', 'BankCustomer', 'EducationLevel', 'Ethnicity', \n",
    "                   'YearsEmployed', 'PriorDefault', 'Employed', 'CreditScore', 'DriversLicense',\n",
    "                   'Citizen', 'ZipCode', 'Income', 'Stat Approvalus']"
   ]
  },
  {
   "cell_type": "code",
   "execution_count": 4,
   "id": "85a3fd77",
   "metadata": {},
   "outputs": [
    {
     "data": {
      "text/html": [
       "<div>\n",
       "<style scoped>\n",
       "    .dataframe tbody tr th:only-of-type {\n",
       "        vertical-align: middle;\n",
       "    }\n",
       "\n",
       "    .dataframe tbody tr th {\n",
       "        vertical-align: top;\n",
       "    }\n",
       "\n",
       "    .dataframe thead th {\n",
       "        text-align: right;\n",
       "    }\n",
       "</style>\n",
       "<table border=\"1\" class=\"dataframe\">\n",
       "  <thead>\n",
       "    <tr style=\"text-align: right;\">\n",
       "      <th></th>\n",
       "      <th>Gender</th>\n",
       "      <th>Age</th>\n",
       "      <th>Debt</th>\n",
       "      <th>Married</th>\n",
       "      <th>BankCustomer</th>\n",
       "      <th>EducationLevel</th>\n",
       "      <th>Ethnicity</th>\n",
       "      <th>YearsEmployed</th>\n",
       "      <th>PriorDefault</th>\n",
       "      <th>Employed</th>\n",
       "      <th>CreditScore</th>\n",
       "      <th>DriversLicense</th>\n",
       "      <th>Citizen</th>\n",
       "      <th>ZipCode</th>\n",
       "      <th>Income</th>\n",
       "      <th>Stat Approvalus</th>\n",
       "    </tr>\n",
       "  </thead>\n",
       "  <tbody>\n",
       "    <tr>\n",
       "      <th>0</th>\n",
       "      <td>b</td>\n",
       "      <td>30.83</td>\n",
       "      <td>0.00</td>\n",
       "      <td>u</td>\n",
       "      <td>g</td>\n",
       "      <td>w</td>\n",
       "      <td>v</td>\n",
       "      <td>1.25</td>\n",
       "      <td>t</td>\n",
       "      <td>t</td>\n",
       "      <td>1</td>\n",
       "      <td>f</td>\n",
       "      <td>g</td>\n",
       "      <td>00202</td>\n",
       "      <td>0</td>\n",
       "      <td>+</td>\n",
       "    </tr>\n",
       "    <tr>\n",
       "      <th>1</th>\n",
       "      <td>a</td>\n",
       "      <td>58.67</td>\n",
       "      <td>4.46</td>\n",
       "      <td>u</td>\n",
       "      <td>g</td>\n",
       "      <td>q</td>\n",
       "      <td>h</td>\n",
       "      <td>3.04</td>\n",
       "      <td>t</td>\n",
       "      <td>t</td>\n",
       "      <td>6</td>\n",
       "      <td>f</td>\n",
       "      <td>g</td>\n",
       "      <td>00043</td>\n",
       "      <td>560</td>\n",
       "      <td>+</td>\n",
       "    </tr>\n",
       "    <tr>\n",
       "      <th>2</th>\n",
       "      <td>a</td>\n",
       "      <td>24.50</td>\n",
       "      <td>0.50</td>\n",
       "      <td>u</td>\n",
       "      <td>g</td>\n",
       "      <td>q</td>\n",
       "      <td>h</td>\n",
       "      <td>1.50</td>\n",
       "      <td>t</td>\n",
       "      <td>f</td>\n",
       "      <td>0</td>\n",
       "      <td>f</td>\n",
       "      <td>g</td>\n",
       "      <td>00280</td>\n",
       "      <td>824</td>\n",
       "      <td>+</td>\n",
       "    </tr>\n",
       "    <tr>\n",
       "      <th>3</th>\n",
       "      <td>b</td>\n",
       "      <td>27.83</td>\n",
       "      <td>1.54</td>\n",
       "      <td>u</td>\n",
       "      <td>g</td>\n",
       "      <td>w</td>\n",
       "      <td>v</td>\n",
       "      <td>3.75</td>\n",
       "      <td>t</td>\n",
       "      <td>t</td>\n",
       "      <td>5</td>\n",
       "      <td>t</td>\n",
       "      <td>g</td>\n",
       "      <td>00100</td>\n",
       "      <td>3</td>\n",
       "      <td>+</td>\n",
       "    </tr>\n",
       "    <tr>\n",
       "      <th>4</th>\n",
       "      <td>b</td>\n",
       "      <td>20.17</td>\n",
       "      <td>5.62</td>\n",
       "      <td>u</td>\n",
       "      <td>g</td>\n",
       "      <td>w</td>\n",
       "      <td>v</td>\n",
       "      <td>1.71</td>\n",
       "      <td>t</td>\n",
       "      <td>f</td>\n",
       "      <td>0</td>\n",
       "      <td>f</td>\n",
       "      <td>s</td>\n",
       "      <td>00120</td>\n",
       "      <td>0</td>\n",
       "      <td>+</td>\n",
       "    </tr>\n",
       "  </tbody>\n",
       "</table>\n",
       "</div>"
      ],
      "text/plain": [
       "  Gender    Age  Debt Married BankCustomer EducationLevel Ethnicity  \\\n",
       "0      b  30.83  0.00       u            g              w         v   \n",
       "1      a  58.67  4.46       u            g              q         h   \n",
       "2      a  24.50  0.50       u            g              q         h   \n",
       "3      b  27.83  1.54       u            g              w         v   \n",
       "4      b  20.17  5.62       u            g              w         v   \n",
       "\n",
       "   YearsEmployed PriorDefault Employed  CreditScore DriversLicense Citizen  \\\n",
       "0           1.25            t        t            1              f       g   \n",
       "1           3.04            t        t            6              f       g   \n",
       "2           1.50            t        f            0              f       g   \n",
       "3           3.75            t        t            5              t       g   \n",
       "4           1.71            t        f            0              f       s   \n",
       "\n",
       "  ZipCode  Income Stat Approvalus  \n",
       "0   00202       0               +  \n",
       "1   00043     560               +  \n",
       "2   00280     824               +  \n",
       "3   00100       3               +  \n",
       "4   00120       0               +  "
      ]
     },
     "execution_count": 4,
     "metadata": {},
     "output_type": "execute_result"
    }
   ],
   "source": [
    "cc_apps.head()"
   ]
  },
  {
   "cell_type": "code",
   "execution_count": 5,
   "id": "08c4db6c-f590-4173-8986-1152afcf53bd",
   "metadata": {},
   "outputs": [
    {
     "name": "stdout",
     "output_type": "stream",
     "text": [
      "<class 'pandas.core.frame.DataFrame'>\n",
      "RangeIndex: 690 entries, 0 to 689\n",
      "Data columns (total 16 columns):\n",
      " #   Column           Non-Null Count  Dtype  \n",
      "---  ------           --------------  -----  \n",
      " 0   Gender           690 non-null    object \n",
      " 1   Age              690 non-null    object \n",
      " 2   Debt             690 non-null    float64\n",
      " 3   Married          690 non-null    object \n",
      " 4   BankCustomer     690 non-null    object \n",
      " 5   EducationLevel   690 non-null    object \n",
      " 6   Ethnicity        690 non-null    object \n",
      " 7   YearsEmployed    690 non-null    float64\n",
      " 8   PriorDefault     690 non-null    object \n",
      " 9   Employed         690 non-null    object \n",
      " 10  CreditScore      690 non-null    int64  \n",
      " 11  DriversLicense   690 non-null    object \n",
      " 12  Citizen          690 non-null    object \n",
      " 13  ZipCode          690 non-null    object \n",
      " 14  Income           690 non-null    int64  \n",
      " 15  Stat Approvalus  690 non-null    object \n",
      "dtypes: float64(2), int64(2), object(12)\n",
      "memory usage: 86.4+ KB\n",
      "None\n"
     ]
    }
   ],
   "source": [
    "# Print DataFrame information\n",
    "print(cc_apps.info())"
   ]
  },
  {
   "cell_type": "markdown",
   "id": "442c5f85",
   "metadata": {},
   "source": [
    "The dataset has a mixture of numerical and non-numerical features. This can be fixed with some preprocessing, but before I do that, I want to see if there are other dataset issues that need to be fixed."
   ]
  },
  {
   "cell_type": "code",
   "execution_count": 6,
   "id": "2f7153f6",
   "metadata": {},
   "outputs": [
    {
     "data": {
      "text/html": [
       "<div>\n",
       "<style scoped>\n",
       "    .dataframe tbody tr th:only-of-type {\n",
       "        vertical-align: middle;\n",
       "    }\n",
       "\n",
       "    .dataframe tbody tr th {\n",
       "        vertical-align: top;\n",
       "    }\n",
       "\n",
       "    .dataframe thead th {\n",
       "        text-align: right;\n",
       "    }\n",
       "</style>\n",
       "<table border=\"1\" class=\"dataframe\">\n",
       "  <thead>\n",
       "    <tr style=\"text-align: right;\">\n",
       "      <th></th>\n",
       "      <th>Debt</th>\n",
       "      <th>YearsEmployed</th>\n",
       "      <th>CreditScore</th>\n",
       "      <th>Income</th>\n",
       "    </tr>\n",
       "  </thead>\n",
       "  <tbody>\n",
       "    <tr>\n",
       "      <th>count</th>\n",
       "      <td>690.00</td>\n",
       "      <td>690.00</td>\n",
       "      <td>690.00</td>\n",
       "      <td>690.00</td>\n",
       "    </tr>\n",
       "    <tr>\n",
       "      <th>mean</th>\n",
       "      <td>4.76</td>\n",
       "      <td>2.22</td>\n",
       "      <td>2.40</td>\n",
       "      <td>1017.39</td>\n",
       "    </tr>\n",
       "    <tr>\n",
       "      <th>std</th>\n",
       "      <td>4.98</td>\n",
       "      <td>3.35</td>\n",
       "      <td>4.86</td>\n",
       "      <td>5210.10</td>\n",
       "    </tr>\n",
       "    <tr>\n",
       "      <th>min</th>\n",
       "      <td>0.00</td>\n",
       "      <td>0.00</td>\n",
       "      <td>0.00</td>\n",
       "      <td>0.00</td>\n",
       "    </tr>\n",
       "    <tr>\n",
       "      <th>25%</th>\n",
       "      <td>1.00</td>\n",
       "      <td>0.17</td>\n",
       "      <td>0.00</td>\n",
       "      <td>0.00</td>\n",
       "    </tr>\n",
       "    <tr>\n",
       "      <th>50%</th>\n",
       "      <td>2.75</td>\n",
       "      <td>1.00</td>\n",
       "      <td>0.00</td>\n",
       "      <td>5.00</td>\n",
       "    </tr>\n",
       "    <tr>\n",
       "      <th>75%</th>\n",
       "      <td>7.21</td>\n",
       "      <td>2.62</td>\n",
       "      <td>3.00</td>\n",
       "      <td>395.50</td>\n",
       "    </tr>\n",
       "    <tr>\n",
       "      <th>max</th>\n",
       "      <td>28.00</td>\n",
       "      <td>28.50</td>\n",
       "      <td>67.00</td>\n",
       "      <td>100000.00</td>\n",
       "    </tr>\n",
       "  </tbody>\n",
       "</table>\n",
       "</div>"
      ],
      "text/plain": [
       "        Debt  YearsEmployed  CreditScore    Income\n",
       "count 690.00         690.00       690.00    690.00\n",
       "mean    4.76           2.22         2.40   1017.39\n",
       "std     4.98           3.35         4.86   5210.10\n",
       "min     0.00           0.00         0.00      0.00\n",
       "25%     1.00           0.17         0.00      0.00\n",
       "50%     2.75           1.00         0.00      5.00\n",
       "75%     7.21           2.62         3.00    395.50\n",
       "max    28.00          28.50        67.00 100000.00"
      ]
     },
     "execution_count": 6,
     "metadata": {},
     "output_type": "execute_result"
    }
   ],
   "source": [
    "# Print summary statistics for numeric data\n",
    "cc_apps.describe(include='number')"
   ]
  },
  {
   "cell_type": "code",
   "execution_count": 7,
   "id": "25fcee9c-2e4b-4f85-8619-4e02c4b58200",
   "metadata": {},
   "outputs": [
    {
     "data": {
      "text/html": [
       "<div>\n",
       "<style scoped>\n",
       "    .dataframe tbody tr th:only-of-type {\n",
       "        vertical-align: middle;\n",
       "    }\n",
       "\n",
       "    .dataframe tbody tr th {\n",
       "        vertical-align: top;\n",
       "    }\n",
       "\n",
       "    .dataframe thead th {\n",
       "        text-align: right;\n",
       "    }\n",
       "</style>\n",
       "<table border=\"1\" class=\"dataframe\">\n",
       "  <thead>\n",
       "    <tr style=\"text-align: right;\">\n",
       "      <th></th>\n",
       "      <th>Gender</th>\n",
       "      <th>Age</th>\n",
       "      <th>Married</th>\n",
       "      <th>BankCustomer</th>\n",
       "      <th>EducationLevel</th>\n",
       "      <th>Ethnicity</th>\n",
       "      <th>PriorDefault</th>\n",
       "      <th>Employed</th>\n",
       "      <th>DriversLicense</th>\n",
       "      <th>Citizen</th>\n",
       "      <th>ZipCode</th>\n",
       "      <th>Stat Approvalus</th>\n",
       "    </tr>\n",
       "  </thead>\n",
       "  <tbody>\n",
       "    <tr>\n",
       "      <th>count</th>\n",
       "      <td>690</td>\n",
       "      <td>690</td>\n",
       "      <td>690</td>\n",
       "      <td>690</td>\n",
       "      <td>690</td>\n",
       "      <td>690</td>\n",
       "      <td>690</td>\n",
       "      <td>690</td>\n",
       "      <td>690</td>\n",
       "      <td>690</td>\n",
       "      <td>690</td>\n",
       "      <td>690</td>\n",
       "    </tr>\n",
       "    <tr>\n",
       "      <th>unique</th>\n",
       "      <td>3</td>\n",
       "      <td>350</td>\n",
       "      <td>4</td>\n",
       "      <td>4</td>\n",
       "      <td>15</td>\n",
       "      <td>10</td>\n",
       "      <td>2</td>\n",
       "      <td>2</td>\n",
       "      <td>2</td>\n",
       "      <td>3</td>\n",
       "      <td>171</td>\n",
       "      <td>2</td>\n",
       "    </tr>\n",
       "    <tr>\n",
       "      <th>top</th>\n",
       "      <td>b</td>\n",
       "      <td>?</td>\n",
       "      <td>u</td>\n",
       "      <td>g</td>\n",
       "      <td>c</td>\n",
       "      <td>v</td>\n",
       "      <td>t</td>\n",
       "      <td>f</td>\n",
       "      <td>f</td>\n",
       "      <td>g</td>\n",
       "      <td>00000</td>\n",
       "      <td>-</td>\n",
       "    </tr>\n",
       "    <tr>\n",
       "      <th>freq</th>\n",
       "      <td>468</td>\n",
       "      <td>12</td>\n",
       "      <td>519</td>\n",
       "      <td>519</td>\n",
       "      <td>137</td>\n",
       "      <td>399</td>\n",
       "      <td>361</td>\n",
       "      <td>395</td>\n",
       "      <td>374</td>\n",
       "      <td>625</td>\n",
       "      <td>132</td>\n",
       "      <td>383</td>\n",
       "    </tr>\n",
       "  </tbody>\n",
       "</table>\n",
       "</div>"
      ],
      "text/plain": [
       "       Gender  Age Married BankCustomer EducationLevel Ethnicity PriorDefault  \\\n",
       "count     690  690     690          690            690       690          690   \n",
       "unique      3  350       4            4             15        10            2   \n",
       "top         b    ?       u            g              c         v            t   \n",
       "freq      468   12     519          519            137       399          361   \n",
       "\n",
       "       Employed DriversLicense Citizen ZipCode Stat Approvalus  \n",
       "count       690            690     690     690             690  \n",
       "unique        2              2       3     171               2  \n",
       "top           f              f       g   00000               -  \n",
       "freq        395            374     625     132             383  "
      ]
     },
     "execution_count": 7,
     "metadata": {},
     "output_type": "execute_result"
    }
   ],
   "source": [
    "# Print summary statistics for object data\n",
    "cc_apps.describe(include = 'object')"
   ]
  },
  {
   "cell_type": "code",
   "execution_count": 8,
   "id": "75aa99d3",
   "metadata": {},
   "outputs": [
    {
     "data": {
      "text/plain": [
       "Gender             0\n",
       "Age                0\n",
       "Debt               0\n",
       "Married            0\n",
       "BankCustomer       0\n",
       "EducationLevel     0\n",
       "Ethnicity          0\n",
       "YearsEmployed      0\n",
       "PriorDefault       0\n",
       "Employed           0\n",
       "CreditScore        0\n",
       "DriversLicense     0\n",
       "Citizen            0\n",
       "ZipCode            0\n",
       "Income             0\n",
       "Stat Approvalus    0\n",
       "dtype: int64"
      ]
     },
     "execution_count": 8,
     "metadata": {},
     "output_type": "execute_result"
    }
   ],
   "source": [
    "# Inspect missing values in the dataset\n",
    "cc_apps.isna().sum()"
   ]
  },
  {
   "cell_type": "code",
   "execution_count": 9,
   "id": "9d70de0e",
   "metadata": {},
   "outputs": [
    {
     "name": "stdout",
     "output_type": "stream",
     "text": [
      "Gender: ['b' 'a' '?']\n",
      "Married: ['u' 'y' '?' 'l']\n",
      "BankCustomer: ['g' 'p' '?' 'gg']\n",
      "EducationLevel: ['w' 'q' 'm' 'r' 'cc' 'k' 'c' 'd' 'x' 'i' 'e' 'aa' 'ff' 'j' '?']\n",
      "Ethnicity: ['v' 'h' 'bb' 'ff' 'j' 'z' '?' 'o' 'dd' 'n']\n",
      "PriorDefault: ['t' 'f']\n",
      "Employed: ['t' 'f']\n",
      "DriversLicense: ['f' 't']\n",
      "Citizen: ['g' 's' 'p']\n",
      "ZipCode: ['00202' '00043' '00280' '00100' '00120' '00360' '00164' '00080' '00180'\n",
      " '00052' '00128' '00260' '00000' '00320' '00396' '00096' '00200' '00300'\n",
      " '00145' '00500' '00168' '00434' '00583' '00030' '00240' '00070' '00455'\n",
      " '00311' '00216' '00491' '00400' '00239' '00160' '00711' '00250' '00520'\n",
      " '00515' '00420' '?' '00980' '00443' '00140' '00094' '00368' '00288'\n",
      " '00928' '00188' '00112' '00171' '00268' '00167' '00075' '00152' '00176'\n",
      " '00329' '00212' '00410' '00274' '00375' '00408' '00350' '00204' '00040'\n",
      " '00181' '00399' '00440' '00093' '00060' '00395' '00393' '00021' '00029'\n",
      " '00102' '00431' '00370' '00024' '00020' '00129' '00510' '00195' '00144'\n",
      " '00380' '00049' '00050' '00381' '00150' '00117' '00056' '00211' '00230'\n",
      " '00156' '00022' '00228' '00519' '00253' '00487' '00220' '00088' '00073'\n",
      " '00121' '00470' '00136' '00132' '00292' '00154' '00272' '00340' '00108'\n",
      " '00720' '00450' '00232' '00170' '01160' '00411' '00460' '00348' '00480'\n",
      " '00640' '00372' '00276' '00221' '00352' '00141' '00178' '00600' '00550'\n",
      " '02000' '00225' '00210' '00110' '00356' '00045' '00062' '00092' '00174'\n",
      " '00017' '00086' '00454' '00254' '00028' '00263' '00333' '00312' '00290'\n",
      " '00371' '00099' '00252' '00760' '00560' '00130' '00523' '00680' '00163'\n",
      " '00208' '00383' '00330' '00422' '00840' '00432' '00032' '00186' '00303'\n",
      " '00349' '00224' '00369' '00076' '00231' '00309' '00416' '00465' '00256']\n",
      "Stat Approvalus: ['+' '-']\n"
     ]
    }
   ],
   "source": [
    "# Inspect missing values from the 'object' data type columns\n",
    "objcol_name = cc_apps.select_dtypes(include= ['object']).drop(columns ='Age').columns\n",
    "for col in objcol_name:\n",
    "    print(f'{col}: {cc_apps[col].unique()}')"
   ]
  },
  {
   "cell_type": "markdown",
   "id": "749d3b7b",
   "metadata": {},
   "source": [
    "I identified some issues after I inspected the DataFrame, including:\n",
    "- the  dataset contains both numeric and non-numeric data (of types float64 and int64) and other features contain non-numeric values (of types object). Age was categorized as object data type (and not float) as I would like, so I need to make it numeric.\n",
    "- the dataset also contains values from several ranges. Some features have a value range of 0 - 28, some have a range of 2 - 67, and some have a range of 1017 - 100000. \n",
    "- the maximum value of CreditScore is 67, which is much higher than the mean value of 2.4. It is possible that there are some outliers in the data;\n",
    "- the dataset has missing values, the missing values in the dataset are labeled with '?'.\n",
    "- the min value of features 'Income' is 0, I need to check if these are missing values or if they are student loans.\n",
    "- the outcome values in Approved are '+' or '-' for whether credit had been granted or not. These character symbols aren’t meaningful as is so will need to be transformed. Turning the '+' to a '1' and the '-' to a '0' will help with classification and logistic regression models later in the analysis.\n",
    "- the ZipCode has to many values, I need to reduce their number by dividing the range of values into intervals, or bins."
   ]
  },
  {
   "cell_type": "code",
   "execution_count": 10,
   "id": "7d83088a",
   "metadata": {},
   "outputs": [
    {
     "data": {
      "text/plain": [
       "Gender             12\n",
       "Age                12\n",
       "Debt                0\n",
       "Married             6\n",
       "BankCustomer        6\n",
       "EducationLevel      9\n",
       "Ethnicity           9\n",
       "YearsEmployed       0\n",
       "PriorDefault        0\n",
       "Employed            0\n",
       "CreditScore         0\n",
       "DriversLicense      0\n",
       "Citizen             0\n",
       "ZipCode            13\n",
       "Income              0\n",
       "Stat Approvalus     0\n",
       "dtype: int64"
      ]
     },
     "execution_count": 10,
     "metadata": {},
     "output_type": "execute_result"
    }
   ],
   "source": [
    "# Temporarily replace missing value question marks with NaN\n",
    "# Import numpy\n",
    "import numpy as np\n",
    "\n",
    "# Replace the '?'s with NaN in the train and test sets\n",
    "cc_apps = cc_apps.replace('?', np.NaN)\n",
    "cc_apps = cc_apps.replace('?',  np.NaN)\n",
    "\n",
    "# Count the number of NaNs in the datasets and print the counts to verify\n",
    "cc_apps.isna().sum()"
   ]
  },
  {
   "cell_type": "code",
   "execution_count": 11,
   "id": "913afa53",
   "metadata": {},
   "outputs": [
    {
     "data": {
      "text/plain": [
       "dtype('float64')"
      ]
     },
     "execution_count": 11,
     "metadata": {},
     "output_type": "execute_result"
    }
   ],
   "source": [
    "# Convert Age to float data type\n",
    "cc_apps['Age'] = cc_apps['Age'].astype('float64')\n",
    "cc_apps['Age'].dtypes"
   ]
  },
  {
   "cell_type": "markdown",
   "id": "04843ad5-4ca2-4819-b843-ef6d15f7a012",
   "metadata": {},
   "source": [
    "**Handling the outliers from 'CreditScore' variable**\n",
    "\n",
    "First I will use a boxplot to see the distribution of the data and then I will use Z-score method to remove outliers."
   ]
  },
  {
   "cell_type": "code",
   "execution_count": 12,
   "id": "a0071bb5-0a7a-4f80-85a4-1facc0002887",
   "metadata": {},
   "outputs": [
    {
     "data": {
      "image/png": "[encoded data removed]",
      "text/plain": [
       "<Figure size 720x216 with 1 Axes>"
      ]
     },
     "metadata": {
      "needs_background": "light"
     },
     "output_type": "display_data"
    }
   ],
   "source": [
    "# Ploting a boxplot for the 'CreditScore'\n",
    "plt.figure(figsize = (10,3))\n",
    "sns.boxplot(data = cc_apps, x = 'CreditScore')\n",
    "plt.show()"
   ]
  },
  {
   "cell_type": "markdown",
   "id": "0b9bd1a2-051e-4b2d-83ff-8a65f3a0861d",
   "metadata": {},
   "source": [
    "Seems that there are  two outliers"
   ]
  },
  {
   "cell_type": "code",
   "execution_count": 13,
   "id": "4d9c3fb4-d310-40f6-be37-593aa70aa756",
   "metadata": {},
   "outputs": [
    {
     "data": {
      "text/plain": [
       "44     40\n",
       "121    67\n",
       "Name: CreditScore, dtype: int64"
      ]
     },
     "execution_count": 13,
     "metadata": {},
     "output_type": "execute_result"
    }
   ],
   "source": [
    "from scipy import stats\n",
    "#calculate the Z-score for each value in the 'CreditScore' column\n",
    "z_scores = stats.zscore(cc_apps['CreditScore'])\n",
    "#seting a threshold egal with std\n",
    "threshold = 4.86\n",
    "#Filter the outliers \n",
    "cc_apps[abs(z_scores) > threshold]['CreditScore']"
   ]
  },
  {
   "cell_type": "code",
   "execution_count": 14,
   "id": "137f004a-623a-416c-8404-0e97a319098c",
   "metadata": {},
   "outputs": [
    {
     "data": {
      "text/plain": [
       "23"
      ]
     },
     "execution_count": 14,
     "metadata": {},
     "output_type": "execute_result"
    }
   ],
   "source": [
    "# filter out the outliers from 'CreditScore' column\n",
    "cc_apps = cc_apps[abs(z_scores) < threshold]\n",
    "cc_apps['CreditScore'].max()"
   ]
  },
  {
   "cell_type": "markdown",
   "id": "960ab27f",
   "metadata": {},
   "source": [
    "**Handling the missing values from 'Age' column**\n",
    "\n",
    "I can see from the summary output that the Age variable has missing values that I’ll have to fill in. I could simply use the mean of all the existing values to do so. Another method would be to check the relationship among the numeric values and use a linear regression to fill them in. The table below shows the correlation between all of the variables. The diagonal correlation values equal 1.000 because each variable is perfectly correlated with itself. The largest value in the first row is 0.396 meaning age is most closely correlated with YearsEmployed and Debt. Similarly, Income is mostly correlated with CreditScore."
   ]
  },
  {
   "cell_type": "code",
   "execution_count": 15,
   "id": "292ed91c",
   "metadata": {},
   "outputs": [
    {
     "data": {
      "text/html": [
       "<div>\n",
       "<style scoped>\n",
       "    .dataframe tbody tr th:only-of-type {\n",
       "        vertical-align: middle;\n",
       "    }\n",
       "\n",
       "    .dataframe tbody tr th {\n",
       "        vertical-align: top;\n",
       "    }\n",
       "\n",
       "    .dataframe thead th {\n",
       "        text-align: right;\n",
       "    }\n",
       "</style>\n",
       "<table border=\"1\" class=\"dataframe\">\n",
       "  <thead>\n",
       "    <tr style=\"text-align: right;\">\n",
       "      <th></th>\n",
       "      <th>Age</th>\n",
       "      <th>Debt</th>\n",
       "      <th>YearsEmployed</th>\n",
       "      <th>CreditScore</th>\n",
       "      <th>Income</th>\n",
       "    </tr>\n",
       "  </thead>\n",
       "  <tbody>\n",
       "    <tr>\n",
       "      <th>Age</th>\n",
       "      <td>1.00</td>\n",
       "      <td>0.19</td>\n",
       "      <td>0.39</td>\n",
       "      <td>0.21</td>\n",
       "      <td>0.02</td>\n",
       "    </tr>\n",
       "    <tr>\n",
       "      <th>Debt</th>\n",
       "      <td>0.19</td>\n",
       "      <td>1.00</td>\n",
       "      <td>0.26</td>\n",
       "      <td>0.24</td>\n",
       "      <td>0.13</td>\n",
       "    </tr>\n",
       "    <tr>\n",
       "      <th>YearsEmployed</th>\n",
       "      <td>0.39</td>\n",
       "      <td>0.26</td>\n",
       "      <td>1.00</td>\n",
       "      <td>0.31</td>\n",
       "      <td>0.06</td>\n",
       "    </tr>\n",
       "    <tr>\n",
       "      <th>CreditScore</th>\n",
       "      <td>0.21</td>\n",
       "      <td>0.24</td>\n",
       "      <td>0.31</td>\n",
       "      <td>1.00</td>\n",
       "      <td>0.08</td>\n",
       "    </tr>\n",
       "    <tr>\n",
       "      <th>Income</th>\n",
       "      <td>0.02</td>\n",
       "      <td>0.13</td>\n",
       "      <td>0.06</td>\n",
       "      <td>0.08</td>\n",
       "      <td>1.00</td>\n",
       "    </tr>\n",
       "  </tbody>\n",
       "</table>\n",
       "</div>"
      ],
      "text/plain": [
       "               Age  Debt  YearsEmployed  CreditScore  Income\n",
       "Age           1.00  0.19           0.39         0.21    0.02\n",
       "Debt          0.19  1.00           0.26         0.24    0.13\n",
       "YearsEmployed 0.39  0.26           1.00         0.31    0.06\n",
       "CreditScore   0.21  0.24           0.31         1.00    0.08\n",
       "Income        0.02  0.13           0.06         0.08    1.00"
      ]
     },
     "execution_count": 15,
     "metadata": {},
     "output_type": "execute_result"
    }
   ],
   "source": [
    "cc_apps.corr(method = 'pearson')"
   ]
  },
  {
   "cell_type": "code",
   "execution_count": 16,
   "id": "2f1f061f-cdf9-4bfa-8236-9211a00acc91",
   "metadata": {},
   "outputs": [
    {
     "data": {
      "text/html": [
       "<div>\n",
       "<style scoped>\n",
       "    .dataframe tbody tr th:only-of-type {\n",
       "        vertical-align: middle;\n",
       "    }\n",
       "\n",
       "    .dataframe tbody tr th {\n",
       "        vertical-align: top;\n",
       "    }\n",
       "\n",
       "    .dataframe thead th {\n",
       "        text-align: right;\n",
       "    }\n",
       "</style>\n",
       "<table border=\"1\" class=\"dataframe\">\n",
       "  <thead>\n",
       "    <tr style=\"text-align: right;\">\n",
       "      <th></th>\n",
       "      <th>Age</th>\n",
       "      <th>Debt</th>\n",
       "      <th>YearsEmployed</th>\n",
       "      <th>CreditScore</th>\n",
       "      <th>Income</th>\n",
       "    </tr>\n",
       "  </thead>\n",
       "  <tbody>\n",
       "    <tr>\n",
       "      <th>Age</th>\n",
       "      <td>1.00</td>\n",
       "      <td>0.11</td>\n",
       "      <td>0.25</td>\n",
       "      <td>0.12</td>\n",
       "      <td>0.04</td>\n",
       "    </tr>\n",
       "    <tr>\n",
       "      <th>Debt</th>\n",
       "      <td>0.11</td>\n",
       "      <td>1.00</td>\n",
       "      <td>0.26</td>\n",
       "      <td>0.20</td>\n",
       "      <td>0.10</td>\n",
       "    </tr>\n",
       "    <tr>\n",
       "      <th>YearsEmployed</th>\n",
       "      <td>0.25</td>\n",
       "      <td>0.26</td>\n",
       "      <td>1.00</td>\n",
       "      <td>0.31</td>\n",
       "      <td>0.09</td>\n",
       "    </tr>\n",
       "    <tr>\n",
       "      <th>CreditScore</th>\n",
       "      <td>0.12</td>\n",
       "      <td>0.20</td>\n",
       "      <td>0.31</td>\n",
       "      <td>1.00</td>\n",
       "      <td>0.43</td>\n",
       "    </tr>\n",
       "    <tr>\n",
       "      <th>Income</th>\n",
       "      <td>0.04</td>\n",
       "      <td>0.10</td>\n",
       "      <td>0.09</td>\n",
       "      <td>0.43</td>\n",
       "      <td>1.00</td>\n",
       "    </tr>\n",
       "  </tbody>\n",
       "</table>\n",
       "</div>"
      ],
      "text/plain": [
       "               Age  Debt  YearsEmployed  CreditScore  Income\n",
       "Age           1.00  0.11           0.25         0.12    0.04\n",
       "Debt          0.11  1.00           0.26         0.20    0.10\n",
       "YearsEmployed 0.25  0.26           1.00         0.31    0.09\n",
       "CreditScore   0.12  0.20           0.31         1.00    0.43\n",
       "Income        0.04  0.10           0.09         0.43    1.00"
      ]
     },
     "execution_count": 16,
     "metadata": {},
     "output_type": "execute_result"
    }
   ],
   "source": [
    "cc_apps.corr(method = 'spearman')"
   ]
  },
  {
   "cell_type": "code",
   "execution_count": 17,
   "id": "f94aca08",
   "metadata": {},
   "outputs": [],
   "source": [
    "# Split the dataset into two parts: one with complete cases and another with missing values\n",
    "complete_cases = cc_apps.dropna()\n",
    "missing_cases = cc_apps[cc_apps['Age'].isnull()]"
   ]
  },
  {
   "cell_type": "code",
   "execution_count": 18,
   "id": "18b003c3",
   "metadata": {},
   "outputs": [
    {
     "name": "stdout",
     "output_type": "stream",
     "text": [
      "y_pred_Age mean: 32.35473038855598; cc_apps.Age mean: 31.474500768049158\n"
     ]
    }
   ],
   "source": [
    "# Use the complete cases to fit a linear regression model that predicts the missing variable \n",
    "X_Age = complete_cases[['Debt','YearsEmployed']].values\n",
    "y_Age = complete_cases['Age'].values\n",
    "reg_model = LinearRegression()\n",
    "reg_model.fit(X_Age, y_Age)\n",
    "\n",
    "# Use the fitted model to predict the missing values from the Age column\n",
    "X_missing_Age = missing_cases[['Debt','YearsEmployed']].values\n",
    "y_pred_Age = reg_model.predict(X_missing_Age)\n",
    "print(f'y_pred_Age mean: {y_pred_Age.mean()};', f'cc_apps.Age mean: {np.mean(y_Age)}')"
   ]
  },
  {
   "cell_type": "markdown",
   "id": "6123cac2-99e0-47ce-8683-c91a4704b1b1",
   "metadata": {},
   "source": [
    "I will perform a hypothesis test to determine if y_pred_Age is significantly different or not from the values from cc_apps.Age, I will use t-test, which compares the means of two arrays."
   ]
  },
  {
   "cell_type": "code",
   "execution_count": 19,
   "id": "5a82797e-4c30-4ec2-9c6c-f4674092016d",
   "metadata": {},
   "outputs": [
    {
     "name": "stdout",
     "output_type": "stream",
     "text": [
      "The y_pred_Age is not significantly different from the values from cc_apps.Age\n"
     ]
    }
   ],
   "source": [
    "# Set the null hypothesis: the y_pred_Age is not significantly different from the values from cc_apps.Age\n",
    "null_hypothesis = 'The y_pred_Age is not significantly different from the values from cc_apps.Age'\n",
    "\n",
    "# Set the significance level\n",
    "alpha = 0.05\n",
    "\n",
    "# Calculate the t-statistic and p-value for the hypothesis test\n",
    "t_statistic, p_value = stats.ttest_1samp(y_pred_Age, np.mean(y_Age))\n",
    "\n",
    "# Compare the p-value to the significance level\n",
    "if p_value > alpha:\n",
    "    print(null_hypothesis)\n",
    "else:\n",
    "    print(\"The y_pred_Age is significantly different from the values from cc_apps.Age\")"
   ]
  },
  {
   "cell_type": "code",
   "execution_count": 20,
   "id": "05fc4f1d",
   "metadata": {},
   "outputs": [
    {
     "data": {
      "text/plain": [
       "0"
      ]
     },
     "execution_count": 20,
     "metadata": {},
     "output_type": "execute_result"
    }
   ],
   "source": [
    "# Replace the missing values with the predicted values\n",
    "cc_apps.loc[cc_apps['Age'].isnull(), 'Age'] = y_pred_Age\n",
    "\n",
    "# Count the number of NaNs in the datasets and print the counts to verify\n",
    "cc_apps['Age'].isna().sum()"
   ]
  },
  {
   "cell_type": "markdown",
   "id": "4045a5a6-0aa6-446b-b30e-2a17e0b88549",
   "metadata": {},
   "source": [
    "**Handling the missing values from Gender, Married, BankCustomer, EducationLevel, Ethnicity and ZipCode columns**\n",
    "\n",
    "I take care of the missing values present in the numeric columns. There are still some missing values to be imputed for columns Gender, Married, BankCustomer, EducationLevel, Ethnicity and ZipCode . All of these columns contain categorical features and this is why the mean imputation strategy would not work here. This needs a different treatment. I am going to impute these missing values with the most frequent values as present in the respective columns. "
   ]
  },
  {
   "cell_type": "code",
   "execution_count": 21,
   "id": "414ea400-2e83-4b24-99be-7b705c52ed9c",
   "metadata": {},
   "outputs": [
    {
     "data": {
      "text/plain": [
       "Gender             0\n",
       "Age                0\n",
       "Debt               0\n",
       "Married            0\n",
       "BankCustomer       0\n",
       "EducationLevel     0\n",
       "Ethnicity          0\n",
       "YearsEmployed      0\n",
       "PriorDefault       0\n",
       "Employed           0\n",
       "CreditScore        0\n",
       "DriversLicense     0\n",
       "Citizen            0\n",
       "ZipCode            0\n",
       "Income             0\n",
       "Stat Approvalus    0\n",
       "dtype: int64"
      ]
     },
     "execution_count": 21,
     "metadata": {},
     "output_type": "execute_result"
    }
   ],
   "source": [
    "# Iterate over each object type column of cc_apps\n",
    "cat_col = cc_apps.select_dtypes(include =['object']).columns\n",
    "for col in cat_col:\n",
    "    # find the most frequent value\n",
    "    most_frequent_gender = cc_apps[col].mode()[0]\n",
    "    # fill missing values with the most frequent value\n",
    "    cc_apps[col].fillna(most_frequent_gender, inplace=True)\n",
    "        \n",
    "# Count the number of NaNs in the dataset and print the counts to verify\n",
    "cc_apps.isna().sum()"
   ]
  },
  {
   "cell_type": "markdown",
   "id": "81a04b24-3ae8-490d-80fd-e5889aa87db5",
   "metadata": {},
   "source": [
    "**Handling the missing values from 'Income' column**\n",
    "\n",
    "I can see from the summary output that the min value of features 'Income' is 0, I need to check if these are missing values or if they are student loans."
   ]
  },
  {
   "cell_type": "code",
   "execution_count": 22,
   "id": "13c3f628-3211-4adb-b605-8b96bbb62341",
   "metadata": {},
   "outputs": [
    {
     "data": {
      "text/plain": [
       "(0, 100000)"
      ]
     },
     "execution_count": 22,
     "metadata": {},
     "output_type": "execute_result"
    }
   ],
   "source": [
    "# Checking the Income min and max values \n",
    "cc_apps['Income'].min(), cc_apps['Income'].max()"
   ]
  },
  {
   "cell_type": "code",
   "execution_count": 23,
   "id": "f94a31d6-7136-4d55-9f12-0ce4b2cbb4fa",
   "metadata": {},
   "outputs": [
    {
     "data": {
      "text/plain": [
       "41"
      ]
     },
     "execution_count": 23,
     "metadata": {},
     "output_type": "execute_result"
    }
   ],
   "source": [
    "# Checking the number of records with age > 25, income equal to '0', employed equal with 't' and  approval status equal with '+'\n",
    "cc_apps_filter = cc_apps[(cc_apps['Income'] == 0)\n",
    "                         & (cc_apps['Employed'] == 't') \n",
    "                         & (cc_apps['Stat Approvalus'] == '+') \n",
    "                         & (cc_apps['Age'] > 25)]\n",
    "len(cc_apps_filter)"
   ]
  },
  {
   "cell_type": "markdown",
   "id": "81837f41-1fcf-4c9b-8838-b53ca2f34f6b",
   "metadata": {},
   "source": [
    "There are only 41 approved loans with 0 income, employed status being true, approval status being true and age > 25. I will leave the unapproved loans with missing income values as they are, the lack of income was probably the reason for the credit being denied, for the rest of the approved loans with missing income values with age > 25, I will use regression imputation to fill in the missing values. This time I will use a Decision tree algoritm because between Credit Score and Income it's seem to be a nonlinear relationship. But first, I will use a scatterplot to see if I can detect any nonlinear relationships between Credit Score and the other numerical variables and then I want to check if there is a relationship between Income and education level."
   ]
  },
  {
   "cell_type": "code",
   "execution_count": 24,
   "id": "fc1d7ba1-1ddc-4e50-937c-507b915b0dac",
   "metadata": {},
   "outputs": [
    {
     "data": {
      "image/png": "[encoded data removed]",
      "text/plain": [
       "<Figure size 720x216 with 1 Axes>"
      ]
     },
     "metadata": {
      "needs_background": "light"
     },
     "output_type": "display_data"
    }
   ],
   "source": [
    "# Ploting a boxplot for the 'CreditScore'\n",
    "plt.figure(figsize = (10,3))\n",
    "sns.boxplot(data = cc_apps, x = 'Income')\n",
    "plt.xscale('log')\n",
    "plt.show()"
   ]
  },
  {
   "cell_type": "code",
   "execution_count": 25,
   "id": "b625da3b-608a-48c7-96b0-625574ff737d",
   "metadata": {},
   "outputs": [
    {
     "data": {
      "image/png": "[encoded data removed]",
      "text/plain": [
       "<Figure size 432x216 with 1 Axes>"
      ]
     },
     "metadata": {
      "needs_background": "light"
     },
     "output_type": "display_data"
    },
    {
     "data": {
      "image/png": "[encoded data removed]",
      "text/plain": [
       "<Figure size 432x216 with 1 Axes>"
      ]
     },
     "metadata": {
      "needs_background": "light"
     },
     "output_type": "display_data"
    },
    {
     "data": {
      "image/png": "[encoded data removed]",
      "text/plain": [
       "<Figure size 432x216 with 1 Axes>"
      ]
     },
     "metadata": {
      "needs_background": "light"
     },
     "output_type": "display_data"
    },
    {
     "data": {
      "image/png": "[encoded data removed]",
      "text/plain": [
       "<Figure size 432x216 with 1 Axes>"
      ]
     },
     "metadata": {
      "needs_background": "light"
     },
     "output_type": "display_data"
    }
   ],
   "source": [
    "# Ploting a lmplot for the 'Income' vs the other numerical variables\n",
    "num_col = cc_apps.select_dtypes(include =['float', 'int']).columns\n",
    "for col in num_col.drop('Income'):\n",
    "    sns.lmplot(data = cc_apps, x = col, y ='Income', lowess=True, height=3, aspect=2, \n",
    "               line_kws={'color' : 'black'}).set(title = f'The scatterplot between Income and {col}')\n",
    "    plt.xscale('log')\n",
    "    plt.yscale('log')\n",
    "plt.show()"
   ]
  },
  {
   "cell_type": "markdown",
   "id": "0bf3fbb9-32c7-41f2-8e4b-f88372fab99f",
   "metadata": {},
   "source": [
    "It seems that Income  are some nonlinear relationships with Credit Score, Years Employed and Debt, so I  will use and this three variable to predict the missing values from Income variable."
   ]
  },
  {
   "cell_type": "code",
   "execution_count": 26,
   "id": "ebd409d2-fe96-4ecf-be09-771f98c24750",
   "metadata": {},
   "outputs": [
    {
     "data": {
      "image/png": "[encoded data removed]",
      "text/plain": [
       "<Figure size 576x288 with 1 Axes>"
      ]
     },
     "metadata": {
      "needs_background": "light"
     },
     "output_type": "display_data"
    }
   ],
   "source": [
    "# Ploting a boxplot the 'EducationLevel' vs 'Income' to check if the Income is different for different levels of education\n",
    "plt.figure( figsize = (8,4))\n",
    "sns.boxplot(data = cc_apps, y = 'EducationLevel', x ='Income')\n",
    "plt.xscale('log')\n",
    "plt.show()"
   ]
  },
  {
   "cell_type": "markdown",
   "id": "4522043d-a873-43c7-b93d-7a084e51e29c",
   "metadata": {},
   "source": [
    "We see that the Income is different for different levels of education. But to see if they are significantly different, we'll need to use hypothesis tests. I will perform an ANOVA test to see  if they are significantly different.  ANOVA tests determine whether there are differences between the groups. The null hypothesis is that: \"EducationLevel and Approved variables are independent\". I set the significance level to 0.5. "
   ]
  },
  {
   "cell_type": "code",
   "execution_count": 27,
   "id": "9f6c777a-0de0-4d18-9df1-f16ff1680518",
   "metadata": {},
   "outputs": [
    {
     "name": "stdout",
     "output_type": "stream",
     "text": [
      "0.05296067585713951\n"
     ]
    }
   ],
   "source": [
    "# Extract the numerical values for each group.\n",
    "grouped_data = cc_apps.groupby('EducationLevel')\n",
    "grouped_vals = [group[1]['Income'] for group in grouped_data]\n",
    "\n",
    "# perform the ANOVA test using f_oneway() function from the scipy.stats\n",
    "f_statistic, p_value = stats.f_oneway(*grouped_vals) # function takes in the grouped numerical values as arguments \n",
    "                                                     # using the * syntax to unpack the list of values\n",
    "print(p_value)"
   ]
  },
  {
   "cell_type": "markdown",
   "id": "81325c82-dd89-4ba7-81a6-5303bfc129e0",
   "metadata": {},
   "source": [
    "The p-value is 0.0529, which is higher than alpha at 0.5, this mean that I failed to reject the null hypothesis and that I can conclude that there is not a statistically significant difference between the groups. The EducationLevel and Approved variables are independent."
   ]
  },
  {
   "cell_type": "code",
   "execution_count": 28,
   "id": "187e4491-8b66-4f4c-8cb5-9309543d0496",
   "metadata": {},
   "outputs": [],
   "source": [
    "# Convert the EducationLevel feature and split the dataset into two parts: one with complete cases and another with missing values\n",
    "#data = (cc_apps[['Debt', 'CreditScore', 'YearsEmployed', 'Income']])\n",
    "complete_cases_inc = cc_apps[cc_apps['Income'] != 0]\n",
    "missing_cases_inc = cc_apps[(cc_apps['Income'] == 0)\n",
    "                         & (cc_apps['Employed'] == 't') \n",
    "                         & (cc_apps['Stat Approvalus'] == '+') \n",
    "                         & (cc_apps['Age'] > 25)]"
   ]
  },
  {
   "cell_type": "code",
   "execution_count": 29,
   "id": "9425a26b-7bf9-4cb0-8aac-ae4720e8ee3e",
   "metadata": {},
   "outputs": [],
   "source": [
    "X_inc = complete_cases_inc[['Debt', 'CreditScore', 'YearsEmployed']]\n",
    "y_inc = complete_cases_inc['Income'].values\n",
    "\n",
    "X_missing_inc = missing_cases_inc[['Debt', 'CreditScore', 'YearsEmployed']]"
   ]
  },
  {
   "cell_type": "code",
   "execution_count": 30,
   "id": "321e9ba6-1ec8-4599-82fe-48e741a2a7ec",
   "metadata": {},
   "outputs": [
    {
     "data": {
      "text/plain": [
       "((393, 3), (393,), (41, 3))"
      ]
     },
     "execution_count": 30,
     "metadata": {},
     "output_type": "execute_result"
    }
   ],
   "source": [
    "X_inc.shape, y_inc.shape, X_missing_inc.shape"
   ]
  },
  {
   "cell_type": "code",
   "execution_count": 31,
   "id": "fee9e437-05b4-43fe-a5d3-33214be3d2f8",
   "metadata": {},
   "outputs": [
    {
     "name": "stdout",
     "output_type": "stream",
     "text": [
      "y_pred_inc mean: 1278.0; cc_apps.Income mean: 1019.9462209302326\n"
     ]
    }
   ],
   "source": [
    "# Use the complete cases to fit a Decision Tree Regressor model that predicts the missing variable \n",
    "dtr_model = DecisionTreeRegressor(random_state=12)\n",
    "dtr_model.fit(X_inc, y_inc)\n",
    "\n",
    "# Use the fitted model to predict the missing values from the Income column\n",
    "y_pred_inc = dtr_model.predict(X_missing_inc)\n",
    "print(f'y_pred_inc mean: {y_pred_inc.mean()};', f\"cc_apps.Income mean: {np.mean(cc_apps['Income'])}\")"
   ]
  },
  {
   "cell_type": "code",
   "execution_count": 32,
   "id": "0752558a-9d78-4e28-8758-ad7c7a8dffd9",
   "metadata": {},
   "outputs": [
    {
     "name": "stdout",
     "output_type": "stream",
     "text": [
      "The y_pred_inc is not significantly different from the values from cc_apps.Income\n"
     ]
    }
   ],
   "source": [
    "#Set the null hypothesis: \n",
    "null_hypothesis = 'The y_pred_inc is not significantly different from the values from cc_apps.Income'\n",
    "\n",
    "# Set the significance level\n",
    "alpha = 0.05\n",
    "\n",
    "# Calculate the t-statistic and p-value for the hypothesis test\n",
    "t_statistic, p_value = stats.ttest_1samp(y_pred_inc, np.mean(cc_apps['Income']))\n",
    "\n",
    "# Compare the p-value to the significance level\n",
    "if p_value > alpha:\n",
    "    print(null_hypothesis)\n",
    "else:\n",
    "    print(\"The y_pred_inc is significantly different from the values from cc_apps.Income\")"
   ]
  },
  {
   "cell_type": "code",
   "execution_count": 33,
   "id": "ae1571f5-cdc0-4f13-9c24-1d848009852c",
   "metadata": {},
   "outputs": [],
   "source": [
    "# Replace the missing values with the predicted values\n",
    "cc_apps.loc[(cc_apps['Income'] == 0) \n",
    "        & (cc_apps['Employed'] == 't') \n",
    "        & (cc_apps['Stat Approvalus'] == '+') \n",
    "        & (cc_apps['Age'] > 25), 'Income'] = y_pred_inc"
   ]
  },
  {
   "cell_type": "code",
   "execution_count": 34,
   "id": "e5bb469e-792d-4215-bd3e-5d47f54b9fca",
   "metadata": {},
   "outputs": [
    {
     "data": {
      "text/html": [
       "<div>\n",
       "<style scoped>\n",
       "    .dataframe tbody tr th:only-of-type {\n",
       "        vertical-align: middle;\n",
       "    }\n",
       "\n",
       "    .dataframe tbody tr th {\n",
       "        vertical-align: top;\n",
       "    }\n",
       "\n",
       "    .dataframe thead th {\n",
       "        text-align: right;\n",
       "    }\n",
       "</style>\n",
       "<table border=\"1\" class=\"dataframe\">\n",
       "  <thead>\n",
       "    <tr style=\"text-align: right;\">\n",
       "      <th></th>\n",
       "      <th></th>\n",
       "      <th>Age</th>\n",
       "    </tr>\n",
       "    <tr>\n",
       "      <th>Stat Approvalus</th>\n",
       "      <th>Employed</th>\n",
       "      <th></th>\n",
       "    </tr>\n",
       "  </thead>\n",
       "  <tbody>\n",
       "    <tr>\n",
       "      <th rowspan=\"2\" valign=\"top\">+</th>\n",
       "      <th>f</th>\n",
       "      <td>73.42</td>\n",
       "    </tr>\n",
       "    <tr>\n",
       "      <th>t</th>\n",
       "      <td>23.50</td>\n",
       "    </tr>\n",
       "    <tr>\n",
       "      <th rowspan=\"2\" valign=\"top\">-</th>\n",
       "      <th>f</th>\n",
       "      <td>69.50</td>\n",
       "    </tr>\n",
       "    <tr>\n",
       "      <th>t</th>\n",
       "      <td>63.33</td>\n",
       "    </tr>\n",
       "  </tbody>\n",
       "</table>\n",
       "</div>"
      ],
      "text/plain": [
       "                           Age\n",
       "Stat Approvalus Employed      \n",
       "+               f        73.42\n",
       "                t        23.50\n",
       "-               f        69.50\n",
       "                t        63.33"
      ]
     },
     "execution_count": 34,
     "metadata": {},
     "output_type": "execute_result"
    }
   ],
   "source": [
    "cc_apps[cc_apps['Income'] == 0].groupby(['Stat Approvalus', 'Employed']).agg({'Age':'max'})"
   ]
  },
  {
   "cell_type": "code",
   "execution_count": 35,
   "id": "8d4502f5-7233-4599-a8a7-97f290b0ffd0",
   "metadata": {},
   "outputs": [
    {
     "data": {
      "text/plain": [
       "(0, 100000)"
      ]
     },
     "execution_count": 35,
     "metadata": {},
     "output_type": "execute_result"
    }
   ],
   "source": [
    "# Convert Income  to int16in order to reduce the memory usage\n",
    "cc_apps['Income'].min(), cc_apps['Income'].max()"
   ]
  },
  {
   "cell_type": "code",
   "execution_count": 36,
   "id": "7e2df401",
   "metadata": {},
   "outputs": [
    {
     "name": "stdout",
     "output_type": "stream",
     "text": [
      "0    383\n",
      "1    305\n",
      "Name: Stat Approvalus, dtype: int64 category\n"
     ]
    }
   ],
   "source": [
    "# Turning the '+' to a '1' and the '-' to a '0' in the 'Stat Approvalus' columns\n",
    "maping = {'-': 0, '+':1}\n",
    "cc_apps['Stat Approvalus'] = cc_apps['Stat Approvalus'].replace(maping) \n",
    "\n",
    "# Change the data type  to 'category'\n",
    "cc_apps['Stat Approvalus'] = cc_apps['Stat Approvalus'].astype('category')\n",
    "print(cc_apps['Stat Approvalus'].value_counts(), cc_apps['Stat Approvalus'].dtype)"
   ]
  },
  {
   "cell_type": "code",
   "execution_count": 37,
   "id": "f91e2da0-32cc-4fc4-bf17-ff5b16fbbece",
   "metadata": {},
   "outputs": [
    {
     "data": {
      "text/plain": [
       "array(['002', '000', '001', '003', '005', '004', '007', '009', '011',\n",
       "       '006', '020', '008'], dtype=object)"
      ]
     },
     "execution_count": 37,
     "metadata": {},
     "output_type": "execute_result"
    }
   ],
   "source": [
    "# Reducing the number of Zip Code values \n",
    "cc_apps['ZipCode'] = cc_apps['ZipCode'].apply(lambda x: str(x)[0:3])\n",
    "cc_apps['ZipCode'].unique()"
   ]
  },
  {
   "cell_type": "markdown",
   "id": "19707562",
   "metadata": {},
   "source": [
    "## 3. Exploratory Analysis"
   ]
  },
  {
   "cell_type": "markdown",
   "id": "52e0643e-267b-4694-a84b-7206a0a24c13",
   "metadata": {},
   "source": [
    "I will look at the distribution of the numerical variables and I will compare the credit status by value of this variables,but first I will normalized them using MinMaxScaler from sklearn."
   ]
  },
  {
   "cell_type": "code",
   "execution_count": 38,
   "id": "ea8ca9bd-bd33-475a-b7c9-8327fc50b17e",
   "metadata": {},
   "outputs": [
    {
     "data": {
      "image/png": "[encoded data removed]",
      "text/plain": [
       "<Figure size 1440x288 with 2 Axes>"
      ]
     },
     "metadata": {
      "needs_background": "light"
     },
     "output_type": "display_data"
    },
    {
     "data": {
      "image/png": "[encoded data removed]",
      "text/plain": [
       "<Figure size 1440x288 with 2 Axes>"
      ]
     },
     "metadata": {
      "needs_background": "light"
     },
     "output_type": "display_data"
    },
    {
     "data": {
      "image/png": "[encoded data removed]",
      "text/plain": [
       "<Figure size 1440x288 with 2 Axes>"
      ]
     },
     "metadata": {
      "needs_background": "light"
     },
     "output_type": "display_data"
    },
    {
     "data": {
      "image/png": "[encoded data removed]",
      "text/plain": [
       "<Figure size 1440x288 with 2 Axes>"
      ]
     },
     "metadata": {
      "needs_background": "light"
     },
     "output_type": "display_data"
    },
    {
     "data": {
      "image/png": "[encoded data removed]",
      "text/plain": [
       "<Figure size 1440x288 with 2 Axes>"
      ]
     },
     "metadata": {
      "needs_background": "light"
     },
     "output_type": "display_data"
    }
   ],
   "source": [
    "# Create a historgram and a boxplot of the numerical variable \n",
    "num_col = cc_apps.select_dtypes(include =['float', 'int']).columns\n",
    "for col in num_col:\n",
    "    fig, (ax0, ax1) = plt.subplots(nrows=1, ncols=2, sharey=False, sharex=False, figsize=(20,4))\n",
    "    sns.histplot(data =cc_apps, x=col, stat='count', kde=True,  \n",
    "             ax=ax0).set(title = f'The histogram of the {col}')\n",
    "    sns.boxplot(x=col, y=\"Stat Approvalus\", data = cc_apps, width = 0.5,\n",
    "            ax=ax1).set(title = f'The boxplot between {col} and \"Stat Approvalus\"')\n",
    "    ax0.axvline(x=cc_apps[col].mean(), label='Mean', linestyle='--')\n",
    "    fig.suptitle(f'The distribution of {col}')\n",
    "plt.show()"
   ]
  },
  {
   "cell_type": "markdown",
   "id": "db0097ec-52a9-41b6-a6af-4994c2c511e5",
   "metadata": {},
   "source": [
    "The first thing I  note is that the data is skewed to the right because the tail is longer, so I will change the x-axis to log scale."
   ]
  },
  {
   "cell_type": "code",
   "execution_count": 39,
   "id": "c06d3eab-548e-464d-933e-d1250cb87c16",
   "metadata": {},
   "outputs": [
    {
     "data": {
      "image/png": "[encoded data removed]",
      "text/plain": [
       "<Figure size 1440x288 with 2 Axes>"
      ]
     },
     "metadata": {
      "needs_background": "light"
     },
     "output_type": "display_data"
    },
    {
     "data": {
      "image/png": "[encoded data removed]",
      "text/plain": [
       "<Figure size 1440x288 with 2 Axes>"
      ]
     },
     "metadata": {
      "needs_background": "light"
     },
     "output_type": "display_data"
    },
    {
     "data": {
      "image/png": "[encoded data removed]",
      "text/plain": [
       "<Figure size 1440x288 with 2 Axes>"
      ]
     },
     "metadata": {
      "needs_background": "light"
     },
     "output_type": "display_data"
    },
    {
     "data": {
      "image/png": "[encoded data removed]",
      "text/plain": [
       "<Figure size 1440x288 with 2 Axes>"
      ]
     },
     "metadata": {
      "needs_background": "light"
     },
     "output_type": "display_data"
    },
    {
     "data": {
      "image/png": "[encoded data removed]",
      "text/plain": [
       "<Figure size 1440x288 with 2 Axes>"
      ]
     },
     "metadata": {
      "needs_background": "light"
     },
     "output_type": "display_data"
    }
   ],
   "source": [
    "# Create a historgram and a boxplot of the numerical variable with a log scale on the x axis\n",
    "for col in num_col:\n",
    "    fig, (ax0, ax1) = plt.subplots(nrows=1, ncols=2, sharey=False, sharex=False, figsize=(20,4))\n",
    "    sns.histplot(data = cc_apps, x=col, stat='count', kde=True,\n",
    "             ax=ax0).set(title = f'The histogram of the {col}')\n",
    "    sns.boxplot(x=col, y=\"Stat Approvalus\", data = cc_apps, width = 0.5, \n",
    "            ax=ax1).set(title = f'The boxplot between {col} and \"Stat Approvalus\"')\n",
    "    plt.xscale('log')\n",
    "    ax0.axvline(x=cc_apps[col].mean(), label='Mean', linestyle='--')\n",
    "    fig.suptitle(f'The distribution of {col}')\n",
    "plt.show()"
   ]
  },
  {
   "cell_type": "markdown",
   "id": "b9e36bd5-3e7b-4e1f-9e78-9af09260386b",
   "metadata": {},
   "source": [
    "- The boxplots seem to add more informational value now because for each dataset, the mean of the approved applications is further distributed from the mean of those denied. We can tell from the boxplot that the median of the values of the two approval status categories is slightly different for all five numerical features. We can conclude that our target variable is not independent of the numerical variables. We can interpret these facts as credit applicants with lower age, income, years employed, and credit score values being less likely to be granted credit. To check if our target variable is independent of the five numerical variables, I will use a t-test. The null hypothesis is that the approval status and numerical variable are independent. I will set the significance level to 0.05. "
   ]
  },
  {
   "cell_type": "code",
   "execution_count": 40,
   "id": "2e2cb45a-2c9d-444f-acb7-c6ccb6cdff5a",
   "metadata": {},
   "outputs": [
    {
     "name": "stdout",
     "output_type": "stream",
     "text": [
      "P_value for Stat Approvalus & Age: 2.1128215405044935e-05\n",
      "P_value for Stat Approvalus & Debt: 1.206455097588652e-07\n",
      "P_value for Stat Approvalus & YearsEmployed: 1.8086548118629733e-18\n",
      "P_value for Stat Approvalus & CreditScore: 2.1541665576783883e-37\n",
      "P_value for Stat Approvalus & Income: 3.733752770248178e-07\n"
     ]
    }
   ],
   "source": [
    "import scipy.stats as stats\n",
    "for col in num_col:\n",
    "    # Split the data into two groups based on the binary variable\n",
    "    group1 = cc_apps[cc_apps['Stat Approvalus'] == 0][col]\n",
    "    group2 = cc_apps[cc_apps['Stat Approvalus'] == 1][col]\n",
    "\n",
    "    # Conduct a t-test to compare the means of the two groups\n",
    "    t_stat, p_value = stats.ttest_ind(group1, group2)\n",
    "\n",
    "    # Print the p-value\n",
    "    print(f\"P_value for Stat Approvalus & {col}: {p_value}\")"
   ]
  },
  {
   "cell_type": "markdown",
   "id": "3ede6ee9-4815-4621-89cd-a32b64aa13dc",
   "metadata": {},
   "source": [
    " The p-value is smaller than alpha at 0.5, that suggests that we can reject the null hypothesis."
   ]
  },
  {
   "cell_type": "markdown",
   "id": "431184f8-3761-4d8c-a8cf-a0a1f1da048d",
   "metadata": {},
   "source": [
    "**Ploting the distribution of categorical features to see if there is any correlation with the target feature 'Stat Approvalus'**"
   ]
  },
  {
   "cell_type": "code",
   "execution_count": 41,
   "id": "e9be4e17-007f-48a7-b9f4-9bdef76523df",
   "metadata": {},
   "outputs": [
    {
     "data": {
      "text/plain": [
       "0   0.56\n",
       "1   0.44\n",
       "Name: Stat Approvalus, dtype: float64"
      ]
     },
     "execution_count": 41,
     "metadata": {},
     "output_type": "execute_result"
    }
   ],
   "source": [
    "cc_apps[\"Stat Approvalus\"].value_counts(normalize=True)"
   ]
  },
  {
   "cell_type": "code",
   "execution_count": 42,
   "id": "6708f393-4072-44be-835a-d8c7ef77ab69",
   "metadata": {},
   "outputs": [
    {
     "data": {
      "image/png": "[encoded data removed]",
      "text/plain": [
       "<Figure size 432x288 with 1 Axes>"
      ]
     },
     "metadata": {
      "needs_background": "light"
     },
     "output_type": "display_data"
    }
   ],
   "source": [
    "# Create a count plot of the target variable - owned\n",
    "g = sns.countplot(x=\"Stat Approvalus\", data=cc_apps)\n",
    "for p in g.patches:\n",
    "    height = p.get_height()\n",
    "    g.text(p.get_x()+p.get_width()/2., height + 0.1, height ,ha=\"center\")\n",
    "g.set_title('Graph 1 - Count of the target variable \"Stat Approvalus\"')\n",
    "plt.show()"
   ]
  },
  {
   "cell_type": "markdown",
   "id": "e2c08d02-4435-4d23-b7df-15993f48599c",
   "metadata": {},
   "source": [
    "From the plot above, we can see the proportion of the minority class (1) is about 44%. Therefore, the imbalanced class issue is mild, so I decided not to address this issue at this point."
   ]
  },
  {
   "cell_type": "code",
   "execution_count": 43,
   "id": "f8adb9ce-0994-4f54-b438-0d95ab3303a4",
   "metadata": {},
   "outputs": [
    {
     "data": {
      "image/png": "[encoded data removed]",
      "text/plain": [
       "<Figure size 864x216 with 1 Axes>"
      ]
     },
     "metadata": {
      "needs_background": "light"
     },
     "output_type": "display_data"
    },
    {
     "data": {
      "image/png": "[encoded data removed]",
      "text/plain": [
       "<Figure size 864x216 with 1 Axes>"
      ]
     },
     "metadata": {
      "needs_background": "light"
     },
     "output_type": "display_data"
    },
    {
     "data": {
      "image/png": "[encoded data removed]",
      "text/plain": [
       "<Figure size 864x216 with 1 Axes>"
      ]
     },
     "metadata": {
      "needs_background": "light"
     },
     "output_type": "display_data"
    },
    {
     "data": {
      "image/png": "[encoded data removed]",
      "text/plain": [
       "<Figure size 864x216 with 1 Axes>"
      ]
     },
     "metadata": {
      "needs_background": "light"
     },
     "output_type": "display_data"
    },
    {
     "data": {
      "image/png": "[encoded data removed]",
      "text/plain": [
       "<Figure size 864x216 with 1 Axes>"
      ]
     },
     "metadata": {
      "needs_background": "light"
     },
     "output_type": "display_data"
    },
    {
     "data": {
      "image/png": "[encoded data removed]",
      "text/plain": [
       "<Figure size 864x216 with 1 Axes>"
      ]
     },
     "metadata": {
      "needs_background": "light"
     },
     "output_type": "display_data"
    },
    {
     "data": {
      "image/png": "[encoded data removed]",
      "text/plain": [
       "<Figure size 864x216 with 1 Axes>"
      ]
     },
     "metadata": {
      "needs_background": "light"
     },
     "output_type": "display_data"
    },
    {
     "data": {
      "image/png": "[encoded data removed]",
      "text/plain": [
       "<Figure size 864x216 with 1 Axes>"
      ]
     },
     "metadata": {
      "needs_background": "light"
     },
     "output_type": "display_data"
    },
    {
     "data": {
      "image/png": "[encoded data removed]",
      "text/plain": [
       "<Figure size 864x216 with 1 Axes>"
      ]
     },
     "metadata": {
      "needs_background": "light"
     },
     "output_type": "display_data"
    },
    {
     "data": {
      "image/png": "[encoded data removed]",
      "text/plain": [
       "<Figure size 864x216 with 1 Axes>"
      ]
     },
     "metadata": {
      "needs_background": "light"
     },
     "output_type": "display_data"
    }
   ],
   "source": [
    "col_list = list(cat_col)\n",
    "col_list.remove(\"Stat Approvalus\")\n",
    "for col in col_list:\n",
    "    props = cc_apps.groupby(col)['Stat Approvalus'].value_counts(normalize=True)\n",
    "    wide_props = props.unstack()\n",
    "    wide_props.plot(kind=\"bar\", stacked=True, figsize=(12,3))\n",
    "    plt.suptitle(f'The countplot between {col} and \"Stat Approvalus\"')\n",
    "    plt.xticks(rotation = 360)\n",
    "    plt.ylabel('Percentage')\n",
    "plt.show()"
   ]
  },
  {
   "cell_type": "markdown",
   "id": "f6a9ed9c-5e6d-46c5-bb51-74a233929880",
   "metadata": {},
   "source": [
    "The count charts shown above may be challenging to interpret since the meaning of the categorical feature values is unknown. However, we can observe that the values for approved and unapproved loans vary across different categorical feature categories for 'Married',\n",
    "'BankCustomer', 'EducationLevel', 'Ethnicity',  'PriorDefault', 'Employed', 'Citizen' and  'ZipCode'. For example, if the 'Stat Approvalus' category was independent of the 'Employed' category, the split between the 'Employed' categories would be at the same height in each of the two bars. There's some variation here, but we'll need a chi-square independence test to determine whether it's a significant difference. The null hypothesis is that independence occurs. Let's use a significance level of 0.05."
   ]
  },
  {
   "cell_type": "code",
   "execution_count": 44,
   "id": "48987192-a311-423e-b197-de2bf49608d3",
   "metadata": {},
   "outputs": [
    {
     "name": "stdout",
     "output_type": "stream",
     "text": [
      "                   test lambda   chi2   dof pval cramer power\n",
      "Gender          pearson   1.00   0.67  1.00 0.41   0.03  0.13\n",
      "Married         pearson   1.00  27.38  2.00 0.00   0.20  1.00\n",
      "BankCustomer    pearson   1.00  27.38  2.00 0.00   0.20  1.00\n",
      "EducationLevel  pearson   1.00  97.47 13.00 0.00   0.38  1.00\n",
      "Ethnicity       pearson   1.00  45.25  8.00 0.00   0.26  1.00\n",
      "PriorDefault    pearson   1.00 356.23  1.00 0.00   0.72  1.00\n",
      "Employed        pearson   1.00 143.22  1.00 0.00   0.46  1.00\n",
      "DriversLicense  pearson   1.00   0.68  1.00 0.41   0.03  0.13\n",
      "Citizen         pearson   1.00   9.07  2.00 0.01   0.11  0.77\n",
      "ZipCode         pearson   1.00  57.90 11.00 0.00   0.29  1.00\n"
     ]
    }
   ],
   "source": [
    "df_chi2 = pd.DataFrame(index=col_list, columns = ['test', 'lambda', 'chi2', 'dof', 'pval', 'cramer', 'power'])\n",
    "for col in col_list:\n",
    "    expected, observed, stats = pingouin.chi2_independence(data=cc_apps, x='Stat Approvalus', y = col, correction=False)\n",
    "    df_chi2.loc[col] = stats.iloc[0]\n",
    "print(df_chi2)"
   ]
  },
  {
   "cell_type": "markdown",
   "id": "f3783dc5-67db-435e-956d-76f732cdfcc0",
   "metadata": {},
   "source": [
    "The p-value is above 0.05 only for Gender and Driver's License, so I conclude that these two variables are independent of the 'Stat Approvalus' variable."
   ]
  },
  {
   "cell_type": "markdown",
   "id": "909c990a-a4db-4f4e-9892-dc5083c1eff7",
   "metadata": {},
   "source": [
    "## Preprocessing the data and feature selection\n",
    "\n",
    "<p>There is still some minor but essential data preprocessing needed before I proceed towards building our machine learning model. I am going to divide these remaining preprocessing steps into two main tasks:</p>\n",
    "<ol>\n",
    "<li>Convert the non-numeric data into numeric.</li>\n",
    "<li>Scale the feature values to a uniform range.</li>\n",
    "</ol>\n",
    "<p>First, I will be converting all the non-numeric values into numeric ones. We do this because not only it results in a faster computation but also many machine learning models (like XGBoost) (and especially the ones developed using scikit-learn) require the data to be in a strictly numeric format. I will do this by using the <code>get_dummies()</code> method from pandas.</p>\n",
    "Also, we saw that features like Drivers License, Gender and Citizen are not as important as the other features in the dataset for predicting credit card approvals. I will drop them to design our machine learning model with the best set of features."
   ]
  },
  {
   "cell_type": "code",
   "execution_count": 45,
   "id": "e4eac3ff-70f2-43f1-bc6a-33795d7397f0",
   "metadata": {},
   "outputs": [],
   "source": [
    "# Create X and y features \n",
    "X = cc_apps.drop(columns = ['Stat Approvalus', 'Gender','Citizen', 'DriversLicense'], axis = 1)\n",
    "y = cc_apps['Stat Approvalus'].values"
   ]
  },
  {
   "cell_type": "code",
   "execution_count": 46,
   "id": "97187dca-cc0d-4e79-8a9c-df0d4fcae710",
   "metadata": {},
   "outputs": [
    {
     "data": {
      "text/plain": [
       "((688, 12), (688,))"
      ]
     },
     "execution_count": 46,
     "metadata": {},
     "output_type": "execute_result"
    }
   ],
   "source": [
    "X.shape, y.shape"
   ]
  },
  {
   "cell_type": "code",
   "execution_count": 47,
   "id": "251bfcf9-c4e9-4791-be41-f32d78b9453e",
   "metadata": {},
   "outputs": [],
   "source": [
    "# Convert the categorical features in the train and test sets independently\n",
    "X = pd.get_dummies(X, drop_first = True)"
   ]
  },
  {
   "cell_type": "code",
   "execution_count": 48,
   "id": "9bfd4732-7f52-473a-b7eb-9adfdc536e3c",
   "metadata": {},
   "outputs": [
    {
     "data": {
      "text/plain": [
       "(688, 43)"
      ]
     },
     "execution_count": 48,
     "metadata": {},
     "output_type": "execute_result"
    }
   ],
   "source": [
    "X.shape"
   ]
  },
  {
   "cell_type": "code",
   "execution_count": 49,
   "id": "f6c93b73-2787-4842-80f8-2503df94d943",
   "metadata": {},
   "outputs": [],
   "source": [
    "# Import MinMaxScaler\n",
    "from sklearn.preprocessing import MinMaxScaler\n",
    "\n",
    "# Instantiate MinMaxScaler and use it to rescale X_train and X_test\n",
    "scaler = MinMaxScaler(feature_range=(0, 1))\n",
    "rescaled_X = scaler.fit_transform(X)"
   ]
  },
  {
   "cell_type": "code",
   "execution_count": 50,
   "id": "e34a128a-4816-445f-a0ce-1e27063af0a1",
   "metadata": {},
   "outputs": [
    {
     "data": {
      "text/plain": [
       "(688, 43)"
      ]
     },
     "execution_count": 50,
     "metadata": {},
     "output_type": "execute_result"
    }
   ],
   "source": [
    "rescaled_X.shape"
   ]
  },
  {
   "cell_type": "markdown",
   "id": "aa39e0c8-acb7-4be3-90e2-a90e2d1e890c",
   "metadata": {},
   "source": [
    "# Analyze and Build Models\n",
    "\n",
    "Predicting whether a credit will be approved or not is a classification task in machine learning. First I will use lazypredict library to compare the performance of different models and to choose the best one as a baseline model for my task."
   ]
  },
  {
   "cell_type": "code",
   "execution_count": 51,
   "id": "02d9261f-061e-4ec6-88c4-d9efee588349",
   "metadata": {},
   "outputs": [
    {
     "data": {
      "text/plain": [
       "((481, 43), (207, 43), (481,), (207,))"
      ]
     },
     "execution_count": 51,
     "metadata": {},
     "output_type": "execute_result"
    }
   ],
   "source": [
    "# Split into train and test sets\n",
    "X_train, X_test, y_train, y_test = train_test_split(rescaled_X, y, test_size=0.30, random_state=12)\n",
    "X_train.shape, X_test.shape, y_train.shape, y_test.shape"
   ]
  },
  {
   "cell_type": "code",
   "execution_count": 52,
   "id": "ff02f8f7-97e3-43fd-ba38-b4872ea133a6",
   "metadata": {},
   "outputs": [
    {
     "name": "stderr",
     "output_type": "stream",
     "text": [
      "100%|██████████████████████████████████████████████████████████████████████████████████| 29/29 [00:01<00:00, 14.93it/s]\n"
     ]
    },
    {
     "data": {
      "text/html": [
       "<div>\n",
       "<style scoped>\n",
       "    .dataframe tbody tr th:only-of-type {\n",
       "        vertical-align: middle;\n",
       "    }\n",
       "\n",
       "    .dataframe tbody tr th {\n",
       "        vertical-align: top;\n",
       "    }\n",
       "\n",
       "    .dataframe thead th {\n",
       "        text-align: right;\n",
       "    }\n",
       "</style>\n",
       "<table border=\"1\" class=\"dataframe\">\n",
       "  <thead>\n",
       "    <tr style=\"text-align: right;\">\n",
       "      <th></th>\n",
       "      <th>Accuracy</th>\n",
       "      <th>Balanced Accuracy</th>\n",
       "      <th>ROC AUC</th>\n",
       "      <th>F1 Score</th>\n",
       "      <th>Time Taken</th>\n",
       "    </tr>\n",
       "    <tr>\n",
       "      <th>Model</th>\n",
       "      <th></th>\n",
       "      <th></th>\n",
       "      <th></th>\n",
       "      <th></th>\n",
       "      <th></th>\n",
       "    </tr>\n",
       "  </thead>\n",
       "  <tbody>\n",
       "    <tr>\n",
       "      <th>LGBMClassifier</th>\n",
       "      <td>0.89</td>\n",
       "      <td>0.89</td>\n",
       "      <td>0.89</td>\n",
       "      <td>0.89</td>\n",
       "      <td>0.04</td>\n",
       "    </tr>\n",
       "    <tr>\n",
       "      <th>XGBClassifier</th>\n",
       "      <td>0.88</td>\n",
       "      <td>0.88</td>\n",
       "      <td>0.88</td>\n",
       "      <td>0.88</td>\n",
       "      <td>1.27</td>\n",
       "    </tr>\n",
       "    <tr>\n",
       "      <th>BaggingClassifier</th>\n",
       "      <td>0.87</td>\n",
       "      <td>0.87</td>\n",
       "      <td>0.87</td>\n",
       "      <td>0.87</td>\n",
       "      <td>0.03</td>\n",
       "    </tr>\n",
       "    <tr>\n",
       "      <th>LinearDiscriminantAnalysis</th>\n",
       "      <td>0.86</td>\n",
       "      <td>0.87</td>\n",
       "      <td>0.87</td>\n",
       "      <td>0.87</td>\n",
       "      <td>0.01</td>\n",
       "    </tr>\n",
       "    <tr>\n",
       "      <th>RidgeClassifierCV</th>\n",
       "      <td>0.86</td>\n",
       "      <td>0.87</td>\n",
       "      <td>0.87</td>\n",
       "      <td>0.87</td>\n",
       "      <td>0.01</td>\n",
       "    </tr>\n",
       "    <tr>\n",
       "      <th>RidgeClassifier</th>\n",
       "      <td>0.86</td>\n",
       "      <td>0.87</td>\n",
       "      <td>0.87</td>\n",
       "      <td>0.87</td>\n",
       "      <td>0.01</td>\n",
       "    </tr>\n",
       "    <tr>\n",
       "      <th>CalibratedClassifierCV</th>\n",
       "      <td>0.87</td>\n",
       "      <td>0.87</td>\n",
       "      <td>0.87</td>\n",
       "      <td>0.87</td>\n",
       "      <td>0.09</td>\n",
       "    </tr>\n",
       "    <tr>\n",
       "      <th>RandomForestClassifier</th>\n",
       "      <td>0.87</td>\n",
       "      <td>0.87</td>\n",
       "      <td>0.87</td>\n",
       "      <td>0.87</td>\n",
       "      <td>0.10</td>\n",
       "    </tr>\n",
       "    <tr>\n",
       "      <th>LogisticRegression</th>\n",
       "      <td>0.87</td>\n",
       "      <td>0.87</td>\n",
       "      <td>0.87</td>\n",
       "      <td>0.87</td>\n",
       "      <td>0.02</td>\n",
       "    </tr>\n",
       "    <tr>\n",
       "      <th>SVC</th>\n",
       "      <td>0.86</td>\n",
       "      <td>0.86</td>\n",
       "      <td>0.86</td>\n",
       "      <td>0.86</td>\n",
       "      <td>0.02</td>\n",
       "    </tr>\n",
       "    <tr>\n",
       "      <th>LinearSVC</th>\n",
       "      <td>0.86</td>\n",
       "      <td>0.86</td>\n",
       "      <td>0.86</td>\n",
       "      <td>0.86</td>\n",
       "      <td>0.03</td>\n",
       "    </tr>\n",
       "    <tr>\n",
       "      <th>NuSVC</th>\n",
       "      <td>0.86</td>\n",
       "      <td>0.86</td>\n",
       "      <td>0.86</td>\n",
       "      <td>0.86</td>\n",
       "      <td>0.02</td>\n",
       "    </tr>\n",
       "    <tr>\n",
       "      <th>ExtraTreesClassifier</th>\n",
       "      <td>0.86</td>\n",
       "      <td>0.86</td>\n",
       "      <td>0.86</td>\n",
       "      <td>0.86</td>\n",
       "      <td>0.09</td>\n",
       "    </tr>\n",
       "    <tr>\n",
       "      <th>Perceptron</th>\n",
       "      <td>0.86</td>\n",
       "      <td>0.86</td>\n",
       "      <td>0.86</td>\n",
       "      <td>0.86</td>\n",
       "      <td>0.01</td>\n",
       "    </tr>\n",
       "    <tr>\n",
       "      <th>SGDClassifier</th>\n",
       "      <td>0.85</td>\n",
       "      <td>0.85</td>\n",
       "      <td>0.85</td>\n",
       "      <td>0.85</td>\n",
       "      <td>0.01</td>\n",
       "    </tr>\n",
       "    <tr>\n",
       "      <th>BernoulliNB</th>\n",
       "      <td>0.86</td>\n",
       "      <td>0.85</td>\n",
       "      <td>0.85</td>\n",
       "      <td>0.85</td>\n",
       "      <td>0.01</td>\n",
       "    </tr>\n",
       "    <tr>\n",
       "      <th>NearestCentroid</th>\n",
       "      <td>0.85</td>\n",
       "      <td>0.84</td>\n",
       "      <td>0.84</td>\n",
       "      <td>0.85</td>\n",
       "      <td>0.01</td>\n",
       "    </tr>\n",
       "    <tr>\n",
       "      <th>AdaBoostClassifier</th>\n",
       "      <td>0.84</td>\n",
       "      <td>0.84</td>\n",
       "      <td>0.84</td>\n",
       "      <td>0.84</td>\n",
       "      <td>0.07</td>\n",
       "    </tr>\n",
       "    <tr>\n",
       "      <th>DecisionTreeClassifier</th>\n",
       "      <td>0.84</td>\n",
       "      <td>0.83</td>\n",
       "      <td>0.83</td>\n",
       "      <td>0.84</td>\n",
       "      <td>0.01</td>\n",
       "    </tr>\n",
       "    <tr>\n",
       "      <th>PassiveAggressiveClassifier</th>\n",
       "      <td>0.81</td>\n",
       "      <td>0.79</td>\n",
       "      <td>0.79</td>\n",
       "      <td>0.80</td>\n",
       "      <td>0.01</td>\n",
       "    </tr>\n",
       "    <tr>\n",
       "      <th>KNeighborsClassifier</th>\n",
       "      <td>0.80</td>\n",
       "      <td>0.79</td>\n",
       "      <td>0.79</td>\n",
       "      <td>0.80</td>\n",
       "      <td>0.02</td>\n",
       "    </tr>\n",
       "    <tr>\n",
       "      <th>ExtraTreeClassifier</th>\n",
       "      <td>0.80</td>\n",
       "      <td>0.79</td>\n",
       "      <td>0.79</td>\n",
       "      <td>0.80</td>\n",
       "      <td>0.01</td>\n",
       "    </tr>\n",
       "    <tr>\n",
       "      <th>LabelSpreading</th>\n",
       "      <td>0.75</td>\n",
       "      <td>0.74</td>\n",
       "      <td>0.74</td>\n",
       "      <td>0.75</td>\n",
       "      <td>0.02</td>\n",
       "    </tr>\n",
       "    <tr>\n",
       "      <th>LabelPropagation</th>\n",
       "      <td>0.75</td>\n",
       "      <td>0.74</td>\n",
       "      <td>0.74</td>\n",
       "      <td>0.75</td>\n",
       "      <td>0.02</td>\n",
       "    </tr>\n",
       "    <tr>\n",
       "      <th>QuadraticDiscriminantAnalysis</th>\n",
       "      <td>0.56</td>\n",
       "      <td>0.60</td>\n",
       "      <td>0.60</td>\n",
       "      <td>0.54</td>\n",
       "      <td>0.01</td>\n",
       "    </tr>\n",
       "    <tr>\n",
       "      <th>GaussianNB</th>\n",
       "      <td>0.52</td>\n",
       "      <td>0.57</td>\n",
       "      <td>0.57</td>\n",
       "      <td>0.45</td>\n",
       "      <td>0.01</td>\n",
       "    </tr>\n",
       "    <tr>\n",
       "      <th>DummyClassifier</th>\n",
       "      <td>0.57</td>\n",
       "      <td>0.50</td>\n",
       "      <td>0.50</td>\n",
       "      <td>0.41</td>\n",
       "      <td>0.01</td>\n",
       "    </tr>\n",
       "  </tbody>\n",
       "</table>\n",
       "</div>"
      ],
      "text/plain": [
       "                               Accuracy  Balanced Accuracy  ROC AUC  F1 Score  \\\n",
       "Model                                                                           \n",
       "LGBMClassifier                     0.89               0.89     0.89      0.89   \n",
       "XGBClassifier                      0.88               0.88     0.88      0.88   \n",
       "BaggingClassifier                  0.87               0.87     0.87      0.87   \n",
       "LinearDiscriminantAnalysis         0.86               0.87     0.87      0.87   \n",
       "RidgeClassifierCV                  0.86               0.87     0.87      0.87   \n",
       "RidgeClassifier                    0.86               0.87     0.87      0.87   \n",
       "CalibratedClassifierCV             0.87               0.87     0.87      0.87   \n",
       "RandomForestClassifier             0.87               0.87     0.87      0.87   \n",
       "LogisticRegression                 0.87               0.87     0.87      0.87   \n",
       "SVC                                0.86               0.86     0.86      0.86   \n",
       "LinearSVC                          0.86               0.86     0.86      0.86   \n",
       "NuSVC                              0.86               0.86     0.86      0.86   \n",
       "ExtraTreesClassifier               0.86               0.86     0.86      0.86   \n",
       "Perceptron                         0.86               0.86     0.86      0.86   \n",
       "SGDClassifier                      0.85               0.85     0.85      0.85   \n",
       "BernoulliNB                        0.86               0.85     0.85      0.85   \n",
       "NearestCentroid                    0.85               0.84     0.84      0.85   \n",
       "AdaBoostClassifier                 0.84               0.84     0.84      0.84   \n",
       "DecisionTreeClassifier             0.84               0.83     0.83      0.84   \n",
       "PassiveAggressiveClassifier        0.81               0.79     0.79      0.80   \n",
       "KNeighborsClassifier               0.80               0.79     0.79      0.80   \n",
       "ExtraTreeClassifier                0.80               0.79     0.79      0.80   \n",
       "LabelSpreading                     0.75               0.74     0.74      0.75   \n",
       "LabelPropagation                   0.75               0.74     0.74      0.75   \n",
       "QuadraticDiscriminantAnalysis      0.56               0.60     0.60      0.54   \n",
       "GaussianNB                         0.52               0.57     0.57      0.45   \n",
       "DummyClassifier                    0.57               0.50     0.50      0.41   \n",
       "\n",
       "                               Time Taken  \n",
       "Model                                      \n",
       "LGBMClassifier                       0.04  \n",
       "XGBClassifier                        1.27  \n",
       "BaggingClassifier                    0.03  \n",
       "LinearDiscriminantAnalysis           0.01  \n",
       "RidgeClassifierCV                    0.01  \n",
       "RidgeClassifier                      0.01  \n",
       "CalibratedClassifierCV               0.09  \n",
       "RandomForestClassifier               0.10  \n",
       "LogisticRegression                   0.02  \n",
       "SVC                                  0.02  \n",
       "LinearSVC                            0.03  \n",
       "NuSVC                                0.02  \n",
       "ExtraTreesClassifier                 0.09  \n",
       "Perceptron                           0.01  \n",
       "SGDClassifier                        0.01  \n",
       "BernoulliNB                          0.01  \n",
       "NearestCentroid                      0.01  \n",
       "AdaBoostClassifier                   0.07  \n",
       "DecisionTreeClassifier               0.01  \n",
       "PassiveAggressiveClassifier          0.01  \n",
       "KNeighborsClassifier                 0.02  \n",
       "ExtraTreeClassifier                  0.01  \n",
       "LabelSpreading                       0.02  \n",
       "LabelPropagation                     0.02  \n",
       "QuadraticDiscriminantAnalysis        0.01  \n",
       "GaussianNB                           0.01  \n",
       "DummyClassifier                      0.01  "
      ]
     },
     "execution_count": 52,
     "metadata": {},
     "output_type": "execute_result"
    }
   ],
   "source": [
    "clf = LazyClassifier(verbose=0, ignore_warnings=True, custom_metric=None, random_state=12)\n",
    "models, predictions = clf.fit(X_train, X_test, y_train, y_test)\n",
    "models "
   ]
  },
  {
   "cell_type": "markdown",
   "id": "e4fa83e1-318c-4c11-94a4-ad102d8b0565",
   "metadata": {},
   "source": [
    "We see that XGBClassifier and  LGBMClassifier are the algorithms that have the best results.  I will perform a cross-validation to see  how well this two algorithms will generalize to new, unseen data."
   ]
  },
  {
   "cell_type": "code",
   "execution_count": 53,
   "id": "4333a4bb-2a79-48e3-8a1f-2d3210ff0c93",
   "metadata": {},
   "outputs": [
    {
     "name": "stdout",
     "output_type": "stream",
     "text": [
      "Mean cross validation score for Random Forest Classifier:  0.8712585034013607\n",
      "Standard deviation cross validation score for Random Forest Classifier:  0.053556849328112895\n",
      "Mean cross validation score for LGBM Classifier:  0.8753826530612244\n",
      "Standard deviation cross validation score for LGBM Classifier:  0.04882664982558065\n"
     ]
    },
    {
     "data": {
      "image/png": "[encoded data removed]",
      "text/plain": [
       "<Figure size 432x288 with 1 Axes>"
      ]
     },
     "metadata": {
      "needs_background": "light"
     },
     "output_type": "display_data"
    }
   ],
   "source": [
    "# create the Classifier object\n",
    "rfc = RandomForestClassifier(n_estimators=200, max_depth=5, min_samples_split=3, class_weight = {0:0.8, 1:1}, random_state=42)\n",
    "lgb = LGBMClassifier(n_estimators=200, max_depth=5, learning_rate=0.025, objective='binary', class_weight = {0:0.8, 1:1}, random_state=42)\n",
    "\n",
    "# Instantiate a KFold object\n",
    "kf = KFold(n_splits=10, random_state=10, shuffle=True)\n",
    "models = {\"Random Forest Classifier\": rfc, \"LGBM Classifier\": lgb}\n",
    "cv_results = []\n",
    "\n",
    "# Loop through the models' values\n",
    "for  model in models.values():\n",
    "    # Perform cross-validation\n",
    "    cv_scores = cross_val_score(model, X_train, y_train, cv=kf)\n",
    "    # Append the results\n",
    "    cv_results.append(cv_scores)\n",
    "\n",
    "# print(\"Mean cross validation score: \", cv_results.mean())\n",
    "print(\"Mean cross validation score for Random Forest Classifier: \", cv_results[0].mean())\n",
    "print(\"Standard deviation cross validation score for Random Forest Classifier: \", cv_results[0].std())\n",
    "print(\"Mean cross validation score for LGBM Classifier: \", cv_results[1].mean())\n",
    "print(\"Standard deviation cross validation score for LGBM Classifier: \", cv_results[1].std())\n",
    "plt.boxplot(cv_results, labels=models.keys())\n",
    "plt.show()"
   ]
  },
  {
   "cell_type": "markdown",
   "id": "06bc0ac2-af89-4e89-97e7-1056c1472983",
   "metadata": {},
   "source": [
    "We see that Random Forest Classifier and LGBM Classifier appeared to produce similar results. I will check predictive performance on the test set to see if either one can outperform the other. I will now evaluate the two models on the test set with respect to classification accuracy. But I will also use the classification report. In the case of predicting credit card applications, it is important to see if the machine learning model is equally capable of predicting approved and denied status."
   ]
  },
  {
   "cell_type": "code",
   "execution_count": 54,
   "id": "db86ec6d-114c-4cc9-8c55-8fec18eba410",
   "metadata": {},
   "outputs": [
    {
     "name": "stdout",
     "output_type": "stream",
     "text": [
      "Accuracy of Random Forest Classifier:  0.8647342995169082\n"
     ]
    }
   ],
   "source": [
    "# Fit the rfc model\n",
    "rfc.fit(X_train, y_train)\n",
    "\n",
    "# Use rfc to predict instances from the test set and store it\n",
    "y_pred_rfc = rfc.predict(X_test)\n",
    "\n",
    "# Get the accuracy score of rfc model\n",
    "print(\"Accuracy of Random Forest Classifier: \", accuracy_score(y_test, y_pred_rfc))"
   ]
  },
  {
   "cell_type": "code",
   "execution_count": 55,
   "id": "dd4b2697-d0c3-4f7a-ba2c-d7c298998600",
   "metadata": {},
   "outputs": [
    {
     "name": "stdout",
     "output_type": "stream",
     "text": [
      "Classification_report of Random Forest Classifier: \n",
      "               precision    recall  f1-score   support\n",
      "\n",
      "           0       0.88      0.88      0.88       118\n",
      "           1       0.84      0.84      0.84        89\n",
      "\n",
      "    accuracy                           0.86       207\n",
      "   macro avg       0.86      0.86      0.86       207\n",
      "weighted avg       0.86      0.86      0.86       207\n",
      "\n"
     ]
    }
   ],
   "source": [
    "# Print the classification_report of the Random Forest Classifier\n",
    "print('Classification_report of Random Forest Classifier:', '\\n', classification_report(y_test, y_pred_rfc))"
   ]
  },
  {
   "cell_type": "code",
   "execution_count": 56,
   "id": "6b28f965-ca98-4d4a-bac2-763d5cb128cd",
   "metadata": {},
   "outputs": [
    {
     "name": "stdout",
     "output_type": "stream",
     "text": [
      "Accuracy of LGBM Classifier:  0.8743961352657005\n"
     ]
    }
   ],
   "source": [
    "# Fit the LGB model\n",
    "lgb.fit(X_train, y_train)\n",
    "\n",
    "# Use xgb to predict instances from the test set and store it\n",
    "y_pred_lgb = lgb.predict(X_test)\n",
    "\n",
    "# Get the accuracy score of lgb model and print it\n",
    "print(\"Accuracy of LGBM Classifier: \", accuracy_score(y_test, y_pred_lgb))"
   ]
  },
  {
   "cell_type": "code",
   "execution_count": 57,
   "id": "230ae103-6650-4b4f-8c26-b96aea85edbb",
   "metadata": {},
   "outputs": [
    {
     "name": "stdout",
     "output_type": "stream",
     "text": [
      "Classification_report of LGBM Classifier: \n",
      "               precision    recall  f1-score   support\n",
      "\n",
      "           0       0.91      0.86      0.89       118\n",
      "           1       0.83      0.89      0.86        89\n",
      "\n",
      "    accuracy                           0.87       207\n",
      "   macro avg       0.87      0.88      0.87       207\n",
      "weighted avg       0.88      0.87      0.87       207\n",
      "\n"
     ]
    }
   ],
   "source": [
    "# Print the classification_report of the LGBM Classifier\n",
    "print('Classification_report of LGBM Classifier:', '\\n', classification_report(y_test, y_pred_lgb))"
   ]
  },
  {
   "cell_type": "code",
   "execution_count": 58,
   "id": "2a062bab-ad51-4dee-9372-a99f5cc6be4f",
   "metadata": {},
   "outputs": [
    {
     "data": {
      "image/png": "[encoded data removed]",
      "text/plain": [
       "<Figure size 1080x360 with 4 Axes>"
      ]
     },
     "metadata": {
      "needs_background": "light"
     },
     "output_type": "display_data"
    }
   ],
   "source": [
    "# Visualizing the confusion_matrix for the two models\n",
    "fig, axs = plt.subplots(1, 2, figsize=(15, 5))\n",
    "sns.heatmap(confusion_matrix(y_test, y_pred_rfc), ax=axs[0], annot=True, fmt='d').set(title='Random Forest Classifier')\n",
    "sns.heatmap(confusion_matrix(y_test, y_pred_lgb), ax=axs[1], annot=True, fmt='d').set(title='LGBM Classifier')\n",
    "plt.show()"
   ]
  },
  {
   "cell_type": "markdown",
   "id": "2cd09706-61b0-4bc6-8da7-a6cf0a0bddef",
   "metadata": {},
   "source": [
    "It is hard to say which model is better, so I will tune the two models to see if this can help me to make a decision."
   ]
  },
  {
   "cell_type": "markdown",
   "id": "b2035264-69a9-4efa-9c8a-77ad31109759",
   "metadata": {},
   "source": [
    "## Tuning the model using Optuna\n",
    "I'll use Optuna to find the optimal hyperparameters of the model, the metric based on which I have to optimize the hyperparameters is a  mean cross-validation score with k=10."
   ]
  },
  {
   "cell_type": "code",
   "execution_count": null,
   "id": "8a821b7c-fcf9-4ce1-9c27-8698a68ed435",
   "metadata": {},
   "outputs": [],
   "source": [
    "# find the optimal hyperparametries for LGBM Classifier\n",
    "import optuna\n",
    "def objective_lgb(trial):\n",
    "    param_grid = {\n",
    "    'max_depth': trial.suggest_int('max_depth', 1, 20),\n",
    "    'learning_rate': trial.suggest_float('learning_rate', 0.0001, 2),\n",
    "    'n_estimators': trial.suggest_int('n_estimators', 10, 500),\n",
    "    'reg_alpha': trial.suggest_float('reg_alpha', 0.01, 3),\n",
    "    'reg_lambda': trial.suggest_float('reg_lambda', 0.01, 3)\n",
    "     }\n",
    "    model = LGBMClassifier(**param_grid)\n",
    "    model.fit(X_train, y_train)\n",
    "    return cross_val_score(model, X_train, y_train, n_jobs=-1, cv=kf).mean()\n",
    "study_lgb = optuna.create_study(direction = 'maximize')\n",
    "study_lgb.optimize(objective_lgb, n_trials = 200)\n",
    "model_lgb = LGBMClassifier(**study_lgb.best_params, random_state =23)"
   ]
  },
  {
   "cell_type": "code",
   "execution_count": 60,
   "id": "4f204d98-88d1-4d56-9391-91006b69cdc3",
   "metadata": {},
   "outputs": [
    {
     "name": "stdout",
     "output_type": "stream",
     "text": [
      "Best Params: {'max_depth': 14, 'learning_rate': 0.8696796346769728, 'n_estimators': 258, 'reg_alpha': 1.4924065045995694, 'reg_lambda': 0.19365342429901772}\n"
     ]
    }
   ],
   "source": [
    "print('Best Params: {}'.format(study_lgb.best_params))"
   ]
  },
  {
   "cell_type": "code",
   "execution_count": 61,
   "id": "974e60ff-1f2a-4c40-b67c-822f0689d087",
   "metadata": {},
   "outputs": [
    {
     "name": "stdout",
     "output_type": "stream",
     "text": [
      "Mean cross validation score for LGBM model before tuning: 0.8753826530612244\n",
      "Mean cross validation score for LGBM model with best params: 0.8795068027210885\n"
     ]
    }
   ],
   "source": [
    "print('Mean cross validation score for LGBM model before tuning: {}'.format(cv_results[1].mean()))\n",
    "print('Mean cross validation score for LGBM model with best params: {}'.format(study_lgb.best_trial.value))"
   ]
  },
  {
   "cell_type": "code",
   "execution_count": null,
   "id": "22ad3fff-fab1-4257-b852-ee585650a229",
   "metadata": {},
   "outputs": [],
   "source": [
    "# find the optimal hyperparametries for Random Forest Classifier\n",
    "import optuna\n",
    "def objective_rfc(trial):\n",
    "    param_grid = {\n",
    "        'criterion': trial.suggest_categorical('criterion', ['gini', 'entropy', 'log_loss']),\n",
    "        'n_estimators': trial.suggest_int('n_estimators', 10, 500),\n",
    "        'max_depth': trial.suggest_int('max_depth', 1, 100),\n",
    "        'min_samples_split': trial.suggest_int('min_samples_split', 2, 10)\n",
    "         }\n",
    "    model = RandomForestClassifier(**param_grid)\n",
    "    model.fit(X_train, y_train)\n",
    "    return cross_val_score(model, X_train, y_train, n_jobs=-1, cv=kf).mean()\n",
    "study_rfc = optuna.create_study(direction = 'maximize')\n",
    "study_rfc.optimize(objective_rfc, n_trials = 200)\n",
    "model_rfc = RandomForestClassifier(**study_rfc.best_params, random_state =23)"
   ]
  },
  {
   "cell_type": "code",
   "execution_count": 63,
   "id": "886c4d57-d10a-44ab-9c06-efb39b785be3",
   "metadata": {},
   "outputs": [
    {
     "name": "stdout",
     "output_type": "stream",
     "text": [
      "Best Params for Random Forest Classifier: {'criterion': 'entropy', 'n_estimators': 12, 'max_depth': 93, 'min_samples_split': 9}\n"
     ]
    }
   ],
   "source": [
    "print('Best Params for Random Forest Classifier: {}'.format(study_rfc.best_params))"
   ]
  },
  {
   "cell_type": "code",
   "execution_count": 64,
   "id": "ff2d064e-bb37-4688-9e06-e512666de276",
   "metadata": {},
   "outputs": [
    {
     "name": "stdout",
     "output_type": "stream",
     "text": [
      "Mean cross validation score for Random Forest Classifier before tuning: 0.8712585034013607\n",
      "Mean cross validation score for Random Forest Classifier with best params: 0.8775935374149659\n"
     ]
    }
   ],
   "source": [
    "print('Mean cross validation score for Random Forest Classifier before tuning: {}'.format(cv_results[0].mean()))\n",
    "print('Mean cross validation score for Random Forest Classifier with best params: {}'.format(study_rfc.best_trial.value))"
   ]
  },
  {
   "cell_type": "markdown",
   "id": "7105e857-95f5-4f81-9377-acf233267363",
   "metadata": {},
   "source": [
    "## Keras Neural Network Model used in Scikit-learn\n",
    "Now I will create a neural network model to see if I can obtaine better results. Keras models can be used in scikit-learn by wrapping them with the KerasClassifier or KerasRegressor class from the module SciKeras. To use these wrappers, I will first define a function that creates and returns my Keras sequential model, then pass this function to the model argument when constructing the KerasClassifier class."
   ]
  },
  {
   "cell_type": "code",
   "execution_count": 65,
   "id": "fcb84180-5e8d-4be4-bc2a-28e2bdab2128",
   "metadata": {},
   "outputs": [],
   "source": [
    "# fix random seed for reproducibility\n",
    "tf.random.set_seed(23)"
   ]
  },
  {
   "cell_type": "code",
   "execution_count": 66,
   "id": "993d5640-61f6-4ce2-851a-965050949f43",
   "metadata": {},
   "outputs": [],
   "source": [
    "# Function to create model, required for KerasClassifier\n",
    "def create_model(): \n",
    "    #Create the model\n",
    "    model = Sequential()\n",
    "    model.add(Dense(X_train.shape[1]*2, activation = 'relu', kernel_constraint=MaxNorm(2), input_shape=(X_train.shape[1],)))\n",
    "    model.add(Dropout(0.2))\n",
    "    model.add(Dense(X_train.shape[1], activation = 'relu', kernel_constraint=MaxNorm(2)))\n",
    "    model.add(Dense(1, activation = 'sigmoid')) \n",
    "    # Compile and train the model\n",
    "    model.compile(loss = 'binary_crossentropy',  optimizer =keras.optimizers.SGD(learning_rate=0.075), metrics=['accuracy'])\n",
    "    return model"
   ]
  },
  {
   "cell_type": "code",
   "execution_count": 67,
   "id": "fa1bbaf4-9663-476a-87bd-9842d65b5283",
   "metadata": {},
   "outputs": [],
   "source": [
    "# create model\n",
    "model_KC = KerasClassifier(model=create_model, epochs=50, batch_size=10, verbose=0, random_state=12)"
   ]
  },
  {
   "cell_type": "code",
   "execution_count": 68,
   "id": "ced84559-b58b-41b1-ad12-0756e81f89d5",
   "metadata": {},
   "outputs": [
    {
     "name": "stdout",
     "output_type": "stream",
     "text": [
      "Mean cross validation score for Keras Classifier: 0.8400085034013605\n"
     ]
    }
   ],
   "source": [
    "# Evaluate the model with k-Fold Cross Validation\n",
    "results = cross_val_score(model_KC, X_train, y_train, cv=kf, n_jobs=-1)\n",
    "print('Mean cross validation score for Keras Classifier: {}'.format(results.mean()))"
   ]
  },
  {
   "cell_type": "code",
   "execution_count": 69,
   "id": "c4427ca7-aedd-45ec-8545-4e29276202fd",
   "metadata": {},
   "outputs": [
    {
     "name": "stdout",
     "output_type": "stream",
     "text": [
      "              precision    recall  f1-score   support\n",
      "\n",
      "           0       0.87      0.87      0.87       118\n",
      "           1       0.83      0.83      0.83        89\n",
      "\n",
      "    accuracy                           0.86       207\n",
      "   macro avg       0.85      0.85      0.85       207\n",
      "weighted avg       0.86      0.86      0.86       207\n",
      "\n"
     ]
    }
   ],
   "source": [
    "# evaluate the model\n",
    "model_KC.fit(X_train, y_train)\n",
    "y_pred_KC = np.where(model_KC.predict(X_test) > 0.5, 1,0).flatten()\n",
    "print(classification_report(y_test, y_pred_KC))"
   ]
  },
  {
   "cell_type": "markdown",
   "id": "ac743e3c-cd36-44e1-8956-a35220c38fcc",
   "metadata": {},
   "source": [
    "My Neural Network Model performs worse than LGBM Classifier and Random Forest Classifier. I will use the grid search  from the scikit-learn Python machine learning library to tune the hyperparameters of my Neural Network Model."
   ]
  },
  {
   "cell_type": "markdown",
   "id": "2bb12215-ed45-49a3-8bab-a7c480b4f2ed",
   "metadata": {},
   "source": [
    "## Use Grid Search to tune Keras Neural Network Model"
   ]
  },
  {
   "cell_type": "markdown",
   "id": "c164a817-626b-4813-98ad-da96c05c82f1",
   "metadata": {},
   "source": [
    "### Tune Batch Size and Number of Epochs"
   ]
  },
  {
   "cell_type": "code",
   "execution_count": 70,
   "id": "33bc4814-0b1f-4047-b740-a3efebad76e6",
   "metadata": {},
   "outputs": [],
   "source": [
    "# Function to create model, required for KerasClassifier\n",
    "def create_model_1(): \n",
    "   #Create the model\n",
    "    model = Sequential()\n",
    "    model.add(Dense(X_train.shape[1]*2, activation = 'relu', kernel_constraint=MaxNorm(2), input_shape=(X_train.shape[1],)))\n",
    "    model.add(Dropout(0.2))\n",
    "    model.add(Dense(X_train.shape[1], activation = 'relu', kernel_constraint=MaxNorm(2)))\n",
    "    model.add(Dense(1, activation = 'sigmoid')) \n",
    "    # Compile and train the model\n",
    "    model.compile(loss = 'binary_crossentropy', optimizer =keras.optimizers.SGD(learning_rate=0.075), metrics=['accuracy'])\n",
    "    return model"
   ]
  },
  {
   "cell_type": "code",
   "execution_count": 71,
   "id": "4dc63233-4d04-4b6b-ae47-52b2e6b8e414",
   "metadata": {},
   "outputs": [],
   "source": [
    "# create model\n",
    "model_KC_1 = KerasClassifier(model=create_model_1, verbose=0, random_state=12)"
   ]
  },
  {
   "cell_type": "code",
   "execution_count": 72,
   "id": "c27d5566-1e81-4d63-99d2-63e2f8db5d15",
   "metadata": {},
   "outputs": [],
   "source": [
    "# define the grid search parameters\n",
    "batch_size = [10, 20, 30, 50]\n",
    "epochs = [10, 25, 50, 75, 100]\n",
    "param_grid_1 = dict(batch_size=batch_size, epochs=epochs)\n",
    "grid_1 = GridSearchCV(model_KC_1, param_grid=param_grid_1, n_jobs=-1, cv=kf)\n",
    "grid_result_1 = grid_1.fit(X_train, y_train)"
   ]
  },
  {
   "cell_type": "code",
   "execution_count": 73,
   "id": "cca82f3f-3f98-4c30-8fdc-71a807025c39",
   "metadata": {},
   "outputs": [
    {
     "name": "stdout",
     "output_type": "stream",
     "text": [
      "Best params: {'batch_size': 50, 'epochs': 25}\n",
      "Best score: 0.8670068027210884\n"
     ]
    }
   ],
   "source": [
    "# summarize results\n",
    "print('Best params: {}'.format(grid_result_1.best_params_))\n",
    "print('Best score: {}'.format(grid_result_1.best_score_))"
   ]
  },
  {
   "cell_type": "markdown",
   "id": "a24bddc1-c990-489d-a07a-c3f33a7fcef5",
   "metadata": {},
   "source": [
    "### Tune the number of neurons in the hidden layer and activation functions"
   ]
  },
  {
   "cell_type": "code",
   "execution_count": 74,
   "id": "db031dae-707b-4daa-b130-97618b424657",
   "metadata": {},
   "outputs": [],
   "source": [
    "# Function to create model, required for KerasClassifier\n",
    "def create_model_2(neurons, activation ='relu'): \n",
    "   #Create the model\n",
    "    model = Sequential()\n",
    "    model.add(Dense(neurons*2, activation = 'relu', kernel_constraint=MaxNorm(2), input_shape=(X_train.shape[1],)))\n",
    "    model.add(Dropout(0.2))\n",
    "    model.add(Dense(neurons, activation = 'relu', kernel_constraint=MaxNorm(2)))\n",
    "    model.add(Dense(1, activation = 'sigmoid')) \n",
    "    # Compile model\n",
    "    model.compile(loss='binary_crossentropy', optimizer =keras.optimizers.SGD(learning_rate=0.075), metrics=['accuracy'])\n",
    "    return model"
   ]
  },
  {
   "cell_type": "code",
   "execution_count": 75,
   "id": "9f98571e-3f37-434e-8bce-59301328886a",
   "metadata": {},
   "outputs": [],
   "source": [
    "# create model\n",
    "model_KC_2 = KerasClassifier(create_model_2, epochs=25, batch_size=50, verbose=0, random_state=12)"
   ]
  },
  {
   "cell_type": "code",
   "execution_count": 76,
   "id": "08e8422a-6139-426c-b14d-e9612050a14d",
   "metadata": {},
   "outputs": [],
   "source": [
    "# define the grid search parameters\n",
    "neurons = [15, 25, 35, 45, 55, 75, 85]\n",
    "activation = ['softmax', 'softplus', 'softsign', 'relu', 'tanh', 'sigmoid', 'hard_sigmoid']\n",
    "param_grid_2 = dict(model__neurons=neurons, model__activation=activation)\n",
    "grid_2 = GridSearchCV(model_KC_2, param_grid=param_grid_2, n_jobs=-1, cv=kf)\n",
    "grid_result_2 = grid_2.fit(X_train, y_train)"
   ]
  },
  {
   "cell_type": "code",
   "execution_count": 77,
   "id": "71067969-e62a-45a5-9862-8bbb7befa13f",
   "metadata": {},
   "outputs": [
    {
     "name": "stdout",
     "output_type": "stream",
     "text": [
      "Best params: {'model__activation': 'softmax', 'model__neurons': 75}\n",
      "Best score: 0.8690901360544219\n"
     ]
    }
   ],
   "source": [
    "# summarize results\n",
    "print('Best params: {}'.format(grid_result_2.best_params_))\n",
    "print('Best score: {}'.format(grid_result_2.best_score_))"
   ]
  },
  {
   "cell_type": "markdown",
   "id": "343e009b-b74e-448d-96fa-5f8b8d952d86",
   "metadata": {},
   "source": [
    "### Tune Dropout Regularization"
   ]
  },
  {
   "cell_type": "code",
   "execution_count": 87,
   "id": "c984271d-744d-41ac-8ce6-2592a1e150ba",
   "metadata": {},
   "outputs": [],
   "source": [
    "# Function to create model, required for KerasClassifier\n",
    "def create_model_3(rate, weight_constraint): \n",
    "    #Create the model\n",
    "    model = Sequential()\n",
    "    model.add(Dense(75*2, activation = 'softmax', kernel_constraint=MaxNorm(weight_constraint), input_shape=(X_train.shape[1],)))\n",
    "    model.add(Dropout(rate))\n",
    "    model.add(Dense(75, activation = 'softmax', kernel_constraint=MaxNorm(weight_constraint)))\n",
    "    model.add(Dense(1, activation = 'sigmoid')) \n",
    "    # Compile and train the model\n",
    "    model.compile(loss = 'binary_crossentropy',  optimizer =keras.optimizers.SGD(learning_rate=0.075), metrics=['accuracy'])\n",
    "    return model\n",
    "# fix random seed for reproducibility\n",
    "tf.random.set_seed(23)"
   ]
  },
  {
   "cell_type": "code",
   "execution_count": 88,
   "id": "16245cb7-bf25-4223-aa8c-8707d233e1e3",
   "metadata": {},
   "outputs": [],
   "source": [
    "# create model\n",
    "model_KC_3 = KerasClassifier(create_model_3, epochs=25, batch_size=50, verbose=0, random_state=12)"
   ]
  },
  {
   "cell_type": "code",
   "execution_count": 89,
   "id": "b2e9a728-0d59-4474-b2ff-1e0be6c8f6e1",
   "metadata": {},
   "outputs": [],
   "source": [
    "# define the grid search parameters\n",
    "weight_constraint = [1.0, 2.0, 3.0, 4.0, 5.0]\n",
    "dropout_rate = [0.1, 0.2, 0.3, 0.4, 0.5, 0.6, 0.7, 0.8, 0.9]\n",
    "param_grid_3 = dict(model__rate=dropout_rate, model__weight_constraint=weight_constraint)\n",
    "grid_3 = GridSearchCV(estimator=model_KC_3, param_grid=param_grid_3, n_jobs=-1, cv=kf)\n",
    "grid_result_3 = grid_3.fit(X_train, y_train)"
   ]
  },
  {
   "cell_type": "code",
   "execution_count": 90,
   "id": "ad251a12-e1a3-432f-a9bb-d00fa1105c2d",
   "metadata": {},
   "outputs": [
    {
     "name": "stdout",
     "output_type": "stream",
     "text": [
      "Best params: {'model__rate': 0.1, 'model__weight_constraint': 1.0}\n",
      "Best score: 0.5511904761904762\n"
     ]
    }
   ],
   "source": [
    "# summarize results\n",
    "print('Best params: {}'.format(grid_result_3.best_params_))\n",
    "print('Best score: {}'.format(grid_result_3.best_score_))"
   ]
  },
  {
   "cell_type": "code",
   "execution_count": 91,
   "id": "a348530c-e96a-4b2c-94f4-613db255f098",
   "metadata": {},
   "outputs": [],
   "source": [
    "# Extract the best model and evaluate it on the test set\n",
    "best_model_NN = grid_result_3.best_estimator_"
   ]
  },
  {
   "cell_type": "code",
   "execution_count": 92,
   "id": "c20e383b-d8b1-43e1-b142-04ce89bfb7fb",
   "metadata": {},
   "outputs": [
    {
     "name": "stdout",
     "output_type": "stream",
     "text": [
      "              precision    recall  f1-score   support\n",
      "\n",
      "           0       0.57      1.00      0.73       118\n",
      "           1       0.00      0.00      0.00        89\n",
      "\n",
      "    accuracy                           0.57       207\n",
      "   macro avg       0.29      0.50      0.36       207\n",
      "weighted avg       0.32      0.57      0.41       207\n",
      "\n"
     ]
    }
   ],
   "source": [
    "# evaluate the model\n",
    "best_model_NN.fit(X_train, y_train)\n",
    "y_pred_NN = np.where(best_model_NN.predict(X_test) > 0.5, 1, 0).flatten()\n",
    "print(classification_report(y_test, y_pred_NN))"
   ]
  },
  {
   "cell_type": "code",
   "execution_count": null,
   "id": "800c9a0d-d815-466b-9942-ae0078f3d687",
   "metadata": {},
   "outputs": [],
   "source": []
  },
  {
   "cell_type": "markdown",
   "id": "b8b45843-5496-4865-b3cc-fe486d0d619f",
   "metadata": {},
   "source": [
    "https://www.kaggle.com/datasets/rikdifos/credit-card-approval-prediction"
   ]
  },
  {
   "cell_type": "markdown",
   "id": "07f89d92-b3e7-4da8-acdf-101f01e90bb3",
   "metadata": {},
   "source": [
    "https://scikit-learn.org/stable/modules/generated/sklearn.utils.class_weight.compute_class_weight.html"
   ]
  },
  {
   "cell_type": "markdown",
   "id": "ffde949d-dbe1-4182-891b-0bf1ed83046e",
   "metadata": {},
   "source": [
    "https://keras.io/api/callbacks/reduce_lr_on_plateau/"
   ]
  },
  {
   "cell_type": "markdown",
   "id": "ee5cd534-d2f2-42f1-809e-5d66fa29dc5a",
   "metadata": {},
   "source": [
    "https://keras.io/keras_tuner/"
   ]
  }
 ],
 "metadata": {
  "kernelspec": {
   "display_name": "curs_python_env",
   "language": "python",
   "name": "curs_python_env"
  },
  "language_info": {
   "codemirror_mode": {
    "name": "ipython",
    "version": 3
   },
   "file_extension": ".py",
   "mimetype": "text/x-python",
   "name": "python",
   "nbconvert_exporter": "python",
   "pygments_lexer": "ipython3",
   "version": "3.10.5"
  }
 },
 "nbformat": 4,
 "nbformat_minor": 5
}
